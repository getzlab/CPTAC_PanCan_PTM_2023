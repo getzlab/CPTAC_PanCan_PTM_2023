{
 "cells": [
  {
   "cell_type": "markdown",
   "id": "unavailable-chapel",
   "metadata": {},
   "source": [
    "# Signature Analysis After CPTAC2 Artifact Filtering"
   ]
  },
  {
   "cell_type": "markdown",
   "id": "familiar-specific",
   "metadata": {},
   "source": [
    "## 1 Setup/Preprocessing"
   ]
  },
  {
   "cell_type": "code",
   "execution_count": 1,
   "id": "weighted-ideal",
   "metadata": {},
   "outputs": [],
   "source": [
    "%load_ext autoreload\n",
    "%autoreload 2\n",
    "# Import packages\n",
    "import pandas as pd\n",
    "import numpy as np\n",
    "import signatureanalyzer as sa\n",
    "from twobitreader import TwoBitFile\n",
    "import matplotlib.pyplot as plt\n",
    "import matplotlib as mpl\n",
    "from sklearn.metrics.pairwise import cosine_similarity\n",
    "import os\n",
    "import itertools\n",
    "\n",
    "import sys\n",
    "sys.path.append(\"../funcs\")\n",
    "import plotting as pl\n",
    "import ms_utils\n",
    "mpl.rcParams['pdf.fonttype'] = 42\n",
    "\n",
    "import seaborn as sns\n",
    "import plotnine\n",
    "from plotnine import ggplot, geom_point, geom_violin, geom_boxplot, geom_jitter\n",
    "from plotnine import aes, stat_smooth, facet_wrap, scale_fill_manual, theme_bw, element_blank\n",
    "from plotnine import guides, theme, labs, element_text, guide_legend\n",
    "\n",
    "import rpy2.rinterface\n",
    "%load_ext rpy2.ipython"
   ]
  },
  {
   "cell_type": "code",
   "execution_count": 2,
   "id": "tight-battlefield",
   "metadata": {},
   "outputs": [],
   "source": [
    "# Define file paths\n",
    "MAF_PATH = \"gs://cptac-pancan-getzlab/Freeze_050721/Somatic_WXS/union_somatic_maf_v1.1_hotspot_cptac2fix.maf\"\n",
    "SAMPLE_MAP_PATH = \"gs://cptac-pancan-getzlab/Final_Submission_Files/PanCan_Participant_freeze_mapping.tsv\"\n",
    "\n",
    "HG38_2BIT = \"../analysis_files/mutational_signatures/hg38.2bit\"\n",
    "\n",
    "SIG_OUTPUT = \"../results/mutational_signatures/\""
   ]
  },
  {
   "cell_type": "code",
   "execution_count": 3,
   "id": "light-cause",
   "metadata": {
    "scrolled": true
   },
   "outputs": [
    {
     "name": "stderr",
     "output_type": "stream",
     "text": [
      "/home/yakiyama/.local/lib/python3.6/site-packages/IPython/core/interactiveshell.py:3072: DtypeWarning: Columns (23,61,74,76,80,81,89,119) have mixed types.Specify dtype option on import or set low_memory=False.\n"
     ]
    }
   ],
   "source": [
    "# Load sample map\n",
    "sample_map = pd.read_csv(SAMPLE_MAP_PATH, sep='\\t')\n",
    "sample_map.index = sample_map.index.astype(str)\n",
    "\n",
    "# Import MAF\n",
    "agg_maf = pd.read_csv(MAF_PATH, sep='\\t')"
   ]
  },
  {
   "cell_type": "code",
   "execution_count": 18,
   "id": "alike-anger",
   "metadata": {
    "scrolled": true
   },
   "outputs": [
    {
     "name": "stdout",
     "output_type": "stream",
     "text": [
      "POLE-exo* patients:\n",
      "['11CO070_T' '17OV002_T' '20CO003_T' 'C3L-00156_T' 'C3L-00586_T'\n",
      " 'C3L-00601_T' 'C3L-00770_T' 'C3L-01311_T' 'C3N-00151_T' 'C3N-00328_T'\n",
      " 'C3N-01200_T']\n",
      "POLD-exo* patients:\n",
      "['09CO015_T' 'C3N-00556_T']\n",
      "POLE-exo* + POLD-exo* patients:\n",
      "[]\n"
     ]
    }
   ],
   "source": [
    "# Identify POLE/POLD-exo* samples\n",
    "pole, pold = sa.utils.get_pole_pold_muts(agg_maf.rename(columns={\"Protein_Change\":\"HGVSp_Short\"}))"
   ]
  },
  {
   "cell_type": "code",
   "execution_count": 29,
   "id": "funky-cursor",
   "metadata": {},
   "outputs": [],
   "source": [
    "# Tumor type mapping\n",
    "cohort_df = sample_map.copy()\n",
    "cohort_df = cohort_df[cohort_df['cohort'] != 'MEDUL']\n",
    "cohort_df = cohort_df[['WXS','cohort']].rename(columns={'WXS':'sample'})\n",
    "cohort_d = cohort_df.set_index('sample').to_dict()['cohort']\n",
    "cohort_l = list(cohort_df['cohort'].unique())"
   ]
  },
  {
   "cell_type": "markdown",
   "id": "printable-contributor",
   "metadata": {},
   "source": [
    "## 2. Identify MMRD tumors\n",
    "\n",
    "1) Identify POLE-exo* and POLD1-exo* mutants and separate from the rest of the samples\n",
    "\n",
    "2) On all non-POLE/POLD1-exo* Mutational signatures using composite (96 SBS + 78 DBS + 83 ID) spectra. \n",
    "\n",
    "3) Using the distribution of MMRD-related mutational signature weights, classify MMRD tumors"
   ]
  },
  {
   "cell_type": "code",
   "execution_count": 11,
   "id": "separated-pulse",
   "metadata": {},
   "outputs": [],
   "source": [
    "# Remove POLE/POLD-exo* from maf\n",
    "sub_maf_df = agg_maf[~agg_maf['Tumor_Sample_Barcode'].isin(pole+pold)]\n",
    "\n",
    "# Create mutational spectra\n",
    "_, sub_spec_composite = sa.spectra.get_spectra_from_maf(sub_maf_df, \n",
    "                                                        hgfile=HG38_2BIT,\n",
    "                                                        reference=\"pcawg_COMPOSITE96\")\n",
    "\n",
    "sub_spec_composite.to_csv(\n",
    "    \"../analysis_files/Non_POLE_POLD/non_pole_pold_composite96_c2a_filtered.tsv\", \n",
    "    sep='\\t'\n",
    ")\n"
   ]
  },
  {
   "cell_type": "code",
   "execution_count": 6,
   "id": "fleet-genre",
   "metadata": {
    "scrolled": true
   },
   "outputs": [
    {
     "name": "stdout",
     "output_type": "stream",
     "text": [
      "---------------------------------------------------------\n",
      "---------- S I G N A T U R E  A N A L Y Z E R  ----------\n",
      "---------------------------------------------------------\n",
      "   * Creating output dir at ../results/mutational_signatures/Non_POLE_POLD/non_pole_pold_composite96_c2a_filtered\n",
      "   * Using pcawg_COMPOSITE96 signatures\n",
      "   * Saving ARD-NMF outputs to ../results/mutational_signatures/Non_POLE_POLD/non_pole_pold_composite96_c2a_filtered/nmf_output.h5\n",
      "   * Running ARD-NMF...\n",
      "\t0/99: nit= 4886 K=6 \tdel=0.0000000053\n",
      "\t1/99: nit= 7219 K=6 \tdel=0.0000000018\n",
      "\t2/99: nit= 4033 K=6 \tdel=0.0000000088\n",
      "\t3/99: nit= 4118 K=6 \tdel=0.0000000068\n",
      "\t4/99: nit= 2856 K=6 \tdel=0.0000000033\n",
      "\t5/99: nit= 4725 K=6 \tdel=0.0000000062\n",
      "\t6/99: nit= 4315 K=6 \tdel=0.0000000081\n",
      "\t7/99: nit= 6176 K=6 \tdel=0.0000000037\n",
      "\t8/99: nit= 2426 K=6 \tdel=0.0000000083\n",
      "\t9/99: nit= 5250 K=6 \tdel=0.0000000020\n",
      "\t10/99: nit= 5150 K=6 \tdel=0.0000000080\n",
      "\t11/99: nit= 7264 K=6 \tdel=0.0000000060\n",
      "\t12/99: nit= 3733 K=6 \tdel=0.0000000088\n",
      "\t13/99: nit= 2523 K=6 \tdel=0.0000000051\n",
      "\t14/99: nit= 3884 K=6 \tdel=0.0000000099\n",
      "\t15/99: nit= 4506 K=7 \tdel=0.0000000002\n",
      "\t16/99: nit= 1777 K=6 \tdel=0.0000000079\n",
      "\t17/99: nit= 1681 K=6 \tdel=0.0000000036\n",
      "\t18/99: nit= 7607 K=6 \tdel=0.0000000022\n",
      "\t19/99: nit= 5482 K=7 \tdel=0.0000000070\n",
      "\t20/99: nit=10021 K=7 \tdel=0.0000000081\n",
      "\t21/99: nit= 3343 K=7 \tdel=0.0000000072\n",
      "\t22/99: nit= 3699 K=6 \tdel=0.0000000037\n",
      "\t23/99: nit= 3964 K=6 \tdel=0.0000000092\n",
      "\t24/99: nit= 6484 K=6 \tdel=0.0000000095\n",
      "\t25/99: nit= 7262 K=6 \tdel=0.0000000053\n",
      "\t26/99: nit= 4612 K=6 \tdel=0.0000000046\n",
      "\t27/99: nit= 2927 K=6 \tdel=0.0000000019\n",
      "\t28/99: nit= 3319 K=6 \tdel=0.0000000061\n",
      "\t29/99: nit= 4246 K=6 \tdel=0.0000000065\n",
      "\t30/99: nit= 8137 K=6 \tdel=0.0000000000\n",
      "\t31/99: nit= 3004 K=6 \tdel=0.0000000092\n",
      "\t32/99: nit= 1748 K=6 \tdel=0.0000000039\n",
      "\t33/99: nit= 3027 K=6 \tdel=0.0000000007\n",
      "\t34/99: nit= 4370 K=6 \tdel=0.0000000009\n",
      "\t35/99: nit= 5467 K=7 \tdel=0.0000000047\n",
      "\t36/99: nit= 4016 K=6 \tdel=0.0000000062\n",
      "\t37/99: nit= 2884 K=6 \tdel=0.0000000070\n",
      "\t38/99: nit= 4423 K=6 \tdel=0.0000000033\n",
      "\t39/99: nit= 5059 K=6 \tdel=0.0000000009\n",
      "\t40/99: nit= 5019 K=7 \tdel=0.0000000081\n",
      "\t41/99: nit= 3661 K=6 \tdel=0.0000000042\n",
      "\t42/99: nit= 4282 K=6 \tdel=0.0000000054\n",
      "\t43/99: nit= 3620 K=6 \tdel=0.0000000097\n",
      "\t44/99: nit= 8207 K=6 \tdel=0.0000000006\n",
      "\t45/99: nit= 4798 K=7 \tdel=0.0000000077\n",
      "\t46/99: nit= 6935 K=7 \tdel=0.0000000044\n",
      "\t47/99: nit= 5631 K=6 \tdel=0.0000000005\n",
      "\t48/99: nit=11162 K=7 \tdel=0.0000000082\n",
      "\t49/99: nit=10589 K=7 \tdel=0.0000000032\n",
      "\t50/99: nit= 5821 K=7 \tdel=0.0000000092\n",
      "\t51/99: nit= 4033 K=6 \tdel=0.0000000067\n",
      "\t52/99: nit= 6174 K=7 \tdel=0.0000000093\n",
      "\t53/99: nit= 4650 K=6 \tdel=0.0000000067\n",
      "\t54/99: nit= 3273 K=6 \tdel=0.0000000059\n",
      "\t55/99: nit=10427 K=6 \tdel=0.0000000049\n",
      "\t56/99: nit=10764 K=6 \tdel=0.0000000087\n",
      "\t57/99: nit= 4596 K=6 \tdel=0.0000000000\n",
      "\t58/99: nit= 3291 K=6 \tdel=0.0000000072\n",
      "\t59/99: nit= 3792 K=6 \tdel=0.0000000041\n",
      "\t60/99: nit= 5837 K=7 \tdel=0.0000000096\n",
      "\t61/99: nit= 2154 K=6 \tdel=0.0000000027\n",
      "\t62/99: nit= 6956 K=6 \tdel=0.0000000088\n",
      "\t63/99: nit= 4601 K=6 \tdel=0.0000000082\n",
      "\t64/99: nit= 5300 K=7 \tdel=0.0000000072\n",
      "\t65/99: nit= 4224 K=6 \tdel=0.0000000089\n",
      "\t66/99: nit= 4491 K=6 \tdel=0.0000000054\n",
      "\t67/99: nit=13103 K=6 \tdel=0.0000000018\n",
      "\t68/99: nit= 2704 K=6 \tdel=0.0000000098\n",
      "\t69/99: nit= 6952 K=6 \tdel=0.0000000060\n",
      "\t70/99: nit= 2928 K=6 \tdel=0.0000000025\n",
      "\t71/99: nit= 3104 K=6 \tdel=0.0000000019\n",
      "\t72/99: nit= 6035 K=6 \tdel=0.0000000018\n",
      "\t73/99: nit= 2915 K=6 \tdel=0.0000000034\n",
      "\t74/99: nit= 5064 K=7 \tdel=0.0000000006\n",
      "\t75/99: nit= 3098 K=6 \tdel=0.0000000016\n",
      "\t76/99: nit= 3980 K=6 \tdel=0.0000000057\n",
      "\t77/99: nit= 2180 K=6 \tdel=0.0000000076\n",
      "\t78/99: nit= 4309 K=6 \tdel=0.0000000084\n",
      "\t79/99: nit= 2464 K=6 \tdel=0.0000000005\n",
      "\t80/99: nit= 5117 K=7 \tdel=0.0000000067\n",
      "\t81/99: nit=11012 K=7 \tdel=0.0000000078\n",
      "\t82/99: nit= 1977 K=6 \tdel=0.0000000070\n",
      "\t83/99: nit= 7958 K=6 \tdel=0.0000000080\n",
      "\t84/99: nit= 3175 K=7 \tdel=0.0000000086\n",
      "\t85/99: nit= 6755 K=6 \tdel=0.0000000069\n",
      "\t86/99: nit= 4470 K=6 \tdel=0.0000000002\n",
      "\t87/99: nit= 3917 K=6 \tdel=0.0000000084\n",
      "\t88/99: nit= 3245 K=6 \tdel=0.0000000023\n",
      "\t89/99: nit= 4806 K=7 \tdel=0.0000000086\n",
      "\t90/99: nit= 2119 K=6 \tdel=0.0000000094\n",
      "\t91/99: nit= 5059 K=6 \tdel=0.0000000087\n",
      "\t92/99: nit= 2899 K=6 \tdel=0.0000000002\n",
      "\t93/99: nit= 5928 K=7 \tdel=0.0000000076\n",
      "\t94/99: nit= 3903 K=6 \tdel=0.0000000088\n",
      "\t95/99: nit= 4523 K=6 \tdel=0.0000000082\n",
      "\t96/99: nit=18481 K=6 \tdel=0.0000000000\n",
      "\t97/99: nit= 2783 K=6 \tdel=0.0000000076\n",
      "\t98/99: nit= 2370 K=6 \tdel=0.0000000007\n",
      "\t99/99: nit= 3359 K=6 \tdel=0.0000000004\n",
      "   * Run 62 had lowest objective with mode (n=80) K = 6.\n",
      "   * Saving report plots to ../results/mutational_signatures/Non_POLE_POLD/non_pole_pold_composite96_c2a_filtered\n",
      "Plotting COSMIC Cosine Similarity:\n",
      "Plotting COSMIC Attribution Barplot:\n",
      "Plotting COSMIC Contribution Barplot:\n",
      "Plotting pcawg_COMPOSITE96 Contributions Barplot:\n",
      "Plotting pcawg_COMPOSITE96 Attributions Barplot:\n",
      "Plotting K Histogram:\n",
      "Plotting pcawg_COMPOSITE96 Cosine Similarity:\n"
     ]
    }
   ],
   "source": [
    "# Run mutational signatures\n",
    "!signatureanalyzer ../spectra/Non_POLE_POLD/non_pole_pold_composite96_c2a_filtered.tsv \\\n",
    "-t spectra \\\n",
    "-n 100 \\\n",
    "--max_iter 30000 \\\n",
    "--objective poisson \\\n",
    "--prior_on_H L1 --prior_on_W L1 \\\n",
    "-o ../results/mutational_signatures/Non_POLE_POLD/non_pole_pold_composite96_c2a_filtered \\\n",
    "--reference pcawg_COMPOSITE96\n"
   ]
  },
  {
   "cell_type": "code",
   "execution_count": 35,
   "id": "standard-november",
   "metadata": {},
   "outputs": [
    {
     "data": {
      "text/plain": [
       "S1-SBS74_S    0.989776\n",
       "S2-SBS39_P    0.756066\n",
       "S3-SBS15_S    0.822123\n",
       "S4-SBS4_P     0.929577\n",
       "S5-SBS7b_S    0.944402\n",
       "S6-SBS13_P    0.934112\n",
       "dtype: float64"
      ]
     },
     "execution_count": 35,
     "metadata": {},
     "output_type": "execute_result"
    }
   ],
   "source": [
    "# Check cosine similarity\n",
    "cosine_df = pd.read_hdf(\n",
    "    \"../results/mutational_signatures/Non_POLE_POLD/non_pole_pold_composite96_c2a_filtered/nmf_output.h5\", \n",
    "    \"cosine\")\n",
    "cosine_df.apply(lambda x: x.loc[x.idxmax()]), cosine_df.apply(lambda x: x.idxmax())"
   ]
  },
  {
   "cell_type": "code",
   "execution_count": 11,
   "id": "taken-rover",
   "metadata": {
    "scrolled": true
   },
   "outputs": [],
   "source": [
    "# Threshold MMRD\n",
    "h_df = pd.read_hdf(\n",
    "    \"../results/mutational_signatures/Non_POLE_POLD/non_pole_pold_composite96_c2a_filtered/nmf_output.h5\", \"H\")\n",
    "h_norm_df = h_df.copy().drop(columns=['max', 'max_id', 'max_norm'])\n",
    "h_norm_df = h_norm_df.div(h_norm_df.sum(1), 0)"
   ]
  },
  {
   "cell_type": "code",
   "execution_count": 13,
   "id": "center-patch",
   "metadata": {},
   "outputs": [
    {
     "name": "stdout",
     "output_type": "stream",
     "text": [
      "Raw signature attribution threshold: 72.59769439697266\n",
      "Fractional attribution threshold: 0.19529545824868053\n"
     ]
    },
    {
     "data": {
      "image/png": "[encoded data removed]",
      "text/plain": [
       "<Figure size 576x288 with 2 Axes>"
      ]
     },
     "metadata": {
      "needs_background": "light"
     },
     "output_type": "display_data"
    }
   ],
   "source": [
    "# Subset for COAD and UCEC tumors\n",
    "plot_df = ms_utils.prep_plotting_df(\n",
    "    h_df[h_df.index.map(lambda x: cohort_d[x] in ['COAD','UCEC'])],\n",
    "    color_scheme=pl.CPTAC_CMAP, cohort_df=cohort_df, \n",
    "    signature='S3-SBS15_S'\n",
    ")\n",
    "plot_df = plot_df.sort_values('cohort')\n",
    "\n",
    "mmrd_norm_thresh = plot_df[plot_df['norm']>= 0.15].sort_values('norm').iloc[0]['norm']\n",
    "mmrd_raw_thresh = plot_df[plot_df['norm']>= 0.15].sort_values('raw').iloc[0]['raw']\n",
    "figure, ax = ms_utils.plot_norm_raw_sigs(plot_df,raw_thresh = mmrd_raw_thresh, \n",
    "                                         norm_thresh = mmrd_norm_thresh, \n",
    "                                         show_raw_thresh=True, \n",
    "                                         show_norm_thresh=True, sharey=False,\n",
    "                                         title='MMRD Signature (SBS15)', height=4, width=8, \n",
    "                                         plot_all=False, xlabel_coords=(0.5, 0),\n",
    "                                         ylabel_coords=(0.04, 0.2),\n",
    "                                         fig_suptitle_ycoord=1.02, \n",
    "                                         ylabel=\"# mutations attributed\\nto signature\", \n",
    "                                         show_legend=False, fig_suptitle_size=16, \n",
    "                                         xlabel_size=14, ylabel_size=14)\n",
    "ax[0].set_title(\"COAD\", size=16, fontname='Arial')\n",
    "ax[1].set_title(\"UCEC\", size=16, fontname='Arial')\n",
    "ax[0].tick_params(axis='y', labelsize=12)\n",
    "ax[1].tick_params(axis='y', labelsize=12)\n",
    "ax[0].tick_params(axis='x', labelsize=12)\n",
    "ax[1].tick_params(axis='x', labelsize=12)\n",
    "ax[0].set_yscale('symlog')\n",
    "ax[1].set_yscale('symlog')\n",
    "ax[0].set_ylim((-1, 1e4))\n",
    "ax[1].set_ylim((-1, 1e4))\n",
    "\n",
    "figure.savefig(\"figures/Figure_S3B_signature_cutoff_MMRD.pdf\",\n",
    "               dpi=100, bbox_inches='tight')\n",
    "\n",
    "print(f\"Raw signature attribution threshold: {mmrd_raw_thresh}\")\n",
    "print(f\"Fractional attribution threshold: {mmrd_norm_thresh}\")"
   ]
  },
  {
   "cell_type": "markdown",
   "id": "union-manhattan",
   "metadata": {},
   "source": [
    "Establish an MMRD threshold of 72 mutations and 20% of mutations attributed to SBS15_S based on the minimum contributions in UCEC and COAD samples with moderate signature contributions.\n",
    "\n",
    "Figure S3B"
   ]
  },
  {
   "cell_type": "code",
   "execution_count": 15,
   "id": "canadian-secretary",
   "metadata": {},
   "outputs": [
    {
     "name": "stdout",
     "output_type": "stream",
     "text": [
      "# MMRD tumors: 57\n"
     ]
    }
   ],
   "source": [
    "PanCan_MMRD_raw = h_df[(h_df['S3-SBS15_S'] >= mmrd_raw_thresh) &\n",
    "                       (h_norm_df['S3-SBS15_S'] >= mmrd_norm_thresh)\n",
    "                      ].index.to_list()\n",
    "PanCan_MMRD_norm = h_norm_df[h_norm_df['S3-SBS15_S'] >= mmrd_norm_thresh].index.to_list()\n",
    "PanCan_MMRD = list(np.intersect1d(PanCan_MMRD_norm, PanCan_MMRD_raw))\n",
    "print(f\"# MMRD tumors: {len(PanCan_MMRD)}\")"
   ]
  },
  {
   "cell_type": "markdown",
   "id": "beautiful-startup",
   "metadata": {},
   "source": [
    "## 2 Construct Mutational Spectra"
   ]
  },
  {
   "cell_type": "code",
   "execution_count": 29,
   "id": "capital-accounting",
   "metadata": {},
   "outputs": [],
   "source": [
    "# List of mismatch repair, POLE, and POLD1 proficient tumors\n",
    "PanCan_MMRP = [x for x in agg_maf['Tumor_Sample_Barcode'].unique() if \n",
    "               x not in PanCan_MMRD + list(pole) + list(pold)]"
   ]
  },
  {
   "cell_type": "code",
   "execution_count": 35,
   "id": "public-subcommittee",
   "metadata": {
    "scrolled": false
   },
   "outputs": [
    {
     "name": "stdout",
     "output_type": "stream",
     "text": [
      "      * Mapping contexts: 3456 / 3457\n"
     ]
    }
   ],
   "source": [
    "# Aggregate POLE/POLD-exo* spectra (96 SBS + ID)\n",
    "pole_pold_maf = agg_maf[agg_maf['Tumor_Sample_Barcode'].isin(list(pole)+list(pold))]\n",
    "_, pole_pold_spec_pole_msi96 = sa.spectra.get_spectra_from_maf(pole_pold_maf,\n",
    "                                                               hgfile=\"../hg38.2bit\",\n",
    "                                                               reference='polymerase_msi96')\n",
    "pole_pold_spec_pole_msi96.to_csv(\n",
    "    '../analysis_files/mutational_signatures/spectra/POLE_POLD_polymerase_msi96.tsv',\n",
    "    sep='\\t')\n",
    "\n",
    "# Aggregate MMRD spectra (96 SBS)\n",
    "MMRD_maf = agg_maf[agg_maf['Tumor_Sample_Barcode'].isin(PanCan_MMRD)]\n",
    "_, mmrd_spec_sbs = sa.spectra.get_spectra_from_maf(MMRD_maf, \n",
    "                                                   hgfile=\"../hg38.2bit\",\n",
    "                                                   reference='cosmic3_exome')\n",
    "mmrd_spec_sbs.to_csv(\n",
    "    '../analysis_files/mutational_signatures/spectra/MMRD_SBS.tsv',\n",
    "    sep='\\t')\n",
    "\n",
    "# Aggregate HRD-related spectra (96 SBS)\n",
    "# One version excludes outlier UV sample \n",
    "hrd_cohort_samps = [x for x in PanCan_MMRP if cohort_d[x] in ['BRCA','OV','PDAC']]\n",
    "hrd_maf = agg_maf[agg_maf['Tumor_Sample_Barcode'].isin(hrd_cohort_samps)]\n",
    "_, hrd_spec_sbs = sa.spectra.get_spectra_from_maf(hrd_maf, \n",
    "                                                  hgfile=HG38_2BIT, \n",
    "                                                  reference='cosmic3_exome')\n",
    "hrd_spec_sbs.to_csv('../analysis_files/mutational_signatures/spectra/HRD_SBS.tsv',sep='\\t')\n",
    "hrd_spec_sbs.drop(columns=['01BR043_T']).to_csv(\n",
    "    '../analysis_files/mutational_signatures/spectra/HRD_SBS_NoUV.tsv',\n",
    "    sep='\\t')\n",
    "\n",
    "# Aggregate Non-HRD-related spectra (96 SBS)\n",
    "nonhrd_cohort_samps = [x for x in PanCan_MMRP if cohort_d[x] in ['CCRCC','GBM','UCEC','COAD']]\n",
    "nonhrd_maf = agg_maf[agg_maf['Tumor_Sample_Barcode'].isin(nonhrd_cohort_samps)]\n",
    "_, nonhrd_spec_sbs = sa.spectra.get_spectra_from_maf(nonhrd_maf, \n",
    "                                                     hgfile=HG38_2BIT, \n",
    "                                                     reference='cosmic3_exome')\n",
    "nonhrd_spec_sbs.to_csv(\n",
    "    '../analysis_files/mutational_signatures/spectra/NonHRD_SBS.tsv',\n",
    "    sep='\\t')\n",
    "\n",
    "# Aggregate Smoking-related spectra (96 SBS + 78 DBS + 83 ID)\n",
    "smoking_samps = [x for x in PanCan_MMRP if cohort_d[x] in ['HNSCC','LSCC','LUAD']]\n",
    "smoke_maf = agg_maf[agg_maf['Tumor_Sample_Barcode'].isin(smoking_samps)]\n",
    "_, smoke_spec_composite = sa.spectra.get_spectra_from_maf(smoke_maf,\n",
    "                                                          hgfile=HG38_2BIT, \n",
    "                                                          reference='pcawg_COMPOSITE96')\n",
    "smoke_spec_composite.to_csv(\n",
    "    '../analysis_files/mutational_signatures/spectra/Smoke_COMPOSITE96.tsv',\n",
    "    sep='\\t')\n",
    "\n"
   ]
  },
  {
   "cell_type": "markdown",
   "id": "boxed-representative",
   "metadata": {},
   "source": [
    "## 3 Run SignatureAnalyzer"
   ]
  },
  {
   "cell_type": "code",
   "execution_count": 39,
   "id": "incident-expression",
   "metadata": {
    "scrolled": true
   },
   "outputs": [
    {
     "name": "stdout",
     "output_type": "stream",
     "text": [
      "---------------------------------------------------------\n",
      "---------- S I G N A T U R E  A N A L Y Z E R  ----------\n",
      "---------------------------------------------------------\n",
      "   * Creating output dir at ../results/mutational_signatures/MMRD\n",
      "   * Using cosmic3_exome signatures\n",
      "   * Saving ARD-NMF outputs to ../results/mutational_signatures/MMRD/nmf_output.h5\n",
      "   * Running ARD-NMF...\n",
      "\t0/99: nit= 4735 K=6 \tdel=0.000000000\n",
      "\t1/99: nit= 9103 K=6 \tdel=0.000000009\n",
      "\t2/99: nit= 5771 K=6 \tdel=0.000000007\n",
      "\t3/99: nit= 5773 K=6 \tdel=0.000000000\n",
      "\t4/99: nit= 4221 K=6 \tdel=0.000000002\n",
      "\t5/99: nit= 7467 K=6 \tdel=0.000000008\n",
      "\t6/99: nit= 6695 K=6 \tdel=0.000000003\n",
      "\t7/99: nit= 6824 K=6 \tdel=0.000000001\n",
      "\t8/99: nit= 4399 K=5 \tdel=0.000000006\n",
      "\t9/99: nit= 8835 K=6 \tdel=0.000000002\n",
      "\t10/99: nit= 4183 K=6 \tdel=0.000000007\n",
      "\t11/99: nit= 7793 K=6 \tdel=0.000000003\n",
      "\t12/99: nit= 6298 K=6 \tdel=0.000000002\n",
      "\t13/99: nit= 5168 K=6 \tdel=0.000000000\n",
      "\t14/99: nit=11472 K=6 \tdel=0.000000000\n",
      "\t15/99: nit= 2983 K=6 \tdel=0.000000000\n",
      "\t16/99: nit= 4515 K=6 \tdel=0.000000003\n",
      "\t17/99: nit= 6617 K=6 \tdel=0.000000007\n",
      "\t18/99: nit= 3781 K=6 \tdel=0.000000006\n",
      "\t19/99: nit= 4383 K=6 \tdel=0.000000006\n",
      "\t20/99: nit= 5276 K=5 \tdel=0.000000009\n",
      "\t21/99: nit= 7074 K=6 \tdel=0.000000004\n",
      "\t22/99: nit= 8626 K=6 \tdel=0.000000008\n",
      "\t23/99: nit= 5820 K=6 \tdel=0.000000004\n",
      "\t24/99: nit= 8714 K=6 \tdel=0.000000006\n",
      "\t25/99: nit= 5996 K=6 \tdel=0.000000007\n",
      "\t26/99: nit= 5785 K=6 \tdel=0.000000006\n",
      "\t27/99: nit= 5078 K=6 \tdel=0.000000009\n",
      "\t28/99: nit= 9307 K=6 \tdel=0.000000001\n",
      "\t29/99: nit=28486 K=7 \tdel=0.000000000\n",
      "\t30/99: nit= 6570 K=6 \tdel=0.000000002\n",
      "\t31/99: nit= 4301 K=6 \tdel=0.000000001\n",
      "\t32/99: nit= 5397 K=6 \tdel=0.000000001\n",
      "\t33/99: nit= 3744 K=6 \tdel=0.000000000\n",
      "\t34/99: nit=11219 K=7 \tdel=0.000000000\n",
      "\t35/99: nit= 7077 K=6 \tdel=0.000000000\n",
      "\t36/99: nit= 5425 K=6 \tdel=0.000000006\n",
      "\t37/99: nit= 5305 K=6 \tdel=0.000000007\n",
      "\t38/99: nit= 3257 K=6 \tdel=0.000000007\n",
      "\t39/99: nit= 2968 K=6 \tdel=0.000000001\n",
      "\t40/99: nit= 9346 K=6 \tdel=0.000000002\n",
      "\t41/99: nit= 4153 K=6 \tdel=0.000000003\n",
      "\t42/99: nit= 7631 K=6 \tdel=0.000000006\n",
      "\t43/99: nit= 7856 K=6 \tdel=0.000000001\n",
      "\t44/99: nit= 9757 K=6 \tdel=0.000000004\n",
      "\t45/99: nit= 7396 K=6 \tdel=0.000000009\n",
      "\t46/99: nit= 4095 K=6 \tdel=0.000000004\n",
      "\t47/99: nit=16866 K=7 \tdel=0.000000003\n",
      "\t48/99: nit= 6055 K=5 \tdel=0.000000004\n",
      "\t49/99: nit= 9310 K=7 \tdel=0.000000000\n",
      "\t50/99: nit= 8997 K=6 \tdel=0.000000008\n",
      "\t51/99: nit= 4683 K=6 \tdel=0.000000006\n",
      "\t52/99: nit= 7959 K=6 \tdel=0.000000000\n",
      "\t53/99: nit= 5388 K=6 \tdel=0.000000001\n",
      "\t54/99: nit= 5470 K=6 \tdel=0.000000007\n",
      "\t55/99: nit= 9723 K=6 \tdel=0.000000005\n",
      "\t56/99: nit= 5350 K=6 \tdel=0.000000004\n",
      "\t57/99: nit= 7585 K=6 \tdel=0.000000000\n",
      "\t58/99: nit= 9133 K=7 \tdel=0.000000003\n",
      "\t59/99: nit= 8194 K=6 \tdel=0.000000007\n",
      "\t60/99: nit= 7655 K=6 \tdel=0.000000003\n",
      "\t61/99: nit=12016 K=6 \tdel=0.000000008\n",
      "\t62/99: nit=11591 K=6 \tdel=0.000000005\n",
      "\t63/99: nit= 7290 K=8 \tdel=0.000000007\n",
      "\t64/99: nit= 6291 K=6 \tdel=0.000000007\n",
      "\t65/99: nit= 8303 K=6 \tdel=0.000000004\n",
      "\t66/99: nit= 3074 K=6 \tdel=0.000000005\n",
      "\t67/99: nit= 9315 K=5 \tdel=0.000000004\n",
      "\t68/99: nit= 6129 K=6 \tdel=0.000000000\n",
      "\t69/99: nit= 4949 K=6 \tdel=0.000000002\n",
      "\t70/99: nit= 7513 K=7 \tdel=0.000000009\n",
      "\t71/99: nit= 7884 K=6 \tdel=0.000000007\n",
      "\t72/99: nit= 9582 K=6 \tdel=0.000000005\n",
      "\t73/99: nit= 5134 K=6 \tdel=0.000000004\n",
      "\t74/99: nit= 6458 K=6 \tdel=0.000000005\n",
      "\t75/99: nit= 7121 K=6 \tdel=0.000000004\n",
      "\t76/99: nit= 6694 K=7 \tdel=0.000000001\n",
      "\t77/99: nit= 5938 K=7 \tdel=0.000000004\n",
      "\t78/99: nit= 4830 K=6 \tdel=0.000000009\n",
      "\t79/99: nit=12922 K=6 \tdel=0.000000001\n",
      "\t80/99: nit= 9587 K=6 \tdel=0.000000007\n",
      "\t81/99: nit= 8015 K=6 \tdel=0.000000002\n",
      "\t82/99: nit= 8245 K=6 \tdel=0.000000009\n",
      "\t83/99: nit= 4436 K=6 \tdel=0.000000004\n",
      "\t84/99: nit= 3778 K=6 \tdel=0.000000001\n",
      "\t85/99: nit= 6965 K=5 \tdel=0.000000007\n",
      "\t86/99: nit= 7120 K=6 \tdel=0.000000008\n",
      "\t87/99: nit= 8213 K=8 \tdel=0.000000004\n",
      "\t88/99: nit= 5613 K=8 \tdel=0.000000007\n",
      "\t89/99: nit= 5677 K=6 \tdel=0.000000008\n",
      "\t90/99: nit= 5559 K=6 \tdel=0.000000004\n",
      "\t91/99: nit= 5517 K=6 \tdel=0.000000000\n",
      "\t92/99: nit= 5492 K=6 \tdel=0.000000005\n",
      "\t93/99: nit= 6333 K=6 \tdel=0.000000003\n",
      "\t94/99: nit= 9413 K=6 \tdel=0.000000004\n",
      "\t95/99: nit= 7038 K=6 \tdel=0.000000000\n",
      "\t96/99: nit= 5762 K=6 \tdel=0.000000003\n",
      "\t97/99: nit= 5743 K=6 \tdel=0.000000002\n",
      "\t98/99: nit= 3823 K=6 \tdel=0.000000003\n",
      "\t99/99: nit= 6171 K=6 \tdel=0.000000007\n",
      "   * Run 19 had lowest objective with mode (n=84) K = 6.\n",
      "   * Saving report plots to ../results/mutational_signatures/MMRD\n",
      "Plotting cosmic3_exome Attributions Barplot:\n",
      "Plotting K Histogram:\n",
      "Plotting cosmic3_exome Cosine Similarity:\n"
     ]
    }
   ],
   "source": [
    "# POLE/POLD-exo*\n",
    "!signatureanalyzer ../analysis_files/mutational_signatures/spectra/POLE_POLD_polymerase_msi96.tsv \\\n",
    "-t spectra -n 100 --max_iter 30000 --objective poisson \\\n",
    "--prior_on_H L1 --prior_on_W L1 -o ../results/mutational_signatures/POLE_POLD/ --reference polymerase_msi96\n",
    "\n",
    "# MMRD\n",
    "!signatureanalyzer ../analysis_files/mutational_signatures/spectra/MMRD_SBS.tsv \\\n",
    "-t spectra -n 100 --max_iter 30000 --objective poisson \\\n",
    "--prior_on_H L1 --prior_on_W L1 -o ../results/mutational_signatures/MMRD --reference cosmic3_exome\n",
    "\n",
    "# MMRP Smoke\n",
    "!signatureanalyzer ../analysis_files/mutational_signatures/spectra/Smoke_COMPOSITE96.tsv \\ \n",
    "-t spectra -n 100 --max_iter 30000 --objective poisson \\\n",
    "--prior_on_H L1 --prior_on_W L1 -o ../results/mutational_signatures/Smoke --reference pcawg_COMPOSITE96\n",
    "\n",
    "# MMRP HRD\n",
    "!signatureanalyzer ../analysis_files/mutational_signatures/spectra/HRD_SBS.tsv \\ \n",
    "-t spectra -n 100 --max_iter 30000 --objective poisson \\\n",
    "--prior_on_H L1 --prior_on_W L1 -o ../results/mutational_signatures/HRD/ --reference cosmic3_exome\n",
    "\n",
    "!signatureanalyzer ../analysis_files/mutational_signatures/spectra/HRD_SBS_NoUV.tsv \\\n",
    "-t spectra -n 100 --max_iter 30000 --objective poisson \\\n",
    "--prior_on_H L1 --prior_on_W L1 -o ../results/mutational_signatures/HRD_noUV --reference cosmic3_exome\n",
    "\n",
    "MMRP Non-HRD\n",
    "!signatureanalyzer ../analysis_files/mutational_signatures/spectra/NonHRD_SBS.tsv \\\n",
    "-t spectra -n 100 --max_iter 30000 --objective poisson \\\n",
    "--prior_on_H L1 --prior_on_W L1 -o ../results/mutational_signatures/NonHRD --reference cosmic3_exome\n"
   ]
  },
  {
   "cell_type": "markdown",
   "id": "considerable-graham",
   "metadata": {},
   "source": [
    "## 4. Aggregate Results"
   ]
  },
  {
   "cell_type": "code",
   "execution_count": 60,
   "id": "informal-palestinian",
   "metadata": {},
   "outputs": [],
   "source": [
    "pole_res_path = os.path.join(SIG_OUTPUT, \"POLE_POLD\", \"nmf_output.h5\")\n",
    "mmrd_res_path = os.path.join(SIG_OUTPUT, \"MMRD\", \"nmf_output.h5\")\n",
    "hrd_res_path = os.path.join(SIG_OUTPUT, \"HRD_noUV\", \"nmf_output.h5\")\n",
    "hrd_uv_res_path = os.path.join(SIG_OUTPUT, \"HRD\", \"nmf_output.h5\")\n",
    "nhrd_res_path = os.path.join(SIG_OUTPUT, \"NonHRD\", \"nmf_output.h5\")\n",
    "smoking_res_path = os.path.join(SIG_OUTPUT, \"Smoke\", \"nmf_output.h5\")\n",
    "\n",
    "UNCOLLAPSED_H_FILENAME = \"../results/mutational_signatures/H_uncollapsed_all.tsv\"\n",
    "UNCOLLAPSED_W_FILENAME = \"../results/mutational_signatures/W_uncollapsed_all.tsv\"\n",
    "\n",
    "brca_uv_patient = \"01BR043_T\""
   ]
  },
  {
   "cell_type": "code",
   "execution_count": 70,
   "id": "built-amsterdam",
   "metadata": {
    "scrolled": false
   },
   "outputs": [],
   "source": [
    "# Read H and W matrices. Remove max, max_id, and max_norm columns\n",
    "pole_pold_H = pd.read_hdf(pole_res_path, \"H\").drop(columns=['max', 'max_id', 'max_norm'])\n",
    "pole_pold_W = pd.read_hdf(pole_res_path, \"W\").drop(columns=['max', 'max_id', 'max_norm'])\n",
    "mmrd_H = pd.read_hdf(mmrd_res_path, \"H\").drop(columns=['max', 'max_id', 'max_norm'])\n",
    "mmrd_W = pd.read_hdf(mmrd_res_path, \"W\").drop(columns=['max', 'max_id', 'max_norm'])\n",
    "hrd_H = pd.read_hdf(hrd_res_path, \"H\").drop(columns=['max', 'max_id', 'max_norm'])\n",
    "hrd_W = pd.read_hdf(hrd_res_path, \"W\").drop(columns=['max', 'max_id', 'max_norm'])\n",
    "hrd_uv_H = pd.read_hdf(hrd_uv_res_path, \"H\").drop(columns=['max', 'max_id', 'max_norm'])\n",
    "hrd_uv_W = pd.read_hdf(hrd_uv_res_path, \"W\").drop(columns=['max', 'max_id', 'max_norm'])\n",
    "nhrd_H = pd.read_hdf(nhrd_res_path, \"H\").drop(columns=['max', 'max_id', 'max_norm'])\n",
    "nhrd_W = pd.read_hdf(nhrd_res_path, \"W\").drop(columns=['max', 'max_id', 'max_norm'])\n",
    "smoking_H = pd.read_hdf(smoking_res_path, \"H\").drop(columns=['max', 'max_id', 'max_norm'])\n",
    "smoking_W = pd.read_hdf(smoking_res_path, \"W\").drop(columns=['max', 'max_id', 'max_norm'])\n",
    "\n",
    "# Subset for BRCA UV patient\n",
    "brca_uv_H = pd.DataFrame(hrd_uv_H.loc[brca_uv_patient]).T\n",
    "brca_uv_W = hrd_uv_W[['S4-SBS7b']]\n",
    "\n",
    "# Add missing contexts to Smoking W matrix\n",
    "smoking_W = smoking_W.reindex(sa.context.context_composite96).fillna(0)"
   ]
  },
  {
   "cell_type": "code",
   "execution_count": 71,
   "id": "fitting-disabled",
   "metadata": {},
   "outputs": [],
   "source": [
    "# Rename column names to indicate SignatureAnalyzer run and etiology\n",
    "prepend_l = [\"POLE_\", \"MMRD_\", \"HRD_\", \"HRDUV_\", \"NonHRD_\", \"SMOKING_\"]\n",
    "H_l = [pole_pold_H, mmrd_H, hrd_H, brca_uv_H, nhrd_H, smoking_H]\n",
    "W_l = [pole_pold_W, mmrd_W, hrd_W, brca_uv_W, nhrd_W, smoking_W]\n",
    "for i in range(len(prepend_l)):\n",
    "    H_l[i].columns = H_l[i].columns.map(lambda x: prepend_l[i] + x)\n",
    "    W_l[i].columns = W_l[i].columns.map(lambda x: prepend_l[i] + x)"
   ]
  },
  {
   "cell_type": "code",
   "execution_count": 72,
   "id": "numeric-small",
   "metadata": {},
   "outputs": [],
   "source": [
    "H_full_uncollapsed = pd.concat(H_l, 1)\n",
    "W_full_uncollapsed = pd.concat(W_l, 1)\n",
    "\n",
    "# Write uncollapsed H and W matrices\n",
    "H_full_uncollapsed.to_csv(os.path.join(UNCOLLAPSED_H_FILENAME), sep='\\t')\n",
    "W_full_uncollapsed.to_csv(os.path.join(UNCOLLAPSED_W_FILENAME), sep='\\t')\n"
   ]
  },
  {
   "cell_type": "markdown",
   "id": "accurate-wireless",
   "metadata": {},
   "source": [
    "Create a collapsed dataframe for signatures with the same etiology"
   ]
  },
  {
   "cell_type": "code",
   "execution_count": 64,
   "id": "divine-holder",
   "metadata": {
    "scrolled": true
   },
   "outputs": [
    {
     "data": {
      "text/html": [
       "<div>\n",
       "<style scoped>\n",
       "    .dataframe tbody tr th:only-of-type {\n",
       "        vertical-align: middle;\n",
       "    }\n",
       "\n",
       "    .dataframe tbody tr th {\n",
       "        vertical-align: top;\n",
       "    }\n",
       "\n",
       "    .dataframe thead th {\n",
       "        text-align: right;\n",
       "    }\n",
       "</style>\n",
       "<table border=\"1\" class=\"dataframe\">\n",
       "  <thead>\n",
       "    <tr style=\"text-align: right;\">\n",
       "      <th></th>\n",
       "      <th>HRDUV_S1-SBS3</th>\n",
       "      <th>HRDUV_S2-SBS2</th>\n",
       "      <th>HRDUV_S3-SBS1</th>\n",
       "      <th>HRDUV_S4-SBS7b</th>\n",
       "    </tr>\n",
       "  </thead>\n",
       "  <tbody>\n",
       "    <tr>\n",
       "      <th>01BR043_T</th>\n",
       "      <td>1.492902e-21</td>\n",
       "      <td>3.099395e-09</td>\n",
       "      <td>7.309186e-14</td>\n",
       "      <td>13497.485352</td>\n",
       "    </tr>\n",
       "  </tbody>\n",
       "</table>\n",
       "</div>"
      ],
      "text/plain": [
       "           HRDUV_S1-SBS3  HRDUV_S2-SBS2  HRDUV_S3-SBS1  HRDUV_S4-SBS7b\n",
       "01BR043_T   1.492902e-21   3.099395e-09   7.309186e-14    13497.485352"
      ]
     },
     "execution_count": 64,
     "metadata": {},
     "output_type": "execute_result"
    }
   ],
   "source": [
    "brca_uv_H"
   ]
  },
  {
   "cell_type": "code",
   "execution_count": 74,
   "id": "allied-winter",
   "metadata": {
    "scrolled": false
   },
   "outputs": [],
   "source": [
    "# Collapse POLE signatures\n",
    "pole_pold_H['POLE'] = (pole_pold_H['POLE_S2-E1'] + pole_pold_H['POLE_S5-E3'] + \n",
    "                       pole_pold_H['POLE_S6-E3'] + pole_pold_H['POLE_S7-E1']\n",
    "                      )\n",
    "pole_pold_H = pole_pold_H.rename(columns={'POLE_S4-O3':'APOBEC', \n",
    "                                          'POLE_S1-C2':'POLE+MSI',\n",
    "                                          'POLE_S3-O1':'CpG>T + Short Indels'})\n",
    "pole_pold_H = pole_pold_H[['POLE','POLE+MSI','CpG>T + Short Indels','APOBEC']]\n",
    "\n",
    "# Rename \n",
    "mmrd_H['MMRD'] = mmrd_H['MMRD_S2-SBS26'] + mmrd_H['MMRD_S3-SBS15'] + mmrd_H['MMRD_S4-SBS44']\n",
    "mmrd_H = mmrd_H.rename(columns={'MMRD_S5-SBS1':'CpG>T',\n",
    "                                'MMRD_S1-SBS13':'APOBEC',\n",
    "                                'MMRD_S6-SBS8':'Unknown (SBS8: 0.67)'}\n",
    "                      )\n",
    "mmrd_H = mmrd_H[['CpG>T','MMRD','APOBEC','Unknown (SBS8: 0.67)']]\n",
    "\n",
    "smoking_H = smoking_H.rename(columns = {'SMOKING_S1-SBS13_P':'APOBEC', \n",
    "                                        'SMOKING_S2-SBS4_P':'Tobacco Smoking', \n",
    "                                        'SMOKING_S3-SBS74_S':'CpG>T',\n",
    "                                        'SMOKING_S4-SBS7b_S':'UV Exposure'}\n",
    "                            )\n",
    "hrd_H = hrd_H.rename(columns={'HRD_S1-SBS1': 'CpG>T', 'HRD_S2-SBS2': 'APOBEC', 'HRD_S3-SBS3':'HRD'})\n",
    "brca_uv_H = brca_uv_H.rename(columns={'HRDUV_S1-SBS3':'HRD', 'HRDUV_S2-SBS2':'APOBEC', \n",
    "                                      'HRDUV_S3-SBS1':'CpG>T', 'HRDUV_S4-SBS7b':'UV Exposure'})\n",
    "nhrd_H = nhrd_H.rename(columns={'NonHRD_S1-SBS40': \"Unknown (SBS40: 0.97)\", 'NonHRD_S2-SBS1':'CpG>T'})\n",
    "\n",
    "\n",
    "fullH = pd.concat([pole_pold_H, mmrd_H, smoking_H, hrd_H, brca_uv_H, nhrd_H]).fillna(0)\n",
    "\n",
    "fullH.to_csv('../results/mutational_signatures/Full_H_compressed_v3.tsv',sep='\\t')"
   ]
  },
  {
   "cell_type": "code",
   "execution_count": 160,
   "id": "basic-skirt",
   "metadata": {},
   "outputs": [
    {
     "data": {
      "text/html": [
       "<div>\n",
       "<style scoped>\n",
       "    .dataframe tbody tr th:only-of-type {\n",
       "        vertical-align: middle;\n",
       "    }\n",
       "\n",
       "    .dataframe tbody tr th {\n",
       "        vertical-align: top;\n",
       "    }\n",
       "\n",
       "    .dataframe thead th {\n",
       "        text-align: right;\n",
       "    }\n",
       "</style>\n",
       "<table border=\"1\" class=\"dataframe\">\n",
       "  <thead>\n",
       "    <tr style=\"text-align: right;\">\n",
       "      <th></th>\n",
       "      <th>POLE</th>\n",
       "      <th>POLE+MSI</th>\n",
       "      <th>CpG&gt;T + Short Indels</th>\n",
       "      <th>APOBEC</th>\n",
       "      <th>CpG&gt;T</th>\n",
       "      <th>MMRD</th>\n",
       "      <th>Unknown (SBS8: 0.67)</th>\n",
       "      <th>Tobacco Smoking</th>\n",
       "      <th>UV Exposure</th>\n",
       "      <th>HRD</th>\n",
       "      <th>Unknown (SBS40: 0.97)</th>\n",
       "    </tr>\n",
       "  </thead>\n",
       "  <tbody>\n",
       "    <tr>\n",
       "      <th>09CO015_T</th>\n",
       "      <td>20.775904</td>\n",
       "      <td>3.030978e+00</td>\n",
       "      <td>7.713525e+01</td>\n",
       "      <td>2.820426e+01</td>\n",
       "      <td>0.0</td>\n",
       "      <td>0.0</td>\n",
       "      <td>0.0</td>\n",
       "      <td>0.0</td>\n",
       "      <td>0.0</td>\n",
       "      <td>0.0</td>\n",
       "      <td>0.0</td>\n",
       "    </tr>\n",
       "    <tr>\n",
       "      <th>11CO070_T</th>\n",
       "      <td>14860.123047</td>\n",
       "      <td>8.142629e-19</td>\n",
       "      <td>8.800154e-43</td>\n",
       "      <td>7.146622e-44</td>\n",
       "      <td>0.0</td>\n",
       "      <td>0.0</td>\n",
       "      <td>0.0</td>\n",
       "      <td>0.0</td>\n",
       "      <td>0.0</td>\n",
       "      <td>0.0</td>\n",
       "      <td>0.0</td>\n",
       "    </tr>\n",
       "    <tr>\n",
       "      <th>17OV002_T</th>\n",
       "      <td>9995.146484</td>\n",
       "      <td>5.811625e-33</td>\n",
       "      <td>2.023632e+01</td>\n",
       "      <td>1.079000e-43</td>\n",
       "      <td>0.0</td>\n",
       "      <td>0.0</td>\n",
       "      <td>0.0</td>\n",
       "      <td>0.0</td>\n",
       "      <td>0.0</td>\n",
       "      <td>0.0</td>\n",
       "      <td>0.0</td>\n",
       "    </tr>\n",
       "    <tr>\n",
       "      <th>20CO003_T</th>\n",
       "      <td>313.247467</td>\n",
       "      <td>2.833022e-08</td>\n",
       "      <td>1.858454e+03</td>\n",
       "      <td>7.146622e-44</td>\n",
       "      <td>0.0</td>\n",
       "      <td>0.0</td>\n",
       "      <td>0.0</td>\n",
       "      <td>0.0</td>\n",
       "      <td>0.0</td>\n",
       "      <td>0.0</td>\n",
       "      <td>0.0</td>\n",
       "    </tr>\n",
       "    <tr>\n",
       "      <th>C3L-00156_T</th>\n",
       "      <td>2063.346436</td>\n",
       "      <td>4.842187e-41</td>\n",
       "      <td>2.771217e+00</td>\n",
       "      <td>3.550739e+00</td>\n",
       "      <td>0.0</td>\n",
       "      <td>0.0</td>\n",
       "      <td>0.0</td>\n",
       "      <td>0.0</td>\n",
       "      <td>0.0</td>\n",
       "      <td>0.0</td>\n",
       "      <td>0.0</td>\n",
       "    </tr>\n",
       "  </tbody>\n",
       "</table>\n",
       "</div>"
      ],
      "text/plain": [
       "                     POLE      POLE+MSI  CpG>T + Short Indels        APOBEC  \\\n",
       "09CO015_T       20.775904  3.030978e+00          7.713525e+01  2.820426e+01   \n",
       "11CO070_T    14860.123047  8.142629e-19          8.800154e-43  7.146622e-44   \n",
       "17OV002_T     9995.146484  5.811625e-33          2.023632e+01  1.079000e-43   \n",
       "20CO003_T      313.247467  2.833022e-08          1.858454e+03  7.146622e-44   \n",
       "C3L-00156_T   2063.346436  4.842187e-41          2.771217e+00  3.550739e+00   \n",
       "\n",
       "             CpG>T  MMRD  Unknown (SBS8: 0.67)  Tobacco Smoking  UV Exposure  \\\n",
       "09CO015_T      0.0   0.0                   0.0              0.0          0.0   \n",
       "11CO070_T      0.0   0.0                   0.0              0.0          0.0   \n",
       "17OV002_T      0.0   0.0                   0.0              0.0          0.0   \n",
       "20CO003_T      0.0   0.0                   0.0              0.0          0.0   \n",
       "C3L-00156_T    0.0   0.0                   0.0              0.0          0.0   \n",
       "\n",
       "             HRD  Unknown (SBS40: 0.97)  \n",
       "09CO015_T    0.0                    0.0  \n",
       "11CO070_T    0.0                    0.0  \n",
       "17OV002_T    0.0                    0.0  \n",
       "20CO003_T    0.0                    0.0  \n",
       "C3L-00156_T  0.0                    0.0  "
      ]
     },
     "execution_count": 160,
     "metadata": {},
     "output_type": "execute_result"
    }
   ],
   "source": [
    "fullH.head()"
   ]
  },
  {
   "cell_type": "markdown",
   "id": "going-soviet",
   "metadata": {},
   "source": [
    "## 5. Figures (Figure 3A)"
   ]
  },
  {
   "cell_type": "code",
   "execution_count": 161,
   "id": "velvet-canvas",
   "metadata": {},
   "outputs": [],
   "source": [
    "# Load H matrix collapsed\n",
    "fullH = pd.read_csv(\"../results/mutational_signatures/Full_H_compressed_v2.tsv\", sep='\\t', index_col=0)\n",
    "\n",
    "# Add cohort labels\n",
    "fullH['cohort'] = fullH.index.map(cohort_d)\n",
    "\n",
    "# For samples with at least 1 mutation associated with the signature*, \n",
    "# 1) what is the median mutation rate (per megabase) within each cohort\n",
    "# 2) Frequency within the cohort\n",
    "# 3) Frequency as a fraction\n",
    "# * For HRD, use HRD threshold (>=45) see thresholding notebook and Methods sectionfor more details\n",
    "# * For UV, use threshold of 500 (bleedthrough effect from NMF gives low weights to some samples. \n",
    "# UV signature typically contribute high TMB)\n",
    "summary_df = pd.DataFrame(columns=['signature', 'median.per.mega', 'frequency.float', 'frequency.frac', 'cohort'])\n",
    "combo_l = pd.Series(list(itertools.product(fullH.columns.drop('cohort'), cohort_l)))\n",
    "summary_df['signature'] = combo_l.map(lambda x: x[0])\n",
    "summary_df['cohort'] = combo_l.map(lambda x: x[1])\n",
    "for sig in fullH.columns.drop('cohort'):\n",
    "    if sig == 'HRD':\n",
    "        median_weight_s = fullH[fullH[sig] > 45].groupby('cohort').apply(lambda x: x[sig].median() / 30)\n",
    "        freq_dec_s = fullH.groupby('cohort').apply(lambda x: (x[sig] >= 45).sum() / x.shape[0])\n",
    "        freq_frac_s = fullH.groupby('cohort').apply(lambda x: f\"{(x[sig] >= 45).sum()}/{x.shape[0]}\")\n",
    "    elif sig == 'UV Exposure':\n",
    "        median_weight_s = fullH[fullH[sig] > 500].groupby('cohort').apply(lambda x: x[sig].median() / 30)\n",
    "        freq_dec_s = fullH.groupby('cohort').apply(lambda x: (x[sig] >= 500).sum() / x.shape[0])\n",
    "        freq_frac_s = fullH.groupby('cohort').apply(lambda x: f\"{(x[sig] >= 500).sum()}/{x.shape[0]}\")\n",
    "    else:\n",
    "        median_weight_s = fullH[fullH[sig] > 1].groupby('cohort').apply(lambda x: x[sig].median() / 30)\n",
    "        freq_dec_s = fullH.groupby('cohort').apply(lambda x: (x[sig] >= 1).sum() / x.shape[0])\n",
    "        freq_frac_s = fullH.groupby('cohort').apply(lambda x: f\"{(x[sig] >= 1).sum()}/{x.shape[0]}\")\n",
    "    summary_df['median.per.mega'] = summary_df.apply(\n",
    "        lambda x: x['median.per.mega'] if (x['signature']!=sig or x['cohort'] not in median_weight_s) else \n",
    "        median_weight_s.loc[x['cohort']], 1)\n",
    "    summary_df['frequency.float'] = summary_df.apply(\n",
    "        lambda x: x['frequency.float'] if x['signature']!=sig else \n",
    "        freq_dec_s.loc[x['cohort']], 1)\n",
    "    summary_df['frequency.frac'] = summary_df.apply(\n",
    "        lambda x: x['frequency.frac'] if x['signature']!=sig else \n",
    "        freq_frac_s.loc[x['cohort']], 1)\n",
    "summary_df = summary_df.sort_values(['signature', 'cohort'])\n",
    "summary_df['cohort'] = summary_df['cohort'].map(lambda x: x if x != 'OV' else 'HGSC')\n",
    "summary_df.to_csv(\"other_tables/Table_S3C_mutational_signatures_summary.tsv\",\n",
    "                  sep='\\t', index=None)\n"
   ]
  },
  {
   "cell_type": "code",
   "execution_count": 148,
   "id": "necessary-sudan",
   "metadata": {},
   "outputs": [],
   "source": [
    "%%R\n",
    "library(ggpubr)\n",
    "library(scales)"
   ]
  },
  {
   "cell_type": "code",
   "execution_count": 162,
   "id": "associate-rough",
   "metadata": {},
   "outputs": [],
   "source": [
    "%R -i summary_df"
   ]
  },
  {
   "cell_type": "code",
   "execution_count": 163,
   "id": "developmental-causing",
   "metadata": {},
   "outputs": [
    {
     "name": "stderr",
     "output_type": "stream",
     "text": [
      "R[write to console]: Scale for 'size' is already present. Adding another scale for 'size', which\n",
      "will replace the existing scale.\n",
      "\n"
     ]
    },
    {
     "data": {
      "image/png": "[encoded data removed]"
     },
     "metadata": {},
     "output_type": "display_data"
    }
   ],
   "source": [
    "%%R \n",
    "summary_df <- summary_df[which(summary_df$frequency.float > 0),]\n",
    "sigOrder <- c(\"CpG>T\", \"APOBEC\", \"Tobacco Smoking\", \"HRD\", \"MMRD\", \"POLE\", \n",
    "              \"POLE+MSI\", \"CpG>T + Short Indels\", \"Unknown (SBS40: 0.97)\",\n",
    "              \"Unknown (SBS8: 0.67)\", \"UV Exposure\")\n",
    "cohortOrder <- c(\"BRCA\", \"HGSC\", \"PDAC\", \"CCRCC\", \"GBM\", \"COAD\", \"UCEC\", \"LSCC\", \"LUAD\", \"HNSCC\")\n",
    "colorGradient_l <- c(\"#ffc754\", \"#faa55d\", \"#f78765\", \"#f16a6d\", \"#cc6998\", \"#936aae\", \"#6367b1\", \"#4d5eaa\", \"#244da1\", \"#1d427c\")\n",
    "colorBarBreaks_l <- c(0, 0.5, 1, 2.5, 10, 25, 45, 300)\n",
    "\n",
    "summary_df$signature <- factor(summary_df$signature, levels=rev(sigOrder), ordered=TRUE)\n",
    "summary_df$cohort <- factor(summary_df$cohort, levels=cohortOrder, ordered=TRUE)\n",
    "mut_bubble_plot <- ggpubr::ggballoonplot(\n",
    "    summary_df,\n",
    "    x='cohort',\n",
    "    y=\"signature\",\n",
    "    fill=\"median.per.mega\",\n",
    "    size=\"frequency.float\") + \n",
    "    scale_fill_stepsn(colours=colorGradient_l, \n",
    "                      breaks=colorBarBreaks_l, \n",
    "                      values=rescale(colorBarBreaks_l)) +\n",
    "    labs(x=\"\", y=\"\", fill=\"Median mutations/Mb due\\nto signature\\n(among tumors with the signature)\", \n",
    "         size=\"Proportion of tumors\\nwith the signature\") + \n",
    "    theme(\n",
    "        panel.border = element_rect(colour = \"grey\", fill=NA, size=2),\n",
    "        legend.position = \"bottom\", legend.title=element_text(size=20, face=\"bold\"),\n",
    "        legend.direction=\"horizontal\", legend.key.width = unit(2, \"cm\"), \n",
    "        legend.spacing.x = unit(0.05, \"cm\"),\n",
    "        axis.text = element_text(size=20, face=\"bold\", color='black'),\n",
    "        legend.text = element_text(size=20, face=\"bold\", color='black'),\n",
    "        legend.justification=\"left\"\n",
    "    ) + \n",
    "    scale_size(range=c(1,10), breaks=c(0.03, 0.1, 0.2, 0.35, 0.5, 0.75, 1))\n",
    "pdf(\"figures/Figure_3A_mutational_signatures_bubblemap.pdf\", w=10, h=8)\n",
    "print(mut_bubble_plot)\n",
    "dev.off()\n",
    "mut_bubble_plot"
   ]
  },
  {
   "cell_type": "code",
   "execution_count": null,
   "id": "grateful-enough",
   "metadata": {},
   "outputs": [],
   "source": []
  }
 ],
 "metadata": {
  "kernelspec": {
   "display_name": "Python 3",
   "language": "python",
   "name": "python3"
  },
  "language_info": {
   "codemirror_mode": {
    "name": "ipython",
    "version": 3
   },
   "file_extension": ".py",
   "mimetype": "text/x-python",
   "name": "python",
   "nbconvert_exporter": "python",
   "pygments_lexer": "ipython3",
   "version": "3.6.9"
  }
 },
 "nbformat": 4,
 "nbformat_minor": 5
}
