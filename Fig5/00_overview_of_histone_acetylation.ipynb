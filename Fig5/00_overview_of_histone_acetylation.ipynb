{
 "cells": [
  {
   "cell_type": "markdown",
   "id": "f930b9ee",
   "metadata": {},
   "source": [
    "---\n",
    "title: \"00_overview_of_histone_acetylation_across_clusters Figure5A\"\n",
    "output=github_document:\n",
    "  df_print: paged\n",
    "---"
   ]
  },
  {
   "cell_type": "code",
   "execution_count": null,
   "id": "5ce22e1c",
   "metadata": {},
   "outputs": [],
   "source": [
    "%%R\n",
    "library(tidyverse)\n",
    "library(ComplexHeatmap)\n",
    "library(circlize)"
   ]
  },
  {
   "cell_type": "markdown",
   "id": "4a82895b",
   "metadata": {},
   "source": [
    "# prepare the data"
   ]
  },
  {
   "cell_type": "code",
   "execution_count": null,
   "id": "63b1d197",
   "metadata": {},
   "outputs": [],
   "source": [
    "%%R\n",
    "Histone_genes_curated <- read.delim(\"./data/Histone_genes_curated_final.tsv\")%>% filter(grepl('H1|H2A|H2B|H3|H4', gene_type))\n",
    "acetylome_meta_data <- read.delim(\"./data/acetylome_meta_data.tsv\")%>%filter(grepl('BRCA|LSCC|MEDUL|GBM|LUAD|UCEC|MB', cohort))\n",
    "mappings_pancan <- read.delim(\"./data/cluster_map.tsv\")\n",
    "case_mapping <-mappings_pancan %>%right_join(acetylome_meta_data%>%dplyr::select(case_id,cohort,age,sex,race,smoking),by=\"case_id\")%>%filter(!is.na(cluster_id))\n",
    "\n",
    "head(Histone_genes_curated)\n",
    "head(acetylome_meta_data)\n",
    "head(case_mapping)"
   ]
  },
  {
   "cell_type": "markdown",
   "id": "653cfbc5",
   "metadata": {},
   "source": [
    "# acetylome data matrix"
   ]
  },
  {
   "cell_type": "code",
   "execution_count": null,
   "id": "8e4f1703",
   "metadata": {},
   "outputs": [],
   "source": [
    "%%R\n",
    "# acetylome\n",
    "acetylome_imputed <-read.delim(file = \"./data/acetylome_imputed.tsv\",sep=\"\\t\")\n",
    "\n",
    "# list histone genes\n",
    "acetylation_gene <-Histone_genes_curated$geneSymbol\n",
    "\n",
    "# acetylation matrix of histone genes H1-H4\n",
    "histone.acetylome_imputed <-acetylome_imputed %>% filter(geneSymbol %in% acetylation_gene)\n",
    "\n",
    "histone.acetylome_imputed <-Histone_genes_curated%>%dplyr::select(geneSymbol,gene_type)%>%right_join(histone.acetylome_imputed,by=\"geneSymbol\")\n",
    "\n",
    "head(histone.acetylome_imputed)"
   ]
  },
  {
   "cell_type": "markdown",
   "id": "bd44953b",
   "metadata": {},
   "source": [
    "# Prepare annotation and data matrix for the heatmap"
   ]
  },
  {
   "cell_type": "code",
   "execution_count": null,
   "id": "e00898db",
   "metadata": {},
   "outputs": [],
   "source": [
    "%%R\n",
    "hist_site_anno<-histone.acetylome_imputed %>% dplyr::select(acetyl_sites,gene_type)\n",
    "\n",
    "hist_map_acetyl<-case_mapping%>%left_join(t(histone.acetylome_imputed[,-c(1,2,4,5,6)]%>%column_to_rownames(var =\"acetyl_sites\"))%>%as.data.frame%>%rownames_to_column(var = \"case_id\"),by=\"case_id\")\n",
    "\n",
    "hist_mat_acetyl<-as.data.frame(scale(hist_map_acetyl[,-c(1:7)]))"
   ]
  },
  {
   "cell_type": "markdown",
   "id": "aef7fbb7",
   "metadata": {},
   "source": [
    "# Fig5A"
   ]
  },
  {
   "cell_type": "code",
   "execution_count": null,
   "id": "f657e498",
   "metadata": {},
   "outputs": [],
   "source": [
    "%%R\n",
    "out_dir = './Fig5/figures/'\n",
    "col_fun = colorRamp2(c(-2, 0, 2), c(\"blue\", \"white\", \"red\"))\n",
    "col_smoke = colorRamp2(c(0, 2, 4), c(\"white\", \"#999999\", \"#000000\"))\n",
    "col_cluster<-c(\"C1\"=\"#686868\",\n",
    "               \"C2\"=\"#c6c6c6\",\n",
    "               \"C3\"=\"#5b3495\",\n",
    "               \"C4\"=\"#796eb2\",\n",
    "               \"C5\"=\"#9e9ac8\",\n",
    "               \"C6\"=\"#c6c7e1\",\n",
    "               \"C7\"=\"#e8e7f2\",\n",
    "               \"C8\"=\"#084a91\",\n",
    "               \"C9\"=\"#1764ab\",\n",
    "               \"C10\"=\"#2e7ebc\",\n",
    "               \"C11\"=\"#4a98c9\",\n",
    "               \"C12\"=\"#6aaed6\",\n",
    "               \"C13\"=\"#94c4df\",\n",
    "               \"C14\"=\"#b7d4ea\",\n",
    "               \"C15\"=\"#d0e1f2\",\n",
    "               \"C16\"=\"#e3eef9\",\n",
    "               \"C17\"=\"#9b3203\",\n",
    "               \"C18\"=\"#bd3e02\",\n",
    "               \"C19\"=\"#dd4d04\",\n",
    "               \"C20\"=\"#ef6612\",\n",
    "               \"C21\"=\"#f9802d\",\n",
    "               \"C22\"=\"#fd994d\",\n",
    "               \"C23\"=\"#fdb170\",\n",
    "               \"C24\"=\"#fdca99\"\n",
    ")\n",
    "\n",
    "h = Heatmap(hist_mat_acetyl %>% t,\n",
    "            col=col_fun,\n",
    "            cluster_columns = FALSE,\n",
    "            name='Abundance',\n",
    "            top_annotation=columnAnnotation(Cluster=factor(hist_map_acetyl$cluster_id,levels = c(\"C1\",\"C2\",\"C3\",\"C4\",\"C5\",\"C6\",\"C7\",\"C8\",\"C9\",\"C10\",\"C11\",\"C12\",\"C13\",\"C14\",\"C15\",\"C16\",\"C17\",\"C18\",\"C19\",\"C20\",\"C21\",\"C22\",\"C23\",\"C24\")),\n",
    "                                            Cohort=hist_map_acetyl$cohort,\n",
    "                                            Sex=as.character(hist_map_acetyl$sex),\n",
    "                                            Smoking_signature=hist_map_acetyl$smoking,\n",
    "                                            col=list(Cluster=col_cluster,\n",
    "                                                     Cohort=c(\"GBM\"=\"#52b788\", \"MB\"=\"#193e2e\", \"LSCC\"=\"#91bdff\", \"LUAD\"=\"#1a759f\", \"UCEC\"=\"#5a189a\", \"BRCA\"=\"#cd6090\"),Cluster=col_cluster,\n",
    "                                                     Sex=c(\"Male\"=\"lightskyblue\", \"Female\"=\"plum\"),\n",
    "                                                     Smoking_signature = col_smoke),\n",
    "                                            annotation_legend_param = list(Cohort = list(nrow = 2, title = \"Cohort\", title_position = \"leftcenter\"),\n",
    "                                                                           Cluster = list(nrow = 2, title = \"Clusters\", title_position = \"leftcenter\"),\n",
    "                                                                           Sex = list(nrow = 2, title = \"Sex\", title_position = \"leftcenter\"),\n",
    "                                                                           Smoking_signature= list(title = \"Tobacco smoking \\n mutational signature \\n (log10)\", title_position = \"leftcenter\",direction = \"horizontal\")\n",
    "                                            )),\n",
    "            right_annotation=rowAnnotation(Histone_type=hist_site_anno$gene_type,  \n",
    "                                           annotation_legend_param = list(Histone_type = list(nrow = 1, title = \"Histone type\", title_position = \"lefttop\")),\n",
    "                                           col=list(Histone_type=c(\"H1\"=\"darkgreen\", \"H2A\"=\"orangered\", \"H2B\"=\"mediumvioletred\", \"H3\"=\"mediumblue\", \"H4\"=\"dodgerblue\"))),\n",
    "            row_split=hist_site_anno$gene_type, \n",
    "            heatmap_legend_param = list(direction='horizontal', title_position='leftcenter'),\n",
    "            cluster_column_slices = F,\n",
    "            show_row_names=T)\n",
    "\n",
    "# plot heatmap\n",
    "draw(h,annotation_legend_side='bottom', heatmap_legend_side='bottom')\n",
    "\n",
    "#save heatmap to Fig5A.pdf\n",
    "pdf(paste0(out_dir, 'Fig5A.pdf'), width=25, height=11)\n",
    "draw(h,annotation_legend_side='bottom', heatmap_legend_side='bottom')\n",
    "dev.off()"
   ]
  }
 ],
 "metadata": {},
 "nbformat": 4,
 "nbformat_minor": 5
}
