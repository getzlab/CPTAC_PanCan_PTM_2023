{
 "cells": [
  {
   "cell_type": "code",
   "execution_count": 1,
   "metadata": {},
   "outputs": [],
   "source": [
    "import clumpsptm\n",
    "import pandas as pd\n",
    "import os\n",
    "import numpy as np\n",
    "import glob\n",
    "from tqdm import tqdm\n",
    "import subprocess\n",
    "import ast\n",
    "import matplotlib.pyplot as plt\n",
    "import sys\n",
    "from agutil.parallel import parallelize2\n",
    "\n",
    "sys.path.append(\"../../funcs\")\n",
    "import plotting as pl"
   ]
  },
  {
   "cell_type": "markdown",
   "metadata": {},
   "source": [
    "---\n",
    "\n",
    "__Author__:  Shankara Anand\n",
    "\n",
    "__Email__: sanand@broadinstitute.org\n",
    "\n",
    "This notebook walks through how to take a source dataset of PTM sites and map them to PDB structures to eventually use with PTM-CLUMPS. This is necessary pre-processing for a new dataset to map the feature space onto available structures. The CLUMPS-PTM tool repository may be found [here](https://github.com/getzlab/CLUMPS-PTM).\n",
    "\n",
    "---"
   ]
  },
  {
   "cell_type": "code",
   "execution_count": 2,
   "metadata": {},
   "outputs": [],
   "source": [
    "# Reference Files\n",
    "UNIPROT_SWISSPROT = \"https://ftp.uniprot.org/pub/databases/uniprot/current_release/knowledgebase/complete/uniprot_sprot.fasta.gz\"\n",
    "SIFTS_DB = \"ftp://ftp.ebi.ac.uk/pub/databases/msd/sifts/flatfiles/tsv/pdb_chain_uniprot.tsv.gz\"\n",
    "\n",
    "# Source Files\n",
    "CPTAC_REFSEQ_FASTA = \"../../data/ref/genomic/RefSeq.20180629_Human_ucsc_hg38_cpdbnr_mito_264contams_553smORFs.fasta\"\n",
    "CPTAC_FEATURE_FILE = \"../../data/processed/061721/var_map_full.tsv\"\n",
    "DATA_DIR = \"../../data/processed/061721\"\n",
    "\n",
    "# Downloaded Database\n",
    "PDB_DIR = \"../../../getzlab-CLUMPS2/clumps/db/ref/pdbs\"\n",
    "\n",
    "# Output Directory\n",
    "REF_DIR = \"ref_uniprot_072522\"\n",
    "os.makedirs(REF_DIR, exist_ok=True)"
   ]
  },
  {
   "cell_type": "markdown",
   "metadata": {},
   "source": [
    "## 1. Download Reference Files\n",
    "---\n",
    "\n",
    "* We are mapping our source fasta (from CPTAC) to the Uniprot Swissprot annotated database\n",
    "* We use the Sifts protein database for mapping Uniprot files to annotated PDB protein chains"
   ]
  },
  {
   "cell_type": "code",
   "execution_count": 3,
   "metadata": {},
   "outputs": [],
   "source": [
    "clumpsptm.mp.dl_ref(REF_DIR, [UNIPROT_SWISSPROT, SIFTS_DB])"
   ]
  },
  {
   "cell_type": "markdown",
   "metadata": {},
   "source": [
    "## 2. Split Source Fasta\n",
    "---\n",
    "\n",
    "* Splits source fasta (from CPTAC) into individual protein sequence fastas for easy paralell processing\n",
    "* Will select only 5 sequences to use blasting for example purposes"
   ]
  },
  {
   "cell_type": "code",
   "execution_count": 4,
   "metadata": {},
   "outputs": [
    {
     "name": "stderr",
     "output_type": "stream",
     "text": [
      "100%|██████████| 42311/42311 [00:03<00:00, 11268.49it/s]\n"
     ]
    }
   ],
   "source": [
    "clumpsptm.mp.split_fastas(\n",
    "    CPTAC_REFSEQ_FASTA,\n",
    "    os.path.join(REF_DIR, \"refseq_fastas\")\n",
    ")"
   ]
  },
  {
   "cell_type": "markdown",
   "metadata": {},
   "source": [
    "## 2.1 Get Accession Numbers in CPTAC Dataset\n",
    "---"
   ]
  },
  {
   "cell_type": "code",
   "execution_count": 3,
   "metadata": {},
   "outputs": [
    {
     "name": "stderr",
     "output_type": "stream",
     "text": [
      "/home/sanand/anaconda3/envs/py37/lib/python3.7/site-packages/IPython/core/interactiveshell.py:3063: DtypeWarning: Columns (1,4,6,7,8,9,10) have mixed types.Specify dtype option on import or set low_memory=False.\n",
      "  interactivity=interactivity, compiler=compiler, result=result)\n"
     ]
    },
    {
     "name": "stdout",
     "output_type": "stream",
     "text": [
      "23041 unique accession numbers.\n"
     ]
    }
   ],
   "source": [
    "pmap_df = pd.read_csv(os.path.join(DATA_DIR, \"var_map_full.tsv\"), sep='\\t', index_col=0)\n",
    "accession_numbers = np.unique(pmap_df['accession_number'].dropna())\n",
    "print(\"{} unique accession numbers.\".format(accession_numbers.shape[0]))"
   ]
  },
  {
   "cell_type": "code",
   "execution_count": 4,
   "metadata": {},
   "outputs": [
    {
     "name": "stdout",
     "output_type": "stream",
     "text": [
      "Found 22947 / 23041 CPTAC RefSeq Ids\n"
     ]
    }
   ],
   "source": [
    "def check_scraped_accession(accession_numbers, verbose=False):\n",
    "    \"\"\"\n",
    "    Check scraped accession numbers.\n",
    "    \"\"\"\n",
    "    scraped_accessions = {}\n",
    "\n",
    "    for an in accession_numbers:\n",
    "        if not os.path.isfile(os.path.join(REF_DIR, \"refseq_fastas\", \"{}.seq\".format(an))):\n",
    "            match = glob.glob(os.path.join(REF_DIR, \"refseq_fastas\", \"{}.seq\".format(an.split('.')[0])))\n",
    "\n",
    "            if len(match) > 0:\n",
    "                scraped_accessions[an] = match[0]\n",
    "            else:\n",
    "                if verbose: print(\"Missing sequences for {}\".format(an))\n",
    "                scraped_accessions[an] = None\n",
    "        else:\n",
    "            scraped_accessions[an] = os.path.join(REF_DIR, \"refseq_fastas\", \"{}.seq\".format(an))\n",
    "            \n",
    "    return scraped_accessions\n",
    "\n",
    "acc_dict = check_scraped_accession(accession_numbers)\n",
    "m_an = list(acc_dict.values()).count(None)\n",
    "print(\"Found {} / {} CPTAC RefSeq Ids\".format(accession_numbers.shape[0]-m_an, accession_numbers.shape[0]))\n",
    "refseq_seq_files = [x for x in acc_dict.values() if x!=None]"
   ]
  },
  {
   "cell_type": "markdown",
   "metadata": {},
   "source": [
    "## 3. Blast Protein Sequences\n",
    "---\n",
    "\n",
    "* Use clumps-ptm module to run blastp+ with easy scaling via multi-threading\n",
    "* For full CPTAC source fasta (~22947 sequences to blast), this requires roughly 1 hr of run-time with an `n1-standard-96` on Google Cloud Compute using `384` threads"
   ]
  },
  {
   "cell_type": "code",
   "execution_count": 7,
   "metadata": {},
   "outputs": [
    {
     "name": "stdout",
     "output_type": "stream",
     "text": [
      "\n",
      "\n",
      "Building a new DB, current time: 07/26/2022 00:28:28\n",
      "New DB name:   /home/sanand/CPTAC_PanCan_2021/clumpsptm_analysis/ref_uniprot_072522/uniprot_db/uniprot_db\n",
      "New DB title:  UniprotDB\n",
      "Sequence type: Protein\n",
      "Keep Linkouts: T\n",
      "Keep MBits: T\n",
      "Maximum file size: 1000000000B\n",
      "Adding sequences from FASTA; added 567483 sequences in 15.2056 seconds.\n",
      "\n",
      "   * Running 22947 blast sequences using 384 threads\n",
      "CPU times: user 57.3 s, sys: 6min 43s, total: 7min 40s\n",
      "Wall time: 52min 23s\n"
     ]
    }
   ],
   "source": [
    "%%time\n",
    "\n",
    "clumpsptm.mp.blast_sequences(\n",
    "    os.path.join(REF_DIR, \"uniprot_sprot.fasta\"),\n",
    "    refseq_seq_files,\n",
    "    output_dir=REF_DIR,\n",
    "    n_threads=384,\n",
    "    db_title=\"UniprotDB\",\n",
    "    blast_dir_name=\"refseq_to_uniprot_blast\",\n",
    "    seq_db_name=\"uniprot_db\"\n",
    ")"
   ]
  },
  {
   "cell_type": "markdown",
   "metadata": {},
   "source": [
    "## 4. Cross-Reference with Sifts Data-Base\n",
    "---"
   ]
  },
  {
   "cell_type": "code",
   "execution_count": 5,
   "metadata": {},
   "outputs": [
    {
     "data": {
      "text/plain": [
       "[]"
      ]
     },
     "execution_count": 5,
     "metadata": {},
     "output_type": "execute_result"
    }
   ],
   "source": [
    "sifts_df = pd.read_csv(os.path.join(REF_DIR, \"pdb_chain_uniprot.tsv\"), comment=\"#\", sep='\\t')\n",
    "\n",
    "# Remove files that did not blast\n",
    "[os.remove(x) for x in glob.glob(os.path.join(REF_DIR, \"refseq_to_uniprot_blast/*.seq\"))]\n",
    "\n",
    "blasted_files = glob.glob(os.path.join(REF_DIR, \"refseq_to_uniprot_blast/*\"))"
   ]
  },
  {
   "cell_type": "code",
   "execution_count": null,
   "metadata": {
    "scrolled": true
   },
   "outputs": [
    {
     "name": "stderr",
     "output_type": "stream",
     "text": [
      "  1%|          | 139/22935 [00:05<12:47, 29.69it/s]"
     ]
    }
   ],
   "source": [
    "mapped_acc_df = clumpsptm.mp.get_blast_hits_with_sifts(blasted_files, sifts_df)\n",
    "#mapped_acc_df = clumpsptm.mp.get_blast_hits_with_sifts(blasted_files, sifts_df, filter_only_human=True)"
   ]
  },
  {
   "cell_type": "code",
   "execution_count": null,
   "metadata": {},
   "outputs": [],
   "source": [
    "w_sifts = mapped_acc_df[(mapped_acc_df['blast']) & (mapped_acc_df['sifts'])].shape[0]\n",
    "w_blast = mapped_acc_df[mapped_acc_df['blast']].shape[0]\n",
    "tot = mapped_acc_df.shape[0]\n",
    "\n",
    "print(\" {} / {} ({:.2f} %) with blast results.\".format(w_blast, tot, 100*w_blast/tot))\n",
    "print(\" {} / {} ({:.2f} %) with sifts results.\".format(w_sifts, tot, 100*w_sifts/tot))"
   ]
  },
  {
   "cell_type": "code",
   "execution_count": 9,
   "metadata": {},
   "outputs": [],
   "source": [
    "mapped_acc_df.to_csv(os.path.join(REF_DIR, \"mapped_accession_to_sifts.tsv\"), sep=\"\\t\")"
   ]
  },
  {
   "cell_type": "markdown",
   "metadata": {},
   "source": [
    "## 5. Filter SIFTS with Downloaded PDBs\n",
    "---"
   ]
  },
  {
   "cell_type": "code",
   "execution_count": 5,
   "metadata": {},
   "outputs": [],
   "source": [
    "mapped_acc_df = pd.read_csv(os.path.join(REF_DIR, \"mapped_accession_to_sifts.tsv\"), sep=\"\\t\", index_col=0)\n",
    "sifts_df = pd.read_csv(os.path.join(REF_DIR, \"pdb_chain_uniprot.tsv\"), comment=\"#\", sep='\\t')"
   ]
  },
  {
   "cell_type": "code",
   "execution_count": 7,
   "metadata": {},
   "outputs": [
    {
     "name": "stdout",
     "output_type": "stream",
     "text": [
      "PDBStore\n",
      "   * 112098 PDB files downloaded\n",
      "   * Directory Path: ../../../getzlab-CLUMPS2/clumps/db/ref/pdbs\n"
     ]
    }
   ],
   "source": [
    "pdbstore = clumpsptm.PdbStore(PDB_DIR)\n",
    "print(pdbstore)\n",
    "\n",
    "# Sifts that overlap Uniprots\n",
    "sifts_filt_df = sifts_df[sifts_df['SP_PRIMARY'].isin(mapped_acc_df['uniprot'])]"
   ]
  },
  {
   "cell_type": "code",
   "execution_count": 8,
   "metadata": {},
   "outputs": [],
   "source": [
    "def check_missing_pdbs(sifts_filt_df):\n",
    "    \"\"\"Check how many PDBs are missing.\"\"\"\n",
    "    total_pdbs = len(set(sifts_filt_df['PDB']))\n",
    "    missing_pdbs = set(sifts_filt_df['PDB']) - pdbstore.downloaded_pdbs\n",
    "\n",
    "    print(\"Missing {} / {} ({:.2f} %) PDB files.\".format(len(missing_pdbs), total_pdbs, 100*len(missing_pdbs)/total_pdbs))\n",
    "    return missing_pdbs"
   ]
  },
  {
   "cell_type": "code",
   "execution_count": 9,
   "metadata": {},
   "outputs": [
    {
     "name": "stdout",
     "output_type": "stream",
     "text": [
      "Missing 760 / 59309 (1.28 %) PDB files.\n"
     ]
    }
   ],
   "source": [
    "missing_pdbs = check_missing_pdbs(sifts_filt_df)"
   ]
  },
  {
   "cell_type": "code",
   "execution_count": 14,
   "metadata": {},
   "outputs": [
    {
     "name": "stdout",
     "output_type": "stream",
     "text": [
      "   * Downloading 3809 pdbs using 384 threads\n",
      "   * Downloaded 3049 / 3809 successfully.\n"
     ]
    }
   ],
   "source": [
    "unable_to_download = pdbstore.download_missing_pdbs(missing_pdbs, n_threads=384)"
   ]
  },
  {
   "cell_type": "code",
   "execution_count": 11,
   "metadata": {},
   "outputs": [],
   "source": [
    "# Drop PDBs unable to be downloaded\n",
    "sifts_filt_df = sifts_filt_df[sifts_filt_df[\"PDB\"].isin(pdbstore.downloaded_pdbs)]\n",
    "sifts_filt_df.to_csv(os.path.join(REF_DIR, \"pdb_chain_uniprot_filt.tsv\"), sep=\"\\t\")"
   ]
  },
  {
   "cell_type": "markdown",
   "metadata": {},
   "source": [
    "## 6. Match PTMs from Source Data-Set to Uniprot-Mapped Proteins\n",
    "---"
   ]
  },
  {
   "cell_type": "code",
   "execution_count": 6,
   "metadata": {},
   "outputs": [
    {
     "data": {
      "text/html": [
       "<div>\n",
       "<style scoped>\n",
       "    .dataframe tbody tr th:only-of-type {\n",
       "        vertical-align: middle;\n",
       "    }\n",
       "\n",
       "    .dataframe tbody tr th {\n",
       "        vertical-align: top;\n",
       "    }\n",
       "\n",
       "    .dataframe thead th {\n",
       "        text-align: right;\n",
       "    }\n",
       "</style>\n",
       "<table border=\"1\" class=\"dataframe\">\n",
       "  <thead>\n",
       "    <tr style=\"text-align: right;\">\n",
       "      <th></th>\n",
       "      <th>id.description</th>\n",
       "      <th>geneSymbol</th>\n",
       "      <th>protein_mw</th>\n",
       "      <th>accession_number</th>\n",
       "      <th>feature</th>\n",
       "      <th>variableSites</th>\n",
       "      <th>sequence</th>\n",
       "      <th>sequenceVML</th>\n",
       "    </tr>\n",
       "    <tr>\n",
       "      <th>id</th>\n",
       "      <th></th>\n",
       "      <th></th>\n",
       "      <th></th>\n",
       "      <th></th>\n",
       "      <th></th>\n",
       "      <th></th>\n",
       "      <th></th>\n",
       "      <th></th>\n",
       "    </tr>\n",
       "  </thead>\n",
       "  <tbody>\n",
       "    <tr>\n",
       "      <th>NP_001333374.1_S18s_1_1_18_18</th>\n",
       "      <td>neuroblast differentiation-associated protein...</td>\n",
       "      <td>AHNAK</td>\n",
       "      <td>629603.7</td>\n",
       "      <td>NP_001333374.1</td>\n",
       "      <td>phosphoproteome</td>\n",
       "      <td>['S18s', 'S18s']</td>\n",
       "      <td>['ELLLPNWQGsGSHGLTIAQR', 'ELLLPNWQGsGSHGLTIAQR']</td>\n",
       "      <td>['ELLLPNWQGS(0.99)GS(0.0)HGLT(0.0)IAQR', 'ELLL...</td>\n",
       "    </tr>\n",
       "    <tr>\n",
       "      <th>NP_001333374.1_S41s_1_1_41_41</th>\n",
       "      <td>neuroblast differentiation-associated protein...</td>\n",
       "      <td>AHNAK</td>\n",
       "      <td>629603.7</td>\n",
       "      <td>NP_001333374.1</td>\n",
       "      <td>phosphoproteome</td>\n",
       "      <td>['S41s', 'S41s']</td>\n",
       "      <td>['DDGVFVQEVTQNsPAAR', 'DDGVFVQEVTQNsPAAR']</td>\n",
       "      <td>['DDGVFVQEVT(0.0)QNS(0.99)PAAR', 'DDGVFVQEVT(0...</td>\n",
       "    </tr>\n",
       "    <tr>\n",
       "      <th>NP_001333374.1_S93s_1_1_93_93</th>\n",
       "      <td>neuroblast differentiation-associated protein...</td>\n",
       "      <td>AHNAK</td>\n",
       "      <td>629603.7</td>\n",
       "      <td>NP_001333374.1</td>\n",
       "      <td>phosphoproteome</td>\n",
       "      <td>['S93s', 'S93s', 'S93s', 'S93s']</td>\n",
       "      <td>['GDRsPEPGQTWTR', 'KGDRsPEPGQTWTR', 'KGDRsPEPG...</td>\n",
       "      <td>['GDRS(0.99)PEPGQT(0.0)WT(0.0)R', 'KGDRS(0.99)...</td>\n",
       "    </tr>\n",
       "  </tbody>\n",
       "</table>\n",
       "</div>"
      ],
      "text/plain": [
       "                                                                  id.description  \\\n",
       "id                                                                                 \n",
       "NP_001333374.1_S18s_1_1_18_18   neuroblast differentiation-associated protein...   \n",
       "NP_001333374.1_S41s_1_1_41_41   neuroblast differentiation-associated protein...   \n",
       "NP_001333374.1_S93s_1_1_93_93   neuroblast differentiation-associated protein...   \n",
       "\n",
       "                              geneSymbol  protein_mw accession_number  \\\n",
       "id                                                                      \n",
       "NP_001333374.1_S18s_1_1_18_18      AHNAK    629603.7   NP_001333374.1   \n",
       "NP_001333374.1_S41s_1_1_41_41      AHNAK    629603.7   NP_001333374.1   \n",
       "NP_001333374.1_S93s_1_1_93_93      AHNAK    629603.7   NP_001333374.1   \n",
       "\n",
       "                                       feature  \\\n",
       "id                                               \n",
       "NP_001333374.1_S18s_1_1_18_18  phosphoproteome   \n",
       "NP_001333374.1_S41s_1_1_41_41  phosphoproteome   \n",
       "NP_001333374.1_S93s_1_1_93_93  phosphoproteome   \n",
       "\n",
       "                                                  variableSites  \\\n",
       "id                                                                \n",
       "NP_001333374.1_S18s_1_1_18_18                  ['S18s', 'S18s']   \n",
       "NP_001333374.1_S41s_1_1_41_41                  ['S41s', 'S41s']   \n",
       "NP_001333374.1_S93s_1_1_93_93  ['S93s', 'S93s', 'S93s', 'S93s']   \n",
       "\n",
       "                                                                        sequence  \\\n",
       "id                                                                                 \n",
       "NP_001333374.1_S18s_1_1_18_18   ['ELLLPNWQGsGSHGLTIAQR', 'ELLLPNWQGsGSHGLTIAQR']   \n",
       "NP_001333374.1_S41s_1_1_41_41         ['DDGVFVQEVTQNsPAAR', 'DDGVFVQEVTQNsPAAR']   \n",
       "NP_001333374.1_S93s_1_1_93_93  ['GDRsPEPGQTWTR', 'KGDRsPEPGQTWTR', 'KGDRsPEPG...   \n",
       "\n",
       "                                                                     sequenceVML  \n",
       "id                                                                                \n",
       "NP_001333374.1_S18s_1_1_18_18  ['ELLLPNWQGS(0.99)GS(0.0)HGLT(0.0)IAQR', 'ELLL...  \n",
       "NP_001333374.1_S41s_1_1_41_41  ['DDGVFVQEVT(0.0)QNS(0.99)PAAR', 'DDGVFVQEVT(0...  \n",
       "NP_001333374.1_S93s_1_1_93_93  ['GDRS(0.99)PEPGQT(0.0)WT(0.0)R', 'KGDRS(0.99)...  "
      ]
     },
     "execution_count": 6,
     "metadata": {},
     "output_type": "execute_result"
    }
   ],
   "source": [
    "ptm_df = pmap_df[pmap_df['feature'].isin(['phosphoproteome','acetylome'])].dropna(1)\n",
    "ptm_df.head(3)"
   ]
  },
  {
   "cell_type": "code",
   "execution_count": 7,
   "metadata": {},
   "outputs": [
    {
     "name": "stderr",
     "output_type": "stream",
     "text": [
      "/home/sanand/anaconda3/envs/py37/lib/python3.7/site-packages/pandas/core/indexing.py:1597: SettingWithCopyWarning: \n",
      "A value is trying to be set on a copy of a slice from a DataFrame.\n",
      "Try using .loc[row_indexer,col_indexer] = value instead\n",
      "\n",
      "See the caveats in the documentation: https://pandas.pydata.org/pandas-docs/stable/user_guide/indexing.html#returning-a-view-versus-a-copy\n",
      "  self.obj[key] = value\n",
      "/home/sanand/anaconda3/envs/py37/lib/python3.7/site-packages/pandas/core/indexing.py:1676: SettingWithCopyWarning: \n",
      "A value is trying to be set on a copy of a slice from a DataFrame.\n",
      "Try using .loc[row_indexer,col_indexer] = value instead\n",
      "\n",
      "See the caveats in the documentation: https://pandas.pydata.org/pandas-docs/stable/user_guide/indexing.html#returning-a-view-versus-a-copy\n",
      "  self._setitem_single_column(ilocs[0], value, pi)\n"
     ]
    },
    {
     "name": "stdout",
     "output_type": "stream",
     "text": [
      "  * 133619 single PTM sites total in CPTAC dataset\n",
      "  * 41394 multi PTM sites total in CPTAC dataset\n"
     ]
    }
   ],
   "source": [
    "def grab_ptm_site(x):\n",
    "    \"\"\"Grab actual PTM site.\"\"\"\n",
    "    res = list()\n",
    "    \n",
    "    for s in x.split(\" \"):\n",
    "        if s.startswith((\"K\",\"Y\",\"S\",\"T\")):\n",
    "            res.append(s)\n",
    "        else:\n",
    "            pass\n",
    "        \n",
    "    if len(res) == 1:\n",
    "        return res[0]\n",
    "    else:\n",
    "        return res\n",
    "\n",
    "# Expand PTMs in Each Feature\n",
    "ptm_df['variableSites'] = ptm_df['variableSites'].apply(ast.literal_eval)\n",
    "ptm_df = ptm_df.explode('variableSites').drop_duplicates()\n",
    "\n",
    "# Proteins with single PTM sites\n",
    "ptm_sing_df = ptm_df.loc[ptm_df.index.map(lambda x: x.split(\"_\")[-3]==\"1\" and x.split(\"_\")[-4]==\"1\")]\n",
    "ptm_sing_df.loc[:,\"ptmSite\"] = ptm_sing_df['variableSites'].apply(grab_ptm_site)\n",
    "\n",
    "# Proteins with multiple PTM sites\n",
    "ptm_multi_df = pd.concat((\n",
    "    ptm_df.loc[ptm_df.index.map(lambda x: x.split(\"_\")[-3]==\"3\" and x.split(\"_\")[-4]==\"3\")],\n",
    "    ptm_df.loc[ptm_df.index.map(lambda x: x.split(\"_\")[-3]==\"2\" and x.split(\"_\")[-4]==\"2\")]\n",
    "))\n",
    "\n",
    "ptm_multi_df.loc[:,\"ptmSite\"] = ptm_multi_df['variableSites'].apply(grab_ptm_site)\n",
    "ptm_multi_df = ptm_multi_df.explode(\"ptmSite\")\n",
    "\n",
    "# Combine & intersect accession numbers\n",
    "ptm_comb_df = pd.concat((ptm_sing_df, ptm_multi_df))\n",
    "ptm_comb_df = ptm_comb_df[ptm_comb_df[\"accession_number\"].isin(mapped_acc_df.index)]\n",
    "\n",
    "# Join PTM features from source data-set to mapped accession-numbers\n",
    "ptm_comb_df = pd.merge(\n",
    "    ptm_comb_df.reset_index(), \n",
    "    mapped_acc_df.reset_index().rename(columns={\"query\":\"accession_number\"}),\n",
    "    how=\"left\",\n",
    "    on=\"accession_number\"\n",
    ").set_index(\"id\")\n",
    "\n",
    "ptm_comb_df[\"acc_res\"] = ptm_comb_df[\"ptmSite\"].apply(lambda x: x[0])\n",
    "ptm_comb_df[\"acc_res_i\"] = ptm_comb_df[\"ptmSite\"].apply(lambda x: int(x[1:-1]))\n",
    "\n",
    "print(\"  * {} single PTM sites total in CPTAC dataset\".format(ptm_sing_df.shape[0]))\n",
    "print(\"  * {} multi PTM sites total in CPTAC dataset\".format(ptm_multi_df.shape[0]))"
   ]
  },
  {
   "cell_type": "code",
   "execution_count": 8,
   "metadata": {},
   "outputs": [],
   "source": [
    "# Filter\n",
    "ptm_comb_filt_df = ptm_comb_df[ptm_comb_df['Hsp_query-from'].notna()].copy()\n",
    "ptm_comb_filt_df['Hsp_query-from'] = ptm_comb_filt_df['Hsp_query-from'].astype(int)\n",
    "ptm_comb_filt_df['Hsp_hit-from'] = ptm_comb_filt_df['Hsp_hit-from'].astype(int)\n",
    "\n",
    "def get_source_blast_idx(row):\n",
    "    \"\"\"\n",
    "    Get source blast index.\n",
    "    \"\"\"\n",
    "    d = dict()\n",
    "    c = row['Hsp_query-from']\n",
    "\n",
    "    for idx,res in enumerate(row['Hsp_qseq']):\n",
    "        if res is not '-':\n",
    "            d[c] = idx\n",
    "            c = c+1\n",
    "    \n",
    "    if row['acc_res_i'] not in d.keys():\n",
    "        return \"X\"\n",
    "    else:\n",
    "        return d[row['acc_res_i']]\n",
    "\n",
    "def get_uniprot_blast_i(row):\n",
    "    \"\"\"\n",
    "    Get Uniprot Mapped Residue ID.\n",
    "    \"\"\"\n",
    "    d = dict()\n",
    "    c = row['Hsp_hit-from']\n",
    "\n",
    "    for idx,res in enumerate(row['Hsp_hseq']):\n",
    "        if res is not '-':\n",
    "            d[idx] = c\n",
    "            c = c+1\n",
    "\n",
    "    if row['acc_res_idx'] not in d.keys():\n",
    "        return \"X\"\n",
    "    else:\n",
    "        return d[row['acc_res_idx']]\n",
    "\n",
    "def _get_qres(row):\n",
    "    \"\"\"Get query residue\"\"\"\n",
    "    try:\n",
    "        return row[\"Hsp_qseq\"][row[\"acc_res_idx\"]]\n",
    "    except:\n",
    "        return None\n",
    "\n",
    "def _get_hres(row):\n",
    "    \"\"\"Get query residue\"\"\"\n",
    "    try:\n",
    "        return row[\"Hsp_hseq\"][row[\"acc_res_idx\"]]\n",
    "    except:\n",
    "        return None\n",
    "\n",
    "ptm_comb_filt_df[\"acc_res_idx\"] = ptm_comb_filt_df.apply(get_source_blast_idx, 1)\n",
    "ptm_comb_filt_df[\"acc_res\"] = ptm_comb_filt_df.apply(_get_qres, 1)\n",
    "\n",
    "# Get Uniprot Matches\n",
    "ptm_comb_filt_df[\"uniprot_res\"] = ptm_comb_filt_df.apply(_get_hres, 1)\n",
    "ptm_comb_filt_df[\"uniprot_res_i\"] = ptm_comb_filt_df.apply(get_uniprot_blast_i, 1)\n",
    "ptm_comb_filt_df['uniprot_match'] = ptm_comb_filt_df['acc_res']==ptm_comb_filt_df['uniprot_res']"
   ]
  },
  {
   "cell_type": "code",
   "execution_count": 9,
   "metadata": {},
   "outputs": [
    {
     "name": "stderr",
     "output_type": "stream",
     "text": [
      "No handles with labels found to put in legend.\n"
     ]
    },
    {
     "data": {
      "image/png": "[encoded data removed]",
      "text/plain": [
       "<Figure size 288x288 with 1 Axes>"
      ]
     },
     "metadata": {
      "needs_background": "light"
     },
     "output_type": "display_data"
    }
   ],
   "source": [
    "_ = pl.plot_strip(\n",
    "    ptm_comb_filt_df[ptm_comb_filt_df['acc_res'].notna()][[\"relIdentity\"]].T, \n",
    "    ptm_comb_filt_df[ptm_comb_filt_df['acc_res'].notna()]['uniprot_match'], yax=\"relIdentity\",\n",
    "    alpha=0.005,\n",
    "    ylim=(0,1.25),\n",
    "    figsize=(4,4),\n",
    "    format_fig=True\n",
    ")"
   ]
  },
  {
   "cell_type": "markdown",
   "metadata": {},
   "source": [
    "## 7. Align Source PTMs to PDB Residues via SIFTS\n",
    "---\n",
    "* Extract information from each PDB structure header.\n",
    "* Ran with `n1-standard-96` and compute time of ~ 6 hrs."
   ]
  },
  {
   "cell_type": "code",
   "execution_count": 17,
   "metadata": {},
   "outputs": [
    {
     "name": "stderr",
     "output_type": "stream",
     "text": [
      "/home/sanand/anaconda3/envs/py37/lib/python3.7/site-packages/ipykernel_launcher.py:1: SettingWithCopyWarning: \n",
      "A value is trying to be set on a copy of a slice from a DataFrame.\n",
      "Try using .loc[row_indexer,col_indexer] = value instead\n",
      "\n",
      "See the caveats in the documentation: https://pandas.pydata.org/pandas-docs/stable/user_guide/indexing.html#returning-a-view-versus-a-copy\n",
      "  \"\"\"Entry point for launching an IPython kernel.\n",
      "/home/sanand/anaconda3/envs/py37/lib/python3.7/site-packages/ipykernel_launcher.py:2: SettingWithCopyWarning: \n",
      "A value is trying to be set on a copy of a slice from a DataFrame.\n",
      "Try using .loc[row_indexer,col_indexer] = value instead\n",
      "\n",
      "See the caveats in the documentation: https://pandas.pydata.org/pandas-docs/stable/user_guide/indexing.html#returning-a-view-versus-a-copy\n",
      "  \n"
     ]
    }
   ],
   "source": [
    "sifts_filt_df['PDB_BEG'] = sifts_filt_df['PDB_BEG'].apply(lambda x: 0 if x==\"None\" else x)\n",
    "sifts_filt_df['len'] = sifts_filt_df['RES_END'] - sifts_filt_df['RES_BEG']\n",
    "sifts_drop_dup = sifts_filt_df.drop_duplicates(subset=['PDB','len'])\n",
    "\n",
    "ptm_comb_filt2_df = ptm_comb_filt_df[ptm_comb_filt_df[\"uniprot_match\"]].copy()"
   ]
  },
  {
   "cell_type": "code",
   "execution_count": 15,
   "metadata": {
    "scrolled": true
   },
   "outputs": [
    {
     "name": "stderr",
     "output_type": "stream",
     "text": [
      "  0%|          | 16/83655 [00:00<08:54, 156.34it/s]"
     ]
    },
    {
     "name": "stdout",
     "output_type": "stream",
     "text": [
      "   * Grabbing header info for 83655 pdb-chains\n"
     ]
    },
    {
     "name": "stderr",
     "output_type": "stream",
     "text": [
      "  9%|▉         | 7414/83655 [01:17<14:30, 87.56it/s]  "
     ]
    },
    {
     "name": "stdout",
     "output_type": "stream",
     "text": [
      "  * Error for ('1wo6', 'A', 'Q92793')\n"
     ]
    },
    {
     "name": "stderr",
     "output_type": "stream",
     "text": [
      " 26%|██▌       | 21895/83655 [04:29<17:28, 58.88it/s]  "
     ]
    },
    {
     "name": "stdout",
     "output_type": "stream",
     "text": [
      "  * Error for ('3j7o', 'T', 'P49666')\n",
      "  * Error for ('3j7o', 'U', 'P67985')\n",
      "  * Error for ('3j7o', 'V', 'P62831')\n",
      "  * Error for ('3j7o', 'Z', 'A1XQU5')\n",
      "  * Error for ('3j7o', 'd', 'P62901')\n",
      "  * Error for ('3j7o', 'e', 'Q6QAT0')\n",
      "  * Error for ('3j7o', 'g', 'Q29223')\n",
      "  * Error for ('3j7o', 'o', 'P83884')\n",
      "  * Error for ('3j7p', 'SD', 'Q0Z8U2')\n",
      "  * Error for ('3j7p', 'SP', 'P62844')\n",
      "  * Error for ('3j7p', 'SQ', 'Q29201')\n",
      "  * Error for ('3j7p', 'SS', 'P62272')\n",
      "  * Error for ('3j7p', 'SV', 'P63221')\n",
      "  * Error for ('3j7p', 'Sa', 'P49171')\n",
      "  * Error for ('3j7p', 'Sc', 'Q6QAT1')\n",
      "  * Error for ('3j7p', 'Sg', 'P63246')\n",
      "  * Error for ('3j7p', 'T', 'P49666')\n",
      "  * Error for ('3j7p', 'U', 'P67985')\n",
      "  * Error for ('3j7p', 'V', 'P62831')\n",
      "  * Error for ('3j7p', 'Z', 'A1XQU5')\n",
      "  * Error for ('3j7p', 'd', 'P62901')\n",
      "  * Error for ('3j7p', 'e', 'Q6QAT0')\n",
      "  * Error for ('3j7p', 'g', 'Q29223')\n",
      "  * Error for ('3j7p', 'o', 'P83884')\n",
      "  * Error for ('3j7q', 'T', 'P49666')\n",
      "  * Error for ('3j7q', 'U', 'P67985')\n",
      "  * Error for ('3j7q', 'Z', 'A1XQU5')\n",
      "  * Error for ('3j7q', 'd', 'P62901')\n",
      "  * Error for ('3j7q', 'e', 'Q6QAT0')\n",
      "  * Error for ('3j7q', 'g', 'Q29223')\n",
      "  * Error for ('3j7r', 'SD', 'Q0Z8U2')\n",
      "  * Error for ('3j7r', 'SM', 'P46405')\n",
      "  * Error for ('3j7r', 'SP', 'P62844')\n",
      "  * Error for ('3j7r', 'SQ', 'Q29201')\n",
      "  * Error for ('3j7r', 'SS', 'P62272')\n",
      "  * Error for ('3j7r', 'SV', 'P63221')\n",
      "  * Error for ('3j7r', 'Sa', 'P49171')\n",
      "  * Error for ('3j7r', 'Sc', 'Q6QAT1')\n",
      "  * Error for ('3j7r', 'Sg', 'P63246')\n",
      "  * Error for ('3j7r', 'T', 'P49666')\n",
      "  * Error for ('3j7r', 'U', 'P67985')\n",
      "  * Error for ('3j7r', 'Z', 'A1XQU5')\n",
      "  * Error for ('3j7r', 'd', 'P62901')\n",
      "  * Error for ('3j7r', 'e', 'Q6QAT0')\n",
      "  * Error for ('3j7r', 'g', 'Q29223')\n"
     ]
    },
    {
     "name": "stderr",
     "output_type": "stream",
     "text": [
      " 26%|██▋       | 21966/83655 [04:36<47:56, 21.44it/s]  "
     ]
    },
    {
     "name": "stdout",
     "output_type": "stream",
     "text": [
      "  * Error for ('3j8h', 'B', 'P62943')\n",
      "  * Error for ('3j92', '0', 'O94822')\n",
      "  * Error for ('3j92', 'u', 'O60524')\n"
     ]
    },
    {
     "name": "stderr",
     "output_type": "stream",
     "text": [
      " 26%|██▋       | 22052/83655 [04:37<28:02, 36.61it/s]"
     ]
    },
    {
     "name": "stdout",
     "output_type": "stream",
     "text": [
      "  * Error for ('3j9m', '0', 'Q9BYC8')\n",
      "  * Error for ('3j9m', '1', 'O75394')\n",
      "  * Error for ('3j9m', '2', 'Q9BQ48')\n",
      "  * Error for ('3j9m', '5', 'Q9BZE1')\n",
      "  * Error for ('3j9m', '6', 'Q96DV4')\n",
      "  * Error for ('3j9m', '7', 'Q9NYK5')\n",
      "  * Error for ('3j9m', '8', 'Q9NQ50')\n",
      "  * Error for ('3j9m', '9', 'Q8IXM3')\n",
      "  * Error for ('3j9m', 'A0', 'P82930')\n",
      "  * Error for ('3j9m', 'A1', 'P82673')\n",
      "  * Error for ('3j9m', 'A2', 'Q96BP2')\n",
      "  * Error for ('3j9m', 'A3', 'Q9NWT8')\n",
      "  * Error for ('3j9m', 'A4', 'Q96EY7')\n",
      "  * Error for ('3j9m', 'AB', 'Q9Y399')\n",
      "  * Error for ('3j9m', 'AC', 'Q96EL2')\n",
      "  * Error for ('3j9m', 'AD', 'P82675')\n",
      "  * Error for ('3j9m', 'AE', 'P82932')\n",
      "  * Error for ('3j9m', 'AF', 'Q9Y2R9')\n",
      "  * Error for ('3j9m', 'AG', 'P82933')\n",
      "  * Error for ('3j9m', 'AH', 'P82664')\n",
      "  * Error for ('3j9m', 'AI', 'P82912')\n",
      "  * Error for ('3j9m', 'AJ', 'O15235')\n",
      "  * Error for ('3j9m', 'AK', 'O60783')\n",
      "  * Error for ('3j9m', 'AL', 'P82914')\n",
      "  * Error for ('3j9m', 'AN', 'Q9Y2R5')\n",
      "  * Error for ('3j9m', 'AO', 'Q9Y676')\n",
      "  * Error for ('3j9m', 'AP', 'Q9Y3D5')\n",
      "  * Error for ('3j9m', 'AQ', 'P82921')\n",
      "  * Error for ('3j9m', 'AR', 'P82650')\n",
      "  * Error for ('3j9m', 'AS', 'Q9Y3D9')\n",
      "  * Error for ('3j9m', 'AT', 'P82663')\n",
      "  * Error for ('3j9m', 'AU', 'Q9BYN8')\n",
      "  * Error for ('3j9m', 'AV', 'Q92552')\n",
      "  * Error for ('3j9m', 'AW', 'Q9Y2Q9')\n",
      "  * Error for ('3j9m', 'AX', 'P51398')\n",
      "  * Error for ('3j9m', 'AY', 'Q92665')\n",
      "  * Error for ('3j9m', 'AZ', 'Q9Y291')\n",
      "  * Error for ('3j9m', 'D', 'Q5T653')\n",
      "  * Error for ('3j9m', 'E', 'P09001')\n",
      "  * Error for ('3j9m', 'F', 'Q9BYD3')\n",
      "  * Error for ('3j9m', 'H', 'Q9BYD2')\n",
      "  * Error for ('3j9m', 'I', 'Q7Z7H8')\n",
      "  * Error for ('3j9m', 'J', 'Q9Y3B7')\n",
      "  * Error for ('3j9m', 'K', 'Q9BYD1')\n",
      "  * Error for ('3j9m', 'L', 'Q6P1L8')\n",
      "  * Error for ('3j9m', 'N', 'Q9NX20')\n",
      "  * Error for ('3j9m', 'O', 'Q9NRX2')\n",
      "  * Error for ('3j9m', 'Q', 'P49406')\n",
      "  * Error for ('3j9m', 'R', 'Q9BYC9')\n",
      "  * Error for ('3j9m', 'U', 'Q16540')\n",
      "  * Error for ('3j9m', 'V', 'Q96A35')\n",
      "  * Error for ('3j9m', 'W', 'Q9P0M9')\n",
      "  * Error for ('3j9m', 'Y', 'Q9HD33')\n",
      "  * Error for ('3j9m', 'Z', 'Q8TCC3')\n",
      "  * Error for ('3j9m', 'b', 'Q8N983')\n",
      "  * Error for ('3j9m', 'c', 'Q9H9J2')\n",
      "  * Error for ('3j9m', 'd', 'Q9BRJ2')\n",
      "  * Error for ('3j9m', 'e', 'Q9H2W6')\n",
      "  * Error for ('3j9m', 'g', 'Q13405')\n",
      "  * Error for ('3j9m', 'h', 'Q8N5N7')\n",
      "  * Error for ('3j9m', 'k', 'Q96EL3')\n",
      "  * Error for ('3j9m', 'o', 'Q9BQC6')\n",
      "  * Error for ('3j9m', 'q', 'Q8TAE8')\n",
      "  * Error for ('3j9m', 'r', 'Q9NVS2')\n",
      "  * Error for ('3j9m', 's', 'Q9NP92')\n"
     ]
    },
    {
     "name": "stderr",
     "output_type": "stream",
     "text": [
      "\r",
      " 26%|██▋       | 22073/83655 [04:37<32:50, 31.25it/s]"
     ]
    },
    {
     "name": "stdout",
     "output_type": "stream",
     "text": [
      "  * Error for ('3jc1', 'Aa', 'P53990')\n",
      "  * Error for ('3jc1', 'Ab', 'Q7LBR1')\n"
     ]
    },
    {
     "name": "stderr",
     "output_type": "stream",
     "text": [
      " 26%|██▋       | 22118/83655 [04:38<20:42, 49.53it/s]"
     ]
    },
    {
     "name": "stdout",
     "output_type": "stream",
     "text": [
      "  * Error for ('3jct', 'q', 'Q12080')\n",
      "  * Error for ('3jct', 'r', 'P40078')\n",
      "  * Error for ('3jct', 's', 'P40010')\n",
      "  * Error for ('3jct', 'v', 'P36160')\n",
      "  * Error for ('3jct', 'w', 'Q08746')\n"
     ]
    },
    {
     "name": "stderr",
     "output_type": "stream",
     "text": [
      " 43%|████▎     | 35943/83655 [07:28<07:16, 109.23it/s] "
     ]
    },
    {
     "name": "stdout",
     "output_type": "stream",
     "text": [
      "  * Error for ('4ug0', 'LB', 'P39023')\n",
      "  * Error for ('4ug0', 'LC', 'P36578')\n",
      "  * Error for ('4ug0', 'LD', 'P46777')\n",
      "  * Error for ('4ug0', 'LE', 'Q02878')\n",
      "  * Error for ('4ug0', 'LF', 'P18124')\n",
      "  * Error for ('4ug0', 'LG', 'P62424')\n",
      "  * Error for ('4ug0', 'LH', 'P32969')\n",
      "  * Error for ('4ug0', 'LI', 'Q96L21')\n",
      "  * Error for ('4ug0', 'LL', 'P26373')\n",
      "  * Error for ('4ug0', 'LM', 'P50914')\n",
      "  * Error for ('4ug0', 'LO', 'P40429')\n",
      "  * Error for ('4ug0', 'LP', 'P18621')\n",
      "  * Error for ('4ug0', 'LQ', 'Q07020')\n",
      "  * Error for ('4ug0', 'LS', 'Q02543')\n",
      "  * Error for ('4ug0', 'LU', 'P35268')\n",
      "  * Error for ('4ug0', 'La', 'P46776')\n",
      "  * Error for ('4ug0', 'Lb', 'P47914')\n",
      "  * Error for ('4ug0', 'Lf', 'P18077')\n",
      "  * Error for ('4ug0', 'Lh', 'P42766')\n",
      "  * Error for ('4ug0', 'Li', 'Q9Y3U8')\n",
      "  * Error for ('4ug0', 'Lk', 'P63173')\n",
      "  * Error for ('4ug0', 'Lr', 'P46779')\n",
      "  * Error for ('4ug0', 'Lz', 'P62906')\n",
      "  * Error for ('4ug0', 'SA', 'P08865')\n",
      "  * Error for ('4ug0', 'SB', 'P61247')\n",
      "  * Error for ('4ug0', 'SC', 'P15880')\n",
      "  * Error for ('4ug0', 'SF', 'P46782')\n",
      "  * Error for ('4ug0', 'SK', 'P46783')\n",
      "  * Error for ('4ug0', 'SR', 'P08708')\n",
      "  * Error for ('4ug0', 'ST', 'P39019')\n",
      "  * Error for ('4ug0', 'Se', 'P62861')\n",
      "  * Error for ('4ug0', 'Sf', 'P62979')\n"
     ]
    },
    {
     "name": "stderr",
     "output_type": "stream",
     "text": [
      " 43%|████▎     | 36289/83655 [07:34<07:07, 110.81it/s]"
     ]
    },
    {
     "name": "stdout",
     "output_type": "stream",
     "text": [
      "  * Error for ('4v46', 'A0', 'Q9Y275')\n",
      "  * Error for ('4v46', 'B0', 'Q96RJ3')\n",
      "  * Error for ('4v6m', 'A0', 'P02647')\n",
      "  * Error for ('4v6w', 'Cq', 'P05388')\n",
      "  * Error for ('4v6x', 'AA', 'P08865')\n",
      "  * Error for ('4v6x', 'AB', 'P61247')\n",
      "  * Error for ('4v6x', 'AC', 'P15880')\n",
      "  * Error for ('4v6x', 'AF', 'P46782')\n",
      "  * Error for ('4v6x', 'AK', 'P46783')\n",
      "  * Error for ('4v6x', 'AR', 'P08708')\n",
      "  * Error for ('4v6x', 'AT', 'P39019')\n",
      "  * Error for ('4v6x', 'Ae', 'P62861')\n",
      "  * Error for ('4v6x', 'Af', 'P62979')\n",
      "  * Error for ('4v6x', 'Ah', 'Q8NC51')\n",
      "  * Error for ('4v6x', 'Az', 'P13639')\n",
      "  * Error for ('4v6x', 'CB', 'P39023')\n",
      "  * Error for ('4v6x', 'CC', 'P36578')\n",
      "  * Error for ('4v6x', 'CD', 'P46777')\n",
      "  * Error for ('4v6x', 'CE', 'Q02878')\n",
      "  * Error for ('4v6x', 'CF', 'P18124')\n",
      "  * Error for ('4v6x', 'CG', 'P62424')\n",
      "  * Error for ('4v6x', 'CH', 'P32969')\n",
      "  * Error for ('4v6x', 'CI', 'Q96L21')\n",
      "  * Error for ('4v6x', 'CL', 'P26373')\n",
      "  * Error for ('4v6x', 'CM', 'P50914')\n",
      "  * Error for ('4v6x', 'CO', 'P40429')\n",
      "  * Error for ('4v6x', 'CP', 'P18621')\n",
      "  * Error for ('4v6x', 'CQ', 'Q07020')\n",
      "  * Error for ('4v6x', 'CS', 'Q02543')\n",
      "  * Error for ('4v6x', 'CU', 'P35268')\n",
      "  * Error for ('4v6x', 'Ca', 'P46776')\n",
      "  * Error for ('4v6x', 'Cb', 'P47914')\n",
      "  * Error for ('4v6x', 'Cf', 'P18077')\n",
      "  * Error for ('4v6x', 'Ch', 'P42766')\n",
      "  * Error for ('4v6x', 'Ci', 'Q9Y3U8')\n",
      "  * Error for ('4v6x', 'Ck', 'P63173')\n",
      "  * Error for ('4v6x', 'Cq', 'P05388')\n",
      "  * Error for ('4v6x', 'Cr', 'P46779')\n",
      "  * Error for ('4v6x', 'Cs', 'P05386')\n",
      "  * Error for ('4v6x', 'Cu', 'P05387')\n",
      "  * Error for ('4v6x', 'Cz', 'P62906')\n"
     ]
    },
    {
     "name": "stderr",
     "output_type": "stream",
     "text": [
      " 44%|████▎     | 36579/83655 [07:38<07:14, 108.38it/s]"
     ]
    },
    {
     "name": "stdout",
     "output_type": "stream",
     "text": [
      "  * Error for ('4wsn', 'A', 'Q13098')\n",
      "  * Error for ('4wsn', 'B', 'P61201')\n",
      "  * Error for ('4wsn', 'C', 'Q9UNS2')\n",
      "  * Error for ('4wsn', 'D', 'Q9BT78')\n",
      "  * Error for ('4wsn', 'E', 'Q92905')\n",
      "  * Error for ('4wsn', 'F', 'Q7L5N1')\n",
      "  * Error for ('4wsn', 'G', 'Q9UBW8')\n",
      "  * Error for ('4wsn', 'H', 'Q99627')\n"
     ]
    },
    {
     "name": "stderr",
     "output_type": "stream",
     "text": [
      " 44%|████▍     | 36669/83655 [07:39<08:09, 95.99it/s] "
     ]
    },
    {
     "name": "stdout",
     "output_type": "stream",
     "text": [
      "  * Error for ('4wzj', 'A', 'P62318')\n",
      "  * Error for ('4wzj', 'B', 'P14678')\n"
     ]
    },
    {
     "name": "stderr",
     "output_type": "stream",
     "text": [
      " 46%|████▌     | 38319/83655 [08:12<07:47, 96.92it/s]  "
     ]
    },
    {
     "name": "stdout",
     "output_type": "stream",
     "text": [
      "  * Error for ('5aj0', 'AB', 'P39023')\n",
      "  * Error for ('5aj0', 'AC', 'P36578')\n",
      "  * Error for ('5aj0', 'AD', 'P46777')\n",
      "  * Error for ('5aj0', 'AE', 'Q02878')\n",
      "  * Error for ('5aj0', 'AF', 'P18124')\n",
      "  * Error for ('5aj0', 'AG', 'P62424')\n",
      "  * Error for ('5aj0', 'AH', 'P32969')\n",
      "  * Error for ('5aj0', 'AI', 'P27635')\n",
      "  * Error for ('5aj0', 'AK', 'P05388')\n",
      "  * Error for ('5aj0', 'AL', 'P26373')\n",
      "  * Error for ('5aj0', 'AM', 'P50914')\n",
      "  * Error for ('5aj0', 'AO', 'P40429')\n",
      "  * Error for ('5aj0', 'AP', 'P18621')\n",
      "  * Error for ('5aj0', 'AQ', 'Q07020')\n",
      "  * Error for ('5aj0', 'AS', 'Q02543')\n",
      "  * Error for ('5aj0', 'AU', 'P35268')\n",
      "  * Error for ('5aj0', 'Aa', 'P46776')\n",
      "  * Error for ('5aj0', 'Ab', 'P47914')\n",
      "  * Error for ('5aj0', 'Af', 'P18077')\n",
      "  * Error for ('5aj0', 'Ah', 'P42766')\n",
      "  * Error for ('5aj0', 'Ai', 'Q9Y3U8')\n",
      "  * Error for ('5aj0', 'Ak', 'P63173')\n",
      "  * Error for ('5aj0', 'Aq', 'P30050')\n",
      "  * Error for ('5aj0', 'At', 'P46779')\n",
      "  * Error for ('5aj0', 'Au', 'P62906')\n",
      "  * Error for ('5aj0', 'BA', 'P08865')\n",
      "  * Error for ('5aj0', 'BB', 'P61247')\n",
      "  * Error for ('5aj0', 'BC', 'P15880')\n",
      "  * Error for ('5aj0', 'BE', 'P22090')\n",
      "  * Error for ('5aj0', 'BF', 'P46782')\n",
      "  * Error for ('5aj0', 'BR', 'P08708')\n",
      "  * Error for ('5aj0', 'BT', 'P39019')\n",
      "  * Error for ('5aj0', 'Be', 'P62861')\n",
      "  * Error for ('5aj0', 'Bf', 'P62979')\n"
     ]
    },
    {
     "name": "stderr",
     "output_type": "stream",
     "text": [
      " 49%|████▊     | 40755/83655 [08:43<17:59, 39.73it/s] "
     ]
    },
    {
     "name": "stdout",
     "output_type": "stream",
     "text": [
      "  * Error for ('5fl8', 'r', 'P53313')\n",
      "  * Error for ('5fl8', 's', 'Q12019')\n",
      "  * Error for ('5fl8', 's', 'Q12019')\n",
      "  * Error for ('5fl8', 's', 'Q12019')\n",
      "  * Error for ('5fl8', 's', 'Q12019')\n"
     ]
    },
    {
     "name": "stderr",
     "output_type": "stream",
     "text": [
      " 49%|████▉     | 41240/83655 [09:00<1:26:33,  8.17it/s]"
     ]
    },
    {
     "name": "stdout",
     "output_type": "stream",
     "text": [
      "  * Error for ('5gjr', '0', 'P17980')\n",
      "  * Error for ('5gjr', '1', 'Q99460')\n",
      "  * Error for ('5gjr', '2', 'Q9UNM6')\n",
      "  * Error for ('5gjr', '3', 'O00232')\n",
      "  * Error for ('5gjr', '5', 'Q15008')\n",
      "  * Error for ('5gjr', '6', 'O43242')\n",
      "  * Error for ('5gjr', '7', 'P48556')\n",
      "  * Error for ('5gjr', '8', 'P51665')\n",
      "  * Error for ('5gjr', '9', 'O00487')\n",
      "  * Error for ('5gjr', 'AA', 'P55036')\n",
      "  * Error for ('5gjr', 'AB', 'P60896')\n",
      "  * Error for ('5gjr', 'AC', 'Q13200')\n",
      "  * Error for ('5gjr', 'C', 'P25787')\n",
      "  * Error for ('5gjr', 'D', 'P25789')\n",
      "  * Error for ('5gjr', 'E', 'O14818')\n",
      "  * Error for ('5gjr', 'G', 'P25786')\n",
      "  * Error for ('5gjr', 'H', 'P35998')\n",
      "  * Error for ('5gjr', 'K', 'P43686')\n",
      "  * Error for ('5gjr', 'X', 'P25788')\n",
      "  * Error for ('5gjr', 'a', 'P28072')\n",
      "  * Error for ('5gjr', 'b', 'Q99436')\n",
      "  * Error for ('5gjr', 'c', 'P49720')\n",
      "  * Error for ('5gjr', 'd', 'P49721')\n",
      "  * Error for ('5gjr', 'f', 'P20618')\n",
      "  * Error for ('5gjr', 'g', 'P28070')\n"
     ]
    },
    {
     "name": "stderr",
     "output_type": "stream",
     "text": [
      "\r",
      " 49%|████▉     | 41249/83655 [09:00<1:04:31, 10.95it/s]"
     ]
    },
    {
     "name": "stdout",
     "output_type": "stream",
     "text": [
      "  * Error for ('5gky', 'B', 'P62943')\n",
      "  * Error for ('5gkz', 'B', 'P62943')\n",
      "  * Error for ('5gl0', 'B', 'P62943')\n",
      "  * Error for ('5gl1', 'B', 'P62943')\n",
      "  * Error for ('5gm6', 'O', 'Q12417')\n"
     ]
    },
    {
     "name": "stderr",
     "output_type": "stream",
     "text": [
      " 49%|████▉     | 41331/83655 [09:01<14:08, 49.85it/s]  "
     ]
    },
    {
     "name": "stdout",
     "output_type": "stream",
     "text": [
      "  * Error for ('5gpn', '7', 'P07470')\n"
     ]
    },
    {
     "name": "stderr",
     "output_type": "stream",
     "text": [
      " 51%|█████     | 42681/83655 [31:37<07:58, 85.63it/s]      "
     ]
    },
    {
     "name": "stdout",
     "output_type": "stream",
     "text": [
      "  * Error for ('5jcs', 'r', 'P53313')\n",
      "  * Error for ('5jcs', 's', 'Q12019')\n"
     ]
    },
    {
     "name": "stderr",
     "output_type": "stream",
     "text": [
      " 52%|█████▏    | 43537/83655 [31:50<08:08, 82.18it/s] "
     ]
    },
    {
     "name": "stdout",
     "output_type": "stream",
     "text": [
      "  * Error for ('5l1d', 'B', 'P68106')\n"
     ]
    },
    {
     "name": "stderr",
     "output_type": "stream",
     "text": [
      " 52%|█████▏    | 43596/83655 [31:51<07:24, 90.14it/s]"
     ]
    },
    {
     "name": "stdout",
     "output_type": "stream",
     "text": [
      "  * Error for ('5l4g', '1', 'P20618')\n",
      "  * Error for ('5l4g', '2', 'P49721')\n",
      "  * Error for ('5l4g', '3', 'P49720')\n",
      "  * Error for ('5l4g', '4', 'P28070')\n",
      "  * Error for ('5l4g', '5', 'P28074')\n",
      "  * Error for ('5l4g', '6', 'P28072')\n",
      "  * Error for ('5l4g', '7', 'Q99436')\n",
      "  * Error for ('5l4g', 'B', 'P25787')\n",
      "  * Error for ('5l4g', 'C', 'P25789')\n",
      "  * Error for ('5l4g', 'D', 'O14818')\n",
      "  * Error for ('5l4g', 'G', 'P25788')\n",
      "  * Error for ('5l4g', 'H', 'P35998')\n",
      "  * Error for ('5l4g', 'K', 'P43686')\n",
      "  * Error for ('5l4g', 'L', 'P62333')\n",
      "  * Error for ('5l4g', 'M', 'P17980')\n"
     ]
    },
    {
     "name": "stderr",
     "output_type": "stream",
     "text": [
      " 53%|█████▎    | 44103/83655 [32:24<16:30, 39.95it/s]  "
     ]
    },
    {
     "name": "stdout",
     "output_type": "stream",
     "text": [
      "  * Error for ('5lks', 'LB', 'P39023')\n",
      "  * Error for ('5lks', 'LC', 'P36578')\n",
      "  * Error for ('5lks', 'LD', 'P46777')\n",
      "  * Error for ('5lks', 'LE', 'Q02878')\n",
      "  * Error for ('5lks', 'LF', 'P18124')\n",
      "  * Error for ('5lks', 'LG', 'P62424')\n",
      "  * Error for ('5lks', 'LH', 'P32969')\n",
      "  * Error for ('5lks', 'LI', 'Q96L21')\n",
      "  * Error for ('5lks', 'LL', 'P26373')\n",
      "  * Error for ('5lks', 'LM', 'P50914')\n",
      "  * Error for ('5lks', 'LO', 'P40429')\n",
      "  * Error for ('5lks', 'LP', 'P18621')\n",
      "  * Error for ('5lks', 'LQ', 'Q07020')\n",
      "  * Error for ('5lks', 'LS', 'Q02543')\n",
      "  * Error for ('5lks', 'LU', 'P35268')\n",
      "  * Error for ('5lks', 'La', 'P46776')\n",
      "  * Error for ('5lks', 'Lf', 'P18077')\n",
      "  * Error for ('5lks', 'Lh', 'P42766')\n",
      "  * Error for ('5lks', 'Li', 'Q9Y3U8')\n",
      "  * Error for ('5lks', 'Lk', 'P63173')\n",
      "  * Error for ('5lks', 'Lr', 'P46779')\n",
      "  * Error for ('5lks', 'Lz', 'P62906')\n",
      "  * Error for ('5lks', 'SA', 'P08865')\n",
      "  * Error for ('5lks', 'SB', 'P61247')\n",
      "  * Error for ('5lks', 'SC', 'P15880')\n",
      "  * Error for ('5lks', 'SF', 'P46782')\n",
      "  * Error for ('5lks', 'SK', 'P46783')\n",
      "  * Error for ('5lks', 'SR', 'P08708')\n",
      "  * Error for ('5lks', 'ST', 'P39019')\n",
      "  * Error for ('5lks', 'Sf', 'P62979')\n"
     ]
    },
    {
     "name": "stderr",
     "output_type": "stream",
     "text": [
      " 53%|█████▎    | 44436/83655 [32:31<06:58, 93.70it/s]"
     ]
    },
    {
     "name": "stdout",
     "output_type": "stream",
     "text": [
      "  * Error for ('5lzs', 'jj', 'P68105')\n",
      "  * Error for ('5lzw', 'ii', 'Q9BRX2')\n",
      "  * Error for ('5lzw', 'jj', 'Q9Y450')\n",
      "  * Error for ('5lzx', 'ii', 'Q9BRX2')\n",
      "  * Error for ('5lzx', 'jj', 'Q9Y450')\n",
      "  * Error for ('5lzy', 'ii', 'Q9BRX2')\n",
      "  * Error for ('5lzy', 'jj', 'Q9Y450')\n",
      "  * Error for ('5lzz', 'ii', 'Q9BRX2')\n",
      "  * Error for ('5lzz', 'jj', 'Q9Y450')\n"
     ]
    },
    {
     "name": "stderr",
     "output_type": "stream",
     "text": [
      " 54%|█████▍    | 44988/83655 [32:51<10:15, 62.85it/s]  "
     ]
    },
    {
     "name": "stdout",
     "output_type": "stream",
     "text": [
      "  * Error for ('5mx7', 'B1', 'Q15788')\n"
     ]
    },
    {
     "name": "stderr",
     "output_type": "stream",
     "text": [
      " 54%|█████▍    | 45367/83655 [32:56<09:00, 70.82it/s]"
     ]
    },
    {
     "name": "stdout",
     "output_type": "stream",
     "text": [
      "  * Error for ('5nmb', 'B2', 'Q15788')\n"
     ]
    },
    {
     "name": "stderr",
     "output_type": "stream",
     "text": [
      " 54%|█████▍    | 45456/83655 [32:57<07:35, 83.91it/s]"
     ]
    },
    {
     "name": "stdout",
     "output_type": "stream",
     "text": [
      "  * Error for ('5nrl', 'H', 'P20053')\n"
     ]
    },
    {
     "name": "stderr",
     "output_type": "stream",
     "text": [
      " 58%|█████▊    | 48668/83655 [34:01<04:04, 142.81it/s] "
     ]
    },
    {
     "name": "stdout",
     "output_type": "stream",
     "text": [
      "  * Error for ('5rxw', 'A', 'Q92835')\n"
     ]
    },
    {
     "name": "stderr",
     "output_type": "stream",
     "text": [
      " 59%|█████▊    | 49049/83655 [34:06<05:42, 101.05it/s]"
     ]
    },
    {
     "name": "stdout",
     "output_type": "stream",
     "text": [
      "  * Error for ('5t0c', 'AA', 'P35998')\n",
      "  * Error for ('5t0c', 'AD', 'P43686')\n",
      "  * Error for ('5t0c', 'AE', 'P62333')\n",
      "  * Error for ('5t0c', 'AF', 'P17980')\n",
      "  * Error for ('5t0c', 'AH', 'P25787')\n",
      "  * Error for ('5t0c', 'AI', 'P25789')\n",
      "  * Error for ('5t0c', 'AJ', 'O14818')\n",
      "  * Error for ('5t0c', 'AL', 'P25786')\n",
      "  * Error for ('5t0c', 'AM', 'P25788')\n",
      "  * Error for ('5t0c', 'AN', 'P28072')\n",
      "  * Error for ('5t0c', 'AO', 'Q99436')\n",
      "  * Error for ('5t0c', 'AP', 'P49720')\n",
      "  * Error for ('5t0c', 'AQ', 'P49721')\n",
      "  * Error for ('5t0c', 'AS', 'P20618')\n",
      "  * Error for ('5t0c', 'AT', 'P28070')\n",
      "  * Error for ('5t0c', 'AU', 'Q99460')\n",
      "  * Error for ('5t0c', 'AV', 'O43242')\n",
      "  * Error for ('5t0c', 'AW', 'O00232')\n",
      "  * Error for ('5t0c', 'AZ', 'P51665')\n",
      "  * Error for ('5t0c', 'Aa', 'Q9UNM6')\n",
      "  * Error for ('5t0c', 'Ab', 'P55036')\n",
      "  * Error for ('5t0c', 'Ac', 'O00487')\n",
      "  * Error for ('5t0c', 'Ad', 'P48556')\n",
      "  * Error for ('5t0c', 'Ae', 'P60896')\n",
      "  * Error for ('5t0c', 'Af', 'Q13200')\n"
     ]
    },
    {
     "name": "stderr",
     "output_type": "stream",
     "text": [
      " 59%|█████▉    | 49199/83655 [34:35<1:21:52,  7.01it/s]"
     ]
    },
    {
     "name": "stdout",
     "output_type": "stream",
     "text": [
      "  * Error for ('5t15', 'A', 'P68106')\n",
      "  * Error for ('5t2c', 'AH', 'P62979')\n",
      "  * Error for ('5t2c', 'AJ', 'P15880')\n",
      "  * Error for ('5t2c', 'AT', 'P62861')\n",
      "  * Error for ('5t2c', 'AU', 'P39019')\n",
      "  * Error for ('5t2c', 'Ao', 'P08865')\n",
      "  * Error for ('5t2c', 'Ap', 'P61247')\n",
      "  * Error for ('5t2c', 'As', 'P46782')\n",
      "  * Error for ('5t2c', 'Av', 'P46783')\n",
      "  * Error for ('5t2c', 'Az', 'P08708')\n",
      "  * Error for ('5t2c', 'E', 'P39023')\n",
      "  * Error for ('5t2c', 'F', 'P36578')\n",
      "  * Error for ('5t2c', 'G', 'P46777')\n",
      "  * Error for ('5t2c', 'H', 'Q02878')\n",
      "  * Error for ('5t2c', 'I', 'P40429')\n",
      "  * Error for ('5t2c', 'J', 'P18621')\n",
      "  * Error for ('5t2c', 'K', 'Q07020')\n",
      "  * Error for ('5t2c', 'M', 'Q02543')\n",
      "  * Error for ('5t2c', 'O', 'P35268')\n",
      "  * Error for ('5t2c', 'U', 'P46776')\n",
      "  * Error for ('5t2c', 'V', 'P47914')\n",
      "  * Error for ('5t2c', 'Z', 'P18077')\n",
      "  * Error for ('5t2c', 'b', 'P42766')\n",
      "  * Error for ('5t2c', 'c', 'Q9Y3U8')\n",
      "  * Error for ('5t2c', 'e', 'P63173')\n",
      "  * Error for ('5t2c', 'k', 'P46779')\n",
      "  * Error for ('5t2c', 'l', 'P62906')\n",
      "  * Error for ('5t2c', 'm', 'P18124')\n",
      "  * Error for ('5t2c', 'n', 'P62424')\n",
      "  * Error for ('5t2c', 'o', 'P32969')\n",
      "  * Error for ('5t2c', 'p', 'Q96L21')\n",
      "  * Error for ('5t2c', 'r', 'P26373')\n",
      "  * Error for ('5t2c', 's', 'P50914')\n"
     ]
    },
    {
     "name": "stderr",
     "output_type": "stream",
     "text": [
      " 59%|█████▉    | 49354/83655 [34:36<08:35, 66.50it/s]  "
     ]
    },
    {
     "name": "stdout",
     "output_type": "stream",
     "text": [
      "  * Error for ('5t9m', 'A', 'P68106')\n",
      "  * Error for ('5t9n', 'A', 'P68106')\n",
      "  * Error for ('5t9r', 'A', 'P68106')\n",
      "  * Error for ('5t9s', 'A', 'P68106')\n",
      "  * Error for ('5t9v', 'A', 'P68106')\n",
      "  * Error for ('5ta3', 'A', 'P68106')\n",
      "  * Error for ('5tal', 'A', 'P68106')\n",
      "  * Error for ('5tam', 'A', 'P68106')\n",
      "  * Error for ('5tan', 'A', 'P68106')\n",
      "  * Error for ('5tap', 'A', 'P68106')\n",
      "  * Error for ('5taq', 'A', 'P68106')\n",
      "  * Error for ('5tas', 'A', 'P68106')\n",
      "  * Error for ('5tat', 'A', 'P68106')\n",
      "  * Error for ('5tau', 'A', 'P68106')\n",
      "  * Error for ('5tav', 'A', 'P68106')\n",
      "  * Error for ('5taw', 'A', 'P68106')\n",
      "  * Error for ('5tax', 'A', 'P68106')\n",
      "  * Error for ('5tay', 'A', 'P68106')\n",
      "  * Error for ('5taz', 'A', 'P68106')\n",
      "  * Error for ('5tb0', 'A', 'P68106')\n",
      "  * Error for ('5tb1', 'A', 'P68106')\n",
      "  * Error for ('5tb2', 'A', 'P68106')\n",
      "  * Error for ('5tb3', 'A', 'P68106')\n",
      "  * Error for ('5tb4', 'A', 'P68106')\n"
     ]
    },
    {
     "name": "stderr",
     "output_type": "stream",
     "text": [
      " 60%|█████▉    | 50129/83655 [34:46<08:01, 69.63it/s] "
     ]
    },
    {
     "name": "stdout",
     "output_type": "stream",
     "text": [
      "  * Error for ('5uot', '0', 'P20592')\n"
     ]
    },
    {
     "name": "stderr",
     "output_type": "stream",
     "text": [
      " 60%|██████    | 50601/83655 [34:53<21:41, 25.40it/s]"
     ]
    },
    {
     "name": "stdout",
     "output_type": "stream",
     "text": [
      "  * Error for ('5vfp', 'A', 'P35998')\n",
      "  * Error for ('5vfp', 'D', 'P43686')\n",
      "  * Error for ('5vfp', 'E', 'P62333')\n",
      "  * Error for ('5vfp', 'F', 'P17980')\n",
      "  * Error for ('5vfp', 'H', 'P25787')\n",
      "  * Error for ('5vfp', 'I', 'P25789')\n",
      "  * Error for ('5vfp', 'J', 'O14818')\n",
      "  * Error for ('5vfp', 'L', 'P25786')\n",
      "  * Error for ('5vfp', 'M', 'P25788')\n",
      "  * Error for ('5vfp', 'N', 'P28072')\n",
      "  * Error for ('5vfp', 'O', 'Q99436')\n",
      "  * Error for ('5vfp', 'P', 'P49720')\n",
      "  * Error for ('5vfp', 'Q', 'P49721')\n",
      "  * Error for ('5vfp', 'R', 'P28074')\n",
      "  * Error for ('5vfp', 'S', 'P20618')\n",
      "  * Error for ('5vfp', 'T', 'P28070')\n",
      "  * Error for ('5vfp', 'U', 'Q99460')\n",
      "  * Error for ('5vfp', 'V', 'O43242')\n",
      "  * Error for ('5vfp', 'W', 'O00232')\n",
      "  * Error for ('5vfp', 'Y', 'Q15008')\n",
      "  * Error for ('5vfp', 'Z', 'P51665')\n",
      "  * Error for ('5vfp', 'a', 'Q9UNM6')\n",
      "  * Error for ('5vfp', 'c', 'O00487')\n",
      "  * Error for ('5vfp', 'd', 'P48556')\n",
      "  * Error for ('5vfp', 'f', 'Q13200')\n",
      "  * Error for ('5vfq', 'A', 'P35998')\n",
      "  * Error for ('5vfq', 'D', 'P43686')\n",
      "  * Error for ('5vfq', 'E', 'P62333')\n",
      "  * Error for ('5vfq', 'F', 'P17980')\n",
      "  * Error for ('5vfq', 'H', 'P25787')\n",
      "  * Error for ('5vfq', 'I', 'P25789')\n",
      "  * Error for ('5vfq', 'J', 'O14818')\n",
      "  * Error for ('5vfq', 'L', 'P25786')\n",
      "  * Error for ('5vfq', 'M', 'P25788')\n",
      "  * Error for ('5vfq', 'N', 'P28072')\n",
      "  * Error for ('5vfq', 'O', 'Q99436')\n",
      "  * Error for ('5vfq', 'P', 'P49720')\n",
      "  * Error for ('5vfq', 'Q', 'P49721')\n",
      "  * Error for ('5vfq', 'R', 'P28074')\n",
      "  * Error for ('5vfq', 'S', 'P20618')\n",
      "  * Error for ('5vfq', 'T', 'P28070')\n",
      "  * Error for ('5vfq', 'U', 'Q99460')\n",
      "  * Error for ('5vfq', 'V', 'O43242')\n",
      "  * Error for ('5vfq', 'W', 'O00232')\n",
      "  * Error for ('5vfq', 'Y', 'Q15008')\n",
      "  * Error for ('5vfq', 'Z', 'P51665')\n",
      "  * Error for ('5vfq', 'a', 'Q9UNM6')\n",
      "  * Error for ('5vfq', 'c', 'O00487')\n",
      "  * Error for ('5vfq', 'd', 'P48556')\n",
      "  * Error for ('5vfq', 'f', 'Q13200')\n"
     ]
    },
    {
     "name": "stderr",
     "output_type": "stream",
     "text": [
      " 61%|██████    | 50652/83655 [34:57<48:31, 11.33it/s]  "
     ]
    },
    {
     "name": "stdout",
     "output_type": "stream",
     "text": [
      "  * Error for ('5vfs', 'A', 'P35998')\n",
      "  * Error for ('5vfs', 'D', 'P43686')\n",
      "  * Error for ('5vfs', 'E', 'P62333')\n",
      "  * Error for ('5vfs', 'F', 'P17980')\n",
      "  * Error for ('5vfs', 'H', 'P25787')\n",
      "  * Error for ('5vfs', 'I', 'P25789')\n",
      "  * Error for ('5vfs', 'J', 'O14818')\n",
      "  * Error for ('5vfs', 'L', 'P25786')\n",
      "  * Error for ('5vfs', 'M', 'P25788')\n",
      "  * Error for ('5vfs', 'N', 'P28072')\n",
      "  * Error for ('5vfs', 'O', 'Q99436')\n",
      "  * Error for ('5vfs', 'P', 'P49720')\n",
      "  * Error for ('5vfs', 'Q', 'P49721')\n",
      "  * Error for ('5vfs', 'R', 'P28074')\n",
      "  * Error for ('5vfs', 'S', 'P20618')\n",
      "  * Error for ('5vfs', 'T', 'P28070')\n",
      "  * Error for ('5vfs', 'U', 'Q99460')\n",
      "  * Error for ('5vfs', 'V', 'O43242')\n",
      "  * Error for ('5vfs', 'W', 'O00232')\n",
      "  * Error for ('5vfs', 'Y', 'Q15008')\n",
      "  * Error for ('5vfs', 'Z', 'P51665')\n",
      "  * Error for ('5vfs', 'a', 'Q9UNM6')\n",
      "  * Error for ('5vfs', 'c', 'O00487')\n",
      "  * Error for ('5vfs', 'd', 'P48556')\n",
      "  * Error for ('5vfs', 'f', 'Q13200')\n"
     ]
    },
    {
     "name": "stderr",
     "output_type": "stream",
     "text": [
      " 61%|██████    | 50712/83655 [35:01<53:09, 10.33it/s]  "
     ]
    },
    {
     "name": "stdout",
     "output_type": "stream",
     "text": [
      "  * Error for ('5vfu', 'A', 'P35998')\n",
      "  * Error for ('5vfu', 'D', 'P43686')\n",
      "  * Error for ('5vfu', 'E', 'P62333')\n",
      "  * Error for ('5vfu', 'F', 'P17980')\n",
      "  * Error for ('5vfu', 'H', 'P25787')\n",
      "  * Error for ('5vfu', 'I', 'P25789')\n",
      "  * Error for ('5vfu', 'J', 'O14818')\n",
      "  * Error for ('5vfu', 'L', 'P25786')\n",
      "  * Error for ('5vfu', 'M', 'P25788')\n",
      "  * Error for ('5vfu', 'N', 'P28072')\n",
      "  * Error for ('5vfu', 'O', 'Q99436')\n",
      "  * Error for ('5vfu', 'P', 'P49720')\n",
      "  * Error for ('5vfu', 'Q', 'P49721')\n",
      "  * Error for ('5vfu', 'R', 'P28074')\n",
      "  * Error for ('5vfu', 'S', 'P20618')\n",
      "  * Error for ('5vfu', 'T', 'P28070')\n",
      "  * Error for ('5vfu', 'U', 'Q99460')\n",
      "  * Error for ('5vfu', 'V', 'O43242')\n",
      "  * Error for ('5vfu', 'W', 'O00232')\n",
      "  * Error for ('5vfu', 'Y', 'Q15008')\n",
      "  * Error for ('5vfu', 'Z', 'P51665')\n",
      "  * Error for ('5vfu', 'a', 'Q9UNM6')\n",
      "  * Error for ('5vfu', 'c', 'O00487')\n",
      "  * Error for ('5vfu', 'd', 'P48556')\n",
      "  * Error for ('5vfu', 'f', 'Q13200')\n"
     ]
    },
    {
     "name": "stderr",
     "output_type": "stream",
     "text": [
      " 61%|██████    | 51098/83655 [35:14<04:54, 110.66it/s] "
     ]
    },
    {
     "name": "stdout",
     "output_type": "stream",
     "text": [
      "  * Error for ('5vyc', 'A1', 'P08865')\n",
      "  * Error for ('5vyc', 'B1', 'P61247')\n",
      "  * Error for ('5vyc', 'C1', 'P15880')\n",
      "  * Error for ('5vyc', 'F1', 'P46782')\n",
      "  * Error for ('5vyc', 'K1', 'P46783')\n",
      "  * Error for ('5vyc', 'R1', 'P08708')\n",
      "  * Error for ('5vyc', 'T1', 'P39019')\n",
      "  * Error for ('5vyc', 'k1', 'Q9ULC4')\n",
      "  * Error for ('5vyc', 'l1', 'O43583')\n"
     ]
    },
    {
     "name": "stderr",
     "output_type": "stream",
     "text": [
      " 62%|██████▏   | 51449/83655 [35:19<06:07, 87.62it/s] "
     ]
    },
    {
     "name": "stdout",
     "output_type": "stream",
     "text": [
      "  * Error for ('5wlc', 'SC', 'P15646')\n",
      "  * Error for ('5wlc', 'SN', 'P36144')\n",
      "  * Error for ('5wlc', 'ST', 'Q99207')\n",
      "  * Error for ('5wlc', 'SU', 'Q06512')\n"
     ]
    },
    {
     "name": "stderr",
     "output_type": "stream",
     "text": [
      " 62%|██████▏   | 51510/83655 [35:20<08:27, 63.37it/s]"
     ]
    },
    {
     "name": "stdout",
     "output_type": "stream",
     "text": [
      "  * Error for ('5wp9', 'A', 'O00429')\n",
      "  * Error for ('5wp9', 'B', 'Q96C03')\n"
     ]
    },
    {
     "name": "stderr",
     "output_type": "stream",
     "text": [
      " 62%|██████▏   | 51629/83655 [35:22<06:34, 81.20it/s]"
     ]
    },
    {
     "name": "stdout",
     "output_type": "stream",
     "text": [
      "  * Error for ('5wyj', '3B', 'P15646')\n",
      "  * Error for ('5wyj', 'U5', 'P36144')\n",
      "  * Error for ('5wyk', '3B', 'P15646')\n",
      "  * Error for ('5wyk', 'U5', 'P36144')\n"
     ]
    },
    {
     "name": "stderr",
     "output_type": "stream",
     "text": [
      " 62%|██████▏   | 51859/83655 [35:25<05:04, 104.53it/s]"
     ]
    },
    {
     "name": "stdout",
     "output_type": "stream",
     "text": [
      "  * Error for ('5xjc', 'A', 'Q6P2Q9')\n",
      "  * Error for ('5xjc', 'C', 'Q15029')\n",
      "  * Error for ('5xjc', 'D', 'O75643')\n",
      "  * Error for ('5xjc', 'E', 'Q96DI7')\n",
      "  * Error for ('5xjc', 'I', 'Q9HCS7')\n",
      "  * Error for ('5xjc', 'J', 'Q9BZJ0')\n",
      "  * Error for ('5xjc', 'K', 'O75934')\n",
      "  * Error for ('5xjc', 'L', 'Q99459')\n",
      "  * Error for ('5xjc', 'M', 'O95926')\n",
      "  * Error for ('5xjc', 'N', 'P41223')\n",
      "  * Error for ('5xjc', 'O', 'Q9NW64')\n",
      "  * Error for ('5xjc', 'P', 'Q9P013')\n",
      "  * Error for ('5xjc', 'Q', 'O60306')\n",
      "  * Error for ('5xjc', 'R', 'Q13573')\n",
      "  * Error for ('5xjc', 'S', 'Q9Y3C6')\n",
      "  * Error for ('5xjc', 'T', 'O43660')\n",
      "  * Error for ('5xjc', 'U', 'Q9UQ35')\n",
      "  * Error for ('5xjc', 'V', 'Q9HCG8')\n",
      "  * Error for ('5xjc', 'W', 'O60508')\n",
      "  * Error for ('5xjc', 'X', 'Q9H875')\n",
      "  * Error for ('5xjc', 'Y', 'Q14562')\n",
      "  * Error for ('5xjc', 'Z', 'O95391')\n",
      "  * Error for ('5xjc', 'a', 'P62318')\n",
      "  * Error for ('5xjc', 'o', 'P09661')\n",
      "  * Error for ('5xjc', 'q', 'Q9UMS4')\n",
      "  * Error for ('5xjc', 'u', 'P38919')\n",
      "  * Error for ('5xjc', 'v', 'Q96A72')\n",
      "  * Error for ('5xjc', 'w', 'Q9Y5S9')\n",
      "  * Error for ('5xjc', 'x', 'O15234')\n"
     ]
    },
    {
     "name": "stderr",
     "output_type": "stream",
     "text": [
      " 62%|██████▏   | 52162/83655 [35:32<21:52, 24.00it/s] "
     ]
    },
    {
     "name": "stdout",
     "output_type": "stream",
     "text": [
      "  * Error for ('5xth', '6', 'P07470')\n",
      "  * Error for ('5xth', 'A', 'P49821')\n",
      "  * Error for ('5xth', 'AA', 'O14949')\n",
      "  * Error for ('5xth', 'AB', 'P47985')\n",
      "  * Error for ('5xth', 'AC', 'P47985')\n",
      "  * Error for ('5xth', 'AD', 'Q9UDW1')\n",
      "  * Error for ('5xth', 'AE', 'P07919')\n",
      "  * Error for ('5xth', 'AF', 'P14927')\n",
      "  * Error for ('5xth', 'AG', 'O14957')\n",
      "  * Error for ('5xth', 'AH', 'P08574')\n",
      "  * Error for ('5xth', 'AJ', 'P00156')\n",
      "  * Error for ('5xth', 'AK', 'P22695')\n",
      "  * Error for ('5xth', 'AL', 'P31930')\n",
      "  * Error for ('5xth', 'B', 'O00217')\n",
      "  * Error for ('5xth', 'C', 'O75251')\n",
      "  * Error for ('5xth', 'E', 'P56556')\n",
      "  * Error for ('5xth', 'F', 'O43678')\n",
      "  * Error for ('5xth', 'G', 'O14561')\n",
      "  * Error for ('5xth', 'H', 'Q16718')\n",
      "  * Error for ('5xth', 'I', 'O95182')\n",
      "  * Error for ('5xth', 'J', 'Q16795')\n",
      "  * Error for ('5xth', 'K', 'P56181')\n",
      "  * Error for ('5xth', 'L', 'O43181')\n",
      "  * Error for ('5xth', 'M', 'P28331')\n",
      "  * Error for ('5xth', 'N', 'Q9UI09')\n",
      "  * Error for ('5xth', 'O', 'P19404')\n",
      "  * Error for ('5xth', 'P', 'O75489')\n",
      "  * Error for ('5xth', 'Q', 'O75306')\n",
      "  * Error for ('5xth', 'S', 'O15239')\n",
      "  * Error for ('5xth', 'T', 'O75380')\n",
      "  * Error for ('5xth', 'V', 'Q86Y39')\n",
      "  * Error for ('5xth', 'W', 'Q9P0J0')\n",
      "  * Error for ('5xth', 'Y', 'O95178')\n",
      "  * Error for ('5xth', 'Z', 'O43676')\n",
      "  * Error for ('5xth', 'b', 'O95139')\n",
      "  * Error for ('5xth', 'c', 'O95169')\n",
      "  * Error for ('5xth', 'd', 'O96000')\n",
      "  * Error for ('5xth', 'e', 'Q9NX14')\n",
      "  * Error for ('5xth', 'f', 'O43677')\n",
      "  * Error for ('5xth', 'g', 'O95298')\n",
      "  * Error for ('5xth', 'h', 'O43920')\n",
      "  * Error for ('5xth', 'i', 'P03891')\n",
      "  * Error for ('5xth', 'l', 'P03915')\n",
      "  * Error for ('5xth', 'o', 'O95168')\n",
      "  * Error for ('5xth', 'p', 'Q9Y6M9')\n",
      "  * Error for ('5xth', 'r', 'P03905')\n",
      "  * Error for ('5xth', 'u', 'P51970')\n",
      "  * Error for ('5xth', 'v', 'P17568')\n",
      "  * Error for ('5xth', 'w', 'O95299')\n",
      "  * Error for ('5xti', '6', 'P07470')\n",
      "  * Error for ('5xti', 'A', 'P49821')\n",
      "  * Error for ('5xti', 'AA', 'O14949')\n",
      "  * Error for ('5xti', 'AB', 'P47985')\n",
      "  * Error for ('5xti', 'AC', 'P47985')\n",
      "  * Error for ('5xti', 'AD', 'Q9UDW1')\n",
      "  * Error for ('5xti', 'AE', 'P07919')\n",
      "  * Error for ('5xti', 'AF', 'P14927')\n",
      "  * Error for ('5xti', 'AG', 'O14957')\n",
      "  * Error for ('5xti', 'AH', 'P08574')\n",
      "  * Error for ('5xti', 'AJ', 'P00156')\n",
      "  * Error for ('5xti', 'AK', 'P22695')\n",
      "  * Error for ('5xti', 'AL', 'P31930')\n",
      "  * Error for ('5xti', 'B', 'O00217')\n",
      "  * Error for ('5xti', 'BC', 'O75251')\n",
      "  * Error for ('5xti', 'BE', 'P56556')\n",
      "  * Error for ('5xti', 'BF', 'O43678')\n",
      "  * Error for ('5xti', 'BG', 'O14561')\n",
      "  * Error for ('5xti', 'BH', 'Q16718')\n",
      "  * Error for ('5xti', 'BI', 'O95182')\n",
      "  * Error for ('5xti', 'BJ', 'Q16795')\n",
      "  * Error for ('5xti', 'BK', 'P56181')\n",
      "  * Error for ('5xti', 'BL', 'O43181')\n",
      "  * Error for ('5xti', 'BM', 'P28331')\n",
      "  * Error for ('5xti', 'BN', 'Q9UI09')\n",
      "  * Error for ('5xti', 'BO', 'P19404')\n",
      "  * Error for ('5xti', 'BP', 'O75489')\n",
      "  * Error for ('5xti', 'BQ', 'O75306')\n",
      "  * Error for ('5xti', 'BS', 'O15239')\n",
      "  * Error for ('5xti', 'BT', 'O75380')\n",
      "  * Error for ('5xti', 'BV', 'Q86Y39')\n",
      "  * Error for ('5xti', 'BW', 'Q9P0J0')\n",
      "  * Error for ('5xti', 'BY', 'O95178')\n",
      "  * Error for ('5xti', 'BZ', 'O43676')\n",
      "  * Error for ('5xti', 'Bb', 'O95139')\n",
      "  * Error for ('5xti', 'Bc', 'O95169')\n",
      "  * Error for ('5xti', 'Bd', 'O96000')\n",
      "  * Error for ('5xti', 'Be', 'Q9NX14')\n",
      "  * Error for ('5xti', 'Bf', 'O43677')\n",
      "  * Error for ('5xti', 'Bg', 'O95298')\n",
      "  * Error for ('5xti', 'Bh', 'O43920')\n",
      "  * Error for ('5xti', 'Bi', 'P03891')\n",
      "  * Error for ('5xti', 'Bl', 'P03915')\n",
      "  * Error for ('5xti', 'Bo', 'O95168')\n",
      "  * Error for ('5xti', 'Bp', 'Q9Y6M9')\n",
      "  * Error for ('5xti', 'Br', 'P03905')\n",
      "  * Error for ('5xti', 'Bu', 'P51970')\n",
      "  * Error for ('5xti', 'Bv', 'P17568')\n",
      "  * Error for ('5xti', 'Bw', 'O95299')\n"
     ]
    },
    {
     "name": "stderr",
     "output_type": "stream",
     "text": [
      " 63%|██████▎   | 52404/83655 [35:36<06:38, 78.48it/s]"
     ]
    },
    {
     "name": "stdout",
     "output_type": "stream",
     "text": [
      "  * Error for ('5ydt', 'U5', 'P36144')\n"
     ]
    },
    {
     "name": "stderr",
     "output_type": "stream",
     "text": [
      " 63%|██████▎   | 52660/83655 [35:40<05:28, 94.28it/s]"
     ]
    },
    {
     "name": "stdout",
     "output_type": "stream",
     "text": [
      "  * Error for ('5yzg', '1', 'Q9UNP9')\n",
      "  * Error for ('5yzg', '2', 'Q96BP3')\n",
      "  * Error for ('5yzg', '3', 'Q13427')\n",
      "  * Error for ('5yzg', 'A', 'Q6P2Q9')\n",
      "  * Error for ('5yzg', 'C', 'Q15029')\n",
      "  * Error for ('5yzg', 'D', 'O75643')\n",
      "  * Error for ('5yzg', 'E', 'Q96DI7')\n",
      "  * Error for ('5yzg', 'I', 'Q9HCS7')\n",
      "  * Error for ('5yzg', 'J', 'Q9BZJ0')\n",
      "  * Error for ('5yzg', 'K', 'O75934')\n",
      "  * Error for ('5yzg', 'L', 'Q99459')\n",
      "  * Error for ('5yzg', 'M', 'O95926')\n",
      "  * Error for ('5yzg', 'N', 'P41223')\n",
      "  * Error for ('5yzg', 'O', 'Q9NW64')\n",
      "  * Error for ('5yzg', 'P', 'Q9P013')\n",
      "  * Error for ('5yzg', 'Q', 'O60306')\n",
      "  * Error for ('5yzg', 'R', 'Q13573')\n",
      "  * Error for ('5yzg', 'S', 'Q9Y3C6')\n",
      "  * Error for ('5yzg', 'T', 'O43660')\n",
      "  * Error for ('5yzg', 'U', 'Q9UQ35')\n",
      "  * Error for ('5yzg', 'V', 'Q9HCG8')\n",
      "  * Error for ('5yzg', 'W', 'O60508')\n",
      "  * Error for ('5yzg', 'X', 'Q9NXE8')\n",
      "  * Error for ('5yzg', 'Y', 'Q9BW85')\n",
      "  * Error for ('5yzg', 'Z', 'Q92620')\n",
      "  * Error for ('5yzg', 'a', 'P62318')\n",
      "  * Error for ('5yzg', 'o', 'P09661')\n",
      "  * Error for ('5yzg', 'q', 'Q9UMS4')\n",
      "  * Error for ('5yzg', 'u', 'P38919')\n",
      "  * Error for ('5yzg', 'v', 'Q96A72')\n",
      "  * Error for ('5yzg', 'w', 'Q9Y5S9')\n",
      "  * Error for ('5yzg', 'x', 'O15234')\n",
      "  * Error for ('5yzg', 'y', 'Q9ULR0')\n",
      "  * Error for ('5yzg', 'y', 'Q9ULR0')\n",
      "  * Error for ('5yzg', 'y', 'Q9ULR0')\n"
     ]
    },
    {
     "name": "stderr",
     "output_type": "stream",
     "text": [
      " 63%|██████▎   | 52702/83655 [35:42<21:40, 23.80it/s]"
     ]
    },
    {
     "name": "stdout",
     "output_type": "stream",
     "text": [
      "  * Error for ('5z56', '1', 'O75533')\n",
      "  * Error for ('5z56', '2', 'Q13435')\n",
      "  * Error for ('5z56', '3', 'Q15393')\n",
      "  * Error for ('5z56', '4', 'Q15427')\n",
      "  * Error for ('5z56', '5', 'Q9Y3B4')\n",
      "  * Error for ('5z56', '6', 'Q7RTV0')\n",
      "  * Error for ('5z56', '7', 'Q9BWJ5')\n",
      "  * Error for ('5z56', 'A', 'Q6P2Q9')\n",
      "  * Error for ('5z56', 'C', 'Q15029')\n",
      "  * Error for ('5z56', 'D', 'O75643')\n",
      "  * Error for ('5z56', 'E', 'Q96DI7')\n",
      "  * Error for ('5z56', 'I', 'Q9HCS7')\n",
      "  * Error for ('5z56', 'J', 'Q9BZJ0')\n",
      "  * Error for ('5z56', 'K', 'O75934')\n",
      "  * Error for ('5z56', 'L', 'Q99459')\n",
      "  * Error for ('5z56', 'M', 'O15541')\n",
      "  * Error for ('5z56', 'N', 'P41223')\n",
      "  * Error for ('5z56', 'O', 'Q9NW64')\n",
      "  * Error for ('5z56', 'P', 'Q9P013')\n",
      "  * Error for ('5z56', 'Q', 'O60306')\n",
      "  * Error for ('5z56', 'S', 'Q9Y3C6')\n",
      "  * Error for ('5z56', 'T', 'O43660')\n",
      "  * Error for ('5z56', 'U', 'Q9UQ35')\n",
      "  * Error for ('5z56', 'V', 'Q9HCG8')\n",
      "  * Error for ('5z56', 'W', 'O60508')\n",
      "  * Error for ('5z56', 'X', 'Q8TAD8')\n",
      "  * Error for ('5z56', 'Y', 'Q9Y388')\n",
      "  * Error for ('5z56', 'Z', 'Q9BRD0')\n",
      "  * Error for ('5z56', 'a', 'P62318')\n",
      "  * Error for ('5z56', 'o', 'P09661')\n",
      "  * Error for ('5z56', 'q', 'Q9UMS4')\n",
      "  * Error for ('5z56', 'u', 'Q15459')\n",
      "  * Error for ('5z56', 'v', 'Q15428')\n",
      "  * Error for ('5z56', 'w', 'Q12874')\n",
      "  * Error for ('5z56', 'x', 'O60231')\n",
      "  * Error for ('5z56', 'y', 'Q9UNP9')\n",
      "  * Error for ('5z56', 'z', 'Q6UX04')\n",
      "  * Error for ('5z57', '1', 'O75533')\n",
      "  * Error for ('5z57', '2', 'Q13435')\n",
      "  * Error for ('5z57', '3', 'Q15393')\n",
      "  * Error for ('5z57', '4', 'Q15427')\n",
      "  * Error for ('5z57', '5', 'Q9Y3B4')\n",
      "  * Error for ('5z57', '6', 'Q7RTV0')\n",
      "  * Error for ('5z57', '7', 'Q9BWJ5')\n",
      "  * Error for ('5z57', 'A', 'Q6P2Q9')\n",
      "  * Error for ('5z57', 'C', 'Q15029')\n",
      "  * Error for ('5z57', 'D', 'O75643')\n",
      "  * Error for ('5z57', 'E', 'Q96DI7')\n",
      "  * Error for ('5z57', 'I', 'Q9HCS7')\n",
      "  * Error for ('5z57', 'J', 'Q9BZJ0')\n",
      "  * Error for ('5z57', 'K', 'O75934')\n",
      "  * Error for ('5z57', 'L', 'Q99459')\n",
      "  * Error for ('5z57', 'N', 'P41223')\n",
      "  * Error for ('5z57', 'O', 'Q9NW64')\n",
      "  * Error for ('5z57', 'P', 'Q9P013')\n",
      "  * Error for ('5z57', 'Q', 'O60306')\n",
      "  * Error for ('5z57', 'S', 'Q9Y3C6')\n",
      "  * Error for ('5z57', 'T', 'O43660')\n",
      "  * Error for ('5z57', 'U', 'Q9UQ35')\n",
      "  * Error for ('5z57', 'V', 'Q9HCG8')\n",
      "  * Error for ('5z57', 'W', 'O60508')\n",
      "  * Error for ('5z57', 'X', 'Q8TAD8')\n",
      "  * Error for ('5z57', 'Y', 'Q9Y388')\n",
      "  * Error for ('5z57', 'Z', 'Q9BRD0')\n",
      "  * Error for ('5z57', 'a', 'P62318')\n",
      "  * Error for ('5z57', 'o', 'P09661')\n",
      "  * Error for ('5z57', 'q', 'Q9UMS4')\n",
      "  * Error for ('5z57', 'u', 'Q15459')\n",
      "  * Error for ('5z57', 'v', 'Q15428')\n",
      "  * Error for ('5z57', 'w', 'Q12874')\n",
      "  * Error for ('5z57', 'x', 'O60231')\n",
      "  * Error for ('5z57', 'y', 'Q9UNP9')\n"
     ]
    },
    {
     "name": "stderr",
     "output_type": "stream",
     "text": [
      " 63%|██████▎   | 53075/83655 [36:00<06:31, 78.11it/s]  "
     ]
    },
    {
     "name": "stdout",
     "output_type": "stream",
     "text": [
      "  * Error for ('5zwm', 'K', 'P20053')\n"
     ]
    },
    {
     "name": "stderr",
     "output_type": "stream",
     "text": [
      " 64%|██████▍   | 53366/83655 [36:16<2:17:00,  3.68it/s]"
     ]
    },
    {
     "name": "stdout",
     "output_type": "stream",
     "text": [
      "  * Error for ('6ahd', '0', 'P55081')\n",
      "  * Error for ('6ahd', '1', 'O75533')\n",
      "  * Error for ('6ahd', '2', 'Q13435')\n",
      "  * Error for ('6ahd', '3', 'Q15393')\n",
      "  * Error for ('6ahd', '4', 'Q15427')\n",
      "  * Error for ('6ahd', '5', 'Q9Y3B4')\n",
      "  * Error for ('6ahd', '6', 'Q7RTV0')\n",
      "  * Error for ('6ahd', '7', 'Q9BWJ5')\n",
      "  * Error for ('6ahd', '8', 'Q96NC0')\n",
      "  * Error for ('6ahd', '9', 'O43290')\n",
      "  * Error for ('6ahd', 'A', 'Q6P2Q9')\n",
      "  * Error for ('6ahd', 'C', 'Q15029')\n",
      "  * Error for ('6ahd', 'D', 'O75643')\n",
      "  * Error for ('6ahd', 'E', 'Q96DI7')\n",
      "  * Error for ('6ahd', 'J', 'O43395')\n",
      "  * Error for ('6ahd', 'K', 'O43172')\n",
      "  * Error for ('6ahd', 'L', 'Q8WWY3')\n",
      "  * Error for ('6ahd', 'M', 'P55769')\n",
      "  * Error for ('6ahd', 'N', 'O94906')\n",
      "  * Error for ('6ahd', 'O', 'P83876')\n",
      "  * Error for ('6ahd', 'T', 'P62318')\n",
      "  * Error for ('6ahd', 'W', 'O43447')\n",
      "  * Error for ('6ahd', 'X', 'O75554')\n",
      "  * Error for ('6ahd', 'Y', 'Q2TAY7')\n",
      "  * Error for ('6ahd', 'Z', 'Q8NAV1')\n",
      "  * Error for ('6ahd', 'o', 'P09661')\n",
      "  * Error for ('6ahd', 'p', 'P08579')\n",
      "  * Error for ('6ahd', 'q', 'Q9Y333')\n",
      "  * Error for ('6ahd', 'r', 'P62310')\n",
      "  * Error for ('6ahd', 's', 'Q9Y4Z0')\n",
      "  * Error for ('6ahd', 't', 'Q9Y4Y9')\n",
      "  * Error for ('6ahd', 'u', 'Q15459')\n",
      "  * Error for ('6ahd', 'v', 'Q15428')\n",
      "  * Error for ('6ahd', 'w', 'Q12874')\n",
      "  * Error for ('6ahd', 'x', 'P62312')\n",
      "  * Error for ('6ahd', 'y', 'Q9UK45')\n",
      "  * Error for ('6ahd', 'z', 'O95777')\n"
     ]
    },
    {
     "name": "stderr",
     "output_type": "stream",
     "text": [
      " 64%|██████▍   | 53821/83655 [36:23<06:17, 78.96it/s]  "
     ]
    },
    {
     "name": "stdout",
     "output_type": "stream",
     "text": [
      "  * Error for ('6bcu', 'A', 'P42345')\n",
      "  * Error for ('6bcu', 'D', 'Q9BVC4')\n",
      "  * Error for ('6bcu', 'R', 'Q15382')\n",
      "  * Error for ('6bcu', 'W', 'Q8N122')\n",
      "  * Error for ('6bcu', 'X', 'Q13541')\n",
      "  * Error for ('6bcx', 'A', 'P42345')\n",
      "  * Error for ('6bcx', 'D', 'Q9BVC4')\n",
      "  * Error for ('6bcx', 'W', 'Q8N122')\n",
      "  * Error for ('6bcx', 'X', 'Q13541')\n"
     ]
    },
    {
     "name": "stderr",
     "output_type": "stream",
     "text": [
      " 66%|██████▌   | 54984/83655 [37:01<09:55, 48.12it/s]  "
     ]
    },
    {
     "name": "stdout",
     "output_type": "stream",
     "text": [
      "  * Error for ('6d9j', '9', 'P13639')\n"
     ]
    },
    {
     "name": "stderr",
     "output_type": "stream",
     "text": [
      " 66%|██████▌   | 55220/83655 [37:04<06:49, 69.49it/s]"
     ]
    },
    {
     "name": "stdout",
     "output_type": "stream",
     "text": [
      "  * Error for ('6dqj', 'A', 'Q14573')\n",
      "  * Error for ('6dqn', 'A', 'Q14573')\n",
      "  * Error for ('6dqs', 'A', 'Q14573')\n",
      "  * Error for ('6dqv', 'A', 'Q14573')\n",
      "  * Error for ('6dqz', 'A', 'Q14573')\n",
      "  * Error for ('6dr0', 'A', 'Q14573')\n",
      "  * Error for ('6dr2', 'A', 'Q14573')\n",
      "  * Error for ('6dra', 'A', 'Q14573')\n",
      "  * Error for ('6drc', 'A', 'Q14573')\n"
     ]
    },
    {
     "name": "stderr",
     "output_type": "stream",
     "text": [
      " 66%|██████▋   | 55467/83655 [37:08<05:54, 79.54it/s]"
     ]
    },
    {
     "name": "stdout",
     "output_type": "stream",
     "text": [
      "  * Error for ('6e8g', 'A', 'P53990')\n",
      "  * Error for ('6e8g', 'A', 'P53990')\n",
      "  * Error for ('6e8g', 'AA', 'Q7LBR1')\n"
     ]
    },
    {
     "name": "stderr",
     "output_type": "stream",
     "text": [
      " 67%|██████▋   | 55663/83655 [37:11<04:55, 94.58it/s]"
     ]
    },
    {
     "name": "stdout",
     "output_type": "stream",
     "text": [
      "  * Error for ('6elz', 'A', 'Q08235')\n",
      "  * Error for ('6elz', 'D', 'Q03532')\n",
      "  * Error for ('6elz', 'I', 'Q07896')\n",
      "  * Error for ('6elz', 'J', 'P36049')\n",
      "  * Error for ('6elz', 'q', 'P40991')\n",
      "  * Error for ('6elz', 'r', 'P40078')\n",
      "  * Error for ('6elz', 's', 'P40010')\n",
      "  * Error for ('6elz', 'w', 'P25582')\n",
      "  * Error for ('6em1', '3', 'P10962')\n",
      "  * Error for ('6em1', '4', 'P35178')\n",
      "  * Error for ('6em1', '5', 'P53136')\n",
      "  * Error for ('6em1', 'A', 'Q08235')\n",
      "  * Error for ('6em1', 'D', 'Q03532')\n",
      "  * Error for ('6em1', 'J', 'P36049')\n",
      "  * Error for ('6em1', 'r', 'P40078')\n",
      "  * Error for ('6em1', 's', 'P40010')\n",
      "  * Error for ('6em1', 'x', 'P38805')\n"
     ]
    },
    {
     "name": "stderr",
     "output_type": "stream",
     "text": [
      " 67%|██████▋   | 56217/83655 [37:34<05:07, 89.19it/s]  "
     ]
    },
    {
     "name": "stdout",
     "output_type": "stream",
     "text": [
      "  * Error for ('6fec', '3', 'P60228')\n",
      "  * Error for ('6fec', '6', 'Q9UBQ5')\n",
      "  * Error for ('6fec', '7', 'Q9Y262')\n",
      "  * Error for ('6fec', '8', 'Q7L2H7')\n",
      "  * Error for ('6fec', 'S', 'P41091')\n",
      "  * Error for ('6fec', 'U', 'P46782')\n",
      "  * Error for ('6fec', 'V', 'P62861')\n",
      "  * Error for ('6fec', 'e', 'P08708')\n",
      "  * Error for ('6fec', 'f', 'P08865')\n",
      "  * Error for ('6fec', 'i', 'P61247')\n",
      "  * Error for ('6fec', 'p', 'P62979')\n",
      "  * Error for ('6fec', 't', 'P46783')\n",
      "  * Error for ('6fec', 'u', 'P23588')\n"
     ]
    },
    {
     "name": "stderr",
     "output_type": "stream",
     "text": [
      " 68%|██████▊   | 56485/83655 [38:16<06:29, 69.76it/s]  "
     ]
    },
    {
     "name": "stdout",
     "output_type": "stream",
     "text": [
      "  * Error for ('6fsz', 'MM', 'P47047')\n",
      "  * Error for ('6ft6', 'MM', 'P47047')\n",
      "  * Error for ('6ft6', 'r', 'P40078')\n",
      "  * Error for ('6ft6', 's', 'P40010')\n",
      "  * Error for ('6ft6', 'v', 'P36160')\n",
      "  * Error for ('6ft6', 'w', 'Q08746')\n"
     ]
    },
    {
     "name": "stderr",
     "output_type": "stream",
     "text": [
      " 68%|██████▊   | 56633/83655 [38:19<16:40, 27.00it/s]"
     ]
    },
    {
     "name": "stdout",
     "output_type": "stream",
     "text": [
      "  * Error for ('6g2h', 'A', 'Q13085')\n",
      "  * Error for ('6g2i', 'A', 'Q13085')\n",
      "  * Error for ('6g2i', 'H', 'P38398')\n"
     ]
    },
    {
     "name": "stderr",
     "output_type": "stream",
     "text": [
      " 68%|██████▊   | 56820/83655 [38:31<08:23, 53.33it/s]  "
     ]
    },
    {
     "name": "stdout",
     "output_type": "stream",
     "text": [
      "  * Error for ('6gaw', 'BC', 'P46199')\n",
      "  * Error for ('6gaz', 'BC', 'P46199')\n",
      "  * Error for ('6gb2', 'BC', 'P46199')\n"
     ]
    },
    {
     "name": "stderr",
     "output_type": "stream",
     "text": [
      " 68%|██████▊   | 57139/83655 [38:37<04:56, 89.36it/s]"
     ]
    },
    {
     "name": "stdout",
     "output_type": "stream",
     "text": [
      "  * Error for ('6gsr', 'Aa', 'P02794')\n",
      "  * Error for ('6gsr', 'Ab', 'P02786')\n"
     ]
    },
    {
     "name": "stderr",
     "output_type": "stream",
     "text": [
      " 68%|██████▊   | 57215/83655 [38:38<06:29, 67.81it/s]"
     ]
    },
    {
     "name": "stdout",
     "output_type": "stream",
     "text": [
      "  * Error for ('6h03', 'A', 'P01031')\n",
      "  * Error for ('6h03', 'B', 'P13671')\n",
      "  * Error for ('6h03', 'C', 'P07358')\n",
      "  * Error for ('6h03', 'D', 'P10643')\n",
      "  * Error for ('6h03', 'E', 'P07360')\n",
      "  * Error for ('6h03', 'F', 'P07357')\n",
      "  * Error for ('6h03', 'G', 'P02748')\n"
     ]
    },
    {
     "name": "stderr",
     "output_type": "stream",
     "text": [
      " 69%|██████▊   | 57331/83655 [38:42<07:45, 56.51it/s]"
     ]
    },
    {
     "name": "stdout",
     "output_type": "stream",
     "text": [
      "  * Error for ('6h5i', 'Aa', 'P02794')\n",
      "  * Error for ('6h5i', 'Ab', 'P02786')\n"
     ]
    },
    {
     "name": "stderr",
     "output_type": "stream",
     "text": [
      " 69%|██████▉   | 57680/83655 [38:46<05:35, 77.53it/s] "
     ]
    },
    {
     "name": "stdout",
     "output_type": "stream",
     "text": [
      "  * Error for ('6ht7', '1', 'P61604')\n",
      "  * Error for ('6ht7', 'A', 'P10809')\n"
     ]
    },
    {
     "name": "stderr",
     "output_type": "stream",
     "text": [
      " 69%|██████▉   | 58005/83655 [38:53<04:41, 91.23it/s]"
     ]
    },
    {
     "name": "stdout",
     "output_type": "stream",
     "text": [
      "  * Error for ('6i9r', '0', 'Q9BYC8')\n",
      "  * Error for ('6i9r', '1', 'O75394')\n",
      "  * Error for ('6i9r', '2', 'Q9BQ48')\n",
      "  * Error for ('6i9r', '5', 'Q9BZE1')\n",
      "  * Error for ('6i9r', '6', 'Q96DV4')\n",
      "  * Error for ('6i9r', '7', 'Q9NYK5')\n",
      "  * Error for ('6i9r', '8', 'Q9NQ50')\n",
      "  * Error for ('6i9r', '9', 'Q8IXM3')\n",
      "  * Error for ('6i9r', 'D', 'Q5T653')\n",
      "  * Error for ('6i9r', 'E', 'P09001')\n",
      "  * Error for ('6i9r', 'F', 'Q9BYD3')\n",
      "  * Error for ('6i9r', 'H', 'Q9BYD2')\n",
      "  * Error for ('6i9r', 'I', 'Q7Z7H8')\n",
      "  * Error for ('6i9r', 'J', 'Q9Y3B7')\n",
      "  * Error for ('6i9r', 'K', 'Q9BYD1')\n",
      "  * Error for ('6i9r', 'L', 'Q6P1L8')\n",
      "  * Error for ('6i9r', 'M', 'Q9P015')\n",
      "  * Error for ('6i9r', 'N', 'Q9NX20')\n",
      "  * Error for ('6i9r', 'O', 'Q9NRX2')\n",
      "  * Error for ('6i9r', 'Q', 'P49406')\n",
      "  * Error for ('6i9r', 'R', 'Q9BYC9')\n",
      "  * Error for ('6i9r', 'S', 'Q7Z2W9')\n",
      "  * Error for ('6i9r', 'U', 'Q16540')\n",
      "  * Error for ('6i9r', 'V', 'Q96A35')\n",
      "  * Error for ('6i9r', 'W', 'Q9P0M9')\n",
      "  * Error for ('6i9r', 'X', 'Q13084')\n",
      "  * Error for ('6i9r', 'Y', 'Q9HD33')\n",
      "  * Error for ('6i9r', 'Z', 'Q8TCC3')\n",
      "  * Error for ('6i9r', 'a', 'Q9Y6G3')\n",
      "  * Error for ('6i9r', 'b', 'Q8N983')\n",
      "  * Error for ('6i9r', 'c', 'Q9H9J2')\n",
      "  * Error for ('6i9r', 'd', 'Q9BRJ2')\n",
      "  * Error for ('6i9r', 'e', 'Q9H2W6')\n",
      "  * Error for ('6i9r', 'f', 'Q96GC5')\n",
      "  * Error for ('6i9r', 'g', 'Q13405')\n",
      "  * Error for ('6i9r', 'h', 'Q8N5N7')\n",
      "  * Error for ('6i9r', 'i', 'Q4U2R6')\n",
      "  * Error for ('6i9r', 'k', 'Q96EL3')\n",
      "  * Error for ('6i9r', 'l', 'Q6P161')\n",
      "  * Error for ('6i9r', 'o', 'Q9BQC6')\n",
      "  * Error for ('6i9r', 'q', 'Q8TAE8')\n",
      "  * Error for ('6i9r', 'r', 'Q9NVS2')\n",
      "  * Error for ('6i9r', 's', 'Q9NP92')\n"
     ]
    },
    {
     "name": "stderr",
     "output_type": "stream",
     "text": [
      " 70%|██████▉   | 58359/83655 [39:28<04:30, 93.38it/s]  "
     ]
    },
    {
     "name": "stdout",
     "output_type": "stream",
     "text": [
      "  * Error for ('6ip5', '1E', 'P39023')\n",
      "  * Error for ('6ip5', '1F', 'P36578')\n",
      "  * Error for ('6ip5', '1G', 'P46777')\n",
      "  * Error for ('6ip5', '1H', 'Q02878')\n",
      "  * Error for ('6ip5', '20', 'P39019')\n",
      "  * Error for ('6ip5', '2A', 'P18124')\n",
      "  * Error for ('6ip5', '2B', 'P62424')\n",
      "  * Error for ('6ip5', '2C', 'P32969')\n",
      "  * Error for ('6ip5', '2D', 'Q96L21')\n",
      "  * Error for ('6ip5', '2F', 'P26373')\n",
      "  * Error for ('6ip5', '2G', 'P50914')\n",
      "  * Error for ('6ip5', '2I', 'P40429')\n",
      "  * Error for ('6ip5', '2J', 'P18621')\n",
      "  * Error for ('6ip5', '2K', 'Q07020')\n",
      "  * Error for ('6ip5', '2M', 'Q02543')\n",
      "  * Error for ('6ip5', '2O', 'P35268')\n",
      "  * Error for ('6ip5', '2U', 'P46776')\n",
      "  * Error for ('6ip5', '2V', 'P47914')\n",
      "  * Error for ('6ip5', '2Z', 'P18077')\n",
      "  * Error for ('6ip5', '2b', 'P42766')\n",
      "  * Error for ('6ip5', '2c', 'Q9Y3U8')\n",
      "  * Error for ('6ip5', '2e', 'P63173')\n",
      "  * Error for ('6ip5', '2k', 'P46779')\n",
      "  * Error for ('6ip5', '2l', 'P62906')\n",
      "  * Error for ('6ip5', '2n', 'P08865')\n",
      "  * Error for ('6ip5', '2o', 'P61247')\n",
      "  * Error for ('6ip5', '2r', 'P46782')\n",
      "  * Error for ('6ip5', '2u', 'P46783')\n",
      "  * Error for ('6ip5', '2y', 'P08708')\n",
      "  * Error for ('6ip5', '3G', 'P15880')\n",
      "  * Error for ('6ip5', '3Q', 'P62861')\n",
      "  * Error for ('6ip5', '3R', 'P62979')\n",
      "  * Error for ('6ip6', '1E', 'P39023')\n",
      "  * Error for ('6ip6', '1F', 'P36578')\n",
      "  * Error for ('6ip6', '1G', 'P46777')\n",
      "  * Error for ('6ip6', '1H', 'Q02878')\n",
      "  * Error for ('6ip6', '20', 'P39019')\n",
      "  * Error for ('6ip6', '2A', 'P18124')\n",
      "  * Error for ('6ip6', '2B', 'P62424')\n",
      "  * Error for ('6ip6', '2C', 'P32969')\n",
      "  * Error for ('6ip6', '2D', 'Q96L21')\n",
      "  * Error for ('6ip6', '2F', 'P26373')\n",
      "  * Error for ('6ip6', '2G', 'P50914')\n",
      "  * Error for ('6ip6', '2I', 'P40429')\n",
      "  * Error for ('6ip6', '2J', 'P18621')\n",
      "  * Error for ('6ip6', '2K', 'Q07020')\n",
      "  * Error for ('6ip6', '2M', 'Q02543')\n",
      "  * Error for ('6ip6', '2O', 'P35268')\n",
      "  * Error for ('6ip6', '2U', 'P46776')\n",
      "  * Error for ('6ip6', '2V', 'P47914')\n",
      "  * Error for ('6ip6', '2Z', 'P18077')\n",
      "  * Error for ('6ip6', '2b', 'P42766')\n",
      "  * Error for ('6ip6', '2c', 'Q9Y3U8')\n",
      "  * Error for ('6ip6', '2e', 'P63173')\n",
      "  * Error for ('6ip6', '2k', 'P46779')\n",
      "  * Error for ('6ip6', '2n', 'P08865')\n",
      "  * Error for ('6ip6', '2o', 'P61247')\n",
      "  * Error for ('6ip6', '2r', 'P46782')\n",
      "  * Error for ('6ip6', '2u', 'P46783')\n",
      "  * Error for ('6ip6', '2y', 'P08708')\n",
      "  * Error for ('6ip6', '3G', 'P15880')\n",
      "  * Error for ('6ip6', '3Q', 'P62861')\n",
      "  * Error for ('6ip6', '3R', 'P62979')\n",
      "  * Error for ('6ip8', '1E', 'P39023')\n",
      "  * Error for ('6ip8', '1F', 'P36578')\n",
      "  * Error for ('6ip8', '1G', 'P46777')\n",
      "  * Error for ('6ip8', '1H', 'Q02878')\n",
      "  * Error for ('6ip8', '20', 'P39019')\n",
      "  * Error for ('6ip8', '2A', 'P18124')\n",
      "  * Error for ('6ip8', '2B', 'P62424')\n",
      "  * Error for ('6ip8', '2C', 'P32969')\n",
      "  * Error for ('6ip8', '2D', 'Q96L21')\n",
      "  * Error for ('6ip8', '2F', 'P26373')\n",
      "  * Error for ('6ip8', '2G', 'P50914')\n",
      "  * Error for ('6ip8', '2I', 'P40429')\n",
      "  * Error for ('6ip8', '2J', 'P18621')\n",
      "  * Error for ('6ip8', '2K', 'Q07020')\n",
      "  * Error for ('6ip8', '2M', 'Q02543')\n",
      "  * Error for ('6ip8', '2O', 'P35268')\n",
      "  * Error for ('6ip8', '2U', 'P46776')\n",
      "  * Error for ('6ip8', '2V', 'P47914')\n",
      "  * Error for ('6ip8', '2Z', 'P18077')\n",
      "  * Error for ('6ip8', '2b', 'P42766')\n",
      "  * Error for ('6ip8', '2c', 'Q9Y3U8')\n",
      "  * Error for ('6ip8', '2e', 'P63173')\n",
      "  * Error for ('6ip8', '2k', 'P46779')\n",
      "  * Error for ('6ip8', '2n', 'P08865')\n",
      "  * Error for ('6ip8', '2o', 'P61247')\n",
      "  * Error for ('6ip8', '2r', 'P46782')\n",
      "  * Error for ('6ip8', '2u', 'P46783')\n",
      "  * Error for ('6ip8', '2y', 'P08708')\n",
      "  * Error for ('6ip8', '3G', 'P15880')\n",
      "  * Error for ('6ip8', '3Q', 'P62861')\n",
      "  * Error for ('6ip8', '3R', 'P62979')\n"
     ]
    },
    {
     "name": "stderr",
     "output_type": "stream",
     "text": [
      " 70%|███████   | 58578/83655 [39:31<08:45, 47.73it/s] "
     ]
    },
    {
     "name": "stdout",
     "output_type": "stream",
     "text": [
      "  * Error for ('6j5k', 'A', 'P80021')\n",
      "  * Error for ('6j5k', 'AJ', 'Q29307')\n",
      "  * Error for ('6j5k', 'AS', 'Q2EN81')\n",
      "  * Error for ('6j5k', 'Af', 'Q95339')\n"
     ]
    },
    {
     "name": "stderr",
     "output_type": "stream",
     "text": [
      " 70%|███████   | 58698/83655 [39:33<04:45, 87.35it/s]"
     ]
    },
    {
     "name": "stdout",
     "output_type": "stream",
     "text": [
      "  * Error for ('6jgz', 'A', 'P68106')\n",
      "  * Error for ('6jh6', 'A', 'P68106')\n",
      "  * Error for ('6jhn', 'B', 'P68106')\n",
      "  * Error for ('6ji0', 'B', 'P68106')\n",
      "  * Error for ('6ji8', 'B', 'P68106')\n",
      "  * Error for ('6jii', 'A', 'P68106')\n",
      "  * Error for ('6jiu', 'B', 'P68106')\n",
      "  * Error for ('6jiy', 'B', 'P68106')\n"
     ]
    },
    {
     "name": "stderr",
     "output_type": "stream",
     "text": [
      " 70%|███████   | 58814/83655 [39:35<06:23, 64.70it/s]"
     ]
    },
    {
     "name": "stdout",
     "output_type": "stream",
     "text": [
      "  * Error for ('6jrr', 'B', 'P68106')\n",
      "  * Error for ('6jrs', 'B', 'P68106')\n"
     ]
    },
    {
     "name": "stderr",
     "output_type": "stream",
     "text": [
      " 71%|███████   | 59134/83655 [39:40<04:58, 82.06it/s]"
     ]
    },
    {
     "name": "stdout",
     "output_type": "stream",
     "text": [
      "  * Error for ('6ke6', '3B', 'P15646')\n",
      "  * Error for ('6ke6', 'RI', 'P36144')\n",
      "  * Error for ('6ke6', 'RN', 'Q99207')\n",
      "  * Error for ('6ke6', 'RO', 'Q06512')\n"
     ]
    },
    {
     "name": "stderr",
     "output_type": "stream",
     "text": [
      " 71%|███████▏  | 59766/83655 [39:50<03:52, 102.93it/s]"
     ]
    },
    {
     "name": "stdout",
     "output_type": "stream",
     "text": [
      "  * Error for ('6lqm', '0', 'Q969S3')\n",
      "  * Error for ('6lqm', '3', 'Q96D46')\n",
      "  * Error for ('6lqm', '6', 'P56537')\n",
      "  * Error for ('6lqm', 'A', 'P62906')\n",
      "  * Error for ('6lqm', 'B', 'P39023')\n",
      "  * Error for ('6lqm', 'C', 'P47914')\n",
      "  * Error for ('6lqm', 'D', 'P36578')\n",
      "  * Error for ('6lqm', 'G', 'P62424')\n",
      "  * Error for ('6lqm', 'H', 'P42766')\n",
      "  * Error for ('6lqm', 'I', 'P32969')\n",
      "  * Error for ('6lqm', 'J', 'Q96L21')\n",
      "  * Error for ('6lqm', 'K', 'Q9Y3U8')\n",
      "  * Error for ('6lqm', 'L', 'P46776')\n",
      "  * Error for ('6lqm', 'O', 'P63173')\n",
      "  * Error for ('6lqm', 'Q', 'P26373')\n",
      "  * Error for ('6lqm', 'S', 'P50914')\n",
      "  * Error for ('6lqm', 'V', 'P40429')\n",
      "  * Error for ('6lqm', 'Y', 'P18621')\n",
      "  * Error for ('6lqm', 'Z', 'Q07020')\n",
      "  * Error for ('6lqm', 'b', 'Q02543')\n",
      "  * Error for ('6lqm', 'd', 'P35268')\n",
      "  * Error for ('6lqm', 'l', 'P46779')\n",
      "  * Error for ('6lqm', 'r', 'P46777')\n",
      "  * Error for ('6lqm', 'u', 'P18077')\n",
      "  * Error for ('6lqm', 'v', 'Q02878')\n",
      "  * Error for ('6lqm', 'w', 'P18124')\n",
      "  * Error for ('6lqp', '3B', 'P15646')\n",
      "  * Error for ('6lqp', 'RI', 'P36144')\n",
      "  * Error for ('6lqp', 'RN', 'Q99207')\n",
      "  * Error for ('6lqp', 'RO', 'Q06512')\n",
      "  * Error for ('6lqq', '3B', 'P15646')\n",
      "  * Error for ('6lqq', 'RN', 'Q99207')\n",
      "  * Error for ('6lqq', 'RO', 'Q06512')\n",
      "  * Error for ('6lqr', '3B', 'P15646')\n",
      "  * Error for ('6lqr', 'RN', 'Q99207')\n",
      "  * Error for ('6lqr', 'RO', 'Q06512')\n",
      "  * Error for ('6lqs', '3B', 'P15646')\n",
      "  * Error for ('6lqs', 'M4', 'P47047')\n",
      "  * Error for ('6lqs', 'RN', 'Q99207')\n",
      "  * Error for ('6lqs', 'RO', 'Q06512')\n",
      "  * Error for ('6lqt', '3B', 'P15646')\n",
      "  * Error for ('6lqt', 'RN', 'Q99207')\n",
      "  * Error for ('6lqu', '3B', 'P15646')\n",
      "  * Error for ('6lqu', 'RI', 'P36144')\n",
      "  * Error for ('6lqu', 'RN', 'Q99207')\n",
      "  * Error for ('6lqu', 'RO', 'Q06512')\n",
      "  * Error for ('6lqv', '3B', 'P15646')\n",
      "  * Error for ('6lqv', 'RN', 'Q99207')\n",
      "  * Error for ('6lqv', 'RO', 'Q06512')\n"
     ]
    },
    {
     "name": "stderr",
     "output_type": "stream",
     "text": [
      " 72%|███████▏  | 59850/83655 [39:51<02:49, 140.11it/s]"
     ]
    },
    {
     "name": "stdout",
     "output_type": "stream",
     "text": [
      "  * Error for ('6lsr', '0', 'Q969S3')\n",
      "  * Error for ('6lsr', '1', 'Q9H089')\n",
      "  * Error for ('6lsr', '3', 'Q96D46')\n",
      "  * Error for ('6lsr', '6', 'P56537')\n",
      "  * Error for ('6lsr', 'A', 'P62906')\n",
      "  * Error for ('6lsr', 'B', 'P39023')\n",
      "  * Error for ('6lsr', 'C', 'P47914')\n",
      "  * Error for ('6lsr', 'D', 'P36578')\n",
      "  * Error for ('6lsr', 'G', 'P62424')\n",
      "  * Error for ('6lsr', 'H', 'P42766')\n",
      "  * Error for ('6lsr', 'I', 'P32969')\n",
      "  * Error for ('6lsr', 'K', 'Q9Y3U8')\n",
      "  * Error for ('6lsr', 'L', 'P46776')\n",
      "  * Error for ('6lsr', 'O', 'P63173')\n",
      "  * Error for ('6lsr', 'Q', 'P26373')\n",
      "  * Error for ('6lsr', 'S', 'P50914')\n",
      "  * Error for ('6lsr', 'V', 'P40429')\n",
      "  * Error for ('6lsr', 'Y', 'P18621')\n",
      "  * Error for ('6lsr', 'Z', 'Q07020')\n",
      "  * Error for ('6lsr', 'b', 'Q02543')\n",
      "  * Error for ('6lsr', 'd', 'P35268')\n",
      "  * Error for ('6lsr', 'l', 'P46779')\n",
      "  * Error for ('6lsr', 'r', 'P46777')\n",
      "  * Error for ('6lsr', 'u', 'P18077')\n",
      "  * Error for ('6lsr', 'v', 'Q02878')\n",
      "  * Error for ('6lsr', 'w', 'P18124')\n",
      "  * Error for ('6lsr', 'z', 'Q9UQ80')\n",
      "  * Error for ('6lss', '1', 'Q13823')\n",
      "  * Error for ('6lss', '4', 'Q9BZE4')\n",
      "  * Error for ('6lss', '6', 'P56537')\n",
      "  * Error for ('6lss', '7', 'Q9UHA3')\n",
      "  * Error for ('6lss', '9', 'O00488')\n",
      "  * Error for ('6lss', 'B', 'P39023')\n",
      "  * Error for ('6lss', 'C', 'P47914')\n",
      "  * Error for ('6lss', 'D', 'P36578')\n",
      "  * Error for ('6lss', 'G', 'P62424')\n",
      "  * Error for ('6lss', 'H', 'P42766')\n",
      "  * Error for ('6lss', 'I', 'P32969')\n",
      "  * Error for ('6lss', 'K', 'Q9Y3U8')\n",
      "  * Error for ('6lss', 'L', 'P46776')\n",
      "  * Error for ('6lss', 'O', 'P63173')\n",
      "  * Error for ('6lss', 'Q', 'P26373')\n",
      "  * Error for ('6lss', 'R', 'Q96EY4')\n",
      "  * Error for ('6lss', 'S', 'P50914')\n",
      "  * Error for ('6lss', 'Y', 'P18621')\n",
      "  * Error for ('6lss', 'Z', 'Q07020')\n",
      "  * Error for ('6lss', 'b', 'Q02543')\n",
      "  * Error for ('6lss', 'd', 'P35268')\n",
      "  * Error for ('6lss', 'l', 'P46779')\n",
      "  * Error for ('6lss', 'n', 'P18077')\n",
      "  * Error for ('6lss', 'o', 'Q02878')\n",
      "  * Error for ('6lss', 'p', 'P18124')\n",
      "  * Error for ('6lss', 'r', 'P46777')\n",
      "  * Error for ('6lss', 'z', 'Q9BRT6')\n"
     ]
    },
    {
     "name": "stderr",
     "output_type": "stream",
     "text": [
      " 72%|███████▏  | 59914/83655 [39:52<06:35, 59.96it/s] "
     ]
    },
    {
     "name": "stdout",
     "output_type": "stream",
     "text": [
      "  * Error for ('6lu8', '1', 'Q13823')\n",
      "  * Error for ('6lu8', '3', 'Q96D46')\n",
      "  * Error for ('6lu8', '4', 'Q9BZE4')\n",
      "  * Error for ('6lu8', '6', 'P56537')\n",
      "  * Error for ('6lu8', '7', 'Q9UHA3')\n",
      "  * Error for ('6lu8', '9', 'O00488')\n",
      "  * Error for ('6lu8', 'A', 'P62906')\n",
      "  * Error for ('6lu8', 'B', 'P39023')\n",
      "  * Error for ('6lu8', 'C', 'P47914')\n",
      "  * Error for ('6lu8', 'D', 'P36578')\n",
      "  * Error for ('6lu8', 'G', 'P62424')\n",
      "  * Error for ('6lu8', 'H', 'P42766')\n",
      "  * Error for ('6lu8', 'I', 'P32969')\n",
      "  * Error for ('6lu8', 'K', 'Q9Y3U8')\n",
      "  * Error for ('6lu8', 'L', 'P46776')\n",
      "  * Error for ('6lu8', 'O', 'P63173')\n",
      "  * Error for ('6lu8', 'Q', 'P26373')\n",
      "  * Error for ('6lu8', 'R', 'Q96EY4')\n",
      "  * Error for ('6lu8', 'S', 'P50914')\n",
      "  * Error for ('6lu8', 'Y', 'P18621')\n",
      "  * Error for ('6lu8', 'Z', 'Q07020')\n",
      "  * Error for ('6lu8', 'b', 'Q02543')\n",
      "  * Error for ('6lu8', 'd', 'P35268')\n",
      "  * Error for ('6lu8', 'l', 'P46779')\n",
      "  * Error for ('6lu8', 'n', 'P18077')\n",
      "  * Error for ('6lu8', 'o', 'Q02878')\n",
      "  * Error for ('6lu8', 'p', 'P18124')\n",
      "  * Error for ('6lu8', 'r', 'P46777')\n",
      "  * Error for ('6lu8', 'z', 'Q9BRT6')\n"
     ]
    },
    {
     "name": "stderr",
     "output_type": "stream",
     "text": [
      " 72%|███████▏  | 60050/83655 [39:54<05:24, 72.83it/s]"
     ]
    },
    {
     "name": "stdout",
     "output_type": "stream",
     "text": [
      "  * Error for ('6m2w', 'B', 'P68106')\n"
     ]
    },
    {
     "name": "stderr",
     "output_type": "stream",
     "text": [
      " 72%|███████▏  | 60101/83655 [39:55<05:45, 68.08it/s]"
     ]
    },
    {
     "name": "stdout",
     "output_type": "stream",
     "text": [
      "  * Error for ('6m62', 'q', 'Q12080')\n",
      "  * Error for ('6m62', 'r', 'P40078')\n",
      "  * Error for ('6m62', 's', 'P40010')\n",
      "  * Error for ('6m62', 'v', 'P36160')\n",
      "  * Error for ('6m62', 'w', 'Q08746')\n"
     ]
    },
    {
     "name": "stderr",
     "output_type": "stream",
     "text": [
      " 72%|███████▏  | 60141/83655 [39:55<04:17, 91.32it/s]"
     ]
    },
    {
     "name": "stdout",
     "output_type": "stream",
     "text": [
      "  * Error for ('6m8p', 'A', 'Q9NZ08')\n",
      "  * Error for ('6m8p', 'A', 'Q9NZ08')\n",
      "  * Error for ('6m8p', 'A', 'Q9NZ08')\n",
      "  * Error for ('6m8p', 'A', 'Q9NZ08')\n"
     ]
    },
    {
     "name": "stderr",
     "output_type": "stream",
     "text": [
      " 72%|███████▏  | 60590/83655 [40:00<05:06, 75.18it/s]"
     ]
    },
    {
     "name": "stdout",
     "output_type": "stream",
     "text": [
      "  * Error for ('6msb', 'A', 'P35998')\n",
      "  * Error for ('6msb', 'D', 'P43686')\n",
      "  * Error for ('6msb', 'E', 'P62333')\n",
      "  * Error for ('6msb', 'F', 'P17980')\n",
      "  * Error for ('6msb', 'H', 'P25787')\n",
      "  * Error for ('6msb', 'I', 'P25789')\n",
      "  * Error for ('6msb', 'J', 'O14818')\n",
      "  * Error for ('6msb', 'L', 'P25786')\n",
      "  * Error for ('6msb', 'M', 'P25788')\n",
      "  * Error for ('6msb', 'N', 'P28072')\n",
      "  * Error for ('6msb', 'O', 'Q99436')\n",
      "  * Error for ('6msb', 'P', 'P49720')\n",
      "  * Error for ('6msb', 'Q', 'P49721')\n",
      "  * Error for ('6msb', 'S', 'P20618')\n",
      "  * Error for ('6msb', 'T', 'P28070')\n",
      "  * Error for ('6msb', 'U', 'Q99460')\n",
      "  * Error for ('6msb', 'V', 'O43242')\n",
      "  * Error for ('6msb', 'W', 'O00232')\n",
      "  * Error for ('6msb', 'Z', 'P51665')\n",
      "  * Error for ('6msb', 'a', 'Q9UNM6')\n",
      "  * Error for ('6msb', 'b', 'P55036')\n",
      "  * Error for ('6msb', 'c', 'O00487')\n",
      "  * Error for ('6msb', 'd', 'P48556')\n",
      "  * Error for ('6msb', 'e', 'P60896')\n",
      "  * Error for ('6msb', 'f', 'Q13200')\n",
      "  * Error for ('6msb', 'u', 'P0CG47')\n",
      "  * Error for ('6msd', 'A', 'P35998')\n",
      "  * Error for ('6msd', 'D', 'P43686')\n",
      "  * Error for ('6msd', 'E', 'P62333')\n",
      "  * Error for ('6msd', 'F', 'P17980')\n",
      "  * Error for ('6msd', 'H', 'P25787')\n",
      "  * Error for ('6msd', 'I', 'P25789')\n",
      "  * Error for ('6msd', 'J', 'O14818')\n",
      "  * Error for ('6msd', 'L', 'P25786')\n",
      "  * Error for ('6msd', 'M', 'P25788')\n",
      "  * Error for ('6msd', 'N', 'P28072')\n",
      "  * Error for ('6msd', 'O', 'Q99436')\n",
      "  * Error for ('6msd', 'P', 'P49720')\n",
      "  * Error for ('6msd', 'Q', 'P49721')\n",
      "  * Error for ('6msd', 'S', 'P20618')\n",
      "  * Error for ('6msd', 'T', 'P28070')\n",
      "  * Error for ('6msd', 'U', 'Q99460')\n",
      "  * Error for ('6msd', 'V', 'O43242')\n",
      "  * Error for ('6msd', 'W', 'O00232')\n",
      "  * Error for ('6msd', 'Z', 'P51665')\n",
      "  * Error for ('6msd', 'a', 'Q9UNM6')\n",
      "  * Error for ('6msd', 'b', 'P55036')\n",
      "  * Error for ('6msd', 'c', 'O00487')\n",
      "  * Error for ('6msd', 'd', 'P48556')\n",
      "  * Error for ('6msd', 'e', 'P60896')\n",
      "  * Error for ('6msd', 'f', 'Q13200')\n",
      "  * Error for ('6msd', 'u', 'P0CG47')\n",
      "  * Error for ('6mse', 'A', 'P35998')\n",
      "  * Error for ('6mse', 'D', 'P43686')\n",
      "  * Error for ('6mse', 'E', 'P62333')\n",
      "  * Error for ('6mse', 'F', 'P17980')\n",
      "  * Error for ('6mse', 'H', 'P25787')\n",
      "  * Error for ('6mse', 'I', 'P25789')\n",
      "  * Error for ('6mse', 'J', 'O14818')\n",
      "  * Error for ('6mse', 'L', 'P25786')\n",
      "  * Error for ('6mse', 'M', 'P25788')\n",
      "  * Error for ('6mse', 'N', 'P28072')\n",
      "  * Error for ('6mse', 'O', 'Q99436')\n",
      "  * Error for ('6mse', 'P', 'P49720')\n",
      "  * Error for ('6mse', 'Q', 'P49721')\n",
      "  * Error for ('6mse', 'S', 'P20618')\n",
      "  * Error for ('6mse', 'T', 'P28070')\n",
      "  * Error for ('6mse', 'U', 'Q99460')\n",
      "  * Error for ('6mse', 'V', 'O43242')\n",
      "  * Error for ('6mse', 'W', 'O00232')\n",
      "  * Error for ('6mse', 'Z', 'P51665')\n",
      "  * Error for ('6mse', 'a', 'Q9UNM6')\n",
      "  * Error for ('6mse', 'b', 'P55036')\n",
      "  * Error for ('6mse', 'c', 'O00487')\n",
      "  * Error for ('6mse', 'd', 'P48556')\n",
      "  * Error for ('6mse', 'e', 'P60896')\n",
      "  * Error for ('6mse', 'f', 'Q13200')\n",
      "  * Error for ('6mse', 'u', 'P0CG47')\n",
      "  * Error for ('6msg', 'A', 'P35998')\n",
      "  * Error for ('6msg', 'D', 'P43686')\n",
      "  * Error for ('6msg', 'E', 'P62333')\n",
      "  * Error for ('6msg', 'F', 'P17980')\n",
      "  * Error for ('6msg', 'H', 'P25787')\n",
      "  * Error for ('6msg', 'I', 'P25789')\n",
      "  * Error for ('6msg', 'J', 'O14818')\n",
      "  * Error for ('6msg', 'L', 'P25786')\n",
      "  * Error for ('6msg', 'M', 'P25788')\n",
      "  * Error for ('6msg', 'N', 'P28072')\n",
      "  * Error for ('6msg', 'O', 'Q99436')\n",
      "  * Error for ('6msg', 'P', 'P49720')\n",
      "  * Error for ('6msg', 'Q', 'P49721')\n",
      "  * Error for ('6msg', 'S', 'P20618')\n",
      "  * Error for ('6msg', 'T', 'P28070')\n",
      "  * Error for ('6msg', 'U', 'Q99460')\n",
      "  * Error for ('6msg', 'V', 'O43242')\n",
      "  * Error for ('6msg', 'W', 'O00232')\n",
      "  * Error for ('6msg', 'Z', 'P51665')\n",
      "  * Error for ('6msg', 'a', 'Q9UNM6')\n",
      "  * Error for ('6msg', 'b', 'P55036')\n",
      "  * Error for ('6msg', 'c', 'O00487')\n",
      "  * Error for ('6msg', 'd', 'P48556')\n",
      "  * Error for ('6msg', 'e', 'P60896')\n",
      "  * Error for ('6msg', 'f', 'Q13200')\n",
      "  * Error for ('6msg', 'u', 'P0CG47')\n",
      "  * Error for ('6msh', 'A', 'P35998')\n",
      "  * Error for ('6msh', 'D', 'P43686')\n",
      "  * Error for ('6msh', 'E', 'P62333')\n",
      "  * Error for ('6msh', 'F', 'P17980')\n",
      "  * Error for ('6msh', 'H', 'P25787')\n",
      "  * Error for ('6msh', 'I', 'P25789')\n",
      "  * Error for ('6msh', 'J', 'O14818')\n",
      "  * Error for ('6msh', 'L', 'P25786')\n",
      "  * Error for ('6msh', 'M', 'P25788')\n",
      "  * Error for ('6msh', 'N', 'P28072')\n",
      "  * Error for ('6msh', 'O', 'Q99436')\n",
      "  * Error for ('6msh', 'P', 'P49720')\n",
      "  * Error for ('6msh', 'Q', 'P49721')\n",
      "  * Error for ('6msh', 'S', 'P20618')\n",
      "  * Error for ('6msh', 'T', 'P28070')\n",
      "  * Error for ('6msh', 'U', 'Q99460')\n",
      "  * Error for ('6msh', 'V', 'O43242')\n",
      "  * Error for ('6msh', 'W', 'O00232')\n",
      "  * Error for ('6msh', 'Z', 'P51665')\n",
      "  * Error for ('6msh', 'a', 'Q9UNM6')\n",
      "  * Error for ('6msh', 'b', 'P55036')\n",
      "  * Error for ('6msh', 'c', 'O00487')\n",
      "  * Error for ('6msh', 'd', 'P48556')\n",
      "  * Error for ('6msh', 'e', 'P60896')\n",
      "  * Error for ('6msh', 'f', 'Q13200')\n",
      "  * Error for ('6msj', 'A', 'P35998')\n",
      "  * Error for ('6msj', 'D', 'P43686')\n",
      "  * Error for ('6msj', 'E', 'P62333')\n",
      "  * Error for ('6msj', 'F', 'P17980')\n",
      "  * Error for ('6msj', 'H', 'P25787')\n",
      "  * Error for ('6msj', 'I', 'P25789')\n",
      "  * Error for ('6msj', 'J', 'O14818')\n",
      "  * Error for ('6msj', 'L', 'P25786')\n",
      "  * Error for ('6msj', 'M', 'P25788')\n",
      "  * Error for ('6msj', 'N', 'P28072')\n",
      "  * Error for ('6msj', 'O', 'Q99436')\n",
      "  * Error for ('6msj', 'P', 'P49720')\n",
      "  * Error for ('6msj', 'Q', 'P49721')\n",
      "  * Error for ('6msj', 'S', 'P20618')\n",
      "  * Error for ('6msj', 'T', 'P28070')\n",
      "  * Error for ('6msj', 'U', 'Q99460')\n",
      "  * Error for ('6msj', 'V', 'O43242')\n",
      "  * Error for ('6msj', 'W', 'O00232')\n",
      "  * Error for ('6msj', 'Z', 'P51665')\n",
      "  * Error for ('6msj', 'a', 'Q9UNM6')\n",
      "  * Error for ('6msj', 'b', 'P55036')\n",
      "  * Error for ('6msj', 'c', 'O00487')\n",
      "  * Error for ('6msj', 'd', 'P48556')\n",
      "  * Error for ('6msj', 'e', 'P60896')\n",
      "  * Error for ('6msj', 'f', 'Q13200')\n",
      "  * Error for ('6msk', 'A', 'P35998')\n",
      "  * Error for ('6msk', 'D', 'P43686')\n",
      "  * Error for ('6msk', 'E', 'P62333')\n",
      "  * Error for ('6msk', 'F', 'P17980')\n",
      "  * Error for ('6msk', 'H', 'P25787')\n",
      "  * Error for ('6msk', 'I', 'P25789')\n",
      "  * Error for ('6msk', 'J', 'O14818')\n",
      "  * Error for ('6msk', 'L', 'P25786')\n",
      "  * Error for ('6msk', 'M', 'P25788')\n",
      "  * Error for ('6msk', 'N', 'P28072')\n",
      "  * Error for ('6msk', 'O', 'Q99436')\n",
      "  * Error for ('6msk', 'P', 'P49720')\n",
      "  * Error for ('6msk', 'Q', 'P49721')\n",
      "  * Error for ('6msk', 'S', 'P20618')\n",
      "  * Error for ('6msk', 'T', 'P28070')\n",
      "  * Error for ('6msk', 'U', 'Q99460')\n",
      "  * Error for ('6msk', 'V', 'O43242')\n",
      "  * Error for ('6msk', 'W', 'O00232')\n",
      "  * Error for ('6msk', 'Z', 'P51665')\n",
      "  * Error for ('6msk', 'a', 'Q9UNM6')\n",
      "  * Error for ('6msk', 'b', 'P55036')\n",
      "  * Error for ('6msk', 'c', 'O00487')\n",
      "  * Error for ('6msk', 'd', 'P48556')\n",
      "  * Error for ('6msk', 'e', 'P60896')\n",
      "  * Error for ('6msk', 'f', 'Q13200')\n"
     ]
    },
    {
     "name": "stderr",
     "output_type": "stream",
     "text": [
      " 73%|███████▎  | 60864/83655 [40:07<06:23, 59.41it/s]"
     ]
    },
    {
     "name": "stdout",
     "output_type": "stream",
     "text": [
      "  * Error for ('6n8j', 'r', 'P40078')\n",
      "  * Error for ('6n8m', 'Y', 'Q02256')\n",
      "  * Error for ('6n8n', 'Y', 'Q02256')\n",
      "  * Error for ('6n8o', 'Y', 'Q02256')\n"
     ]
    },
    {
     "name": "stderr",
     "output_type": "stream",
     "text": [
      " 73%|███████▎  | 61384/83655 [40:18<08:03, 46.10it/s]"
     ]
    },
    {
     "name": "stdout",
     "output_type": "stream",
     "text": [
      "  * Error for ('6nu2', '0', 'Q9BYC8')\n",
      "  * Error for ('6nu2', '1', 'O75394')\n",
      "  * Error for ('6nu2', '2', 'Q9BQ48')\n",
      "  * Error for ('6nu2', '3', 'Q9NZE8')\n",
      "  * Error for ('6nu2', '5', 'Q9BZE1')\n",
      "  * Error for ('6nu2', '6', 'Q96DV4')\n",
      "  * Error for ('6nu2', '7', 'Q9NYK5')\n",
      "  * Error for ('6nu2', '8', 'Q9NQ50')\n",
      "  * Error for ('6nu2', '9', 'Q8IXM3')\n",
      "  * Error for ('6nu2', 'A0', 'P82930')\n",
      "  * Error for ('6nu2', 'A1', 'P82673')\n",
      "  * Error for ('6nu2', 'A2', 'Q96BP2')\n",
      "  * Error for ('6nu2', 'A3', 'Q9NWT8')\n",
      "  * Error for ('6nu2', 'A4', 'Q96EY7')\n",
      "  * Error for ('6nu2', 'AB', 'Q9Y399')\n",
      "  * Error for ('6nu2', 'AC', 'Q96EL2')\n",
      "  * Error for ('6nu2', 'AD', 'P82675')\n",
      "  * Error for ('6nu2', 'AE', 'P82932')\n",
      "  * Error for ('6nu2', 'AG', 'P82933')\n",
      "  * Error for ('6nu2', 'AI', 'P82912')\n",
      "  * Error for ('6nu2', 'AK', 'O60783')\n",
      "  * Error for ('6nu2', 'AL', 'P82914')\n",
      "  * Error for ('6nu2', 'AN', 'Q9Y2R5')\n",
      "  * Error for ('6nu2', 'AO', 'Q9Y676')\n",
      "  * Error for ('6nu2', 'AP', 'Q9Y3D5')\n",
      "  * Error for ('6nu2', 'AQ', 'P82921')\n",
      "  * Error for ('6nu2', 'AR', 'P82650')\n",
      "  * Error for ('6nu2', 'AS', 'Q9Y3D9')\n",
      "  * Error for ('6nu2', 'AT', 'P82663')\n",
      "  * Error for ('6nu2', 'AU', 'Q9BYN8')\n",
      "  * Error for ('6nu2', 'AV', 'Q92552')\n",
      "  * Error for ('6nu2', 'AW', 'Q9Y2Q9')\n",
      "  * Error for ('6nu2', 'AX', 'P51398')\n",
      "  * Error for ('6nu2', 'AZ', 'Q9Y291')\n",
      "  * Error for ('6nu2', 'D', 'Q5T653')\n",
      "  * Error for ('6nu2', 'E', 'P09001')\n",
      "  * Error for ('6nu2', 'F', 'Q9BYD3')\n",
      "  * Error for ('6nu2', 'I', 'Q7Z7H8')\n",
      "  * Error for ('6nu2', 'J', 'Q9Y3B7')\n",
      "  * Error for ('6nu2', 'K', 'Q9BYD1')\n",
      "  * Error for ('6nu2', 'L', 'Q6P1L8')\n",
      "  * Error for ('6nu2', 'N', 'Q9NX20')\n",
      "  * Error for ('6nu2', 'O', 'Q9NRX2')\n",
      "  * Error for ('6nu2', 'P', 'Q9H0U6')\n",
      "  * Error for ('6nu2', 'Q', 'P49406')\n",
      "  * Error for ('6nu2', 'S', 'Q7Z2W9')\n",
      "  * Error for ('6nu2', 'T', 'Q9NWU5')\n",
      "  * Error for ('6nu2', 'U', 'Q16540')\n",
      "  * Error for ('6nu2', 'V', 'Q96A35')\n",
      "  * Error for ('6nu2', 'X', 'Q13084')\n",
      "  * Error for ('6nu2', 'Y', 'Q9HD33')\n",
      "  * Error for ('6nu2', 'Z', 'Q8TCC3')\n",
      "  * Error for ('6nu2', 'b', 'Q8N983')\n",
      "  * Error for ('6nu2', 'c', 'Q9H9J2')\n",
      "  * Error for ('6nu2', 'd', 'Q9BRJ2')\n",
      "  * Error for ('6nu2', 'e', 'Q9H2W6')\n",
      "  * Error for ('6nu2', 'f', 'Q96GC5')\n",
      "  * Error for ('6nu2', 'g', 'Q13405')\n",
      "  * Error for ('6nu2', 'h', 'Q8N5N7')\n",
      "  * Error for ('6nu2', 'j', 'Q86TS9')\n",
      "  * Error for ('6nu2', 'k', 'Q96EL3')\n",
      "  * Error for ('6nu2', 'l', 'Q6P161')\n",
      "  * Error for ('6nu2', 'm', 'Q7Z7F7')\n",
      "  * Error for ('6nu2', 'o', 'Q9BQC6')\n",
      "  * Error for ('6nu2', 'q', 'Q8TAE8')\n",
      "  * Error for ('6nu2', 's', 'Q9NP92')\n",
      "  * Error for ('6nu2', 'z', 'Q96E11')\n",
      "  * Error for ('6nu3', '0', 'Q9BYC8')\n",
      "  * Error for ('6nu3', '1', 'O75394')\n",
      "  * Error for ('6nu3', '2', 'Q9BQ48')\n",
      "  * Error for ('6nu3', '5', 'Q9BZE1')\n",
      "  * Error for ('6nu3', '6', 'Q96DV4')\n",
      "  * Error for ('6nu3', '7', 'Q9NYK5')\n",
      "  * Error for ('6nu3', '8', 'Q9NQ50')\n",
      "  * Error for ('6nu3', '9', 'Q8IXM3')\n",
      "  * Error for ('6nu3', 'A1', 'P82673')\n",
      "  * Error for ('6nu3', 'A2', 'Q96BP2')\n",
      "  * Error for ('6nu3', 'A3', 'Q9NWT8')\n",
      "  * Error for ('6nu3', 'A4', 'Q96EY7')\n",
      "  * Error for ('6nu3', 'AB', 'Q9Y399')\n",
      "  * Error for ('6nu3', 'AC', 'Q96EL2')\n",
      "  * Error for ('6nu3', 'AD', 'P82675')\n",
      "  * Error for ('6nu3', 'AE', 'P82932')\n",
      "  * Error for ('6nu3', 'AF', 'Q9Y2R9')\n",
      "  * Error for ('6nu3', 'AG', 'P82933')\n",
      "  * Error for ('6nu3', 'AH', 'P82664')\n",
      "  * Error for ('6nu3', 'AI', 'P82912')\n",
      "  * Error for ('6nu3', 'AJ', 'O15235')\n",
      "  * Error for ('6nu3', 'AK', 'O60783')\n",
      "  * Error for ('6nu3', 'AL', 'P82914')\n",
      "  * Error for ('6nu3', 'AN', 'Q9Y2R5')\n",
      "  * Error for ('6nu3', 'AO', 'Q9Y676')\n",
      "  * Error for ('6nu3', 'AP', 'Q9Y3D5')\n",
      "  * Error for ('6nu3', 'AQ', 'P82921')\n",
      "  * Error for ('6nu3', 'AR', 'P82650')\n",
      "  * Error for ('6nu3', 'AS', 'Q9Y3D9')\n",
      "  * Error for ('6nu3', 'AT', 'P82663')\n",
      "  * Error for ('6nu3', 'AU', 'Q9BYN8')\n",
      "  * Error for ('6nu3', 'AV', 'Q92552')\n",
      "  * Error for ('6nu3', 'AW', 'Q9Y2Q9')\n",
      "  * Error for ('6nu3', 'AX', 'P51398')\n",
      "  * Error for ('6nu3', 'AY', 'Q92665')\n",
      "  * Error for ('6nu3', 'AZ', 'Q9Y291')\n",
      "  * Error for ('6nu3', 'D', 'Q5T653')\n",
      "  * Error for ('6nu3', 'E', 'P09001')\n",
      "  * Error for ('6nu3', 'F', 'Q9BYD3')\n",
      "  * Error for ('6nu3', 'H', 'Q9BYD2')\n",
      "  * Error for ('6nu3', 'I', 'Q7Z7H8')\n",
      "  * Error for ('6nu3', 'J', 'Q9Y3B7')\n",
      "  * Error for ('6nu3', 'K', 'Q9BYD1')\n",
      "  * Error for ('6nu3', 'L', 'Q6P1L8')\n",
      "  * Error for ('6nu3', 'N', 'Q9NX20')\n",
      "  * Error for ('6nu3', 'O', 'Q9NRX2')\n",
      "  * Error for ('6nu3', 'P', 'Q9H0U6')\n",
      "  * Error for ('6nu3', 'Q', 'P49406')\n",
      "  * Error for ('6nu3', 'R', 'Q9BYC9')\n",
      "  * Error for ('6nu3', 'U', 'Q16540')\n",
      "  * Error for ('6nu3', 'V', 'Q96A35')\n",
      "  * Error for ('6nu3', 'W', 'Q9P0M9')\n",
      "  * Error for ('6nu3', 'X', 'Q13084')\n",
      "  * Error for ('6nu3', 'Y', 'Q9HD33')\n",
      "  * Error for ('6nu3', 'Z', 'Q8TCC3')\n",
      "  * Error for ('6nu3', 'b', 'Q8N983')\n",
      "  * Error for ('6nu3', 'c', 'Q9H9J2')\n",
      "  * Error for ('6nu3', 'd', 'Q9BRJ2')\n",
      "  * Error for ('6nu3', 'e', 'Q9H2W6')\n",
      "  * Error for ('6nu3', 'f', 'Q96GC5')\n",
      "  * Error for ('6nu3', 'g', 'Q13405')\n",
      "  * Error for ('6nu3', 'h', 'Q8N5N7')\n",
      "  * Error for ('6nu3', 'j', 'Q86TS9')\n",
      "  * Error for ('6nu3', 'k', 'Q96EL3')\n",
      "  * Error for ('6nu3', 'o', 'Q9BQC6')\n",
      "  * Error for ('6nu3', 'q', 'Q8TAE8')\n",
      "  * Error for ('6nu3', 'r', 'Q9NVS2')\n",
      "  * Error for ('6nu3', 's', 'Q9NP92')\n"
     ]
    },
    {
     "name": "stderr",
     "output_type": "stream",
     "text": [
      " 74%|███████▎  | 61532/83655 [40:20<05:22, 68.67it/s]"
     ]
    },
    {
     "name": "stdout",
     "output_type": "stream",
     "text": [
      "  * Error for ('6o2s', '1A', 'Q2XVP4')\n",
      "  * Error for ('6o2s', '1H', 'P02554')\n",
      "  * Error for ('6o2t', '1A', 'Q2XVP4')\n",
      "  * Error for ('6o2t', '1H', 'P02554')\n"
     ]
    },
    {
     "name": "stderr",
     "output_type": "stream",
     "text": [
      " 74%|███████▍  | 61844/83655 [40:30<05:02, 72.05it/s]"
     ]
    },
    {
     "name": "stdout",
     "output_type": "stream",
     "text": [
      "  * Error for ('6oif', 'A', 'O14656')\n"
     ]
    },
    {
     "name": "stderr",
     "output_type": "stream",
     "text": [
      "\r",
      " 74%|███████▍  | 62042/83655 [40:31<03:37, 99.41it/s]"
     ]
    },
    {
     "name": "stdout",
     "output_type": "stream",
     "text": [
      "  * Error for ('6ole', 'B', 'P39023')\n",
      "  * Error for ('6ole', 'C', 'P36578')\n",
      "  * Error for ('6ole', 'F', 'P46777')\n",
      "  * Error for ('6ole', 'G', 'Q02878')\n",
      "  * Error for ('6ole', 'H', 'P18124')\n",
      "  * Error for ('6ole', 'I', 'P62424')\n",
      "  * Error for ('6ole', 'J', 'P32969')\n",
      "  * Error for ('6ole', 'K', 'P27635')\n",
      "  * Error for ('6ole', 'M', 'P26373')\n",
      "  * Error for ('6ole', 'N', 'P50914')\n",
      "  * Error for ('6ole', 'P', 'P40429')\n",
      "  * Error for ('6ole', 'Q', 'P18621')\n",
      "  * Error for ('6ole', 'R', 'Q07020')\n",
      "  * Error for ('6ole', 'SA', 'P08865')\n",
      "  * Error for ('6ole', 'SB', 'P61247')\n",
      "  * Error for ('6ole', 'SC', 'P15880')\n",
      "  * Error for ('6ole', 'SF', 'P46782')\n",
      "  * Error for ('6ole', 'SK', 'P46783')\n",
      "  * Error for ('6ole', 'SR', 'P08708')\n",
      "  * Error for ('6ole', 'ST', 'P39019')\n",
      "  * Error for ('6ole', 'Se', 'P62861')\n",
      "  * Error for ('6ole', 'Sf', 'P62979')\n",
      "  * Error for ('6ole', 'T', 'Q02543')\n",
      "  * Error for ('6ole', 'V', 'P35268')\n",
      "  * Error for ('6ole', 'b', 'P46776')\n",
      "  * Error for ('6ole', 'c', 'P47914')\n",
      "  * Error for ('6ole', 'g', 'P18077')\n",
      "  * Error for ('6ole', 'i', 'P42766')\n",
      "  * Error for ('6ole', 'j', 'Q9Y3U8')\n",
      "  * Error for ('6ole', 'l', 'P63173')\n",
      "  * Error for ('6ole', 'y', 'P12830')\n",
      "  * Error for ('6ole', 'y', 'P12830')\n",
      "  * Error for ('6olf', 'B', 'P39023')\n",
      "  * Error for ('6olf', 'C', 'P36578')\n",
      "  * Error for ('6olf', 'F', 'P46777')\n",
      "  * Error for ('6olf', 'G', 'Q02878')\n",
      "  * Error for ('6olf', 'H', 'P18124')\n",
      "  * Error for ('6olf', 'I', 'P62424')\n",
      "  * Error for ('6olf', 'J', 'P32969')\n",
      "  * Error for ('6olf', 'K', 'P27635')\n",
      "  * Error for ('6olf', 'M', 'P26373')\n",
      "  * Error for ('6olf', 'N', 'P50914')\n",
      "  * Error for ('6olf', 'P', 'P40429')\n",
      "  * Error for ('6olf', 'Q', 'P18621')\n",
      "  * Error for ('6olf', 'R', 'Q07020')\n",
      "  * Error for ('6olf', 'SA', 'P08865')\n",
      "  * Error for ('6olf', 'SB', 'P61247')\n",
      "  * Error for ('6olf', 'SC', 'P15880')\n",
      "  * Error for ('6olf', 'SF', 'P46782')\n",
      "  * Error for ('6olf', 'SK', 'P46783')\n",
      "  * Error for ('6olf', 'SR', 'P08708')\n",
      "  * Error for ('6olf', 'ST', 'P39019')\n",
      "  * Error for ('6olf', 'Se', 'P62861')\n",
      "  * Error for ('6olf', 'Sf', 'P62979')\n",
      "  * Error for ('6olf', 'T', 'Q02543')\n",
      "  * Error for ('6olf', 'V', 'P35268')\n",
      "  * Error for ('6olf', 'b', 'P46776')\n",
      "  * Error for ('6olf', 'c', 'P47914')\n",
      "  * Error for ('6olf', 'g', 'P18077')\n",
      "  * Error for ('6olf', 'i', 'P42766')\n",
      "  * Error for ('6olf', 'j', 'Q9Y3U8')\n",
      "  * Error for ('6olf', 'l', 'P63173')\n",
      "  * Error for ('6olf', 'y', 'P12830')\n",
      "  * Error for ('6olf', 'y', 'P12830')\n",
      "  * Error for ('6olg', 'A', 'P12830')\n",
      "  * Error for ('6olg', 'A', 'P12830')\n",
      "  * Error for ('6olg', 'AB', 'P39023')\n",
      "  * Error for ('6olg', 'AC', 'P36578')\n",
      "  * Error for ('6olg', 'AD', 'P46777')\n",
      "  * Error for ('6olg', 'AE', 'Q02878')\n",
      "  * Error for ('6olg', 'AF', 'P18124')\n",
      "  * Error for ('6olg', 'AH', 'P32969')\n",
      "  * Error for ('6olg', 'AI', 'P27635')\n",
      "  * Error for ('6olg', 'AK', 'P05388')\n",
      "  * Error for ('6olg', 'AL', 'P26373')\n",
      "  * Error for ('6olg', 'AM', 'P50914')\n",
      "  * Error for ('6olg', 'AO', 'P40429')\n",
      "  * Error for ('6olg', 'AP', 'P18621')\n",
      "  * Error for ('6olg', 'AQ', 'Q07020')\n",
      "  * Error for ('6olg', 'AS', 'Q02543')\n",
      "  * Error for ('6olg', 'AU', 'P35268')\n",
      "  * Error for ('6olg', 'Aa', 'P46776')\n",
      "  * Error for ('6olg', 'Ab', 'P47914')\n",
      "  * Error for ('6olg', 'Ah', 'P42766')\n",
      "  * Error for ('6olg', 'Ai', 'Q9Y3U8')\n",
      "  * Error for ('6olg', 'Ak', 'P63173')\n",
      "  * Error for ('6olg', 'Aq', 'P30050')\n",
      "  * Error for ('6olg', 'Au', 'P62906')\n",
      "  * Error for ('6olg', 'BA', 'P08865')\n",
      "  * Error for ('6olg', 'BB', 'P61247')\n",
      "  * Error for ('6olg', 'BC', 'P15880')\n",
      "  * Error for ('6olg', 'BE', 'P22090')\n",
      "  * Error for ('6olg', 'BF', 'P46782')\n",
      "  * Error for ('6olg', 'BK', 'P46783')\n",
      "  * Error for ('6olg', 'BR', 'P08708')\n",
      "  * Error for ('6olg', 'BT', 'P39019')\n",
      "  * Error for ('6olg', 'Be', 'P62861')\n",
      "  * Error for ('6olg', 'Bf', 'P62979')\n",
      "  * Error for ('6oli', 'B', 'P39023')\n",
      "  * Error for ('6oli', 'C', 'P36578')\n",
      "  * Error for ('6oli', 'F', 'P46777')\n",
      "  * Error for ('6oli', 'G', 'Q02878')\n",
      "  * Error for ('6oli', 'H', 'P18124')\n",
      "  * Error for ('6oli', 'I', 'P62424')\n",
      "  * Error for ('6oli', 'J', 'P32969')\n",
      "  * Error for ('6oli', 'K', 'P27635')\n",
      "  * Error for ('6oli', 'M', 'P26373')\n",
      "  * Error for ('6oli', 'N', 'P50914')\n",
      "  * Error for ('6oli', 'P', 'P40429')\n",
      "  * Error for ('6oli', 'Q', 'P18621')\n",
      "  * Error for ('6oli', 'R', 'Q07020')\n",
      "  * Error for ('6oli', 'SA', 'P08865')\n",
      "  * Error for ('6oli', 'SB', 'P61247')\n",
      "  * Error for ('6oli', 'SC', 'P15880')\n",
      "  * Error for ('6oli', 'SF', 'P46782')\n",
      "  * Error for ('6oli', 'SK', 'P46783')\n",
      "  * Error for ('6oli', 'SR', 'P08708')\n",
      "  * Error for ('6oli', 'ST', 'P39019')\n",
      "  * Error for ('6oli', 'Se', 'P62861')\n",
      "  * Error for ('6oli', 'Sf', 'P62979')\n",
      "  * Error for ('6oli', 'T', 'Q02543')\n",
      "  * Error for ('6oli', 'V', 'P35268')\n",
      "  * Error for ('6oli', 'b', 'P46776')\n",
      "  * Error for ('6oli', 'c', 'P47914')\n",
      "  * Error for ('6oli', 'g', 'P18077')\n",
      "  * Error for ('6oli', 'i', 'P42766')\n",
      "  * Error for ('6oli', 'j', 'Q9Y3U8')\n",
      "  * Error for ('6oli', 'l', 'P63173')\n",
      "  * Error for ('6olz', 'A', 'Q8NBP7')\n",
      "  * Error for ('6olz', 'AB', 'P39023')\n",
      "  * Error for ('6olz', 'AC', 'P36578')\n",
      "  * Error for ('6olz', 'AD', 'P46777')\n",
      "  * Error for ('6olz', 'AE', 'Q02878')\n",
      "  * Error for ('6olz', 'AF', 'P18124')\n",
      "  * Error for ('6olz', 'AH', 'P32969')\n",
      "  * Error for ('6olz', 'AI', 'P27635')\n",
      "  * Error for ('6olz', 'AL', 'P26373')\n",
      "  * Error for ('6olz', 'AM', 'P50914')\n",
      "  * Error for ('6olz', 'AO', 'P40429')\n",
      "  * Error for ('6olz', 'AP', 'P18621')\n",
      "  * Error for ('6olz', 'AQ', 'Q07020')\n",
      "  * Error for ('6olz', 'AS', 'Q02543')\n",
      "  * Error for ('6olz', 'AU', 'P35268')\n",
      "  * Error for ('6olz', 'Aa', 'P46776')\n",
      "  * Error for ('6olz', 'Ab', 'P47914')\n",
      "  * Error for ('6olz', 'Af', 'P18077')\n",
      "  * Error for ('6olz', 'Ah', 'P42766')\n",
      "  * Error for ('6olz', 'Ai', 'Q9Y3U8')\n",
      "  * Error for ('6olz', 'Ak', 'P63173')\n",
      "  * Error for ('6olz', 'BA', 'P08865')\n",
      "  * Error for ('6olz', 'BB', 'P61247')\n",
      "  * Error for ('6olz', 'BC', 'P15880')\n",
      "  * Error for ('6olz', 'BE', 'P22090')\n",
      "  * Error for ('6olz', 'BF', 'P46782')\n",
      "  * Error for ('6olz', 'BK', 'P46783')\n",
      "  * Error for ('6olz', 'BR', 'P08708')\n",
      "  * Error for ('6olz', 'BT', 'P39019')\n",
      "  * Error for ('6olz', 'Be', 'P62861')\n",
      "  * Error for ('6olz', 'Bf', 'P62979')\n",
      "  * Error for ('6om0', 'B', 'P39023')\n",
      "  * Error for ('6om0', 'C', 'P36578')\n",
      "  * Error for ('6om0', 'F', 'P46777')\n",
      "  * Error for ('6om0', 'G', 'Q02878')\n",
      "  * Error for ('6om0', 'H', 'P18124')\n",
      "  * Error for ('6om0', 'I', 'P62424')\n",
      "  * Error for ('6om0', 'J', 'P32969')\n",
      "  * Error for ('6om0', 'K', 'P27635')\n",
      "  * Error for ('6om0', 'M', 'P26373')\n",
      "  * Error for ('6om0', 'N', 'P50914')\n",
      "  * Error for ('6om0', 'P', 'P40429')\n",
      "  * Error for ('6om0', 'Q', 'P18621')\n",
      "  * Error for ('6om0', 'R', 'Q07020')\n",
      "  * Error for ('6om0', 'SA', 'P08865')\n",
      "  * Error for ('6om0', 'SB', 'P61247')\n",
      "  * Error for ('6om0', 'SC', 'P15880')\n",
      "  * Error for ('6om0', 'SF', 'P46782')\n",
      "  * Error for ('6om0', 'SK', 'P46783')\n",
      "  * Error for ('6om0', 'SR', 'P08708')\n",
      "  * Error for ('6om0', 'ST', 'P39019')\n",
      "  * Error for ('6om0', 'Se', 'P62861')\n",
      "  * Error for ('6om0', 'Sf', 'P62979')\n",
      "  * Error for ('6om0', 'T', 'Q02543')\n",
      "  * Error for ('6om0', 'V', 'P35268')\n",
      "  * Error for ('6om0', 'b', 'P46776')\n",
      "  * Error for ('6om0', 'c', 'P47914')\n",
      "  * Error for ('6om0', 'g', 'P18077')\n",
      "  * Error for ('6om0', 'i', 'P42766')\n",
      "  * Error for ('6om0', 'j', 'Q9Y3U8')\n",
      "  * Error for ('6om0', 'l', 'P63173')\n",
      "  * Error for ('6om0', 'y', 'Q8NBP7')\n"
     ]
    },
    {
     "name": "stderr",
     "output_type": "stream",
     "text": [
      " 74%|███████▍  | 62100/83655 [40:31<03:46, 95.22it/s]"
     ]
    },
    {
     "name": "stdout",
     "output_type": "stream",
     "text": [
      "  * Error for ('6om7', 'B', 'P39023')\n",
      "  * Error for ('6om7', 'C', 'P36578')\n",
      "  * Error for ('6om7', 'F', 'P46777')\n",
      "  * Error for ('6om7', 'G', 'Q02878')\n",
      "  * Error for ('6om7', 'H', 'P18124')\n",
      "  * Error for ('6om7', 'I', 'P62424')\n",
      "  * Error for ('6om7', 'J', 'P32969')\n",
      "  * Error for ('6om7', 'K', 'P27635')\n",
      "  * Error for ('6om7', 'M', 'P26373')\n",
      "  * Error for ('6om7', 'N', 'P50914')\n",
      "  * Error for ('6om7', 'P', 'P40429')\n",
      "  * Error for ('6om7', 'Q', 'P18621')\n",
      "  * Error for ('6om7', 'R', 'Q07020')\n",
      "  * Error for ('6om7', 'SA', 'P08865')\n",
      "  * Error for ('6om7', 'SB', 'P61247')\n",
      "  * Error for ('6om7', 'SC', 'P15880')\n",
      "  * Error for ('6om7', 'SF', 'P46782')\n",
      "  * Error for ('6om7', 'SK', 'P46783')\n",
      "  * Error for ('6om7', 'SR', 'P08708')\n",
      "  * Error for ('6om7', 'ST', 'P39019')\n",
      "  * Error for ('6om7', 'Se', 'P62861')\n",
      "  * Error for ('6om7', 'Sf', 'P62979')\n",
      "  * Error for ('6om7', 'T', 'Q02543')\n",
      "  * Error for ('6om7', 'V', 'P35268')\n",
      "  * Error for ('6om7', 'b', 'P46776')\n",
      "  * Error for ('6om7', 'c', 'P47914')\n",
      "  * Error for ('6om7', 'g', 'P18077')\n",
      "  * Error for ('6om7', 'i', 'P42766')\n",
      "  * Error for ('6om7', 'j', 'Q9Y3U8')\n",
      "  * Error for ('6om7', 'l', 'P63173')\n",
      "  * Error for ('6om7', 'y', 'Q8NBP7')\n"
     ]
    },
    {
     "name": "stderr",
     "output_type": "stream",
     "text": [
      " 74%|███████▍  | 62155/83655 [40:32<04:18, 83.07it/s]"
     ]
    },
    {
     "name": "stdout",
     "output_type": "stream",
     "text": [
      "  * Error for ('6orv', 'AP', 'P63092')\n"
     ]
    },
    {
     "name": "stderr",
     "output_type": "stream",
     "text": [
      " 75%|███████▍  | 62655/83655 [40:40<10:46, 32.48it/s] "
     ]
    },
    {
     "name": "stdout",
     "output_type": "stream",
     "text": [
      "  * Error for ('6pv6', 'A', 'P68106')\n"
     ]
    },
    {
     "name": "stderr",
     "output_type": "stream",
     "text": [
      " 75%|███████▌  | 63045/83655 [40:50<05:15, 65.31it/s]"
     ]
    },
    {
     "name": "stdout",
     "output_type": "stream",
     "text": [
      "  * Error for ('6qdv', '7', 'P38919')\n",
      "  * Error for ('6qdv', '8', 'Q9Y5S9')\n",
      "  * Error for ('6qdv', '9', 'Q96A72')\n",
      "  * Error for ('6qdv', 'A', 'Q6P2Q9')\n",
      "  * Error for ('6qdv', 'B', 'O75643')\n",
      "  * Error for ('6qdv', 'C', 'Q15029')\n",
      "  * Error for ('6qdv', 'D', 'Q9H875')\n",
      "  * Error for ('6qdv', 'F', 'Q8WUQ7')\n",
      "  * Error for ('6qdv', 'G', 'Q9Y421')\n",
      "  * Error for ('6qdv', 'H', 'Q9HCG8')\n",
      "  * Error for ('6qdv', 'J', 'O43660')\n",
      "  * Error for ('6qdv', 'K', 'Q13573')\n",
      "  * Error for ('6qdv', 'L', 'P41223')\n",
      "  * Error for ('6qdv', 'N', 'Q96DI7')\n",
      "  * Error for ('6qdv', 'O', 'Q99459')\n",
      "  * Error for ('6qdv', 'P', 'Q9P013')\n",
      "  * Error for ('6qdv', 'R', 'Q9UQ35')\n",
      "  * Error for ('6qdv', 'S', 'Q9BZJ0')\n",
      "  * Error for ('6qdv', 'T', 'Q9HCS7')\n",
      "  * Error for ('6qdv', 'U', 'O60306')\n",
      "  * Error for ('6qdv', 'V', 'Q14562')\n",
      "  * Error for ('6qdv', 'W', 'P09661')\n",
      "  * Error for ('6qdv', 'Y', 'P08579')\n",
      "  * Error for ('6qdv', 'Z', 'Q8N5F7')\n",
      "  * Error for ('6qdv', 'b', 'P14678')\n",
      "  * Error for ('6qdv', 'c', 'O95391')\n",
      "  * Error for ('6qdv', 'd', 'P62318')\n",
      "  * Error for ('6qdv', 'i', 'Q9Y3C6')\n",
      "  * Error for ('6qdv', 'o', 'O60508')\n",
      "  * Error for ('6qdv', 's', 'O75934')\n",
      "  * Error for ('6qdv', 't', 'Q9UMS4')\n",
      "  * Error for ('6qdv', 'y', 'O95926')\n",
      "  * Error for ('6qdv', 'z', 'Q6IQ49')\n"
     ]
    },
    {
     "name": "stderr",
     "output_type": "stream",
     "text": [
      " 76%|███████▌  | 63299/83655 [40:52<05:15, 64.53it/s] "
     ]
    },
    {
     "name": "stdout",
     "output_type": "stream",
     "text": [
      "  * Error for ('6qsw', 'AAA', 'P00751')\n",
      "  * Error for ('6qsx', 'AAA', 'P00751')\n"
     ]
    },
    {
     "name": "stderr",
     "output_type": "stream",
     "text": [
      " 76%|███████▌  | 63404/83655 [40:53<03:26, 97.99it/s]"
     ]
    },
    {
     "name": "stdout",
     "output_type": "stream",
     "text": [
      "  * Error for ('6qw6', '43', 'P62318')\n",
      "  * Error for ('6qw6', '4A', 'O43395')\n",
      "  * Error for ('6qw6', '4B', 'O43172')\n",
      "  * Error for ('6qw6', '4C', 'Q8WWY3')\n",
      "  * Error for ('6qw6', '4D', 'P55769')\n",
      "  * Error for ('6qw6', '4b', 'P14678')\n",
      "  * Error for ('6qw6', '5A', 'Q6P2Q9')\n",
      "  * Error for ('6qw6', '5B', 'O75643')\n",
      "  * Error for ('6qw6', '5C', 'Q15029')\n",
      "  * Error for ('6qw6', '5D', 'P83876')\n",
      "  * Error for ('6qw6', '5J', 'O94906')\n",
      "  * Error for ('6qw6', '5O', 'Q96DI7')\n",
      "  * Error for ('6qw6', '5X', 'Q9BUQ8')\n",
      "  * Error for ('6qw6', '62', 'Q9Y333')\n",
      "  * Error for ('6qw6', '63', 'P62310')\n",
      "  * Error for ('6qw6', '64', 'Q9Y4Z0')\n",
      "  * Error for ('6qw6', '65', 'Q9Y4Y9')\n",
      "  * Error for ('6qw6', '66', 'P62312')\n",
      "  * Error for ('6qw6', '67', 'Q9UK45')\n",
      "  * Error for ('6qw6', '68', 'O95777')\n",
      "  * Error for ('6qw6', 'R', 'Q9BTD8')\n",
      "  * Error for ('6qw6', 'S', 'O43290')\n",
      "  * Error for ('6qw6', 'U', 'Q53GS9')\n",
      "  * Error for ('6qw6', 'X', 'Q8WVK2')\n",
      "  * Error for ('6qx9', '13', 'P62318')\n",
      "  * Error for ('6qx9', '1A', 'P09012')\n",
      "  * Error for ('6qx9', '1C', 'P09234')\n",
      "  * Error for ('6qx9', '1K', 'P08621')\n",
      "  * Error for ('6qx9', '1b', 'P14678')\n",
      "  * Error for ('6qx9', '2A', 'P09661')\n",
      "  * Error for ('6qx9', '2B', 'P08579')\n",
      "  * Error for ('6qx9', '4A', 'O43395')\n",
      "  * Error for ('6qx9', '4B', 'O43172')\n",
      "  * Error for ('6qx9', '4C', 'Q8WWY3')\n",
      "  * Error for ('6qx9', '4D', 'P55769')\n",
      "  * Error for ('6qx9', '5A', 'Q6P2Q9')\n",
      "  * Error for ('6qx9', '5B', 'O75643')\n",
      "  * Error for ('6qx9', '5C', 'Q15029')\n",
      "  * Error for ('6qx9', '5D', 'P83876')\n",
      "  * Error for ('6qx9', '5O', 'Q96DI7')\n",
      "  * Error for ('6qx9', '5X', 'Q9BUQ8')\n",
      "  * Error for ('6qx9', '62', 'Q9Y333')\n",
      "  * Error for ('6qx9', '63', 'P62310')\n",
      "  * Error for ('6qx9', '64', 'Q9Y4Z0')\n",
      "  * Error for ('6qx9', '65', 'Q9Y4Y9')\n",
      "  * Error for ('6qx9', '66', 'P62312')\n",
      "  * Error for ('6qx9', '67', 'Q9UK45')\n",
      "  * Error for ('6qx9', '68', 'O95777')\n",
      "  * Error for ('6qx9', 'A1', 'Q15459')\n",
      "  * Error for ('6qx9', 'A2', 'Q15428')\n",
      "  * Error for ('6qx9', 'A3', 'Q12874')\n",
      "  * Error for ('6qx9', 'B1', 'O75533')\n",
      "  * Error for ('6qx9', 'B2', 'Q13435')\n",
      "  * Error for ('6qx9', 'B3', 'Q15393')\n",
      "  * Error for ('6qx9', 'B4', 'Q15427')\n",
      "  * Error for ('6qx9', 'B5', 'Q9BWJ5')\n",
      "  * Error for ('6qx9', 'BP', 'Q7RTV0')\n",
      "  * Error for ('6qx9', 'K', 'Q13523')\n",
      "  * Error for ('6qx9', 'R', 'Q9BTD8')\n",
      "  * Error for ('6qx9', 'S', 'O43290')\n",
      "  * Error for ('6qx9', 'U', 'Q53GS9')\n",
      "  * Error for ('6qx9', 'X', 'Q8WVK2')\n"
     ]
    },
    {
     "name": "stderr",
     "output_type": "stream",
     "text": [
      " 76%|███████▌  | 63467/83655 [40:53<02:23, 140.95it/s]"
     ]
    },
    {
     "name": "stdout",
     "output_type": "stream",
     "text": [
      "  * Error for ('6qza', 'AAA', 'P01903')\n",
      "  * Error for ('6qza', 'BBB', 'P01911')\n",
      "  * Error for ('6qzc', 'AAA', 'P01903')\n",
      "  * Error for ('6qzc', 'BBB', 'P01911')\n",
      "  * Error for ('6qzd', 'AAA', 'P01903')\n",
      "  * Error for ('6qzd', 'BBB', 'P01911')\n",
      "  * Error for ('6qzp', 'LB', 'P39023')\n",
      "  * Error for ('6qzp', 'LC', 'P36578')\n",
      "  * Error for ('6qzp', 'LD', 'P46777')\n",
      "  * Error for ('6qzp', 'LE', 'Q02878')\n",
      "  * Error for ('6qzp', 'LF', 'P18124')\n",
      "  * Error for ('6qzp', 'LG', 'P62424')\n",
      "  * Error for ('6qzp', 'LH', 'P32969')\n",
      "  * Error for ('6qzp', 'LI', 'Q96L21')\n",
      "  * Error for ('6qzp', 'LL', 'P26373')\n",
      "  * Error for ('6qzp', 'LM', 'P50914')\n",
      "  * Error for ('6qzp', 'LO', 'P40429')\n",
      "  * Error for ('6qzp', 'LP', 'P18621')\n",
      "  * Error for ('6qzp', 'LQ', 'Q07020')\n",
      "  * Error for ('6qzp', 'LS', 'Q02543')\n",
      "  * Error for ('6qzp', 'LU', 'P35268')\n",
      "  * Error for ('6qzp', 'La', 'P46776')\n",
      "  * Error for ('6qzp', 'Lb', 'P47914')\n",
      "  * Error for ('6qzp', 'Lh', 'P42766')\n",
      "  * Error for ('6qzp', 'Li', 'Q9Y3U8')\n",
      "  * Error for ('6qzp', 'Lk', 'P63173')\n",
      "  * Error for ('6qzp', 'Lr', 'P46779')\n",
      "  * Error for ('6qzp', 'Lz', 'P62906')\n",
      "  * Error for ('6qzp', 'SA', 'P08865')\n",
      "  * Error for ('6qzp', 'SB', 'P61247')\n",
      "  * Error for ('6qzp', 'SC', 'P15880')\n",
      "  * Error for ('6qzp', 'SF', 'P46782')\n",
      "  * Error for ('6qzp', 'SK', 'P46783')\n",
      "  * Error for ('6qzp', 'SR', 'P08708')\n",
      "  * Error for ('6qzp', 'ST', 'P39019')\n",
      "  * Error for ('6qzp', 'Se', 'P62861')\n",
      "  * Error for ('6qzp', 'Sf', 'P62979')\n",
      "  * Error for ('6qzw', 'A', 'Q6V1X1')\n",
      "  * Error for ('6r0e', 'AAA', 'P01903')\n",
      "  * Error for ('6r0e', 'BBB', 'P01911')\n"
     ]
    },
    {
     "name": "stderr",
     "output_type": "stream",
     "text": [
      " 76%|███████▌  | 63533/83655 [40:54<04:53, 68.63it/s] "
     ]
    },
    {
     "name": "stdout",
     "output_type": "stream",
     "text": [
      "  * Error for ('6r5q', '1', 'P17861')\n",
      "  * Error for ('6r6g', '1', 'P17861')\n"
     ]
    },
    {
     "name": "stderr",
     "output_type": "stream",
     "text": [
      " 76%|███████▌  | 63557/83655 [40:55<05:53, 56.88it/s]"
     ]
    },
    {
     "name": "stdout",
     "output_type": "stream",
     "text": [
      "  * Error for ('6r6p', '1', 'P17861')\n"
     ]
    },
    {
     "name": "stderr",
     "output_type": "stream",
     "text": [
      " 76%|███████▌  | 63637/83655 [40:57<08:00, 41.64it/s]"
     ]
    },
    {
     "name": "stdout",
     "output_type": "stream",
     "text": [
      "  * Error for ('6r7q', '1', 'P17861')\n",
      "  * Error for ('6r84', 'A', 'P40024')\n",
      "  * Error for ('6r84', 'R', 'Q04311')\n",
      "  * Error for ('6r84', 'R', 'Q04311')\n",
      "  * Error for ('6r86', 'R', 'Q04311')\n",
      "  * Error for ('6r87', 'R', 'Q04311')\n"
     ]
    },
    {
     "name": "stderr",
     "output_type": "stream",
     "text": [
      " 76%|███████▌  | 63686/83655 [40:59<07:09, 46.51it/s]"
     ]
    },
    {
     "name": "stdout",
     "output_type": "stream",
     "text": [
      "  * Error for ('6rav', 'AAA', 'P00751')\n"
     ]
    },
    {
     "name": "stderr",
     "output_type": "stream",
     "text": [
      " 76%|███████▋  | 63825/83655 [41:02<06:09, 53.65it/s]"
     ]
    },
    {
     "name": "stdout",
     "output_type": "stream",
     "text": [
      "  * Error for ('6rlw', 'AAA', 'O15527')\n"
     ]
    },
    {
     "name": "stderr",
     "output_type": "stream",
     "text": [
      " 77%|███████▋  | 64081/83655 [41:06<06:18, 51.72it/s]"
     ]
    },
    {
     "name": "stdout",
     "output_type": "stream",
     "text": [
      "  * Error for ('6rw4', '0', 'P82930')\n",
      "  * Error for ('6rw4', '1', 'P82673')\n",
      "  * Error for ('6rw4', '2', 'Q96BP2')\n",
      "  * Error for ('6rw4', '3', 'Q9NWT8')\n",
      "  * Error for ('6rw4', '4', 'Q96EY7')\n",
      "  * Error for ('6rw4', '8', 'Q9H2K0')\n",
      "  * Error for ('6rw4', 'B', 'Q9Y399')\n",
      "  * Error for ('6rw4', 'C', 'Q96EL2')\n",
      "  * Error for ('6rw4', 'D', 'P82675')\n",
      "  * Error for ('6rw4', 'E', 'P82932')\n",
      "  * Error for ('6rw4', 'F', 'Q9Y2R9')\n",
      "  * Error for ('6rw4', 'G', 'P82933')\n",
      "  * Error for ('6rw4', 'H', 'P82664')\n",
      "  * Error for ('6rw4', 'I', 'P82912')\n",
      "  * Error for ('6rw4', 'J', 'O15235')\n",
      "  * Error for ('6rw4', 'K', 'O60783')\n",
      "  * Error for ('6rw4', 'L', 'P82914')\n",
      "  * Error for ('6rw4', 'M', 'Q9Y3D3')\n",
      "  * Error for ('6rw4', 'N', 'Q9Y2R5')\n",
      "  * Error for ('6rw4', 'O', 'Q9Y676')\n",
      "  * Error for ('6rw4', 'P', 'Q9Y3D5')\n",
      "  * Error for ('6rw4', 'Q', 'P82921')\n",
      "  * Error for ('6rw4', 'R', 'P82650')\n",
      "  * Error for ('6rw4', 'S', 'Q9Y3D9')\n",
      "  * Error for ('6rw4', 'T', 'P82663')\n",
      "  * Error for ('6rw4', 'U', 'Q9BYN8')\n",
      "  * Error for ('6rw4', 'V', 'Q92552')\n",
      "  * Error for ('6rw4', 'W', 'Q9Y2Q9')\n",
      "  * Error for ('6rw4', 'X', 'P51398')\n",
      "  * Error for ('6rw4', 'Y', 'Q92665')\n",
      "  * Error for ('6rw4', 'Z', 'Q9Y291')\n",
      "  * Error for ('6rw5', '0', 'P82930')\n",
      "  * Error for ('6rw5', '1', 'P82673')\n",
      "  * Error for ('6rw5', '2', 'Q96BP2')\n",
      "  * Error for ('6rw5', '3', 'Q9NWT8')\n",
      "  * Error for ('6rw5', '4', 'Q96EY7')\n",
      "  * Error for ('6rw5', '7', 'P46199')\n",
      "  * Error for ('6rw5', '8', 'Q9H2K0')\n",
      "  * Error for ('6rw5', 'B', 'Q9Y399')\n",
      "  * Error for ('6rw5', 'C', 'Q96EL2')\n",
      "  * Error for ('6rw5', 'D', 'P82675')\n",
      "  * Error for ('6rw5', 'E', 'P82932')\n",
      "  * Error for ('6rw5', 'F', 'Q9Y2R9')\n",
      "  * Error for ('6rw5', 'G', 'P82933')\n",
      "  * Error for ('6rw5', 'H', 'P82664')\n",
      "  * Error for ('6rw5', 'I', 'P82912')\n",
      "  * Error for ('6rw5', 'J', 'O15235')\n",
      "  * Error for ('6rw5', 'K', 'O60783')\n",
      "  * Error for ('6rw5', 'L', 'P82914')\n",
      "  * Error for ('6rw5', 'M', 'Q9Y3D3')\n",
      "  * Error for ('6rw5', 'N', 'Q9Y2R5')\n",
      "  * Error for ('6rw5', 'O', 'Q9Y676')\n",
      "  * Error for ('6rw5', 'P', 'Q9Y3D5')\n",
      "  * Error for ('6rw5', 'Q', 'P82921')\n",
      "  * Error for ('6rw5', 'R', 'P82650')\n",
      "  * Error for ('6rw5', 'S', 'Q9Y3D9')\n",
      "  * Error for ('6rw5', 'T', 'P82663')\n",
      "  * Error for ('6rw5', 'U', 'Q9BYN8')\n",
      "  * Error for ('6rw5', 'V', 'Q92552')\n",
      "  * Error for ('6rw5', 'W', 'Q9Y2Q9')\n",
      "  * Error for ('6rw5', 'X', 'P51398')\n",
      "  * Error for ('6rw5', 'Y', 'Q92665')\n",
      "  * Error for ('6rw5', 'Z', 'Q9Y291')\n"
     ]
    },
    {
     "name": "stderr",
     "output_type": "stream",
     "text": [
      " 77%|███████▋  | 64127/83655 [41:06<04:56, 65.82it/s]"
     ]
    },
    {
     "name": "stdout",
     "output_type": "stream",
     "text": [
      "  * Error for ('6rzz', 's', 'Q02256')\n",
      "  * Error for ('6s05', 's', 'Q02256')\n",
      "  * Error for ('6s1c', 'B', 'P25559')\n",
      "  * Error for ('6s1c', 'D', 'P49956')\n"
     ]
    },
    {
     "name": "stderr",
     "output_type": "stream",
     "text": [
      " 77%|███████▋  | 64418/83655 [41:12<04:23, 73.12it/s]"
     ]
    },
    {
     "name": "stdout",
     "output_type": "stream",
     "text": [
      "  * Error for ('6sh1', 'AAA', 'P08473')\n",
      "  * Error for ('6sh2', 'AAA', 'P08473')\n"
     ]
    },
    {
     "name": "stderr",
     "output_type": "stream",
     "text": [
      " 77%|███████▋  | 64483/83655 [41:13<03:38, 87.73it/s]"
     ]
    },
    {
     "name": "stdout",
     "output_type": "stream",
     "text": [
      "  * Error for ('6slh', 'AAA', 'Q9GZT4')\n"
     ]
    },
    {
     "name": "stderr",
     "output_type": "stream",
     "text": [
      " 77%|███████▋  | 64503/83655 [41:13<03:39, 87.41it/s]"
     ]
    },
    {
     "name": "stdout",
     "output_type": "stream",
     "text": [
      "  * Error for ('6sno', 'A', 'P36871')\n"
     ]
    },
    {
     "name": "stderr",
     "output_type": "stream",
     "text": [
      " 77%|███████▋  | 64557/83655 [41:14<03:33, 89.49it/s]"
     ]
    },
    {
     "name": "stdout",
     "output_type": "stream",
     "text": [
      "  * Error for ('6sqq', 'AAA', 'P09012')\n",
      "  * Error for ('6sqt', 'AAA', 'P09012')\n",
      "  * Error for ('6sqv', 'AAA', 'P09012')\n",
      "  * Error for ('6sr7', 'AAA', 'P09012')\n",
      "  * Error for ('6ss2', 'AAA', 'P78540')\n",
      "  * Error for ('6ss4', 'AAA', 'P78540')\n",
      "  * Error for ('6ss6', 'AAA', 'P78540')\n"
     ]
    },
    {
     "name": "stderr",
     "output_type": "stream",
     "text": [
      " 77%|███████▋  | 64646/83655 [41:16<06:19, 50.12it/s]"
     ]
    },
    {
     "name": "stdout",
     "output_type": "stream",
     "text": [
      "  * Error for ('6swa', 'A', 'P62918')\n",
      "  * Error for ('6swa', 'F', 'P14148')\n",
      "  * Error for ('6swa', 'J', 'Q9CXW4')\n",
      "  * Error for ('6swa', 'M', 'Q9CZM2')\n",
      "  * Error for ('6swa', 'U', 'Q8BP67')\n",
      "  * Error for ('6swa', 'V', 'P62751')\n",
      "  * Error for ('6swa', 'a', 'P62889')\n",
      "  * Error for ('6swa', 'h', 'Q9D823')\n",
      "  * Error for ('6swa', 'o', 'P84099')\n",
      "  * Error for ('6swn', 'AAA', 'O60885')\n",
      "  * Error for ('6swo', 'AAA', 'P25440')\n",
      "  * Error for ('6swp', 'AAA', 'P25440')\n",
      "  * Error for ('6swq', 'AAA', 'O60885')\n",
      "  * Error for ('6sxo', 'A', 'Q9UQ80')\n",
      "  * Error for ('6sxo', 'Lh', 'P42766')\n",
      "  * Error for ('6sxo', 'Lk', 'P63173')\n",
      "  * Error for ('6syp', 'AAA', 'Q02127')\n"
     ]
    },
    {
     "name": "stderr",
     "output_type": "stream",
     "text": [
      " 77%|███████▋  | 64724/83655 [41:17<03:32, 89.00it/s]"
     ]
    },
    {
     "name": "stdout",
     "output_type": "stream",
     "text": [
      "  * Error for ('6t28', 'AAA', 'Q8IU85')\n",
      "  * Error for ('6t29', 'AAA', 'Q8IU85')\n"
     ]
    },
    {
     "name": "stderr",
     "output_type": "stream",
     "text": [
      " 77%|███████▋  | 64772/83655 [41:17<03:09, 99.82it/s] "
     ]
    },
    {
     "name": "stdout",
     "output_type": "stream",
     "text": [
      "  * Error for ('6t59', 'TT', 'Q8N0Z6')\n"
     ]
    },
    {
     "name": "stderr",
     "output_type": "stream",
     "text": [
      " 77%|███████▋  | 64817/83655 [41:18<03:24, 92.29it/s]"
     ]
    },
    {
     "name": "stdout",
     "output_type": "stream",
     "text": [
      "  * Error for ('6t8u', 'AAA', 'P00751')\n",
      "  * Error for ('6t8v', 'AAA', 'P00751')\n",
      "  * Error for ('6t8w', 'AAA', 'P00751')\n",
      "  * Error for ('6t9d', 'CCC', 'P15692')\n",
      "  * Error for ('6t9e', 'CCC', 'P01127')\n"
     ]
    },
    {
     "name": "stderr",
     "output_type": "stream",
     "text": [
      " 78%|███████▊  | 64926/83655 [41:22<11:14, 27.78it/s]"
     ]
    },
    {
     "name": "stdout",
     "output_type": "stream",
     "text": [
      "  * Error for ('6tf9', 'jP1', 'O93400')\n",
      "  * Error for ('6tg4', 'AAA', 'Q9H2K2')\n",
      "  * Error for ('6tg8', 'AAA', 'Q14145')\n"
     ]
    },
    {
     "name": "stderr",
     "output_type": "stream",
     "text": [
      " 78%|███████▊  | 64986/83655 [41:23<05:23, 57.78it/s]"
     ]
    },
    {
     "name": "stdout",
     "output_type": "stream",
     "text": [
      "  * Error for ('6tjj', 'AAA', 'P04062')\n",
      "  * Error for ('6tjk', 'AAA', 'P04062')\n",
      "  * Error for ('6tjq', 'BBB', 'P04062')\n",
      "  * Error for ('6tka', 'AAA', 'O15294')\n",
      "  * Error for ('6tkm', 'AAA', 'Q9H2K2')\n",
      "  * Error for ('6tkn', 'AAA', 'Q9H2K2')\n",
      "  * Error for ('6tkp', 'AAA', 'Q9H2K2')\n",
      "  * Error for ('6tkq', 'AAA', 'Q9H2K2')\n",
      "  * Error for ('6tkr', 'AAA', 'Q9H2K2')\n",
      "  * Error for ('6tks', 'AAA', 'Q9H2K2')\n"
     ]
    },
    {
     "name": "stderr",
     "output_type": "stream",
     "text": [
      " 78%|███████▊  | 65050/83655 [41:26<21:04, 14.71it/s]"
     ]
    },
    {
     "name": "stdout",
     "output_type": "stream",
     "text": [
      "  * Error for ('6tlu', 'AAA', 'P68400')\n"
     ]
    },
    {
     "name": "stderr",
     "output_type": "stream",
     "text": [
      " 78%|███████▊  | 65090/83655 [41:28<22:06, 14.00it/s]"
     ]
    },
    {
     "name": "stdout",
     "output_type": "stream",
     "text": [
      "  * Error for ('6tmp', 'AAA', 'Q15119')\n",
      "  * Error for ('6tmq', 'AAA', 'Q15119')\n",
      "  * Error for ('6tmz', 'AAA', 'Q15119')\n",
      "  * Error for ('6tn0', 'AAA', 'Q15119')\n",
      "  * Error for ('6tn1', 'AAA', 'P04062')\n",
      "  * Error for ('6tn2', 'AAA', 'Q15119')\n",
      "  * Error for ('6tn4', 'AAA', 'P07900')\n",
      "  * Error for ('6tn5', 'AAA', 'P07900')\n"
     ]
    },
    {
     "name": "stderr",
     "output_type": "stream",
     "text": [
      " 78%|███████▊  | 65140/83655 [41:30<09:07, 33.81it/s]"
     ]
    },
    {
     "name": "stdout",
     "output_type": "stream",
     "text": [
      "  * Error for ('6toq', 'AAA', 'Q13362')\n"
     ]
    },
    {
     "name": "stderr",
     "output_type": "stream",
     "text": [
      " 78%|███████▊  | 65163/83655 [41:31<05:58, 51.53it/s]"
     ]
    },
    {
     "name": "stdout",
     "output_type": "stream",
     "text": [
      "  * Error for ('6tpx', 'AAA', 'O60885')\n",
      "  * Error for ('6tpy', 'AAA', 'O60885')\n",
      "  * Error for ('6tpz', 'AAA', 'O60885')\n",
      "  * Error for ('6tq1', 'AAA', 'P25440')\n",
      "  * Error for ('6tq2', 'AAA', 'P25440')\n"
     ]
    },
    {
     "name": "stderr",
     "output_type": "stream",
     "text": [
      " 78%|███████▊  | 65194/83655 [41:31<04:13, 72.70it/s]"
     ]
    },
    {
     "name": "stdout",
     "output_type": "stream",
     "text": [
      "  * Error for ('6tr9', 'AAA', 'P02792')\n",
      "  * Error for ('6ts0', 'AAA', 'P02792')\n",
      "  * Error for ('6ts1', 'AAA', 'P02792')\n",
      "  * Error for ('6tsa', 'AAA', 'P02792')\n",
      "  * Error for ('6tsf', 'AAA', 'P02792')\n",
      "  * Error for ('6tsj', 'AAA', 'P02792')\n"
     ]
    },
    {
     "name": "stderr",
     "output_type": "stream",
     "text": [
      " 78%|███████▊  | 65216/83655 [41:31<04:23, 69.99it/s]"
     ]
    },
    {
     "name": "stdout",
     "output_type": "stream",
     "text": [
      "  * Error for ('6tt5', 'AAA', 'Q96SD1')\n"
     ]
    },
    {
     "name": "stderr",
     "output_type": "stream",
     "text": [
      " 78%|███████▊  | 65257/83655 [41:32<03:56, 77.95it/s]"
     ]
    },
    {
     "name": "stdout",
     "output_type": "stream",
     "text": [
      "  * Error for ('6tur', 'AAA', 'P28715')\n",
      "  * Error for ('6tur', 'AAA', 'P28715')\n"
     ]
    },
    {
     "name": "stderr",
     "output_type": "stream",
     "text": [
      " 78%|███████▊  | 65285/83655 [41:32<04:17, 71.42it/s]"
     ]
    },
    {
     "name": "stdout",
     "output_type": "stream",
     "text": [
      "  * Error for ('6twz', 'A', 'P31947')\n"
     ]
    },
    {
     "name": "stderr",
     "output_type": "stream",
     "text": [
      " 78%|███████▊  | 65311/83655 [41:33<08:31, 35.85it/s]"
     ]
    },
    {
     "name": "stdout",
     "output_type": "stream",
     "text": [
      "  * Error for ('6txq', 'AAA', 'P26038')\n",
      "  * Error for ('6txs', 'AAA', 'P26038')\n",
      "  * Error for ('6txs', 'BBB', 'P16070')\n",
      "  * Error for ('6tz4', '01', 'P53990')\n",
      "  * Error for ('6tz4', '02', 'Q7LBR1')\n",
      "  * Error for ('6tz5', 'A', 'P53990')\n",
      "  * Error for ('6tz5', 'AA', 'Q7LBR1')\n",
      "  * Error for ('6tz9', 'A', 'Q7LBR1')\n"
     ]
    },
    {
     "name": "stderr",
     "output_type": "stream",
     "text": [
      " 78%|███████▊  | 65360/83655 [41:34<07:11, 42.35it/s]"
     ]
    },
    {
     "name": "stdout",
     "output_type": "stream",
     "text": [
      "  * Error for ('6u2l', 'A', 'Q2M385')\n"
     ]
    },
    {
     "name": "stderr",
     "output_type": "stream",
     "text": [
      " 78%|███████▊  | 65401/83655 [41:35<05:35, 54.46it/s]"
     ]
    },
    {
     "name": "stdout",
     "output_type": "stream",
     "text": [
      "  * Error for ('6u42', '5A', 'A8I9E8')\n"
     ]
    },
    {
     "name": "stderr",
     "output_type": "stream",
     "text": [
      " 79%|███████▉  | 66013/83655 [41:46<04:03, 72.37it/s]"
     ]
    },
    {
     "name": "stdout",
     "output_type": "stream",
     "text": [
      "  * Error for ('6v41', 'AAA', 'Q9Y6F8')\n"
     ]
    },
    {
     "name": "stderr",
     "output_type": "stream",
     "text": [
      " 79%|███████▉  | 66072/83655 [41:47<03:29, 84.06it/s]"
     ]
    },
    {
     "name": "stdout",
     "output_type": "stream",
     "text": [
      "  * Error for ('6v6s', 'A', 'Q9BSJ2')\n",
      "  * Error for ('6v6s', 'A', 'Q9BSJ2')\n",
      "  * Error for ('6v6s', 'B', 'Q96CW5')\n",
      "  * Error for ('6v6s', 'I', 'Q9UGJ1')\n",
      "  * Error for ('6v6s', 'J', 'Q96RT8')\n",
      "  * Error for ('6v6s', 'L', 'Q96RT7')\n",
      "  * Error for ('6v6s', 'a', 'P23258')\n"
     ]
    },
    {
     "name": "stderr",
     "output_type": "stream",
     "text": [
      " 79%|███████▉  | 66110/83655 [41:47<04:36, 63.54it/s]"
     ]
    },
    {
     "name": "stdout",
     "output_type": "stream",
     "text": [
      "  * Error for ('6v8w', 'A', 'Q8N8U2')\n"
     ]
    },
    {
     "name": "stderr",
     "output_type": "stream",
     "text": [
      " 79%|███████▉  | 66135/83655 [41:48<06:20, 46.07it/s]"
     ]
    },
    {
     "name": "stdout",
     "output_type": "stream",
     "text": [
      "  * Error for ('6v9t', 'AAA', 'Q9H7E2')\n"
     ]
    },
    {
     "name": "stderr",
     "output_type": "stream",
     "text": [
      " 79%|███████▉  | 66386/83655 [41:51<03:28, 82.69it/s]"
     ]
    },
    {
     "name": "stdout",
     "output_type": "stream",
     "text": [
      "  * Error for ('6vlz', '0', 'Q9BYC8')\n",
      "  * Error for ('6vlz', '1', 'O75394')\n",
      "  * Error for ('6vlz', '2', 'Q9BQ48')\n",
      "  * Error for ('6vlz', '5', 'Q9BZE1')\n",
      "  * Error for ('6vlz', '6', 'Q96DV4')\n",
      "  * Error for ('6vlz', '7', 'Q9NYK5')\n",
      "  * Error for ('6vlz', '8', 'Q9NQ50')\n",
      "  * Error for ('6vlz', '9', 'Q8IXM3')\n",
      "  * Error for ('6vlz', 'A0', 'P82930')\n",
      "  * Error for ('6vlz', 'A1', 'P82673')\n",
      "  * Error for ('6vlz', 'A2', 'Q96BP2')\n",
      "  * Error for ('6vlz', 'A3', 'Q9NWT8')\n",
      "  * Error for ('6vlz', 'A4', 'Q96EY7')\n",
      "  * Error for ('6vlz', 'AB', 'Q9Y399')\n",
      "  * Error for ('6vlz', 'AC', 'Q96EL2')\n",
      "  * Error for ('6vlz', 'AD', 'P82675')\n",
      "  * Error for ('6vlz', 'AE', 'P82932')\n",
      "  * Error for ('6vlz', 'AF', 'Q9Y2R9')\n",
      "  * Error for ('6vlz', 'AG', 'P82933')\n",
      "  * Error for ('6vlz', 'AH', 'P82664')\n",
      "  * Error for ('6vlz', 'AI', 'P82912')\n",
      "  * Error for ('6vlz', 'AJ', 'O15235')\n",
      "  * Error for ('6vlz', 'AK', 'O60783')\n",
      "  * Error for ('6vlz', 'AL', 'P82914')\n",
      "  * Error for ('6vlz', 'AN', 'Q9Y2R5')\n",
      "  * Error for ('6vlz', 'AO', 'Q9Y676')\n",
      "  * Error for ('6vlz', 'AP', 'Q9Y3D5')\n",
      "  * Error for ('6vlz', 'AQ', 'P82921')\n",
      "  * Error for ('6vlz', 'AR', 'P82650')\n",
      "  * Error for ('6vlz', 'AS', 'Q9Y3D9')\n",
      "  * Error for ('6vlz', 'AT', 'P82663')\n",
      "  * Error for ('6vlz', 'AU', 'Q9BYN8')\n",
      "  * Error for ('6vlz', 'AV', 'Q92552')\n",
      "  * Error for ('6vlz', 'AW', 'Q9Y2Q9')\n",
      "  * Error for ('6vlz', 'AX', 'P51398')\n",
      "  * Error for ('6vlz', 'AY', 'Q92665')\n",
      "  * Error for ('6vlz', 'AZ', 'Q9Y291')\n",
      "  * Error for ('6vlz', 'D', 'Q5T653')\n",
      "  * Error for ('6vlz', 'E', 'P09001')\n",
      "  * Error for ('6vlz', 'F', 'Q9BYD3')\n",
      "  * Error for ('6vlz', 'H', 'Q9BYD2')\n",
      "  * Error for ('6vlz', 'I', 'Q7Z7H8')\n",
      "  * Error for ('6vlz', 'J', 'Q9Y3B7')\n",
      "  * Error for ('6vlz', 'K', 'Q9BYD1')\n",
      "  * Error for ('6vlz', 'L', 'Q6P1L8')\n",
      "  * Error for ('6vlz', 'N', 'Q9NX20')\n",
      "  * Error for ('6vlz', 'O', 'Q9NRX2')\n",
      "  * Error for ('6vlz', 'Q', 'P49406')\n",
      "  * Error for ('6vlz', 'R', 'Q9BYC9')\n",
      "  * Error for ('6vlz', 'TA', 'P52815')\n",
      "  * Error for ('6vlz', 'U', 'Q16540')\n",
      "  * Error for ('6vlz', 'V', 'Q96A35')\n",
      "  * Error for ('6vlz', 'W', 'Q9P0M9')\n",
      "  * Error for ('6vlz', 'X', 'Q13084')\n",
      "  * Error for ('6vlz', 'Y', 'Q9HD33')\n",
      "  * Error for ('6vlz', 'Z', 'Q8TCC3')\n",
      "  * Error for ('6vlz', 'b', 'Q8N983')\n",
      "  * Error for ('6vlz', 'c', 'Q9H9J2')\n",
      "  * Error for ('6vlz', 'd', 'Q9BRJ2')\n",
      "  * Error for ('6vlz', 'e', 'Q9H2W6')\n",
      "  * Error for ('6vlz', 'g', 'Q13405')\n",
      "  * Error for ('6vlz', 'h', 'Q8N5N7')\n",
      "  * Error for ('6vlz', 'k', 'Q96EL3')\n",
      "  * Error for ('6vlz', 'o', 'Q9BQC6')\n",
      "  * Error for ('6vlz', 'q', 'Q8TAE8')\n",
      "  * Error for ('6vlz', 'r', 'Q9NVS2')\n",
      "  * Error for ('6vlz', 's', 'Q9NP92')\n",
      "  * Error for ('6vlz', 'v', 'Q96RP9')\n"
     ]
    },
    {
     "name": "stderr",
     "output_type": "stream",
     "text": [
      "\r",
      " 79%|███████▉  | 66412/83655 [41:52<03:07, 91.79it/s]"
     ]
    },
    {
     "name": "stdout",
     "output_type": "stream",
     "text": [
      "  * Error for ('6vmi', '0', 'Q9BYC8')\n",
      "  * Error for ('6vmi', '1', 'O75394')\n",
      "  * Error for ('6vmi', '2', 'Q9BQ48')\n",
      "  * Error for ('6vmi', '5', 'Q9BZE1')\n",
      "  * Error for ('6vmi', '6', 'Q96DV4')\n",
      "  * Error for ('6vmi', '7', 'Q9NYK5')\n",
      "  * Error for ('6vmi', '8', 'Q9NQ50')\n",
      "  * Error for ('6vmi', '9', 'Q8IXM3')\n",
      "  * Error for ('6vmi', 'A0', 'P82930')\n",
      "  * Error for ('6vmi', 'A1', 'P82673')\n",
      "  * Error for ('6vmi', 'A2', 'Q96BP2')\n",
      "  * Error for ('6vmi', 'A3', 'Q9NWT8')\n",
      "  * Error for ('6vmi', 'A4', 'Q96EY7')\n",
      "  * Error for ('6vmi', 'AB', 'Q9Y399')\n",
      "  * Error for ('6vmi', 'AC', 'Q96EL2')\n",
      "  * Error for ('6vmi', 'AD', 'P82675')\n",
      "  * Error for ('6vmi', 'AE', 'P82932')\n",
      "  * Error for ('6vmi', 'AF', 'Q9Y2R9')\n",
      "  * Error for ('6vmi', 'AG', 'P82933')\n",
      "  * Error for ('6vmi', 'AH', 'P82664')\n",
      "  * Error for ('6vmi', 'AI', 'P82912')\n",
      "  * Error for ('6vmi', 'AJ', 'O15235')\n",
      "  * Error for ('6vmi', 'AK', 'O60783')\n",
      "  * Error for ('6vmi', 'AL', 'P82914')\n",
      "  * Error for ('6vmi', 'AN', 'Q9Y2R5')\n",
      "  * Error for ('6vmi', 'AO', 'Q9Y676')\n",
      "  * Error for ('6vmi', 'AP', 'Q9Y3D5')\n",
      "  * Error for ('6vmi', 'AQ', 'P82921')\n",
      "  * Error for ('6vmi', 'AR', 'P82650')\n",
      "  * Error for ('6vmi', 'AS', 'Q9Y3D9')\n",
      "  * Error for ('6vmi', 'AT', 'P82663')\n",
      "  * Error for ('6vmi', 'AU', 'Q9BYN8')\n",
      "  * Error for ('6vmi', 'AV', 'Q92552')\n",
      "  * Error for ('6vmi', 'AW', 'Q9Y2Q9')\n",
      "  * Error for ('6vmi', 'AX', 'P51398')\n",
      "  * Error for ('6vmi', 'AY', 'Q92665')\n",
      "  * Error for ('6vmi', 'AZ', 'Q9Y291')\n",
      "  * Error for ('6vmi', 'D', 'Q5T653')\n",
      "  * Error for ('6vmi', 'E', 'P09001')\n",
      "  * Error for ('6vmi', 'F', 'Q9BYD3')\n",
      "  * Error for ('6vmi', 'H', 'Q9BYD2')\n",
      "  * Error for ('6vmi', 'I', 'Q7Z7H8')\n",
      "  * Error for ('6vmi', 'J', 'Q9Y3B7')\n",
      "  * Error for ('6vmi', 'K', 'Q9BYD1')\n",
      "  * Error for ('6vmi', 'L', 'Q6P1L8')\n",
      "  * Error for ('6vmi', 'N', 'Q9NX20')\n",
      "  * Error for ('6vmi', 'O', 'Q9NRX2')\n",
      "  * Error for ('6vmi', 'Q', 'P49406')\n",
      "  * Error for ('6vmi', 'R', 'Q9BYC9')\n",
      "  * Error for ('6vmi', 'TA', 'P52815')\n",
      "  * Error for ('6vmi', 'U', 'Q16540')\n",
      "  * Error for ('6vmi', 'V', 'Q96A35')\n",
      "  * Error for ('6vmi', 'W', 'Q9P0M9')\n",
      "  * Error for ('6vmi', 'X', 'Q13084')\n",
      "  * Error for ('6vmi', 'Y', 'Q9HD33')\n",
      "  * Error for ('6vmi', 'Z', 'Q8TCC3')\n",
      "  * Error for ('6vmi', 'b', 'Q8N983')\n",
      "  * Error for ('6vmi', 'c', 'Q9H9J2')\n",
      "  * Error for ('6vmi', 'd', 'Q9BRJ2')\n",
      "  * Error for ('6vmi', 'e', 'Q9H2W6')\n",
      "  * Error for ('6vmi', 'g', 'Q13405')\n",
      "  * Error for ('6vmi', 'h', 'Q8N5N7')\n",
      "  * Error for ('6vmi', 'k', 'Q96EL3')\n",
      "  * Error for ('6vmi', 'o', 'Q9BQC6')\n",
      "  * Error for ('6vmi', 'q', 'Q8TAE8')\n",
      "  * Error for ('6vmi', 'r', 'Q9NVS2')\n",
      "  * Error for ('6vmi', 's', 'Q9NP92')\n",
      "  * Error for ('6vmi', 'v', 'Q96RP9')\n"
     ]
    },
    {
     "name": "stderr",
     "output_type": "stream",
     "text": [
      " 80%|███████▉  | 66671/83655 [41:58<08:47, 32.17it/s]"
     ]
    },
    {
     "name": "stdout",
     "output_type": "stream",
     "text": [
      "  * Error for ('6w1n', 'A', 'P68106')\n"
     ]
    },
    {
     "name": "stderr",
     "output_type": "stream",
     "text": [
      " 80%|███████▉  | 66787/83655 [42:00<06:11, 45.40it/s]"
     ]
    },
    {
     "name": "stdout",
     "output_type": "stream",
     "text": [
      "  * Error for ('6w6l', '1', 'P61619')\n",
      "  * Error for ('6w6l', '2', 'P60059')\n",
      "  * Error for ('6w6l', '3', 'P60468')\n",
      "  * Error for ('6w6l', '4', 'Q9BVK8')\n",
      "  * Error for ('6w6l', '5', 'Q969V3')\n",
      "  * Error for ('6w6l', '6', 'Q9UM00')\n",
      "  * Error for ('6w6l', '7', 'Q96A33')\n",
      "  * Error for ('6w6l', 'B', 'P39023')\n",
      "  * Error for ('6w6l', 'C', 'P36578')\n",
      "  * Error for ('6w6l', 'F', 'P46777')\n",
      "  * Error for ('6w6l', 'G', 'Q02878')\n",
      "  * Error for ('6w6l', 'H', 'P18124')\n",
      "  * Error for ('6w6l', 'I', 'P62424')\n",
      "  * Error for ('6w6l', 'J', 'P32969')\n",
      "  * Error for ('6w6l', 'K', 'P27635')\n",
      "  * Error for ('6w6l', 'M', 'P26373')\n",
      "  * Error for ('6w6l', 'N', 'P50914')\n",
      "  * Error for ('6w6l', 'P', 'P40429')\n",
      "  * Error for ('6w6l', 'Q', 'P18621')\n",
      "  * Error for ('6w6l', 'T', 'Q02543')\n",
      "  * Error for ('6w6l', 'V', 'P35268')\n",
      "  * Error for ('6w6l', 'b', 'P46776')\n",
      "  * Error for ('6w6l', 'c', 'P47914')\n",
      "  * Error for ('6w6l', 'g', 'P18077')\n",
      "  * Error for ('6w6l', 'i', 'P42766')\n",
      "  * Error for ('6w6l', 'j', 'Q9Y3U8')\n",
      "  * Error for ('6w6l', 'l', 'P63173')\n",
      "  * Error for ('6w6l', 'r', 'P46779')\n"
     ]
    },
    {
     "name": "stderr",
     "output_type": "stream",
     "text": [
      " 80%|███████▉  | 66858/83655 [42:01<03:35, 77.77it/s]"
     ]
    },
    {
     "name": "stdout",
     "output_type": "stream",
     "text": [
      "  * Error for ('6wat', 'A', 'Q16695')\n",
      "  * Error for ('6wat', 'AA', 'O43189')\n"
     ]
    },
    {
     "name": "stderr",
     "output_type": "stream",
     "text": [
      " 80%|████████  | 66935/83655 [42:02<04:38, 60.09it/s]"
     ]
    },
    {
     "name": "stdout",
     "output_type": "stream",
     "text": [
      "  * Error for ('6wet', 'AaA', 'P22413')\n",
      "  * Error for ('6weu', 'AbA', 'P22413')\n",
      "  * Error for ('6wev', 'AbA', 'P22413')\n",
      "  * Error for ('6wew', 'AbA', 'P22413')\n",
      "  * Error for ('6wfj', 'AcA', 'P22413')\n"
     ]
    },
    {
     "name": "stderr",
     "output_type": "stream",
     "text": [
      " 80%|████████  | 67039/83655 [42:04<02:58, 93.15it/s]"
     ]
    },
    {
     "name": "stdout",
     "output_type": "stream",
     "text": [
      "  * Error for ('6wjd', 'A', 'P35998')\n",
      "  * Error for ('6wjd', 'D', 'P43686')\n",
      "  * Error for ('6wjd', 'F', 'P17980')\n",
      "  * Error for ('6wjd', 'H', 'P25787')\n",
      "  * Error for ('6wjd', 'I', 'P25789')\n",
      "  * Error for ('6wjd', 'J', 'O14818')\n",
      "  * Error for ('6wjd', 'L', 'P25786')\n",
      "  * Error for ('6wjd', 'M', 'P25788')\n",
      "  * Error for ('6wjd', 'N', 'P28072')\n",
      "  * Error for ('6wjd', 'O', 'Q99436')\n",
      "  * Error for ('6wjd', 'P', 'P49720')\n",
      "  * Error for ('6wjd', 'Q', 'P49721')\n",
      "  * Error for ('6wjd', 'S', 'P20618')\n",
      "  * Error for ('6wjd', 'T', 'P28070')\n",
      "  * Error for ('6wjd', 'U', 'Q99460')\n",
      "  * Error for ('6wjd', 'V', 'O43242')\n",
      "  * Error for ('6wjd', 'W', 'O00232')\n",
      "  * Error for ('6wjd', 'Y', 'Q15008')\n",
      "  * Error for ('6wjd', 'Z', 'P51665')\n",
      "  * Error for ('6wjd', 'a', 'Q9UNM6')\n",
      "  * Error for ('6wjd', 'b', 'P55036')\n",
      "  * Error for ('6wjd', 'c', 'O00487')\n",
      "  * Error for ('6wjd', 'd', 'P48556')\n",
      "  * Error for ('6wjd', 'e', 'P60896')\n",
      "  * Error for ('6wjd', 'f', 'Q13200')\n"
     ]
    },
    {
     "name": "stderr",
     "output_type": "stream",
     "text": [
      " 80%|████████  | 67206/83655 [42:15<07:46, 35.27it/s]"
     ]
    },
    {
     "name": "stdout",
     "output_type": "stream",
     "text": [
      "  * Error for ('6wot', 'E', 'P68106')\n",
      "  * Error for ('6wou', 'E', 'P68106')\n",
      "  * Error for ('6wov', 'E', 'P68106')\n"
     ]
    },
    {
     "name": "stderr",
     "output_type": "stream",
     "text": [
      " 80%|████████  | 67250/83655 [42:15<04:58, 54.97it/s]"
     ]
    },
    {
     "name": "stdout",
     "output_type": "stream",
     "text": [
      "  * Error for ('6ws0', 'CCC', 'Q9UI95')\n",
      "  * Error for ('6ws0', 'HHH', 'Q9UBZ9')\n",
      "  * Error for ('6ws0', 'ZZZ', 'O60673')\n",
      "  * Error for ('6ws5', 'CCC', 'Q9UI95')\n",
      "  * Error for ('6ws5', 'HHH', 'Q9UBZ9')\n",
      "  * Error for ('6ws5', 'ZZZ', 'O60673')\n"
     ]
    },
    {
     "name": "stderr",
     "output_type": "stream",
     "text": [
      " 81%|████████  | 67410/83655 [42:18<05:09, 52.49it/s]"
     ]
    },
    {
     "name": "stdout",
     "output_type": "stream",
     "text": [
      "  * Error for ('6x1a', 'A', 'P63092')\n"
     ]
    },
    {
     "name": "stderr",
     "output_type": "stream",
     "text": [
      " 81%|████████  | 67439/83655 [42:18<04:49, 56.06it/s]"
     ]
    },
    {
     "name": "stdout",
     "output_type": "stream",
     "text": [
      "  * Error for ('6x32', 'A', 'P68106')\n",
      "  * Error for ('6x33', 'A', 'P68106')\n"
     ]
    },
    {
     "name": "stderr",
     "output_type": "stream",
     "text": [
      " 81%|████████  | 67462/83655 [42:19<05:02, 53.61it/s]"
     ]
    },
    {
     "name": "stdout",
     "output_type": "stream",
     "text": [
      "  * Error for ('6x35', 'A', 'P68106')\n",
      "  * Error for ('6x36', 'A', 'P68106')\n"
     ]
    },
    {
     "name": "stderr",
     "output_type": "stream",
     "text": [
      " 81%|████████  | 67613/83655 [42:21<02:51, 93.39it/s]"
     ]
    },
    {
     "name": "stdout",
     "output_type": "stream",
     "text": [
      "  * Error for ('6xa1', 'LB', 'P39023')\n",
      "  * Error for ('6xa1', 'LC', 'P36578')\n",
      "  * Error for ('6xa1', 'LD', 'P46777')\n",
      "  * Error for ('6xa1', 'LE', 'Q02878')\n",
      "  * Error for ('6xa1', 'LF', 'P18124')\n",
      "  * Error for ('6xa1', 'LG', 'P62424')\n",
      "  * Error for ('6xa1', 'LH', 'P32969')\n",
      "  * Error for ('6xa1', 'LI', 'Q96L21')\n",
      "  * Error for ('6xa1', 'LL', 'P26373')\n",
      "  * Error for ('6xa1', 'LM', 'P50914')\n",
      "  * Error for ('6xa1', 'LO', 'P40429')\n",
      "  * Error for ('6xa1', 'LP', 'P18621')\n",
      "  * Error for ('6xa1', 'LQ', 'Q07020')\n",
      "  * Error for ('6xa1', 'LS', 'Q02543')\n",
      "  * Error for ('6xa1', 'La', 'P46776')\n",
      "  * Error for ('6xa1', 'Lb', 'P47914')\n",
      "  * Error for ('6xa1', 'Lf', 'P18077')\n",
      "  * Error for ('6xa1', 'Lh', 'P42766')\n",
      "  * Error for ('6xa1', 'Li', 'Q9Y3U8')\n",
      "  * Error for ('6xa1', 'Lk', 'P63173')\n",
      "  * Error for ('6xa1', 'Lr', 'P46779')\n",
      "  * Error for ('6xa1', 'SA', 'P08865')\n",
      "  * Error for ('6xa1', 'SB', 'P61247')\n",
      "  * Error for ('6xa1', 'SC', 'P15880')\n",
      "  * Error for ('6xa1', 'SF', 'P46782')\n",
      "  * Error for ('6xa1', 'SK', 'P46783')\n",
      "  * Error for ('6xa1', 'SR', 'P08708')\n",
      "  * Error for ('6xa1', 'ST', 'P39019')\n",
      "  * Error for ('6xa1', 'Sf', 'P62979')\n"
     ]
    },
    {
     "name": "stderr",
     "output_type": "stream",
     "text": [
      " 81%|████████  | 67880/83655 [42:36<23:47, 11.05it/s]  "
     ]
    },
    {
     "name": "stdout",
     "output_type": "stream",
     "text": [
      "  * Error for ('6xtj', 'AAA', 'Q96AC1')\n"
     ]
    },
    {
     "name": "stderr",
     "output_type": "stream",
     "text": [
      " 81%|████████  | 67958/83655 [42:38<06:19, 41.41it/s]"
     ]
    },
    {
     "name": "stdout",
     "output_type": "stream",
     "text": [
      "  * Error for ('6xwz', 'AAA', 'P00918')\n"
     ]
    },
    {
     "name": "stderr",
     "output_type": "stream",
     "text": [
      " 81%|████████▏ | 67980/83655 [42:39<04:47, 54.57it/s]"
     ]
    },
    {
     "name": "stdout",
     "output_type": "stream",
     "text": [
      "  * Error for ('6xy7', 'AAA', 'Q92835')\n",
      "  * Error for ('6xyw', 'Br', 'P39697')\n"
     ]
    },
    {
     "name": "stderr",
     "output_type": "stream",
     "text": [
      " 81%|████████▏ | 68038/83655 [42:39<03:02, 85.74it/s]"
     ]
    },
    {
     "name": "stdout",
     "output_type": "stream",
     "text": [
      "  * Error for ('6y0g', 'LB', 'P39023')\n",
      "  * Error for ('6y0g', 'LC', 'P36578')\n",
      "  * Error for ('6y0g', 'LD', 'P46777')\n",
      "  * Error for ('6y0g', 'LE', 'Q02878')\n",
      "  * Error for ('6y0g', 'LF', 'P18124')\n",
      "  * Error for ('6y0g', 'LG', 'P62424')\n",
      "  * Error for ('6y0g', 'LH', 'P32969')\n",
      "  * Error for ('6y0g', 'LI', 'Q96L21')\n",
      "  * Error for ('6y0g', 'LL', 'P26373')\n",
      "  * Error for ('6y0g', 'LM', 'P50914')\n",
      "  * Error for ('6y0g', 'LO', 'P40429')\n",
      "  * Error for ('6y0g', 'LP', 'P18621')\n",
      "  * Error for ('6y0g', 'LQ', 'Q07020')\n",
      "  * Error for ('6y0g', 'LS', 'Q02543')\n",
      "  * Error for ('6y0g', 'LU', 'P35268')\n",
      "  * Error for ('6y0g', 'La', 'P46776')\n",
      "  * Error for ('6y0g', 'Lb', 'P47914')\n",
      "  * Error for ('6y0g', 'Lf', 'P18077')\n",
      "  * Error for ('6y0g', 'Lh', 'P42766')\n",
      "  * Error for ('6y0g', 'Li', 'Q9Y3U8')\n",
      "  * Error for ('6y0g', 'Lk', 'P63173')\n",
      "  * Error for ('6y0g', 'Lr', 'P46779')\n",
      "  * Error for ('6y0g', 'SA', 'P08865')\n",
      "  * Error for ('6y0g', 'SB', 'P61247')\n",
      "  * Error for ('6y0g', 'SC', 'P15880')\n",
      "  * Error for ('6y0g', 'SF', 'P46782')\n",
      "  * Error for ('6y0g', 'SK', 'P46783')\n",
      "  * Error for ('6y0g', 'SR', 'P08708')\n",
      "  * Error for ('6y0g', 'ST', 'P39019')\n",
      "  * Error for ('6y0g', 'Se', 'P62861')\n",
      "  * Error for ('6y0g', 'Sf', 'P62979')\n"
     ]
    },
    {
     "name": "stderr",
     "output_type": "stream",
     "text": [
      " 81%|████████▏ | 68097/83655 [42:39<02:20, 110.98it/s]"
     ]
    },
    {
     "name": "stdout",
     "output_type": "stream",
     "text": [
      "  * Error for ('6y2l', 'LB', 'P39023')\n",
      "  * Error for ('6y2l', 'LC', 'P36578')\n",
      "  * Error for ('6y2l', 'LD', 'P46777')\n",
      "  * Error for ('6y2l', 'LE', 'Q02878')\n",
      "  * Error for ('6y2l', 'LF', 'P18124')\n",
      "  * Error for ('6y2l', 'LG', 'P62424')\n",
      "  * Error for ('6y2l', 'LH', 'P32969')\n",
      "  * Error for ('6y2l', 'LI', 'Q96L21')\n",
      "  * Error for ('6y2l', 'LL', 'P26373')\n",
      "  * Error for ('6y2l', 'LM', 'P50914')\n",
      "  * Error for ('6y2l', 'LO', 'P40429')\n",
      "  * Error for ('6y2l', 'LP', 'P18621')\n",
      "  * Error for ('6y2l', 'LQ', 'Q07020')\n",
      "  * Error for ('6y2l', 'LS', 'Q02543')\n",
      "  * Error for ('6y2l', 'LU', 'P35268')\n",
      "  * Error for ('6y2l', 'La', 'P46776')\n",
      "  * Error for ('6y2l', 'Lb', 'P47914')\n",
      "  * Error for ('6y2l', 'Lf', 'P18077')\n",
      "  * Error for ('6y2l', 'Lh', 'P42766')\n",
      "  * Error for ('6y2l', 'Li', 'Q9Y3U8')\n",
      "  * Error for ('6y2l', 'Lk', 'P63173')\n",
      "  * Error for ('6y2l', 'Lr', 'P46779')\n",
      "  * Error for ('6y2l', 'SA', 'P08865')\n",
      "  * Error for ('6y2l', 'SB', 'P61247')\n",
      "  * Error for ('6y2l', 'SC', 'P15880')\n",
      "  * Error for ('6y2l', 'SF', 'P46782')\n",
      "  * Error for ('6y2l', 'SK', 'P46783')\n",
      "  * Error for ('6y2l', 'SR', 'P08708')\n",
      "  * Error for ('6y2l', 'ST', 'P39019')\n",
      "  * Error for ('6y2l', 'Se', 'P62861')\n"
     ]
    },
    {
     "name": "stderr",
     "output_type": "stream",
     "text": [
      " 82%|████████▏ | 68196/83655 [42:41<05:26, 47.35it/s] "
     ]
    },
    {
     "name": "stdout",
     "output_type": "stream",
     "text": [
      "  * Error for ('6y57', 'LB', 'P39023')\n",
      "  * Error for ('6y57', 'LC', 'P36578')\n",
      "  * Error for ('6y57', 'LD', 'P46777')\n",
      "  * Error for ('6y57', 'LE', 'Q02878')\n",
      "  * Error for ('6y57', 'LF', 'P18124')\n",
      "  * Error for ('6y57', 'LG', 'P62424')\n",
      "  * Error for ('6y57', 'LH', 'P32969')\n",
      "  * Error for ('6y57', 'LI', 'Q96L21')\n",
      "  * Error for ('6y57', 'LL', 'P26373')\n",
      "  * Error for ('6y57', 'LM', 'P50914')\n",
      "  * Error for ('6y57', 'LO', 'P40429')\n",
      "  * Error for ('6y57', 'LP', 'P18621')\n",
      "  * Error for ('6y57', 'LQ', 'Q07020')\n",
      "  * Error for ('6y57', 'LS', 'Q02543')\n",
      "  * Error for ('6y57', 'LU', 'P35268')\n",
      "  * Error for ('6y57', 'La', 'P46776')\n",
      "  * Error for ('6y57', 'Lb', 'P47914')\n",
      "  * Error for ('6y57', 'Lf', 'P18077')\n",
      "  * Error for ('6y57', 'Lh', 'P42766')\n",
      "  * Error for ('6y57', 'Li', 'Q9Y3U8')\n",
      "  * Error for ('6y57', 'Lk', 'P63173')\n",
      "  * Error for ('6y57', 'Lr', 'P46779')\n",
      "  * Error for ('6y57', 'SA', 'P08865')\n",
      "  * Error for ('6y57', 'SB', 'P61247')\n",
      "  * Error for ('6y57', 'SC', 'P15880')\n",
      "  * Error for ('6y57', 'SF', 'P46782')\n",
      "  * Error for ('6y57', 'SK', 'P46783')\n",
      "  * Error for ('6y57', 'SR', 'P08708')\n",
      "  * Error for ('6y57', 'ST', 'P39019')\n",
      "  * Error for ('6y57', 'Se', 'P62861')\n",
      "  * Error for ('6y57', 'sh', 'P62979')\n"
     ]
    },
    {
     "name": "stderr",
     "output_type": "stream",
     "text": [
      " 82%|████████▏ | 68284/83655 [42:43<05:27, 46.94it/s]"
     ]
    },
    {
     "name": "stdout",
     "output_type": "stream",
     "text": [
      "  * Error for ('6y6x', 'LB', 'P39023')\n",
      "  * Error for ('6y6x', 'LC', 'P36578')\n",
      "  * Error for ('6y6x', 'LD', 'P46777')\n",
      "  * Error for ('6y6x', 'LE', 'Q02878')\n",
      "  * Error for ('6y6x', 'LF', 'P18124')\n",
      "  * Error for ('6y6x', 'LG', 'P62424')\n",
      "  * Error for ('6y6x', 'LH', 'P32969')\n",
      "  * Error for ('6y6x', 'LI', 'Q96L21')\n",
      "  * Error for ('6y6x', 'LL', 'P26373')\n",
      "  * Error for ('6y6x', 'LM', 'P50914')\n",
      "  * Error for ('6y6x', 'LO', 'P40429')\n",
      "  * Error for ('6y6x', 'LP', 'P18621')\n",
      "  * Error for ('6y6x', 'LQ', 'Q07020')\n",
      "  * Error for ('6y6x', 'LS', 'Q02543')\n",
      "  * Error for ('6y6x', 'LU', 'P35268')\n",
      "  * Error for ('6y6x', 'La', 'P46776')\n",
      "  * Error for ('6y6x', 'Lb', 'P47914')\n",
      "  * Error for ('6y6x', 'Lf', 'P18077')\n",
      "  * Error for ('6y6x', 'Lh', 'P42766')\n",
      "  * Error for ('6y6x', 'Li', 'Q9Y3U8')\n",
      "  * Error for ('6y6x', 'Lk', 'P63173')\n",
      "  * Error for ('6y6x', 'Lr', 'P46779')\n",
      "  * Error for ('6y6x', 'Lz', 'P62906')\n",
      "  * Error for ('6y7q', 'AAA', 'Q9NS40')\n"
     ]
    },
    {
     "name": "stderr",
     "output_type": "stream",
     "text": [
      " 82%|████████▏ | 68326/83655 [42:44<03:32, 71.98it/s]"
     ]
    },
    {
     "name": "stdout",
     "output_type": "stream",
     "text": [
      "  * Error for ('6yax', 'AAA', 'P31995')\n",
      "  * Error for ('6yb4', 'AAA', 'Q6PL18')\n"
     ]
    },
    {
     "name": "stderr",
     "output_type": "stream",
     "text": [
      " 82%|████████▏ | 68388/83655 [42:46<08:33, 29.76it/s]"
     ]
    },
    {
     "name": "stdout",
     "output_type": "stream",
     "text": [
      "  * Error for ('6ydp', 'BC', 'Q96RP9')\n",
      "  * Error for ('6ydw', 'BC', 'Q96RP9')\n",
      "  * Error for ('6yel', 'A', 'Q13586')\n"
     ]
    },
    {
     "name": "stderr",
     "output_type": "stream",
     "text": [
      " 82%|████████▏ | 68447/83655 [42:47<03:23, 74.60it/s]"
     ]
    },
    {
     "name": "stdout",
     "output_type": "stream",
     "text": [
      "  * Error for ('6yi0', 'AAA', 'Q9BX68')\n"
     ]
    },
    {
     "name": "stderr",
     "output_type": "stream",
     "text": [
      " 82%|████████▏ | 68479/83655 [42:47<02:46, 91.14it/s]"
     ]
    },
    {
     "name": "stdout",
     "output_type": "stream",
     "text": [
      "  * Error for ('6yjq', 'AAA', 'Q09328')\n",
      "  * Error for ('6yjq', 'AAA', 'Q09328')\n",
      "  * Error for ('6yjr', 'AAA', 'Q09328')\n",
      "  * Error for ('6yjs', 'AAA', 'Q09328')\n",
      "  * Error for ('6yjt', 'AAA', 'Q09328')\n",
      "  * Error for ('6yju', 'AAA', 'Q09328')\n",
      "  * Error for ('6yjv', 'AAA', 'Q09328')\n",
      "  * Error for ('6ykg', 'AAA', 'Q8NEB9')\n",
      "  * Error for ('6ykg', 'AAA', 'Q8NEB9')\n"
     ]
    },
    {
     "name": "stderr",
     "output_type": "stream",
     "text": [
      " 82%|████████▏ | 68527/83655 [42:47<02:15, 111.59it/s]"
     ]
    },
    {
     "name": "stdout",
     "output_type": "stream",
     "text": [
      "  * Error for ('6ylf', 'AP1', 'Q12019')\n",
      "  * Error for ('6ylg', 's', 'P40010')\n",
      "  * Error for ('6ylg', 't', 'P53313')\n",
      "  * Error for ('6ylh', 's', 'P40010')\n",
      "  * Error for ('6ylh', 't', 'P53313')\n",
      "  * Error for ('6ylh', 'v', 'Q12019')\n",
      "  * Error for ('6ylx', 'q', 'Q12080')\n",
      "  * Error for ('6ylx', 's', 'P40010')\n",
      "  * Error for ('6ylx', 'w', 'P25582')\n",
      "  * Error for ('6yly', 'q', 'Q12080')\n",
      "  * Error for ('6yly', 's', 'P40010')\n",
      "  * Error for ('6ymq', 'D000', 'Q9NZC2')\n"
     ]
    },
    {
     "name": "stderr",
     "output_type": "stream",
     "text": [
      " 82%|████████▏ | 68624/83655 [42:48<02:06, 118.72it/s]"
     ]
    },
    {
     "name": "stdout",
     "output_type": "stream",
     "text": [
      "  * Error for ('6ypr', 'AAA', 'Q9BX68')\n",
      "  * Error for ('6ypx', 'AAA', 'Q9BX68')\n",
      "  * Error for ('6yqd', 'AAA', 'Q9BX68')\n",
      "  * Error for ('6yqm', 'AAA', 'P49773')\n",
      "  * Error for ('6yqr', 'AAA', 'Q9H8M2')\n",
      "  * Error for ('6yqs', 'AAA', 'Q9H8M2')\n"
     ]
    },
    {
     "name": "stderr",
     "output_type": "stream",
     "text": [
      "\r",
      " 82%|████████▏ | 68638/83655 [42:49<02:21, 106.08it/s]"
     ]
    },
    {
     "name": "stdout",
     "output_type": "stream",
     "text": [
      "  * Error for ('6yru', 'AAA', 'A0A248QE08')\n",
      "  * Error for ('6yrv', 'AAA', 'A0A248QE08')\n",
      "  * Error for ('6yrx', 'AAA', 'A0A248QE08')\n",
      "  * Error for ('6yrz', 'AAA', 'A0A248QE08')\n",
      "  * Error for ('6ys1', 'AAA', 'A0A248QE08')\n",
      "  * Error for ('6ys2', 'AAA', 'A0A248QE08')\n"
     ]
    },
    {
     "name": "stderr",
     "output_type": "stream",
     "text": [
      " 82%|████████▏ | 68674/83655 [42:49<03:20, 74.63it/s] "
     ]
    },
    {
     "name": "stdout",
     "output_type": "stream",
     "text": [
      "  * Error for ('6ytp', 'AAA', 'P04062')\n",
      "  * Error for ('6ytr', 'AAA', 'P04062')\n",
      "  * Error for ('6yul', 'AAA', 'P68400')\n",
      "  * Error for ('6yum', 'AAA', 'P68400')\n",
      "  * Error for ('6yut', 'AAA', 'P04062')\n"
     ]
    },
    {
     "name": "stderr",
     "output_type": "stream",
     "text": [
      " 82%|████████▏ | 68694/83655 [42:49<03:13, 77.19it/s]"
     ]
    },
    {
     "name": "stdout",
     "output_type": "stream",
     "text": [
      "  * Error for ('6yv3', 'AAA', 'P04062')\n",
      "  * Error for ('6yvp', 'AAA', 'Q9BX68')\n"
     ]
    },
    {
     "name": "stderr",
     "output_type": "stream",
     "text": [
      " 82%|████████▏ | 68783/83655 [42:51<03:34, 69.33it/s]"
     ]
    },
    {
     "name": "stdout",
     "output_type": "stream",
     "text": [
      "  * Error for ('6yyn', 'AAA', 'P25774')\n",
      "  * Error for ('6yyo', 'AAA', 'P25774')\n",
      "  * Error for ('6yyp', 'AAA', 'P25774')\n",
      "  * Error for ('6yyq', 'AAA', 'P25774')\n",
      "  * Error for ('6yyr', 'AAA', 'P25774')\n"
     ]
    },
    {
     "name": "stderr",
     "output_type": "stream",
     "text": [
      "\r",
      " 82%|████████▏ | 68795/83655 [42:51<03:08, 78.63it/s]"
     ]
    },
    {
     "name": "stdout",
     "output_type": "stream",
     "text": [
      "  * Error for ('6z1q', 'AAA', 'Q99558')\n"
     ]
    },
    {
     "name": "stderr",
     "output_type": "stream",
     "text": [
      "\r",
      " 82%|████████▏ | 68807/83655 [42:51<06:21, 38.93it/s]"
     ]
    },
    {
     "name": "stdout",
     "output_type": "stream",
     "text": [
      "  * Error for ('6z1t', 'AAA', 'Q99558')\n"
     ]
    },
    {
     "name": "stderr",
     "output_type": "stream",
     "text": [
      " 82%|████████▏ | 68842/83655 [42:52<05:04, 48.60it/s]"
     ]
    },
    {
     "name": "stdout",
     "output_type": "stream",
     "text": [
      "  * Error for ('6z39', 'AAA', 'P04062')\n",
      "  * Error for ('6z3i', 'BBB', 'P04062')\n"
     ]
    },
    {
     "name": "stderr",
     "output_type": "stream",
     "text": [
      " 82%|████████▏ | 68862/83655 [42:53<07:16, 33.87it/s]"
     ]
    },
    {
     "name": "stdout",
     "output_type": "stream",
     "text": [
      "  * Error for ('6z3v', 'AAA', 'P00441')\n"
     ]
    },
    {
     "name": "stderr",
     "output_type": "stream",
     "text": [
      " 82%|████████▏ | 68888/83655 [42:53<04:43, 52.17it/s]"
     ]
    },
    {
     "name": "stdout",
     "output_type": "stream",
     "text": [
      "  * Error for ('6z4g', 'AAA', 'P00441')\n",
      "  * Error for ('6z4h', 'AAA', 'P00441')\n",
      "  * Error for ('6z4i', 'AAA', 'P00441')\n",
      "  * Error for ('6z4j', 'AAA', 'P00441')\n",
      "  * Error for ('6z4k', 'AAA', 'P00441')\n",
      "  * Error for ('6z4l', 'AAA', 'P00441')\n",
      "  * Error for ('6z4m', 'AAA', 'P00441')\n",
      "  * Error for ('6z4o', 'AAA', 'P00441')\n",
      "  * Error for ('6z5f', 'AAA', 'P07896')\n",
      "  * Error for ('6z5o', 'AAA', 'P07896')\n",
      "  * Error for ('6z5v', 'AAA', 'P07896')\n",
      "  * Error for ('6z6l', 'CA', 'Q9UQ80')\n",
      "  * Error for ('6z6l', 'CE', 'Q96CT7')\n",
      "  * Error for ('6z6l', 'LB', 'P39023')\n",
      "  * Error for ('6z6l', 'LC', 'P36578')\n",
      "  * Error for ('6z6l', 'LD', 'P46777')\n",
      "  * Error for ('6z6l', 'LE', 'Q02878')\n",
      "  * Error for ('6z6l', 'LF', 'P18124')\n",
      "  * Error for ('6z6l', 'LG', 'P62424')\n",
      "  * Error for ('6z6l', 'LH', 'P32969')\n",
      "  * Error for ('6z6l', 'LI', 'Q96L21')\n",
      "  * Error for ('6z6l', 'LL', 'P26373')\n",
      "  * Error for ('6z6l', 'LM', 'P50914')\n",
      "  * Error for ('6z6l', 'LO', 'P40429')\n",
      "  * Error for ('6z6l', 'LP', 'P18621')\n",
      "  * Error for ('6z6l', 'LQ', 'Q07020')\n",
      "  * Error for ('6z6l', 'LS', 'Q02543')\n",
      "  * Error for ('6z6l', 'LU', 'P35268')\n",
      "  * Error for ('6z6l', 'La', 'P46776')\n",
      "  * Error for ('6z6l', 'Lb', 'P47914')\n",
      "  * Error for ('6z6l', 'Lf', 'P18077')\n",
      "  * Error for ('6z6l', 'Lh', 'P42766')\n",
      "  * Error for ('6z6l', 'Li', 'Q9Y3U8')\n",
      "  * Error for ('6z6l', 'Lk', 'P63173')\n",
      "  * Error for ('6z6l', 'Lr', 'P46779')\n",
      "  * Error for ('6z6l', 'Lz', 'P62906')\n",
      "  * Error for ('6z6l', 'SA', 'P08865')\n",
      "  * Error for ('6z6l', 'SB', 'P61247')\n",
      "  * Error for ('6z6l', 'SC', 'P15880')\n",
      "  * Error for ('6z6l', 'SF', 'P46782')\n",
      "  * Error for ('6z6l', 'SK', 'P46783')\n",
      "  * Error for ('6z6l', 'SR', 'P08708')\n",
      "  * Error for ('6z6l', 'ST', 'P39019')\n",
      "  * Error for ('6z6l', 'Se', 'P62861')\n",
      "  * Error for ('6z6l', 'Sf', 'P62979')\n",
      "  * Error for ('6z6m', 'CA', 'Q9UQ80')\n",
      "  * Error for ('6z6m', 'CB', 'P13639')\n",
      "  * Error for ('6z6m', 'CD', 'Q8NC51')\n",
      "  * Error for ('6z6m', 'LB', 'P39023')\n",
      "  * Error for ('6z6m', 'LC', 'P36578')\n",
      "  * Error for ('6z6m', 'LD', 'P46777')\n",
      "  * Error for ('6z6m', 'LE', 'Q02878')\n",
      "  * Error for ('6z6m', 'LF', 'P18124')\n",
      "  * Error for ('6z6m', 'LG', 'P62424')\n",
      "  * Error for ('6z6m', 'LH', 'P32969')\n",
      "  * Error for ('6z6m', 'LI', 'Q96L21')\n",
      "  * Error for ('6z6m', 'LL', 'P26373')\n",
      "  * Error for ('6z6m', 'LM', 'P50914')\n",
      "  * Error for ('6z6m', 'LO', 'P40429')\n",
      "  * Error for ('6z6m', 'LP', 'P18621')\n",
      "  * Error for ('6z6m', 'LQ', 'Q07020')\n",
      "  * Error for ('6z6m', 'LS', 'Q02543')\n",
      "  * Error for ('6z6m', 'LU', 'P35268')\n",
      "  * Error for ('6z6m', 'La', 'P46776')\n",
      "  * Error for ('6z6m', 'Lb', 'P47914')\n",
      "  * Error for ('6z6m', 'Lf', 'P18077')\n",
      "  * Error for ('6z6m', 'Lh', 'P42766')\n",
      "  * Error for ('6z6m', 'Li', 'Q9Y3U8')\n",
      "  * Error for ('6z6m', 'Lk', 'P63173')\n",
      "  * Error for ('6z6m', 'Lr', 'P46779')\n",
      "  * Error for ('6z6m', 'Lz', 'P62906')\n"
     ]
    },
    {
     "name": "stderr",
     "output_type": "stream",
     "text": [
      "\r",
      " 82%|████████▏ | 69005/83655 [42:54<03:21, 72.71it/s]"
     ]
    },
    {
     "name": "stdout",
     "output_type": "stream",
     "text": [
      "  * Error for ('6z6m', 'SA', 'P08865')\n",
      "  * Error for ('6z6m', 'SB', 'P61247')\n",
      "  * Error for ('6z6m', 'SC', 'P15880')\n",
      "  * Error for ('6z6m', 'SF', 'P46782')\n",
      "  * Error for ('6z6m', 'SK', 'P46783')\n",
      "  * Error for ('6z6m', 'SR', 'P08708')\n",
      "  * Error for ('6z6m', 'ST', 'P39019')\n",
      "  * Error for ('6z6m', 'Se', 'P62861')\n",
      "  * Error for ('6z6m', 'Sf', 'P62979')\n",
      "  * Error for ('6z6n', 'CA', 'Q9UQ80')\n",
      "  * Error for ('6z6n', 'CB', 'P13639')\n",
      "  * Error for ('6z6n', 'CD', 'Q8NC51')\n",
      "  * Error for ('6z6n', 'LB', 'P39023')\n",
      "  * Error for ('6z6n', 'LC', 'P36578')\n",
      "  * Error for ('6z6n', 'LD', 'P46777')\n",
      "  * Error for ('6z6n', 'LE', 'Q02878')\n",
      "  * Error for ('6z6n', 'LF', 'P18124')\n",
      "  * Error for ('6z6n', 'LG', 'P62424')\n",
      "  * Error for ('6z6n', 'LH', 'P32969')\n",
      "  * Error for ('6z6n', 'LI', 'Q96L21')\n",
      "  * Error for ('6z6n', 'LL', 'P26373')\n",
      "  * Error for ('6z6n', 'LM', 'P50914')\n",
      "  * Error for ('6z6n', 'LO', 'P40429')\n",
      "  * Error for ('6z6n', 'LP', 'P18621')\n",
      "  * Error for ('6z6n', 'LQ', 'Q07020')\n",
      "  * Error for ('6z6n', 'LS', 'Q02543')\n",
      "  * Error for ('6z6n', 'LU', 'P35268')\n",
      "  * Error for ('6z6n', 'La', 'P46776')\n",
      "  * Error for ('6z6n', 'Lb', 'P47914')\n",
      "  * Error for ('6z6n', 'Lf', 'P18077')\n",
      "  * Error for ('6z6n', 'Lh', 'P42766')\n",
      "  * Error for ('6z6n', 'Li', 'Q9Y3U8')\n",
      "  * Error for ('6z6n', 'Lk', 'P63173')\n",
      "  * Error for ('6z6n', 'Lr', 'P46779')\n",
      "  * Error for ('6z6n', 'Lz', 'P62906')\n",
      "  * Error for ('6z6n', 'SA', 'P08865')\n",
      "  * Error for ('6z6n', 'SB', 'P61247')\n",
      "  * Error for ('6z6n', 'SC', 'P15880')\n",
      "  * Error for ('6z6n', 'SF', 'P46782')\n",
      "  * Error for ('6z6n', 'SK', 'P46783')\n",
      "  * Error for ('6z6n', 'SR', 'P08708')\n",
      "  * Error for ('6z6n', 'ST', 'P39019')\n",
      "  * Error for ('6z6n', 'Se', 'P62861')\n",
      "  * Error for ('6z6n', 'Sf', 'P62979')\n",
      "  * Error for ('6z6v', 'A', 'P02745')\n",
      "  * Error for ('6z6v', 'B', 'P02746')\n",
      "  * Error for ('6z6v', 'C', 'P02747')\n",
      "  * Error for ('6z7f', 'AAA', 'P25440')\n",
      "  * Error for ('6z7g', 'AAA', 'O60885')\n",
      "  * Error for ('6z7l', 'AAA', 'O60885')\n",
      "  * Error for ('6z7m', 'AAA', 'O60885')\n",
      "  * Error for ('6z83', 'AAA', 'P68400')\n",
      "  * Error for ('6z84', 'AAA', 'P68400')\n"
     ]
    },
    {
     "name": "stderr",
     "output_type": "stream",
     "text": [
      "\r",
      " 83%|████████▎ | 69039/83655 [42:54<03:48, 64.08it/s]"
     ]
    },
    {
     "name": "stdout",
     "output_type": "stream",
     "text": [
      "  * Error for ('6z8p', 'AAA', 'P25440')\n"
     ]
    },
    {
     "name": "stderr",
     "output_type": "stream",
     "text": [
      "\r",
      " 83%|████████▎ | 69064/83655 [42:55<03:52, 62.63it/s]"
     ]
    },
    {
     "name": "stdout",
     "output_type": "stream",
     "text": [
      "  * Error for ('6zb0', 'AAA', 'P25440')\n",
      "  * Error for ('6zb1', 'AAA', 'P25440')\n",
      "  * Error for ('6zb2', 'AAA', 'P25440')\n",
      "  * Error for ('6zb3', 'AAA', 'O60885')\n",
      "  * Error for ('6zba', 'AAA', 'Q08499')\n"
     ]
    },
    {
     "name": "stderr",
     "output_type": "stream",
     "text": [
      " 83%|████████▎ | 69116/83655 [42:55<02:48, 86.04it/s]"
     ]
    },
    {
     "name": "stdout",
     "output_type": "stream",
     "text": [
      "  * Error for ('6zdk', 'AAA', 'Q5SRI9')\n",
      "  * Error for ('6zdl', 'AAA', 'Q5SRI9')\n",
      "  * Error for ('6zdm', 'AAA', 'Q9Y251')\n",
      "  * Error for ('6zdm', 'BBB', 'Q9Y251')\n",
      "  * Error for ('6zed', 'AAA', 'O60885')\n"
     ]
    },
    {
     "name": "stderr",
     "output_type": "stream",
     "text": [
      "\r",
      " 83%|████████▎ | 69132/83655 [42:56<03:36, 67.03it/s]"
     ]
    },
    {
     "name": "stdout",
     "output_type": "stream",
     "text": [
      "  * Error for ('6zel', 'AAA', 'O60885')\n",
      "  * Error for ('6zf9', 'AAA', 'O60885')\n",
      "  * Error for ('6zfa', 'AAA', 'Q5SRI9')\n",
      "  * Error for ('6zfn', 'AAA', 'Q5SRI9')\n",
      "  * Error for ('6zfq', 'AAA', 'Q5SRI9')\n"
     ]
    },
    {
     "name": "stderr",
     "output_type": "stream",
     "text": [
      " 83%|████████▎ | 69180/83655 [42:57<05:25, 44.43it/s]"
     ]
    },
    {
     "name": "stdout",
     "output_type": "stream",
     "text": [
      "  * Error for ('6zhc', 'AAA', 'P40337')\n",
      "  * Error for ('6zhc', 'BBB', 'Q15370')\n",
      "  * Error for ('6zhc', 'DDD', 'Q07817')\n"
     ]
    },
    {
     "name": "stderr",
     "output_type": "stream",
     "text": [
      " 83%|████████▎ | 69208/83655 [42:58<07:25, 32.45it/s]"
     ]
    },
    {
     "name": "stdout",
     "output_type": "stream",
     "text": [
      "  * Error for ('6zib', 'AAA', 'P07896')\n",
      "  * Error for ('6zic', 'AAA', 'P07896')\n"
     ]
    },
    {
     "name": "stderr",
     "output_type": "stream",
     "text": [
      " 83%|████████▎ | 69251/83655 [42:58<04:10, 57.41it/s]"
     ]
    },
    {
     "name": "stdout",
     "output_type": "stream",
     "text": [
      "  * Error for ('6zj1', 'AAA', 'Q5SRI9')\n",
      "  * Error for ('6zj5', 'AAA', 'Q5SRI9')\n",
      "  * Error for ('6zk0', 'AAA', 'P29218')\n",
      "  * Error for ('6zk7', 'AAAA', 'Q8WU10')\n"
     ]
    },
    {
     "name": "stderr",
     "output_type": "stream",
     "text": [
      " 83%|████████▎ | 69521/83655 [42:59<06:41, 35.17it/s]"
     ]
    },
    {
     "name": "stdout",
     "output_type": "stream",
     "text": [
      "  * Error for ('6zm5', '0', 'Q9BYC8')\n",
      "  * Error for ('6zm5', '1', 'O75394')\n",
      "  * Error for ('6zm5', '2', 'Q9BQ48')\n",
      "  * Error for ('6zm5', '5', 'Q9BZE1')\n",
      "  * Error for ('6zm5', '6', 'Q96DV4')\n",
      "  * Error for ('6zm5', '7', 'Q9NYK5')\n",
      "  * Error for ('6zm5', '8', 'Q9NQ50')\n",
      "  * Error for ('6zm5', '9', 'Q8IXM3')\n",
      "  * Error for ('6zm5', 'A0', 'P82930')\n",
      "  * Error for ('6zm5', 'A1', 'P82673')\n",
      "  * Error for ('6zm5', 'A2', 'Q96BP2')\n",
      "  * Error for ('6zm5', 'A3', 'Q9NWT8')\n",
      "  * Error for ('6zm5', 'A4', 'Q96EY7')\n",
      "  * Error for ('6zm5', 'AB', 'Q9Y399')\n",
      "  * Error for ('6zm5', 'AC', 'Q96EL2')\n",
      "  * Error for ('6zm5', 'AD', 'P82675')\n",
      "  * Error for ('6zm5', 'AE', 'P82932')\n",
      "  * Error for ('6zm5', 'AF', 'Q9Y2R9')\n",
      "  * Error for ('6zm5', 'AG', 'P82933')\n",
      "  * Error for ('6zm5', 'AH', 'P82664')\n",
      "  * Error for ('6zm5', 'AI', 'P82912')\n",
      "  * Error for ('6zm5', 'AJ', 'O15235')\n",
      "  * Error for ('6zm5', 'AK', 'O60783')\n",
      "  * Error for ('6zm5', 'AL', 'P82914')\n",
      "  * Error for ('6zm5', 'AN', 'Q9Y2R5')\n",
      "  * Error for ('6zm5', 'AO', 'Q9Y676')\n",
      "  * Error for ('6zm5', 'AP', 'Q9Y3D5')\n",
      "  * Error for ('6zm5', 'AQ', 'P82921')\n",
      "  * Error for ('6zm5', 'AR', 'P82650')\n",
      "  * Error for ('6zm5', 'AS', 'Q9Y3D9')\n",
      "  * Error for ('6zm5', 'AT', 'P82663')\n",
      "  * Error for ('6zm5', 'AU', 'Q9BYN8')\n",
      "  * Error for ('6zm5', 'AV', 'Q92552')\n",
      "  * Error for ('6zm5', 'AW', 'Q9Y2Q9')\n",
      "  * Error for ('6zm5', 'AX', 'P51398')\n",
      "  * Error for ('6zm5', 'AY', 'Q92665')\n",
      "  * Error for ('6zm5', 'AZ', 'Q9Y291')\n",
      "  * Error for ('6zm5', 'D', 'Q5T653')\n",
      "  * Error for ('6zm5', 'E', 'P09001')\n",
      "  * Error for ('6zm5', 'F', 'Q9BYD3')\n",
      "  * Error for ('6zm5', 'H', 'Q9BYD2')\n",
      "  * Error for ('6zm5', 'I', 'Q7Z7H8')\n",
      "  * Error for ('6zm5', 'J', 'Q9Y3B7')\n",
      "  * Error for ('6zm5', 'K', 'Q9BYD1')\n",
      "  * Error for ('6zm5', 'L', 'Q6P1L8')\n",
      "  * Error for ('6zm5', 'N', 'Q9NX20')\n",
      "  * Error for ('6zm5', 'O', 'Q9NRX2')\n",
      "  * Error for ('6zm5', 'P', 'Q9H0U6')\n",
      "  * Error for ('6zm5', 'Q', 'P49406')\n",
      "  * Error for ('6zm5', 'R', 'Q9BYC9')\n",
      "  * Error for ('6zm5', 'U', 'Q16540')\n",
      "  * Error for ('6zm5', 'V', 'Q96A35')\n",
      "  * Error for ('6zm5', 'W', 'Q9P0M9')\n",
      "  * Error for ('6zm5', 'X', 'Q13084')\n",
      "  * Error for ('6zm5', 'Y', 'Q9HD33')\n",
      "  * Error for ('6zm5', 'Z', 'Q8TCC3')\n",
      "  * Error for ('6zm5', 'b', 'Q8N983')\n",
      "  * Error for ('6zm5', 'c', 'Q9H9J2')\n",
      "  * Error for ('6zm5', 'd', 'Q9BRJ2')\n",
      "  * Error for ('6zm5', 'e', 'Q9H2W6')\n",
      "  * Error for ('6zm5', 'f', 'Q96GC5')\n",
      "  * Error for ('6zm5', 'g', 'Q13405')\n",
      "  * Error for ('6zm5', 'h', 'Q8N5N7')\n",
      "  * Error for ('6zm5', 'j', 'Q86TS9')\n",
      "  * Error for ('6zm5', 'k', 'Q96EL3')\n",
      "  * Error for ('6zm5', 'o', 'Q9BQC6')\n",
      "  * Error for ('6zm5', 'q', 'Q8TAE8')\n",
      "  * Error for ('6zm5', 'r', 'Q9NVS2')\n",
      "  * Error for ('6zm5', 's', 'Q9NP92')\n",
      "  * Error for ('6zm5', 't1', 'P52815')\n",
      "  * Error for ('6zm5', 'u', 'Q15070')\n",
      "  * Error for ('6zm6', '0', 'Q9BYC8')\n",
      "  * Error for ('6zm6', '1', 'O75394')\n",
      "  * Error for ('6zm6', '2', 'Q9BQ48')\n",
      "  * Error for ('6zm6', '5', 'Q9BZE1')\n",
      "  * Error for ('6zm6', '6', 'Q96DV4')\n",
      "  * Error for ('6zm6', '7', 'Q9NYK5')\n",
      "  * Error for ('6zm6', '8', 'Q9NQ50')\n",
      "  * Error for ('6zm6', '9', 'Q8IXM3')\n",
      "  * Error for ('6zm6', 'A0', 'P82930')\n",
      "  * Error for ('6zm6', 'A1', 'P82673')\n",
      "  * Error for ('6zm6', 'A2', 'Q96BP2')\n",
      "  * Error for ('6zm6', 'A3', 'Q9NWT8')\n",
      "  * Error for ('6zm6', 'A4', 'Q96EY7')\n",
      "  * Error for ('6zm6', 'AB', 'Q9Y399')\n",
      "  * Error for ('6zm6', 'AC', 'Q96EL2')\n",
      "  * Error for ('6zm6', 'AD', 'P82675')\n",
      "  * Error for ('6zm6', 'AE', 'P82932')\n",
      "  * Error for ('6zm6', 'AF', 'Q9Y2R9')\n",
      "  * Error for ('6zm6', 'AG', 'P82933')\n",
      "  * Error for ('6zm6', 'AH', 'P82664')\n",
      "  * Error for ('6zm6', 'AI', 'P82912')\n",
      "  * Error for ('6zm6', 'AJ', 'O15235')\n",
      "  * Error for ('6zm6', 'AK', 'O60783')\n",
      "  * Error for ('6zm6', 'AL', 'P82914')\n",
      "  * Error for ('6zm6', 'AN', 'Q9Y2R5')\n",
      "  * Error for ('6zm6', 'AO', 'Q9Y676')\n",
      "  * Error for ('6zm6', 'AP', 'Q9Y3D5')\n",
      "  * Error for ('6zm6', 'AQ', 'P82921')\n",
      "  * Error for ('6zm6', 'AR', 'P82650')\n",
      "  * Error for ('6zm6', 'AS', 'Q9Y3D9')\n",
      "  * Error for ('6zm6', 'AT', 'P82663')\n",
      "  * Error for ('6zm6', 'AU', 'Q9BYN8')\n",
      "  * Error for ('6zm6', 'AV', 'Q92552')\n",
      "  * Error for ('6zm6', 'AW', 'Q9Y2Q9')\n",
      "  * Error for ('6zm6', 'AX', 'P51398')\n",
      "  * Error for ('6zm6', 'AY', 'Q92665')\n",
      "  * Error for ('6zm6', 'AZ', 'Q9Y291')\n",
      "  * Error for ('6zm6', 'D', 'Q5T653')\n",
      "  * Error for ('6zm6', 'E', 'P09001')\n",
      "  * Error for ('6zm6', 'F', 'Q9BYD3')\n",
      "  * Error for ('6zm6', 'H', 'Q9BYD2')\n",
      "  * Error for ('6zm6', 'I', 'Q7Z7H8')\n",
      "  * Error for ('6zm6', 'J', 'Q9Y3B7')\n",
      "  * Error for ('6zm6', 'K', 'Q9BYD1')\n",
      "  * Error for ('6zm6', 'L', 'Q6P1L8')\n",
      "  * Error for ('6zm6', 'N', 'Q9NX20')\n",
      "  * Error for ('6zm6', 'O', 'Q9NRX2')\n",
      "  * Error for ('6zm6', 'P', 'Q9H0U6')\n",
      "  * Error for ('6zm6', 'Q', 'P49406')\n",
      "  * Error for ('6zm6', 'R', 'Q9BYC9')\n",
      "  * Error for ('6zm6', 'U', 'Q16540')\n",
      "  * Error for ('6zm6', 'V', 'Q96A35')\n",
      "  * Error for ('6zm6', 'W', 'Q9P0M9')\n",
      "  * Error for ('6zm6', 'X', 'Q13084')\n",
      "  * Error for ('6zm6', 'Y', 'Q9HD33')\n",
      "  * Error for ('6zm6', 'Z', 'Q8TCC3')\n",
      "  * Error for ('6zm6', 'b', 'Q8N983')\n",
      "  * Error for ('6zm6', 'c', 'Q9H9J2')\n",
      "  * Error for ('6zm6', 'd', 'Q9BRJ2')\n",
      "  * Error for ('6zm6', 'e', 'Q9H2W6')\n",
      "  * Error for ('6zm6', 'f', 'Q96GC5')\n",
      "  * Error for ('6zm6', 'g', 'Q13405')\n",
      "  * Error for ('6zm6', 'h', 'Q8N5N7')\n",
      "  * Error for ('6zm6', 'j', 'Q86TS9')\n",
      "  * Error for ('6zm6', 'k', 'Q96EL3')\n",
      "  * Error for ('6zm6', 'o', 'Q9BQC6')\n",
      "  * Error for ('6zm6', 'q', 'Q8TAE8')\n",
      "  * Error for ('6zm6', 'r', 'Q9NVS2')\n",
      "  * Error for ('6zm6', 's', 'Q9NP92')\n",
      "  * Error for ('6zm6', 't1', 'P52815')\n",
      "  * Error for ('6zm7', 'CA', 'Q9UQ80')\n",
      "  * Error for ('6zm7', 'CE', 'Q96CT7')\n",
      "  * Error for ('6zm7', 'LB', 'P39023')\n",
      "  * Error for ('6zm7', 'LC', 'P36578')\n",
      "  * Error for ('6zm7', 'LD', 'P46777')\n",
      "  * Error for ('6zm7', 'LE', 'Q02878')\n",
      "  * Error for ('6zm7', 'LF', 'P18124')\n",
      "  * Error for ('6zm7', 'LG', 'P62424')\n",
      "  * Error for ('6zm7', 'LH', 'P32969')\n",
      "  * Error for ('6zm7', 'LI', 'Q96L21')\n",
      "  * Error for ('6zm7', 'LL', 'P26373')\n",
      "  * Error for ('6zm7', 'LM', 'P50914')\n",
      "  * Error for ('6zm7', 'LO', 'P40429')\n",
      "  * Error for ('6zm7', 'LP', 'P18621')\n",
      "  * Error for ('6zm7', 'LQ', 'Q07020')\n",
      "  * Error for ('6zm7', 'LS', 'Q02543')\n",
      "  * Error for ('6zm7', 'LU', 'P35268')\n",
      "  * Error for ('6zm7', 'La', 'P46776')\n",
      "  * Error for ('6zm7', 'Lb', 'P47914')\n",
      "  * Error for ('6zm7', 'Lf', 'P18077')\n",
      "  * Error for ('6zm7', 'Lh', 'P42766')\n",
      "  * Error for ('6zm7', 'Li', 'Q9Y3U8')\n",
      "  * Error for ('6zm7', 'Lk', 'P63173')\n",
      "  * Error for ('6zm7', 'Lr', 'P46779')\n",
      "  * Error for ('6zm7', 'Ls', 'P05388')\n",
      "  * Error for ('6zm7', 'Lt', 'P30050')\n",
      "  * Error for ('6zm7', 'Lz', 'P62906')\n",
      "  * Error for ('6zm7', 'SA', 'P08865')\n",
      "  * Error for ('6zm7', 'SB', 'P61247')\n",
      "  * Error for ('6zm7', 'SC', 'P15880')\n",
      "  * Error for ('6zm7', 'SF', 'P46782')\n",
      "  * Error for ('6zm7', 'SR', 'P08708')\n",
      "  * Error for ('6zm7', 'ST', 'P39019')\n",
      "  * Error for ('6zm7', 'Se', 'P62861')\n",
      "  * Error for ('6zm7', 'Sf', 'P62979')\n",
      "  * Error for ('6zme', 'CA', 'Q9UQ80')\n",
      "  * Error for ('6zme', 'CE', 'Q96CT7')\n",
      "  * Error for ('6zme', 'CI', 'P61221')\n",
      "  * Error for ('6zme', 'LB', 'P39023')\n",
      "  * Error for ('6zme', 'LC', 'P36578')\n",
      "  * Error for ('6zme', 'LD', 'P46777')\n",
      "  * Error for ('6zme', 'LE', 'Q02878')\n",
      "  * Error for ('6zme', 'LF', 'P18124')\n",
      "  * Error for ('6zme', 'LG', 'P62424')\n",
      "  * Error for ('6zme', 'LH', 'P32969')\n",
      "  * Error for ('6zme', 'LI', 'Q96L21')\n",
      "  * Error for ('6zme', 'LL', 'P26373')\n",
      "  * Error for ('6zme', 'LM', 'P50914')\n",
      "  * Error for ('6zme', 'LO', 'P40429')\n",
      "  * Error for ('6zme', 'LP', 'P18621')\n",
      "  * Error for ('6zme', 'LQ', 'Q07020')\n",
      "  * Error for ('6zme', 'LS', 'Q02543')\n",
      "  * Error for ('6zme', 'LU', 'P35268')\n",
      "  * Error for ('6zme', 'La', 'P46776')\n",
      "  * Error for ('6zme', 'Lb', 'P47914')\n",
      "  * Error for ('6zme', 'Lf', 'P18077')\n",
      "  * Error for ('6zme', 'Lh', 'P42766')\n",
      "  * Error for ('6zme', 'Li', 'Q9Y3U8')\n",
      "  * Error for ('6zme', 'Lk', 'P63173')\n",
      "  * Error for ('6zme', 'Lr', 'P46779')\n",
      "  * Error for ('6zme', 'Ls', 'P05388')\n",
      "  * Error for ('6zme', 'Lt', 'P30050')\n",
      "  * Error for ('6zme', 'Lz', 'P62906')\n",
      "  * Error for ('6zme', 'SA', 'P08865')\n",
      "  * Error for ('6zme', 'SB', 'P61247')\n",
      "  * Error for ('6zme', 'SC', 'P15880')\n",
      "  * Error for ('6zme', 'SF', 'P46782')\n",
      "  * Error for ('6zme', 'SR', 'P08708')\n",
      "  * Error for ('6zme', 'ST', 'P39019')\n",
      "  * Error for ('6zme', 'Se', 'P62861')\n",
      "  * Error for ('6zme', 'Sf', 'P62979')\n",
      "  * Error for ('6zmi', 'CA', 'Q9UQ80')\n",
      "  * Error for ('6zmi', 'CE', 'Q9NX58')\n",
      "  * Error for ('6zmi', 'LB', 'P39023')\n",
      "  * Error for ('6zmi', 'LC', 'P36578')\n",
      "  * Error for ('6zmi', 'LD', 'P46777')\n",
      "  * Error for ('6zmi', 'LE', 'Q02878')\n",
      "  * Error for ('6zmi', 'LF', 'P18124')\n",
      "  * Error for ('6zmi', 'LG', 'P62424')\n",
      "  * Error for ('6zmi', 'LH', 'P32969')\n",
      "  * Error for ('6zmi', 'LI', 'Q96L21')\n",
      "  * Error for ('6zmi', 'LL', 'P26373')\n",
      "  * Error for ('6zmi', 'LM', 'P50914')\n",
      "  * Error for ('6zmi', 'LO', 'P40429')\n",
      "  * Error for ('6zmi', 'LP', 'P18621')\n",
      "  * Error for ('6zmi', 'LQ', 'Q07020')\n",
      "  * Error for ('6zmi', 'LS', 'Q02543')\n",
      "  * Error for ('6zmi', 'LU', 'P35268')\n",
      "  * Error for ('6zmi', 'La', 'P46776')\n",
      "  * Error for ('6zmi', 'Lb', 'P47914')\n",
      "  * Error for ('6zmi', 'Lf', 'P18077')\n",
      "  * Error for ('6zmi', 'Lh', 'P42766')\n",
      "  * Error for ('6zmi', 'Li', 'Q9Y3U8')\n",
      "  * Error for ('6zmi', 'Lk', 'P63173')\n",
      "  * Error for ('6zmi', 'Lr', 'P46779')\n",
      "  * Error for ('6zmi', 'Ls', 'P05388')\n",
      "  * Error for ('6zmi', 'Lt', 'P30050')\n",
      "  * Error for ('6zmi', 'Lz', 'P62906')\n",
      "  * Error for ('6zmi', 'SA', 'P08865')\n",
      "  * Error for ('6zmi', 'SB', 'P61247')\n",
      "  * Error for ('6zmi', 'SC', 'P15880')\n",
      "  * Error for ('6zmi', 'SF', 'P46782')\n",
      "  * Error for ('6zmi', 'SR', 'P08708')\n",
      "  * Error for ('6zmi', 'ST', 'P39019')\n",
      "  * Error for ('6zmi', 'Se', 'P62861')\n",
      "  * Error for ('6zmi', 'Sf', 'P62979')\n",
      "  * Error for ('6zmo', 'CA', 'Q9UQ80')\n"
     ]
    },
    {
     "name": "stdout",
     "output_type": "stream",
     "text": [
      "  * Error for ('6zmo', 'CE', 'Q9NX58')\n",
      "  * Error for ('6zmo', 'LB', 'P39023')\n",
      "  * Error for ('6zmo', 'LC', 'P36578')\n",
      "  * Error for ('6zmo', 'LD', 'P46777')\n",
      "  * Error for ('6zmo', 'LE', 'Q02878')\n",
      "  * Error for ('6zmo', 'LF', 'P18124')\n",
      "  * Error for ('6zmo', 'LG', 'P62424')\n",
      "  * Error for ('6zmo', 'LH', 'P32969')\n",
      "  * Error for ('6zmo', 'LI', 'Q96L21')\n",
      "  * Error for ('6zmo', 'LL', 'P26373')\n",
      "  * Error for ('6zmo', 'LM', 'P50914')\n",
      "  * Error for ('6zmo', 'LO', 'P40429')\n",
      "  * Error for ('6zmo', 'LP', 'P18621')\n",
      "  * Error for ('6zmo', 'LQ', 'Q07020')\n",
      "  * Error for ('6zmo', 'LS', 'Q02543')\n",
      "  * Error for ('6zmo', 'LU', 'P35268')\n",
      "  * Error for ('6zmo', 'La', 'P46776')\n",
      "  * Error for ('6zmo', 'Lb', 'P47914')\n",
      "  * Error for ('6zmo', 'Lf', 'P18077')\n",
      "  * Error for ('6zmo', 'Lh', 'P42766')\n",
      "  * Error for ('6zmo', 'Li', 'Q9Y3U8')\n",
      "  * Error for ('6zmo', 'Lk', 'P63173')\n",
      "  * Error for ('6zmo', 'Lr', 'P46779')\n",
      "  * Error for ('6zmo', 'Ls', 'P05388')\n",
      "  * Error for ('6zmo', 'Lt', 'P30050')\n",
      "  * Error for ('6zmo', 'Lz', 'P62906')\n",
      "  * Error for ('6zmo', 'SA', 'P08865')\n",
      "  * Error for ('6zmo', 'SB', 'P61247')\n",
      "  * Error for ('6zmo', 'SC', 'P15880')\n",
      "  * Error for ('6zmo', 'SF', 'P46782')\n",
      "  * Error for ('6zmo', 'SR', 'P08708')\n",
      "  * Error for ('6zmo', 'ST', 'P39019')\n",
      "  * Error for ('6zmo', 'Se', 'P62861')\n",
      "  * Error for ('6zmo', 'Sf', 'P62979')\n"
     ]
    },
    {
     "name": "stderr",
     "output_type": "stream",
     "text": [
      "\r",
      " 83%|████████▎ | 69587/83655 [43:01<05:58, 39.25it/s]"
     ]
    },
    {
     "name": "stdout",
     "output_type": "stream",
     "text": [
      "  * Error for ('6zmw', '1', 'P55884')\n",
      "  * Error for ('6zmw', '2', 'Q13347')\n",
      "  * Error for ('6zmw', '3', 'Q9UBQ5')\n",
      "  * Error for ('6zmw', '4', 'O00303')\n",
      "  * Error for ('6zmw', '5', 'Q9Y262')\n",
      "  * Error for ('6zmw', '6', 'Q7L2H7')\n",
      "  * Error for ('6zmw', '8', 'O15372')\n",
      "  * Error for ('6zmw', 'F', 'P62861')\n",
      "  * Error for ('6zmw', 'L', 'P15880')\n",
      "  * Error for ('6zmw', 'M', 'P08708')\n",
      "  * Error for ('6zmw', 'N', 'P08865')\n",
      "  * Error for ('6zmw', 'O', 'P61247')\n",
      "  * Error for ('6zmw', 'V', 'P46782')\n",
      "  * Error for ('6zmw', 'a', 'P46783')\n",
      "  * Error for ('6zmw', 'd', 'P39019')\n",
      "  * Error for ('6zmw', 'g', 'Q04637')\n",
      "  * Error for ('6zmw', 'k', 'P62979')\n",
      "  * Error for ('6zmw', 'o', 'O75821')\n",
      "  * Error for ('6zmw', 'p', 'P41567')\n",
      "  * Error for ('6zmw', 'q', 'P47813')\n",
      "  * Error for ('6zmw', 'r', 'P05198')\n",
      "  * Error for ('6zmw', 's', 'P20042')\n",
      "  * Error for ('6zmw', 't', 'P41091')\n",
      "  * Error for ('6zmw', 'u', 'Q14152')\n",
      "  * Error for ('6zmw', 'v', 'P60228')\n",
      "  * Error for ('6zmw', 'x', 'O15371')\n",
      "  * Error for ('6zmw', 'y', 'Q99613')\n",
      "  * Error for ('6zmw', 'z', 'O75822')\n",
      "  * Error for ('6zna', 'Ae', 'Q9MYT8')\n",
      "  * Error for ('6zna', 'Af', 'Q95339')\n"
     ]
    },
    {
     "name": "stderr",
     "output_type": "stream",
     "text": [
      " 83%|████████▎ | 69700/83655 [43:04<04:50, 48.05it/s]"
     ]
    },
    {
     "name": "stdout",
     "output_type": "stream",
     "text": [
      "  * Error for ('6zon', 'A', 'Q14152')\n",
      "  * Error for ('6zon', 'B', 'P55884')\n",
      "  * Error for ('6zon', 'C', 'Q99613')\n",
      "  * Error for ('6zon', 'D', 'O15371')\n",
      "  * Error for ('6zon', 'E', 'P60228')\n",
      "  * Error for ('6zon', 'F', 'O00303')\n",
      "  * Error for ('6zon', 'H', 'O15372')\n",
      "  * Error for ('6zon', 'I', 'Q13347')\n",
      "  * Error for ('6zon', 'K', 'Q9UBQ5')\n",
      "  * Error for ('6zon', 'L', 'Q9Y262')\n",
      "  * Error for ('6zon', 'M', 'Q7L2H7')\n",
      "  * Error for ('6zon', 'T', 'P62861')\n",
      "  * Error for ('6zon', 'U', 'P62979')\n",
      "  * Error for ('6zon', 'a', 'P08865')\n",
      "  * Error for ('6zon', 'd', 'P15880')\n",
      "  * Error for ('6zon', 'e', 'P46782')\n",
      "  * Error for ('6zon', 'p', 'P61247')\n",
      "  * Error for ('6zon', 'u', 'P46783')\n",
      "  * Error for ('6zon', 'w', 'P08708')\n",
      "  * Error for ('6zon', 'x', 'P39019')\n",
      "  * Error for ('6zp4', '4', 'P20042')\n",
      "  * Error for ('6zp4', 'A', 'Q14152')\n",
      "  * Error for ('6zp4', 'B', 'P55884')\n",
      "  * Error for ('6zp4', 'C', 'Q99613')\n",
      "  * Error for ('6zp4', 'E', 'P60228')\n",
      "  * Error for ('6zp4', 'F', 'O00303')\n",
      "  * Error for ('6zp4', 'G', 'P47813')\n",
      "  * Error for ('6zp4', 'H', 'O15372')\n",
      "  * Error for ('6zp4', 'I', 'Q13347')\n",
      "  * Error for ('6zp4', 'K', 'Q9UBQ5')\n",
      "  * Error for ('6zp4', 'L', 'Q9Y262')\n",
      "  * Error for ('6zp4', 'M', 'Q7L2H7')\n",
      "  * Error for ('6zp4', 'N', 'O15371')\n",
      "  * Error for ('6zp4', 'O', 'P05198')\n",
      "  * Error for ('6zp4', 'T', 'P62861')\n",
      "  * Error for ('6zp4', 'U', 'P62979')\n",
      "  * Error for ('6zp4', 'Y', 'P41091')\n",
      "  * Error for ('6zp4', 'Z', 'P41567')\n",
      "  * Error for ('6zp4', 'a', 'P08865')\n",
      "  * Error for ('6zp4', 'd', 'P15880')\n",
      "  * Error for ('6zp4', 'e', 'P46782')\n",
      "  * Error for ('6zp4', 'p', 'P61247')\n",
      "  * Error for ('6zp4', 'u', 'P46783')\n",
      "  * Error for ('6zp4', 'w', 'P08708')\n",
      "  * Error for ('6zp4', 'x', 'P39019')\n"
     ]
    },
    {
     "name": "stderr",
     "output_type": "stream",
     "text": [
      "\r",
      " 83%|████████▎ | 69727/83655 [43:05<06:57, 33.33it/s]"
     ]
    },
    {
     "name": "stdout",
     "output_type": "stream",
     "text": [
      "  * Error for ('6zqa', 'CA', 'P15646')\n",
      "  * Error for ('6zqa', 'UB', 'Q99207')\n",
      "  * Error for ('6zqa', 'US', 'Q06512')\n",
      "  * Error for ('6zqa', 'UZ', 'P36144')\n",
      "  * Error for ('6zqb', 'CA', 'P15646')\n",
      "  * Error for ('6zqb', 'UB', 'Q99207')\n",
      "  * Error for ('6zqb', 'US', 'Q06512')\n",
      "  * Error for ('6zqb', 'UZ', 'P36144')\n",
      "  * Error for ('6zqc', 'CA', 'P15646')\n",
      "  * Error for ('6zqc', 'UB', 'Q99207')\n",
      "  * Error for ('6zqc', 'US', 'Q06512')\n",
      "  * Error for ('6zqc', 'UZ', 'P36144')\n",
      "  * Error for ('6zqd', 'CA', 'P15646')\n",
      "  * Error for ('6zqd', 'UB', 'Q99207')\n",
      "  * Error for ('6zqd', 'US', 'Q06512')\n",
      "  * Error for ('6zqe', 'CA', 'P15646')\n",
      "  * Error for ('6zqe', 'UB', 'Q99207')\n",
      "  * Error for ('6zqe', 'US', 'Q06512')\n",
      "  * Error for ('6zqf', 'UB', 'Q99207')\n",
      "  * Error for ('6zqf', 'US', 'Q06512')\n",
      "  * Error for ('6zqg', 'UB', 'Q99207')\n"
     ]
    },
    {
     "name": "stderr",
     "output_type": "stream",
     "text": [
      " 83%|████████▎ | 69796/83655 [43:08<06:46, 34.06it/s]"
     ]
    },
    {
     "name": "stdout",
     "output_type": "stream",
     "text": [
      "  * Error for ('6zr7', 'AAA', 'O60469')\n",
      "  * Error for ('6zs9', '0', 'Q9BYC8')\n",
      "  * Error for ('6zs9', '1', 'O75394')\n",
      "  * Error for ('6zs9', '2', 'Q9BQ48')\n",
      "  * Error for ('6zs9', '5', 'Q9BZE1')\n",
      "  * Error for ('6zs9', '6', 'Q96DV4')\n",
      "  * Error for ('6zs9', '7', 'Q9NYK5')\n",
      "  * Error for ('6zs9', '8', 'Q9NQ50')\n",
      "  * Error for ('6zs9', '9', 'Q8IXM3')\n",
      "  * Error for ('6zs9', 'A0', 'P82930')\n",
      "  * Error for ('6zs9', 'A1', 'P82673')\n",
      "  * Error for ('6zs9', 'A2', 'Q96BP2')\n",
      "  * Error for ('6zs9', 'A3', 'Q9NWT8')\n",
      "  * Error for ('6zs9', 'A4', 'Q96EY7')\n",
      "  * Error for ('6zs9', 'A5', 'Q96E11')\n",
      "  * Error for ('6zs9', 'AB', 'Q9Y399')\n",
      "  * Error for ('6zs9', 'AC', 'Q96EL2')\n",
      "  * Error for ('6zs9', 'AD', 'P82675')\n",
      "  * Error for ('6zs9', 'AE', 'P82932')\n",
      "  * Error for ('6zs9', 'AF', 'Q9Y2R9')\n",
      "  * Error for ('6zs9', 'AG', 'P82933')\n",
      "  * Error for ('6zs9', 'AH', 'P82664')\n",
      "  * Error for ('6zs9', 'AI', 'P82912')\n",
      "  * Error for ('6zs9', 'AJ', 'O15235')\n",
      "  * Error for ('6zs9', 'AK', 'O60783')\n",
      "  * Error for ('6zs9', 'AL', 'P82914')\n",
      "  * Error for ('6zs9', 'AN', 'Q9Y2R5')\n",
      "  * Error for ('6zs9', 'AO', 'Q9Y676')\n",
      "  * Error for ('6zs9', 'AP', 'Q9Y3D5')\n",
      "  * Error for ('6zs9', 'AQ', 'P82921')\n",
      "  * Error for ('6zs9', 'AR', 'P82650')\n",
      "  * Error for ('6zs9', 'AS', 'Q9Y3D9')\n",
      "  * Error for ('6zs9', 'AT', 'P82663')\n",
      "  * Error for ('6zs9', 'AU', 'Q9BYN8')\n",
      "  * Error for ('6zs9', 'AV', 'Q92552')\n",
      "  * Error for ('6zs9', 'AW', 'Q9Y2Q9')\n",
      "  * Error for ('6zs9', 'AX', 'P51398')\n",
      "  * Error for ('6zs9', 'AY', 'Q92665')\n",
      "  * Error for ('6zs9', 'AZ', 'Q9Y291')\n",
      "  * Error for ('6zs9', 'XD', 'Q5T653')\n",
      "  * Error for ('6zs9', 'XF', 'Q9BYD3')\n",
      "  * Error for ('6zs9', 'XH', 'Q9BYD2')\n",
      "  * Error for ('6zs9', 'XI', 'Q7Z7H8')\n",
      "  * Error for ('6zs9', 'XK', 'Q9BYD1')\n",
      "  * Error for ('6zs9', 'XL', 'Q6P1L8')\n",
      "  * Error for ('6zs9', 'XN', 'Q9NX20')\n",
      "  * Error for ('6zs9', 'XO', 'Q9NRX2')\n",
      "  * Error for ('6zs9', 'XQ', 'P49406')\n",
      "  * Error for ('6zs9', 'XR', 'Q9BYC9')\n",
      "  * Error for ('6zs9', 'XU', 'Q16540')\n",
      "  * Error for ('6zs9', 'XV', 'Q96A35')\n",
      "  * Error for ('6zs9', 'XW', 'Q9P0M9')\n",
      "  * Error for ('6zs9', 'XX', 'Q13084')\n",
      "  * Error for ('6zs9', 'XY', 'Q9HD33')\n",
      "  * Error for ('6zs9', 'XZ', 'Q8TCC3')\n",
      "  * Error for ('6zs9', 'b', 'Q8N983')\n",
      "  * Error for ('6zs9', 'c', 'Q9H9J2')\n",
      "  * Error for ('6zs9', 'd', 'Q9BRJ2')\n",
      "  * Error for ('6zs9', 'e', 'Q9H2W6')\n",
      "  * Error for ('6zs9', 'f', 'Q96GC5')\n",
      "  * Error for ('6zs9', 'g', 'Q13405')\n",
      "  * Error for ('6zs9', 'h', 'Q8N5N7')\n",
      "  * Error for ('6zs9', 'k', 'Q96EL3')\n",
      "  * Error for ('6zs9', 'o', 'Q9BQC6')\n",
      "  * Error for ('6zs9', 'q', 'Q8TAE8')\n",
      "  * Error for ('6zs9', 'r', 'Q9NVS2')\n",
      "  * Error for ('6zs9', 's', 'Q9NP92')\n",
      "  * Error for ('6zsa', '0', 'Q9BYC8')\n",
      "  * Error for ('6zsa', '1', 'O75394')\n",
      "  * Error for ('6zsa', '2', 'Q9BQ48')\n",
      "  * Error for ('6zsa', '5', 'Q9BZE1')\n",
      "  * Error for ('6zsa', '6', 'Q96DV4')\n",
      "  * Error for ('6zsa', '7', 'Q9NYK5')\n",
      "  * Error for ('6zsa', '8', 'Q9NQ50')\n",
      "  * Error for ('6zsa', '9', 'Q8IXM3')\n",
      "  * Error for ('6zsa', 'A0', 'P82930')\n",
      "  * Error for ('6zsa', 'A1', 'P82673')\n",
      "  * Error for ('6zsa', 'A2', 'Q96BP2')\n",
      "  * Error for ('6zsa', 'A3', 'Q9NWT8')\n",
      "  * Error for ('6zsa', 'A4', 'Q96EY7')\n",
      "  * Error for ('6zsa', 'AB', 'Q9Y399')\n",
      "  * Error for ('6zsa', 'AC', 'Q96EL2')\n",
      "  * Error for ('6zsa', 'AD', 'P82675')\n",
      "  * Error for ('6zsa', 'AE', 'P82932')\n",
      "  * Error for ('6zsa', 'AF', 'Q9Y2R9')\n",
      "  * Error for ('6zsa', 'AG', 'P82933')\n",
      "  * Error for ('6zsa', 'AH', 'P82664')\n",
      "  * Error for ('6zsa', 'AI', 'P82912')\n",
      "  * Error for ('6zsa', 'AJ', 'O15235')\n",
      "  * Error for ('6zsa', 'AK', 'O60783')\n",
      "  * Error for ('6zsa', 'AL', 'P82914')\n",
      "  * Error for ('6zsa', 'AN', 'Q9Y2R5')\n",
      "  * Error for ('6zsa', 'AO', 'Q9Y676')\n",
      "  * Error for ('6zsa', 'AP', 'Q9Y3D5')\n",
      "  * Error for ('6zsa', 'AQ', 'P82921')\n",
      "  * Error for ('6zsa', 'AR', 'P82650')\n",
      "  * Error for ('6zsa', 'AS', 'Q9Y3D9')\n",
      "  * Error for ('6zsa', 'AT', 'P82663')\n",
      "  * Error for ('6zsa', 'AU', 'Q9BYN8')\n",
      "  * Error for ('6zsa', 'AV', 'Q92552')\n",
      "  * Error for ('6zsa', 'AW', 'Q9Y2Q9')\n",
      "  * Error for ('6zsa', 'AX', 'P51398')\n",
      "  * Error for ('6zsa', 'AY', 'Q92665')\n",
      "  * Error for ('6zsa', 'AZ', 'Q9Y291')\n",
      "  * Error for ('6zsa', 'XD', 'Q5T653')\n",
      "  * Error for ('6zsa', 'XE', 'P09001')\n",
      "  * Error for ('6zsa', 'XF', 'Q9BYD3')\n",
      "  * Error for ('6zsa', 'XH', 'Q9BYD2')\n",
      "  * Error for ('6zsa', 'XI', 'Q7Z7H8')\n",
      "  * Error for ('6zsa', 'XJ', 'Q9Y3B7')\n",
      "  * Error for ('6zsa', 'XK', 'Q9BYD1')\n",
      "  * Error for ('6zsa', 'XL', 'Q6P1L8')\n",
      "  * Error for ('6zsa', 'XN', 'Q9NX20')\n",
      "  * Error for ('6zsa', 'XO', 'Q9NRX2')\n",
      "  * Error for ('6zsa', 'XP', 'Q9H0U6')\n",
      "  * Error for ('6zsa', 'XQ', 'P49406')\n",
      "  * Error for ('6zsa', 'XR', 'Q9BYC9')\n",
      "  * Error for ('6zsa', 'XU', 'Q16540')\n",
      "  * Error for ('6zsa', 'XV', 'Q96A35')\n",
      "  * Error for ('6zsa', 'XW', 'Q9P0M9')\n",
      "  * Error for ('6zsa', 'XX', 'Q13084')\n",
      "  * Error for ('6zsa', 'XY', 'Q9HD33')\n",
      "  * Error for ('6zsa', 'XZ', 'Q8TCC3')\n",
      "  * Error for ('6zsa', 'b', 'Q8N983')\n",
      "  * Error for ('6zsa', 'c', 'Q9H9J2')\n",
      "  * Error for ('6zsa', 'd', 'Q9BRJ2')\n",
      "  * Error for ('6zsa', 'e', 'Q9H2W6')\n",
      "  * Error for ('6zsa', 'f', 'Q96GC5')\n",
      "  * Error for ('6zsa', 'g', 'Q13405')\n",
      "  * Error for ('6zsa', 'h', 'Q8N5N7')\n",
      "  * Error for ('6zsa', 'j', 'Q86TS9')\n",
      "  * Error for ('6zsa', 'k', 'Q96EL3')\n",
      "  * Error for ('6zsa', 'o', 'Q9BQC6')\n",
      "  * Error for ('6zsa', 'q', 'Q8TAE8')\n",
      "  * Error for ('6zsa', 'r', 'Q9NVS2')\n",
      "  * Error for ('6zsa', 's', 'Q9NP92')\n",
      "  * Error for ('6zsa', 't1', 'P52815')\n",
      "  * Error for ('6zsb', '0', 'Q9BYC8')\n",
      "  * Error for ('6zsb', '1', 'O75394')\n",
      "  * Error for ('6zsb', '2', 'Q9BQ48')\n",
      "  * Error for ('6zsb', '5', 'Q9BZE1')\n",
      "  * Error for ('6zsb', '6', 'Q96DV4')\n",
      "  * Error for ('6zsb', '7', 'Q9NYK5')\n",
      "  * Error for ('6zsb', '8', 'Q9NQ50')\n",
      "  * Error for ('6zsb', '9', 'Q8IXM3')\n",
      "  * Error for ('6zsb', 'A0', 'P82930')\n",
      "  * Error for ('6zsb', 'A1', 'P82673')\n",
      "  * Error for ('6zsb', 'A2', 'Q96BP2')\n",
      "  * Error for ('6zsb', 'A3', 'Q9NWT8')\n",
      "  * Error for ('6zsb', 'A4', 'Q96EY7')\n",
      "  * Error for ('6zsb', 'AB', 'Q9Y399')\n",
      "  * Error for ('6zsb', 'AC', 'Q96EL2')\n",
      "  * Error for ('6zsb', 'AD', 'P82675')\n",
      "  * Error for ('6zsb', 'AE', 'P82932')\n",
      "  * Error for ('6zsb', 'AF', 'Q9Y2R9')\n",
      "  * Error for ('6zsb', 'AG', 'P82933')\n",
      "  * Error for ('6zsb', 'AH', 'P82664')\n",
      "  * Error for ('6zsb', 'AI', 'P82912')\n",
      "  * Error for ('6zsb', 'AJ', 'O15235')\n",
      "  * Error for ('6zsb', 'AK', 'O60783')\n",
      "  * Error for ('6zsb', 'AL', 'P82914')\n",
      "  * Error for ('6zsb', 'AN', 'Q9Y2R5')\n",
      "  * Error for ('6zsb', 'AO', 'Q9Y676')\n",
      "  * Error for ('6zsb', 'AP', 'Q9Y3D5')\n",
      "  * Error for ('6zsb', 'AQ', 'P82921')\n",
      "  * Error for ('6zsb', 'AR', 'P82650')\n",
      "  * Error for ('6zsb', 'AS', 'Q9Y3D9')\n",
      "  * Error for ('6zsb', 'AT', 'P82663')\n",
      "  * Error for ('6zsb', 'AU', 'Q9BYN8')\n",
      "  * Error for ('6zsb', 'AV', 'Q92552')\n",
      "  * Error for ('6zsb', 'AW', 'Q9Y2Q9')\n",
      "  * Error for ('6zsb', 'AX', 'P51398')\n",
      "  * Error for ('6zsb', 'AY', 'Q92665')\n",
      "  * Error for ('6zsb', 'AZ', 'Q9Y291')\n",
      "  * Error for ('6zsb', 'XD', 'Q5T653')\n",
      "  * Error for ('6zsb', 'XE', 'P09001')\n",
      "  * Error for ('6zsb', 'XF', 'Q9BYD3')\n",
      "  * Error for ('6zsb', 'XH', 'Q9BYD2')\n",
      "  * Error for ('6zsb', 'XI', 'Q7Z7H8')\n",
      "  * Error for ('6zsb', 'XJ', 'Q9Y3B7')\n",
      "  * Error for ('6zsb', 'XK', 'Q9BYD1')\n",
      "  * Error for ('6zsb', 'XL', 'Q6P1L8')\n",
      "  * Error for ('6zsb', 'XN', 'Q9NX20')\n",
      "  * Error for ('6zsb', 'XO', 'Q9NRX2')\n",
      "  * Error for ('6zsb', 'XP', 'Q9H0U6')\n",
      "  * Error for ('6zsb', 'XQ', 'P49406')\n",
      "  * Error for ('6zsb', 'XR', 'Q9BYC9')\n",
      "  * Error for ('6zsb', 'XU', 'Q16540')\n",
      "  * Error for ('6zsb', 'XV', 'Q96A35')\n",
      "  * Error for ('6zsb', 'XW', 'Q9P0M9')\n",
      "  * Error for ('6zsb', 'XX', 'Q13084')\n",
      "  * Error for ('6zsb', 'XY', 'Q9HD33')\n",
      "  * Error for ('6zsb', 'XZ', 'Q8TCC3')\n",
      "  * Error for ('6zsb', 'b', 'Q8N983')\n",
      "  * Error for ('6zsb', 'c', 'Q9H9J2')\n",
      "  * Error for ('6zsb', 'd', 'Q9BRJ2')\n",
      "  * Error for ('6zsb', 'e', 'Q9H2W6')\n",
      "  * Error for ('6zsb', 'f', 'Q96GC5')\n",
      "  * Error for ('6zsb', 'g', 'Q13405')\n",
      "  * Error for ('6zsb', 'h', 'Q8N5N7')\n",
      "  * Error for ('6zsb', 'j', 'Q86TS9')\n",
      "  * Error for ('6zsb', 'k', 'Q96EL3')\n",
      "  * Error for ('6zsb', 'o', 'Q9BQC6')\n",
      "  * Error for ('6zsb', 'q', 'Q8TAE8')\n",
      "  * Error for ('6zsb', 'r', 'Q9NVS2')\n",
      "  * Error for ('6zsb', 's', 'Q9NP92')\n",
      "  * Error for ('6zsb', 't1', 'P52815')\n",
      "  * Error for ('6zsc', '0', 'Q9BYC8')\n",
      "  * Error for ('6zsc', '1', 'O75394')\n",
      "  * Error for ('6zsc', '2', 'Q9BQ48')\n",
      "  * Error for ('6zsc', '5', 'Q9BZE1')\n",
      "  * Error for ('6zsc', '6', 'Q96DV4')\n",
      "  * Error for ('6zsc', '7', 'Q9NYK5')\n",
      "  * Error for ('6zsc', '8', 'Q9NQ50')\n",
      "  * Error for ('6zsc', '9', 'Q8IXM3')\n",
      "  * Error for ('6zsc', 'A0', 'P82930')\n",
      "  * Error for ('6zsc', 'A1', 'P82673')\n",
      "  * Error for ('6zsc', 'A2', 'Q96BP2')\n",
      "  * Error for ('6zsc', 'A3', 'Q9NWT8')\n",
      "  * Error for ('6zsc', 'A4', 'Q96EY7')\n",
      "  * Error for ('6zsc', 'AB', 'Q9Y399')\n",
      "  * Error for ('6zsc', 'AC', 'Q96EL2')\n",
      "  * Error for ('6zsc', 'AD', 'P82675')\n",
      "  * Error for ('6zsc', 'AE', 'P82932')\n",
      "  * Error for ('6zsc', 'AF', 'Q9Y2R9')\n",
      "  * Error for ('6zsc', 'AG', 'P82933')\n",
      "  * Error for ('6zsc', 'AH', 'P82664')\n",
      "  * Error for ('6zsc', 'AI', 'P82912')\n",
      "  * Error for ('6zsc', 'AJ', 'O15235')\n",
      "  * Error for ('6zsc', 'AK', 'O60783')\n",
      "  * Error for ('6zsc', 'AL', 'P82914')\n",
      "  * Error for ('6zsc', 'AN', 'Q9Y2R5')\n",
      "  * Error for ('6zsc', 'AO', 'Q9Y676')\n",
      "  * Error for ('6zsc', 'AP', 'Q9Y3D5')\n",
      "  * Error for ('6zsc', 'AQ', 'P82921')\n",
      "  * Error for ('6zsc', 'AR', 'P82650')\n",
      "  * Error for ('6zsc', 'AS', 'Q9Y3D9')\n",
      "  * Error for ('6zsc', 'AT', 'P82663')\n",
      "  * Error for ('6zsc', 'AU', 'Q9BYN8')\n",
      "  * Error for ('6zsc', 'AV', 'Q92552')\n",
      "  * Error for ('6zsc', 'AW', 'Q9Y2Q9')\n",
      "  * Error for ('6zsc', 'AX', 'P51398')\n",
      "  * Error for ('6zsc', 'AY', 'Q92665')\n",
      "  * Error for ('6zsc', 'AZ', 'Q9Y291')\n",
      "  * Error for ('6zsc', 'XD', 'Q5T653')\n",
      "  * Error for ('6zsc', 'XE', 'P09001')\n",
      "  * Error for ('6zsc', 'XF', 'Q9BYD3')\n",
      "  * Error for ('6zsc', 'XH', 'Q9BYD2')\n",
      "  * Error for ('6zsc', 'XI', 'Q7Z7H8')\n",
      "  * Error for ('6zsc', 'XJ', 'Q9Y3B7')\n",
      "  * Error for ('6zsc', 'XK', 'Q9BYD1')\n",
      "  * Error for ('6zsc', 'XL', 'Q6P1L8')\n",
      "  * Error for ('6zsc', 'XN', 'Q9NX20')\n",
      "  * Error for ('6zsc', 'XO', 'Q9NRX2')\n",
      "  * Error for ('6zsc', 'XP', 'Q9H0U6')\n",
      "  * Error for ('6zsc', 'XQ', 'P49406')\n",
      "  * Error for ('6zsc', 'XR', 'Q9BYC9')\n",
      "  * Error for ('6zsc', 'XU', 'Q16540')\n",
      "  * Error for ('6zsc', 'XV', 'Q96A35')\n",
      "  * Error for ('6zsc', 'XW', 'Q9P0M9')\n",
      "  * Error for ('6zsc', 'XX', 'Q13084')\n",
      "  * Error for ('6zsc', 'XY', 'Q9HD33')\n",
      "  * Error for ('6zsc', 'XZ', 'Q8TCC3')\n",
      "  * Error for ('6zsc', 'b', 'Q8N983')\n",
      "  * Error for ('6zsc', 'c', 'Q9H9J2')\n",
      "  * Error for ('6zsc', 'd', 'Q9BRJ2')\n",
      "  * Error for ('6zsc', 'e', 'Q9H2W6')\n",
      "  * Error for ('6zsc', 'f', 'Q96GC5')\n",
      "  * Error for ('6zsc', 'g', 'Q13405')\n",
      "  * Error for ('6zsc', 'h', 'Q8N5N7')\n",
      "  * Error for ('6zsc', 'j', 'Q86TS9')\n",
      "  * Error for ('6zsc', 'k', 'Q96EL3')\n",
      "  * Error for ('6zsc', 'o', 'Q9BQC6')\n",
      "  * Error for ('6zsc', 'q', 'Q8TAE8')\n",
      "  * Error for ('6zsc', 'r', 'Q9NVS2')\n",
      "  * Error for ('6zsc', 's', 'Q9NP92')\n",
      "  * Error for ('6zsc', 't1', 'P52815')\n",
      "  * Error for ('6zsd', '0', 'Q9BYC8')\n",
      "  * Error for ('6zsd', '1', 'O75394')\n",
      "  * Error for ('6zsd', '2', 'Q9BQ48')\n",
      "  * Error for ('6zsd', '5', 'Q9BZE1')\n",
      "  * Error for ('6zsd', '6', 'Q96DV4')\n",
      "  * Error for ('6zsd', '7', 'Q9NYK5')\n",
      "  * Error for ('6zsd', '8', 'Q9NQ50')\n",
      "  * Error for ('6zsd', '9', 'Q8IXM3')\n",
      "  * Error for ('6zsd', 'A0', 'P82930')\n",
      "  * Error for ('6zsd', 'A1', 'P82673')\n",
      "  * Error for ('6zsd', 'A2', 'Q96BP2')\n",
      "  * Error for ('6zsd', 'A3', 'Q9NWT8')\n",
      "  * Error for ('6zsd', 'A4', 'Q96EY7')\n",
      "  * Error for ('6zsd', 'AB', 'Q9Y399')\n",
      "  * Error for ('6zsd', 'AC', 'Q96EL2')\n",
      "  * Error for ('6zsd', 'AD', 'P82675')\n",
      "  * Error for ('6zsd', 'AE', 'P82932')\n",
      "  * Error for ('6zsd', 'AF', 'Q9Y2R9')\n",
      "  * Error for ('6zsd', 'AG', 'P82933')\n",
      "  * Error for ('6zsd', 'AH', 'P82664')\n",
      "  * Error for ('6zsd', 'AI', 'P82912')\n",
      "  * Error for ('6zsd', 'AJ', 'O15235')\n",
      "  * Error for ('6zsd', 'AK', 'O60783')\n",
      "  * Error for ('6zsd', 'AL', 'P82914')\n",
      "  * Error for ('6zsd', 'AN', 'Q9Y2R5')\n",
      "  * Error for ('6zsd', 'AO', 'Q9Y676')\n",
      "  * Error for ('6zsd', 'AP', 'Q9Y3D5')\n",
      "  * Error for ('6zsd', 'AQ', 'P82921')\n",
      "  * Error for ('6zsd', 'AR', 'P82650')\n",
      "  * Error for ('6zsd', 'AS', 'Q9Y3D9')\n",
      "  * Error for ('6zsd', 'AT', 'P82663')\n",
      "  * Error for ('6zsd', 'AU', 'Q9BYN8')\n",
      "  * Error for ('6zsd', 'AV', 'Q92552')\n",
      "  * Error for ('6zsd', 'AW', 'Q9Y2Q9')\n",
      "  * Error for ('6zsd', 'AX', 'P51398')\n",
      "  * Error for ('6zsd', 'AY', 'Q92665')\n",
      "  * Error for ('6zsd', 'AZ', 'Q9Y291')\n",
      "  * Error for ('6zsd', 'XD', 'Q5T653')\n",
      "  * Error for ('6zsd', 'XE', 'P09001')\n",
      "  * Error for ('6zsd', 'XF', 'Q9BYD3')\n",
      "  * Error for ('6zsd', 'XH', 'Q9BYD2')\n",
      "  * Error for ('6zsd', 'XI', 'Q7Z7H8')\n",
      "  * Error for ('6zsd', 'XJ', 'Q9Y3B7')\n",
      "  * Error for ('6zsd', 'XK', 'Q9BYD1')\n",
      "  * Error for ('6zsd', 'XL', 'Q6P1L8')\n",
      "  * Error for ('6zsd', 'XN', 'Q9NX20')\n",
      "  * Error for ('6zsd', 'XO', 'Q9NRX2')\n",
      "  * Error for ('6zsd', 'XP', 'Q9H0U6')\n",
      "  * Error for ('6zsd', 'XQ', 'P49406')\n",
      "  * Error for ('6zsd', 'XR', 'Q9BYC9')\n",
      "  * Error for ('6zsd', 'XU', 'Q16540')\n",
      "  * Error for ('6zsd', 'XV', 'Q96A35')\n",
      "  * Error for ('6zsd', 'XW', 'Q9P0M9')\n",
      "  * Error for ('6zsd', 'XX', 'Q13084')\n",
      "  * Error for ('6zsd', 'XY', 'Q9HD33')\n",
      "  * Error for ('6zsd', 'XZ', 'Q8TCC3')\n",
      "  * Error for ('6zsd', 'b', 'Q8N983')\n",
      "  * Error for ('6zsd', 'c', 'Q9H9J2')\n",
      "  * Error for ('6zsd', 'd', 'Q9BRJ2')\n",
      "  * Error for ('6zsd', 'e', 'Q9H2W6')\n",
      "  * Error for ('6zsd', 'f', 'Q96GC5')\n",
      "  * Error for ('6zsd', 'g', 'Q13405')\n",
      "  * Error for ('6zsd', 'h', 'Q8N5N7')\n",
      "  * Error for ('6zsd', 'j', 'Q86TS9')\n",
      "  * Error for ('6zsd', 'k', 'Q96EL3')\n",
      "  * Error for ('6zsd', 'o', 'Q9BQC6')\n",
      "  * Error for ('6zsd', 'q', 'Q8TAE8')\n",
      "  * Error for ('6zsd', 'r', 'Q9NVS2')\n",
      "  * Error for ('6zsd', 's', 'Q9NP92')\n",
      "  * Error for ('6zsd', 't1', 'P52815')\n",
      "  * Error for ('6zse', '0', 'Q9BYC8')\n",
      "  * Error for ('6zse', '1', 'O75394')\n",
      "  * Error for ('6zse', '2', 'Q9BQ48')\n",
      "  * Error for ('6zse', '5', 'Q9BZE1')\n",
      "  * Error for ('6zse', '6', 'Q96DV4')\n",
      "  * Error for ('6zse', '7', 'Q9NYK5')\n",
      "  * Error for ('6zse', '8', 'Q9NQ50')\n",
      "  * Error for ('6zse', '9', 'Q8IXM3')\n",
      "  * Error for ('6zse', 'A0', 'P82930')\n",
      "  * Error for ('6zse', 'A1', 'P82673')\n",
      "  * Error for ('6zse', 'A2', 'Q96BP2')\n",
      "  * Error for ('6zse', 'A3', 'Q9NWT8')\n",
      "  * Error for ('6zse', 'A4', 'Q96EY7')\n",
      "  * Error for ('6zse', 'AB', 'Q9Y399')\n",
      "  * Error for ('6zse', 'AC', 'Q96EL2')\n",
      "  * Error for ('6zse', 'AD', 'P82675')\n",
      "  * Error for ('6zse', 'AE', 'P82932')\n",
      "  * Error for ('6zse', 'AF', 'Q9Y2R9')\n",
      "  * Error for ('6zse', 'AG', 'P82933')\n",
      "  * Error for ('6zse', 'AH', 'P82664')\n",
      "  * Error for ('6zse', 'AI', 'P82912')\n",
      "  * Error for ('6zse', 'AJ', 'O15235')\n",
      "  * Error for ('6zse', 'AK', 'O60783')\n",
      "  * Error for ('6zse', 'AL', 'P82914')\n",
      "  * Error for ('6zse', 'AN', 'Q9Y2R5')\n",
      "  * Error for ('6zse', 'AO', 'Q9Y676')\n",
      "  * Error for ('6zse', 'AP', 'Q9Y3D5')\n",
      "  * Error for ('6zse', 'AQ', 'P82921')\n",
      "  * Error for ('6zse', 'AR', 'P82650')\n",
      "  * Error for ('6zse', 'AS', 'Q9Y3D9')\n",
      "  * Error for ('6zse', 'AT', 'P82663')\n",
      "  * Error for ('6zse', 'AU', 'Q9BYN8')\n",
      "  * Error for ('6zse', 'AV', 'Q92552')\n",
      "  * Error for ('6zse', 'AW', 'Q9Y2Q9')\n",
      "  * Error for ('6zse', 'AX', 'P51398')\n",
      "  * Error for ('6zse', 'AY', 'Q92665')\n",
      "  * Error for ('6zse', 'AZ', 'Q9Y291')\n",
      "  * Error for ('6zse', 'XD', 'Q5T653')\n",
      "  * Error for ('6zse', 'XE', 'P09001')\n",
      "  * Error for ('6zse', 'XF', 'Q9BYD3')\n",
      "  * Error for ('6zse', 'XH', 'Q9BYD2')\n",
      "  * Error for ('6zse', 'XI', 'Q7Z7H8')\n",
      "  * Error for ('6zse', 'XJ', 'Q9Y3B7')\n",
      "  * Error for ('6zse', 'XK', 'Q9BYD1')\n",
      "  * Error for ('6zse', 'XL', 'Q6P1L8')\n",
      "  * Error for ('6zse', 'XN', 'Q9NX20')\n",
      "  * Error for ('6zse', 'XO', 'Q9NRX2')\n",
      "  * Error for ('6zse', 'XP', 'Q9H0U6')\n",
      "  * Error for ('6zse', 'XQ', 'P49406')\n",
      "  * Error for ('6zse', 'XR', 'Q9BYC9')\n",
      "  * Error for ('6zse', 'XU', 'Q16540')\n",
      "  * Error for ('6zse', 'XV', 'Q96A35')\n",
      "  * Error for ('6zse', 'XW', 'Q9P0M9')\n",
      "  * Error for ('6zse', 'XX', 'Q13084')\n",
      "  * Error for ('6zse', 'XY', 'Q9HD33')\n",
      "  * Error for ('6zse', 'XZ', 'Q8TCC3')\n",
      "  * Error for ('6zse', 'b', 'Q8N983')\n",
      "  * Error for ('6zse', 'c', 'Q9H9J2')\n",
      "  * Error for ('6zse', 'd', 'Q9BRJ2')\n",
      "  * Error for ('6zse', 'e', 'Q9H2W6')\n",
      "  * Error for ('6zse', 'f', 'Q96GC5')\n",
      "  * Error for ('6zse', 'g', 'Q13405')\n",
      "  * Error for ('6zse', 'h', 'Q8N5N7')\n",
      "  * Error for ('6zse', 'j', 'Q86TS9')\n",
      "  * Error for ('6zse', 'k', 'Q96EL3')\n",
      "  * Error for ('6zse', 'o', 'Q9BQC6')\n",
      "  * Error for ('6zse', 'q', 'Q8TAE8')\n",
      "  * Error for ('6zse', 'r', 'Q9NVS2')\n",
      "  * Error for ('6zse', 's', 'Q9NP92')\n",
      "  * Error for ('6zse', 't1', 'P52815')\n",
      "  * Error for ('6zsg', '0', 'Q9BYC8')\n",
      "  * Error for ('6zsg', '1', 'O75394')\n",
      "  * Error for ('6zsg', '2', 'Q9BQ48')\n",
      "  * Error for ('6zsg', '5', 'Q9BZE1')\n",
      "  * Error for ('6zsg', '6', 'Q96DV4')\n",
      "  * Error for ('6zsg', '7', 'Q9NYK5')\n",
      "  * Error for ('6zsg', '8', 'Q9NQ50')\n",
      "  * Error for ('6zsg', '9', 'Q8IXM3')\n",
      "  * Error for ('6zsg', 'A0', 'P82930')\n",
      "  * Error for ('6zsg', 'A1', 'P82673')\n",
      "  * Error for ('6zsg', 'A2', 'Q96BP2')\n",
      "  * Error for ('6zsg', 'A3', 'Q9NWT8')\n",
      "  * Error for ('6zsg', 'A4', 'Q96EY7')\n",
      "  * Error for ('6zsg', 'AB', 'Q9Y399')\n",
      "  * Error for ('6zsg', 'AC', 'Q96EL2')\n",
      "  * Error for ('6zsg', 'AD', 'P82675')\n",
      "  * Error for ('6zsg', 'AE', 'P82932')\n",
      "  * Error for ('6zsg', 'AF', 'Q9Y2R9')\n",
      "  * Error for ('6zsg', 'AG', 'P82933')\n",
      "  * Error for ('6zsg', 'AH', 'P82664')\n",
      "  * Error for ('6zsg', 'AI', 'P82912')\n",
      "  * Error for ('6zsg', 'AJ', 'O15235')\n",
      "  * Error for ('6zsg', 'AK', 'O60783')\n",
      "  * Error for ('6zsg', 'AL', 'P82914')\n",
      "  * Error for ('6zsg', 'AN', 'Q9Y2R5')\n",
      "  * Error for ('6zsg', 'AO', 'Q9Y676')\n",
      "  * Error for ('6zsg', 'AP', 'Q9Y3D5')\n",
      "  * Error for ('6zsg', 'AQ', 'P82921')\n",
      "  * Error for ('6zsg', 'AR', 'P82650')\n",
      "  * Error for ('6zsg', 'AS', 'Q9Y3D9')\n",
      "  * Error for ('6zsg', 'AT', 'P82663')\n",
      "  * Error for ('6zsg', 'AU', 'Q9BYN8')\n",
      "  * Error for ('6zsg', 'AV', 'Q92552')\n",
      "  * Error for ('6zsg', 'AW', 'Q9Y2Q9')\n",
      "  * Error for ('6zsg', 'AX', 'P51398')\n",
      "  * Error for ('6zsg', 'AY', 'Q92665')\n",
      "  * Error for ('6zsg', 'AZ', 'Q9Y291')\n",
      "  * Error for ('6zsg', 'XD', 'Q5T653')\n",
      "  * Error for ('6zsg', 'XE', 'P09001')\n",
      "  * Error for ('6zsg', 'XF', 'Q9BYD3')\n",
      "  * Error for ('6zsg', 'XH', 'Q9BYD2')\n",
      "  * Error for ('6zsg', 'XI', 'Q7Z7H8')\n",
      "  * Error for ('6zsg', 'XJ', 'Q9Y3B7')\n",
      "  * Error for ('6zsg', 'XK', 'Q9BYD1')\n",
      "  * Error for ('6zsg', 'XL', 'Q6P1L8')\n",
      "  * Error for ('6zsg', 'XN', 'Q9NX20')\n",
      "  * Error for ('6zsg', 'XO', 'Q9NRX2')\n",
      "  * Error for ('6zsg', 'XP', 'Q9H0U6')\n",
      "  * Error for ('6zsg', 'XQ', 'P49406')\n",
      "  * Error for ('6zsg', 'XR', 'Q9BYC9')\n",
      "  * Error for ('6zsg', 'XU', 'Q16540')\n",
      "  * Error for ('6zsg', 'XV', 'Q96A35')\n",
      "  * Error for ('6zsg', 'XW', 'Q9P0M9')\n",
      "  * Error for ('6zsg', 'XX', 'Q13084')\n",
      "  * Error for ('6zsg', 'XY', 'Q9HD33')\n",
      "  * Error for ('6zsg', 'XZ', 'Q8TCC3')\n",
      "  * Error for ('6zsg', 'b', 'Q8N983')\n",
      "  * Error for ('6zsg', 'c', 'Q9H9J2')\n",
      "  * Error for ('6zsg', 'd', 'Q9BRJ2')\n",
      "  * Error for ('6zsg', 'e', 'Q9H2W6')\n",
      "  * Error for ('6zsg', 'f', 'Q96GC5')\n",
      "  * Error for ('6zsg', 'g', 'Q13405')\n",
      "  * Error for ('6zsg', 'h', 'Q8N5N7')\n",
      "  * Error for ('6zsg', 'j', 'Q86TS9')\n",
      "  * Error for ('6zsg', 'k', 'Q96EL3')\n",
      "  * Error for ('6zsg', 'o', 'Q9BQC6')\n",
      "  * Error for ('6zsg', 'q', 'Q8TAE8')\n",
      "  * Error for ('6zsg', 'r', 'Q9NVS2')\n",
      "  * Error for ('6zsg', 's', 'Q9NP92')\n",
      "  * Error for ('6zsg', 't1', 'P52815')\n"
     ]
    },
    {
     "name": "stderr",
     "output_type": "stream",
     "text": [
      "\r",
      " 84%|████████▍ | 70289/83655 [43:08<04:35, 48.51it/s]"
     ]
    },
    {
     "name": "stdout",
     "output_type": "stream",
     "text": [
      "  * Error for ('6zsp', 'AAA', 'Q9GZT4')\n",
      "  * Error for ('6zuj', 'AAA', 'Q9GZT4')\n",
      "  * Error for ('6zvj', '1', 'P61221')\n",
      "  * Error for ('6zvj', 'A', 'Q14152')\n",
      "  * Error for ('6zvj', 'B', 'P55884')\n",
      "  * Error for ('6zvj', 'D', 'O15371')\n",
      "  * Error for ('6zvj', 'E', 'P60228')\n",
      "  * Error for ('6zvj', 'F', 'O00303')\n",
      "  * Error for ('6zvj', 'G', 'O75822')\n",
      "  * Error for ('6zvj', 'H', 'O15372')\n",
      "  * Error for ('6zvj', 'I', 'Q13347')\n",
      "  * Error for ('6zvj', 'K', 'Q9UBQ5')\n",
      "  * Error for ('6zvj', 'L', 'Q9Y262')\n",
      "  * Error for ('6zvj', 'M', 'Q7L2H7')\n",
      "  * Error for ('6zvj', 'N', 'P41567')\n",
      "  * Error for ('6zvj', 'T', 'P62861')\n",
      "  * Error for ('6zvj', 'U', 'P62979')\n",
      "  * Error for ('6zvj', 'a', 'P08865')\n",
      "  * Error for ('6zvj', 'e', 'P46782')\n",
      "  * Error for ('6zvj', 'p', 'P61247')\n",
      "  * Error for ('6zvj', 'u', 'P46783')\n",
      "  * Error for ('6zvj', 'w', 'P08708')\n",
      "  * Error for ('6zvj', 'x', 'P39019')\n",
      "  * Error for ('6zvk', 'S2', 'Q07020')\n",
      "  * Error for ('6zvk', 'V2', 'P62424')\n",
      "  * Error for ('6zvn', 'BBB', 'P21579')\n"
     ]
    },
    {
     "name": "stderr",
     "output_type": "stream",
     "text": [
      " 84%|████████▍ | 70564/83655 [43:25<07:56, 27.47it/s]"
     ]
    },
    {
     "name": "stdout",
     "output_type": "stream",
     "text": [
      "  * Error for ('6zzr', 'AAA', 'P00338')\n",
      "  * Error for ('7a01', 'S2', 'Q07020')\n",
      "  * Error for ('7a01', 'V2', 'P62424')\n",
      "  * Error for ('7a09', '4', 'P20042')\n",
      "  * Error for ('7a09', 'A', 'Q14152')\n",
      "  * Error for ('7a09', 'B', 'P55884')\n",
      "  * Error for ('7a09', 'C', 'Q99613')\n",
      "  * Error for ('7a09', 'C', 'Q99613')\n",
      "  * Error for ('7a09', 'E', 'P60228')\n",
      "  * Error for ('7a09', 'F', 'O00303')\n",
      "  * Error for ('7a09', 'G', 'P47813')\n",
      "  * Error for ('7a09', 'H', 'O15372')\n",
      "  * Error for ('7a09', 'I', 'Q13347')\n",
      "  * Error for ('7a09', 'J', 'P61221')\n",
      "  * Error for ('7a09', 'K', 'Q9UBQ5')\n",
      "  * Error for ('7a09', 'L', 'Q9Y262')\n",
      "  * Error for ('7a09', 'M', 'Q7L2H7')\n",
      "  * Error for ('7a09', 'N', 'O15371')\n",
      "  * Error for ('7a09', 'O', 'P05198')\n",
      "  * Error for ('7a09', 'T', 'P62861')\n",
      "  * Error for ('7a09', 'U', 'P62979')\n",
      "  * Error for ('7a09', 'Y', 'P41091')\n",
      "  * Error for ('7a09', 'Z', 'P41567')\n",
      "  * Error for ('7a09', 'a', 'P08865')\n",
      "  * Error for ('7a09', 'd', 'P15880')\n",
      "  * Error for ('7a09', 'e', 'P46782')\n",
      "  * Error for ('7a09', 'p', 'P61247')\n",
      "  * Error for ('7a09', 'u', 'P46783')\n",
      "  * Error for ('7a09', 'w', 'P08708')\n",
      "  * Error for ('7a09', 'x', 'P39019')\n"
     ]
    },
    {
     "name": "stderr",
     "output_type": "stream",
     "text": [
      " 84%|████████▍ | 70651/83655 [43:26<02:47, 77.41it/s]"
     ]
    },
    {
     "name": "stdout",
     "output_type": "stream",
     "text": [
      "  * Error for ('7a5f', '03', 'Q9BYC8')\n",
      "  * Error for ('7a5f', '13', 'O75394')\n",
      "  * Error for ('7a5f', '23', 'Q9BQ48')\n",
      "  * Error for ('7a5f', '53', 'Q9BZE1')\n",
      "  * Error for ('7a5f', '63', 'Q96DV4')\n",
      "  * Error for ('7a5f', '73', 'Q9NYK5')\n",
      "  * Error for ('7a5f', '93', 'Q8IXM3')\n",
      "  * Error for ('7a5f', 'A', 'Q9NQ50')\n",
      "  * Error for ('7a5f', 'B6', 'Q9Y399')\n",
      "  * Error for ('7a5f', 'C6', 'Q96EL2')\n",
      "  * Error for ('7a5f', 'D', 'Q9BYD2')\n",
      "  * Error for ('7a5f', 'D3', 'Q5T653')\n",
      "  * Error for ('7a5f', 'D6', 'P82675')\n",
      "  * Error for ('7a5f', 'E3', 'P09001')\n",
      "  * Error for ('7a5f', 'E6', 'P82932')\n",
      "  * Error for ('7a5f', 'F3', 'Q9BYD3')\n",
      "  * Error for ('7a5f', 'F6', 'Q9Y2R9')\n",
      "  * Error for ('7a5f', 'G6', 'P82933')\n",
      "  * Error for ('7a5f', 'H6', 'P82664')\n",
      "  * Error for ('7a5f', 'I3', 'Q7Z7H8')\n",
      "  * Error for ('7a5f', 'I6', 'P82912')\n",
      "  * Error for ('7a5f', 'J3', 'Q9Y3B7')\n",
      "  * Error for ('7a5f', 'J6', 'O15235')\n",
      "  * Error for ('7a5f', 'K3', 'Q9BYD1')\n",
      "  * Error for ('7a5f', 'K6', 'O60783')\n",
      "  * Error for ('7a5f', 'L3', 'Q6P1L8')\n",
      "  * Error for ('7a5f', 'L6', 'P82914')\n",
      "  * Error for ('7a5f', 'N3', 'Q9NX20')\n",
      "  * Error for ('7a5f', 'N6', 'Q9Y2R5')\n",
      "  * Error for ('7a5f', 'O3', 'Q9NRX2')\n",
      "  * Error for ('7a5f', 'O6', 'Q9Y676')\n",
      "  * Error for ('7a5f', 'P3', 'Q9H0U6')\n",
      "  * Error for ('7a5f', 'P6', 'Q9Y3D5')\n",
      "  * Error for ('7a5f', 'Q3', 'P49406')\n",
      "  * Error for ('7a5f', 'Q6', 'P82921')\n",
      "  * Error for ('7a5f', 'R3', 'Q9BYC9')\n",
      "  * Error for ('7a5f', 'R6', 'P82650')\n",
      "  * Error for ('7a5f', 'S3', 'Q7Z2W9')\n",
      "  * Error for ('7a5f', 'S6', 'Q9Y3D9')\n",
      "  * Error for ('7a5f', 'T6', 'P82663')\n",
      "  * Error for ('7a5f', 'U3', 'Q16540')\n",
      "  * Error for ('7a5f', 'V3', 'Q96A35')\n",
      "  * Error for ('7a5f', 'V6', 'Q92552')\n",
      "  * Error for ('7a5f', 'W3', 'Q9P0M9')\n",
      "  * Error for ('7a5f', 'W6', 'Q9Y2Q9')\n",
      "  * Error for ('7a5f', 'X3', 'Q13084')\n",
      "  * Error for ('7a5f', 'X6', 'P51398')\n",
      "  * Error for ('7a5f', 'Y3', 'Q9HD33')\n",
      "  * Error for ('7a5f', 'Y6', 'Q92665')\n",
      "  * Error for ('7a5f', 'Z3', 'Q8TCC3')\n",
      "  * Error for ('7a5f', 'Z6', 'Q9Y291')\n",
      "  * Error for ('7a5f', 'a6', 'P82930')\n",
      "  * Error for ('7a5f', 'b3', 'Q8N983')\n",
      "  * Error for ('7a5f', 'b6', 'P82673')\n",
      "  * Error for ('7a5f', 'c3', 'Q9H9J2')\n",
      "  * Error for ('7a5f', 'c6', 'Q96BP2')\n",
      "  * Error for ('7a5f', 'd3', 'Q9BRJ2')\n",
      "  * Error for ('7a5f', 'd6', 'Q9NWT8')\n",
      "  * Error for ('7a5f', 'e3', 'Q9H2W6')\n",
      "  * Error for ('7a5f', 'e6', 'Q96EY7')\n",
      "  * Error for ('7a5f', 'f3', 'Q96GC5')\n",
      "  * Error for ('7a5f', 'g3', 'Q13405')\n",
      "  * Error for ('7a5f', 'h3', 'Q8N5N7')\n",
      "  * Error for ('7a5f', 'j3', 'Q86TS9')\n",
      "  * Error for ('7a5f', 'k3', 'Q96EL3')\n",
      "  * Error for ('7a5f', 'o3', 'Q9BQC6')\n",
      "  * Error for ('7a5f', 'q3', 'Q8TAE8')\n",
      "  * Error for ('7a5f', 'r3', 'Q9NVS2')\n",
      "  * Error for ('7a5f', 's3', 'Q9NP92')\n",
      "  * Error for ('7a5g', '03', 'Q9BYC8')\n",
      "  * Error for ('7a5g', '13', 'O75394')\n",
      "  * Error for ('7a5g', '23', 'Q9BQ48')\n",
      "  * Error for ('7a5g', '53', 'Q9BZE1')\n",
      "  * Error for ('7a5g', '63', 'Q96DV4')\n",
      "  * Error for ('7a5g', '73', 'Q9NYK5')\n",
      "  * Error for ('7a5g', '93', 'Q8IXM3')\n",
      "  * Error for ('7a5g', 'A', 'Q9NQ50')\n",
      "  * Error for ('7a5g', 'B6', 'Q9Y399')\n",
      "  * Error for ('7a5g', 'C6', 'Q96EL2')\n",
      "  * Error for ('7a5g', 'D', 'Q9BYD2')\n",
      "  * Error for ('7a5g', 'D3', 'Q5T653')\n",
      "  * Error for ('7a5g', 'D6', 'P82675')\n",
      "  * Error for ('7a5g', 'E3', 'P09001')\n",
      "  * Error for ('7a5g', 'E6', 'P82932')\n",
      "  * Error for ('7a5g', 'F3', 'Q9BYD3')\n",
      "  * Error for ('7a5g', 'F6', 'Q9Y2R9')\n",
      "  * Error for ('7a5g', 'G6', 'P82933')\n",
      "  * Error for ('7a5g', 'H6', 'P82664')\n",
      "  * Error for ('7a5g', 'I3', 'Q7Z7H8')\n",
      "  * Error for ('7a5g', 'I6', 'P82912')\n",
      "  * Error for ('7a5g', 'J3', 'Q9Y3B7')\n",
      "  * Error for ('7a5g', 'J6', 'O15235')\n",
      "  * Error for ('7a5g', 'K3', 'Q9BYD1')\n",
      "  * Error for ('7a5g', 'K6', 'O60783')\n",
      "  * Error for ('7a5g', 'L3', 'Q6P1L8')\n",
      "  * Error for ('7a5g', 'L6', 'P82914')\n",
      "  * Error for ('7a5g', 'N3', 'Q9NX20')\n",
      "  * Error for ('7a5g', 'N6', 'Q9Y2R5')\n",
      "  * Error for ('7a5g', 'O3', 'Q9NRX2')\n",
      "  * Error for ('7a5g', 'O6', 'Q9Y676')\n",
      "  * Error for ('7a5g', 'P3', 'Q9H0U6')\n",
      "  * Error for ('7a5g', 'P6', 'Q9Y3D5')\n",
      "  * Error for ('7a5g', 'Q3', 'P49406')\n",
      "  * Error for ('7a5g', 'Q6', 'P82921')\n",
      "  * Error for ('7a5g', 'R3', 'Q9BYC9')\n",
      "  * Error for ('7a5g', 'R6', 'P82650')\n",
      "  * Error for ('7a5g', 'S3', 'Q7Z2W9')\n",
      "  * Error for ('7a5g', 'S6', 'Q9Y3D9')\n",
      "  * Error for ('7a5g', 'T6', 'P82663')\n",
      "  * Error for ('7a5g', 'U3', 'Q16540')\n",
      "  * Error for ('7a5g', 'V3', 'Q96A35')\n",
      "  * Error for ('7a5g', 'V6', 'Q92552')\n",
      "  * Error for ('7a5g', 'W3', 'Q9P0M9')\n",
      "  * Error for ('7a5g', 'W6', 'Q9Y2Q9')\n",
      "  * Error for ('7a5g', 'X3', 'Q13084')\n",
      "  * Error for ('7a5g', 'X6', 'P51398')\n",
      "  * Error for ('7a5g', 'Y3', 'Q9HD33')\n",
      "  * Error for ('7a5g', 'Y6', 'Q92665')\n",
      "  * Error for ('7a5g', 'Z', 'P49411')\n",
      "  * Error for ('7a5g', 'Z3', 'Q8TCC3')\n",
      "  * Error for ('7a5g', 'Z6', 'Q9Y291')\n",
      "  * Error for ('7a5g', 'a6', 'P82930')\n",
      "  * Error for ('7a5g', 'b3', 'Q8N983')\n",
      "  * Error for ('7a5g', 'b6', 'P82673')\n",
      "  * Error for ('7a5g', 'c3', 'Q9H9J2')\n",
      "  * Error for ('7a5g', 'c6', 'Q96BP2')\n",
      "  * Error for ('7a5g', 'd3', 'Q9BRJ2')\n",
      "  * Error for ('7a5g', 'd6', 'Q9NWT8')\n",
      "  * Error for ('7a5g', 'e3', 'Q9H2W6')\n",
      "  * Error for ('7a5g', 'e6', 'Q96EY7')\n",
      "  * Error for ('7a5g', 'f3', 'Q96GC5')\n",
      "  * Error for ('7a5g', 'g3', 'Q13405')\n",
      "  * Error for ('7a5g', 'h3', 'Q8N5N7')\n",
      "  * Error for ('7a5g', 'j3', 'Q86TS9')\n",
      "  * Error for ('7a5g', 'k3', 'Q96EL3')\n",
      "  * Error for ('7a5g', 'o3', 'Q9BQC6')\n",
      "  * Error for ('7a5g', 'q3', 'Q8TAE8')\n",
      "  * Error for ('7a5g', 'r3', 'Q9NVS2')\n",
      "  * Error for ('7a5g', 's3', 'Q9NP92')\n",
      "  * Error for ('7a5h', '0', 'Q9BYC8')\n",
      "  * Error for ('7a5h', '1', 'O75394')\n",
      "  * Error for ('7a5h', '2', 'Q9BQ48')\n",
      "  * Error for ('7a5h', '5', 'Q9BZE1')\n",
      "  * Error for ('7a5h', '6', 'Q96DV4')\n",
      "  * Error for ('7a5h', '7', 'Q9NYK5')\n",
      "  * Error for ('7a5h', '8', 'Q9NQ50')\n",
      "  * Error for ('7a5h', '9', 'Q8IXM3')\n",
      "  * Error for ('7a5h', 'C', 'Q9H3J6')\n",
      "  * Error for ('7a5h', 'D', 'Q5T653')\n",
      "  * Error for ('7a5h', 'E', 'P09001')\n",
      "  * Error for ('7a5h', 'F', 'Q9BYD3')\n",
      "  * Error for ('7a5h', 'G', 'Q9P0P8')\n",
      "  * Error for ('7a5h', 'H', 'Q9BYD2')\n",
      "  * Error for ('7a5h', 'I', 'Q7Z7H8')\n",
      "  * Error for ('7a5h', 'J', 'Q9Y3B7')\n",
      "  * Error for ('7a5h', 'K', 'Q9BYD1')\n",
      "  * Error for ('7a5h', 'L', 'Q6P1L8')\n",
      "  * Error for ('7a5h', 'M', 'Q9P015')\n",
      "  * Error for ('7a5h', 'N', 'Q9NX20')\n",
      "  * Error for ('7a5h', 'O', 'Q9NRX2')\n",
      "  * Error for ('7a5h', 'Q', 'P49406')\n",
      "  * Error for ('7a5h', 'R', 'Q9BYC9')\n",
      "  * Error for ('7a5h', 'S', 'Q7Z2W9')\n",
      "  * Error for ('7a5h', 'U', 'Q16540')\n",
      "  * Error for ('7a5h', 'V', 'Q96A35')\n",
      "  * Error for ('7a5h', 'W', 'Q9P0M9')\n",
      "  * Error for ('7a5h', 'X', 'Q13084')\n",
      "  * Error for ('7a5h', 'Y', 'Q9HD33')\n",
      "  * Error for ('7a5h', 'Z', 'Q8TCC3')\n",
      "  * Error for ('7a5h', 'a', 'Q9Y6G3')\n",
      "  * Error for ('7a5h', 'b', 'Q8N983')\n",
      "  * Error for ('7a5h', 'c', 'Q9H9J2')\n",
      "  * Error for ('7a5h', 'd', 'Q9BRJ2')\n",
      "  * Error for ('7a5h', 'e', 'Q9H2W6')\n",
      "  * Error for ('7a5h', 'f', 'Q96GC5')\n",
      "  * Error for ('7a5h', 'h', 'Q8N5N7')\n",
      "  * Error for ('7a5h', 'i', 'Q4U2R6')\n",
      "  * Error for ('7a5h', 'k', 'Q96EL3')\n",
      "  * Error for ('7a5h', 'l', 'Q6P161')\n",
      "  * Error for ('7a5h', 'o', 'Q9BQC6')\n",
      "  * Error for ('7a5h', 'q', 'Q8TAE8')\n",
      "  * Error for ('7a5h', 'r', 'Q9NVS2')\n",
      "  * Error for ('7a5h', 's', 'Q9NP92')\n",
      "  * Error for ('7a5h', 'u', 'Q96EH3')\n",
      "  * Error for ('7a5h', 'w', 'O14561')\n",
      "  * Error for ('7a5i', '03', 'Q9BYC8')\n",
      "  * Error for ('7a5i', '13', 'O75394')\n",
      "  * Error for ('7a5i', '23', 'Q9BQ48')\n",
      "  * Error for ('7a5i', '53', 'Q9BZE1')\n",
      "  * Error for ('7a5i', '63', 'Q96DV4')\n",
      "  * Error for ('7a5i', '73', 'Q9NYK5')\n",
      "  * Error for ('7a5i', '83', 'Q9NQ50')\n",
      "  * Error for ('7a5i', '93', 'Q8IXM3')\n",
      "  * Error for ('7a5i', 'B6', 'Q9Y399')\n",
      "  * Error for ('7a5i', 'C6', 'Q96EL2')\n",
      "  * Error for ('7a5i', 'D3', 'Q5T653')\n",
      "  * Error for ('7a5i', 'D6', 'P82675')\n",
      "  * Error for ('7a5i', 'E3', 'P09001')\n",
      "  * Error for ('7a5i', 'E6', 'P82932')\n",
      "  * Error for ('7a5i', 'F3', 'Q9BYD3')\n",
      "  * Error for ('7a5i', 'F6', 'Q9Y2R9')\n",
      "  * Error for ('7a5i', 'G6', 'P82933')\n",
      "  * Error for ('7a5i', 'H3', 'Q9BYD2')\n",
      "  * Error for ('7a5i', 'H6', 'P82664')\n",
      "  * Error for ('7a5i', 'I3', 'Q7Z7H8')\n",
      "  * Error for ('7a5i', 'I6', 'P82912')\n",
      "  * Error for ('7a5i', 'J3', 'Q9Y3B7')\n",
      "  * Error for ('7a5i', 'J6', 'O15235')\n",
      "  * Error for ('7a5i', 'K3', 'Q9BYD1')\n",
      "  * Error for ('7a5i', 'K6', 'O60783')\n",
      "  * Error for ('7a5i', 'L3', 'Q6P1L8')\n",
      "  * Error for ('7a5i', 'L6', 'P82914')\n",
      "  * Error for ('7a5i', 'N3', 'Q9NX20')\n",
      "  * Error for ('7a5i', 'N6', 'Q9Y2R5')\n",
      "  * Error for ('7a5i', 'O3', 'Q9NRX2')\n",
      "  * Error for ('7a5i', 'O6', 'Q9Y676')\n",
      "  * Error for ('7a5i', 'P6', 'Q9Y3D5')\n",
      "  * Error for ('7a5i', 'Q3', 'P49406')\n",
      "  * Error for ('7a5i', 'Q6', 'P82921')\n",
      "  * Error for ('7a5i', 'R3', 'Q9BYC9')\n",
      "  * Error for ('7a5i', 'R6', 'P82650')\n",
      "  * Error for ('7a5i', 'S3', 'Q7Z2W9')\n",
      "  * Error for ('7a5i', 'S6', 'Q9Y3D9')\n",
      "  * Error for ('7a5i', 'T6', 'P82663')\n",
      "  * Error for ('7a5i', 'U3', 'Q16540')\n",
      "  * Error for ('7a5i', 'V3', 'Q96A35')\n",
      "  * Error for ('7a5i', 'V6', 'Q92552')\n",
      "  * Error for ('7a5i', 'W3', 'Q9P0M9')\n",
      "  * Error for ('7a5i', 'W6', 'Q9Y2Q9')\n",
      "  * Error for ('7a5i', 'X3', 'Q13084')\n",
      "  * Error for ('7a5i', 'X6', 'P51398')\n",
      "  * Error for ('7a5i', 'Y3', 'Q9HD33')\n",
      "  * Error for ('7a5i', 'Y6', 'Q92665')\n",
      "  * Error for ('7a5i', 'Z3', 'Q8TCC3')\n",
      "  * Error for ('7a5i', 'Z6', 'Q9Y291')\n",
      "  * Error for ('7a5i', 'a6', 'P82930')\n",
      "  * Error for ('7a5i', 'b3', 'Q8N983')\n",
      "  * Error for ('7a5i', 'b6', 'P82673')\n",
      "  * Error for ('7a5i', 'c3', 'Q9H9J2')\n",
      "  * Error for ('7a5i', 'c6', 'Q96BP2')\n",
      "  * Error for ('7a5i', 'd3', 'Q9BRJ2')\n",
      "  * Error for ('7a5i', 'd6', 'Q9NWT8')\n",
      "  * Error for ('7a5i', 'e3', 'Q9H2W6')\n",
      "  * Error for ('7a5i', 'e6', 'Q96EY7')\n",
      "  * Error for ('7a5i', 'g3', 'Q13405')\n",
      "  * Error for ('7a5i', 'h3', 'Q8N5N7')\n",
      "  * Error for ('7a5i', 'k3', 'Q96EL3')\n",
      "  * Error for ('7a5i', 'o3', 'Q9BQC6')\n",
      "  * Error for ('7a5i', 'q3', 'Q8TAE8')\n",
      "  * Error for ('7a5i', 'r3', 'Q9NVS2')\n",
      "  * Error for ('7a5i', 's3', 'Q9NP92')\n",
      "  * Error for ('7a5j', '0', 'Q9BYC8')\n",
      "  * Error for ('7a5j', '1', 'O75394')\n",
      "  * Error for ('7a5j', '2', 'Q9BQ48')\n",
      "  * Error for ('7a5j', '5', 'Q9BZE1')\n",
      "  * Error for ('7a5j', '6', 'Q96DV4')\n",
      "  * Error for ('7a5j', '7', 'Q9NYK5')\n",
      "  * Error for ('7a5j', '8', 'Q9NQ50')\n",
      "  * Error for ('7a5j', '9', 'Q8IXM3')\n",
      "  * Error for ('7a5j', 'C', 'Q9BYD2')\n",
      "  * Error for ('7a5j', 'D', 'Q5T653')\n",
      "  * Error for ('7a5j', 'E', 'P09001')\n",
      "  * Error for ('7a5j', 'F', 'Q9BYD3')\n",
      "  * Error for ('7a5j', 'I', 'Q7Z7H8')\n",
      "  * Error for ('7a5j', 'J', 'Q9Y3B7')\n",
      "  * Error for ('7a5j', 'K', 'Q9BYD1')\n",
      "  * Error for ('7a5j', 'L', 'Q6P1L8')\n",
      "  * Error for ('7a5j', 'M', 'Q9P015')\n",
      "  * Error for ('7a5j', 'N', 'Q9NX20')\n",
      "  * Error for ('7a5j', 'O', 'Q9NRX2')\n",
      "  * Error for ('7a5j', 'Q', 'P49406')\n",
      "  * Error for ('7a5j', 'R', 'Q9BYC9')\n",
      "  * Error for ('7a5j', 'S', 'Q7Z2W9')\n",
      "  * Error for ('7a5j', 'U', 'Q16540')\n",
      "  * Error for ('7a5j', 'V', 'Q96A35')\n",
      "  * Error for ('7a5j', 'W', 'Q9P0M9')\n",
      "  * Error for ('7a5j', 'X', 'Q13084')\n",
      "  * Error for ('7a5j', 'Y', 'Q9HD33')\n",
      "  * Error for ('7a5j', 'Z', 'Q8TCC3')\n",
      "  * Error for ('7a5j', 'a', 'Q9Y6G3')\n",
      "  * Error for ('7a5j', 'b', 'Q8N983')\n",
      "  * Error for ('7a5j', 'c', 'Q9H9J2')\n",
      "  * Error for ('7a5j', 'd', 'Q9BRJ2')\n",
      "  * Error for ('7a5j', 'e', 'Q9H2W6')\n",
      "  * Error for ('7a5j', 'f', 'Q96GC5')\n",
      "  * Error for ('7a5j', 'g', 'Q13405')\n",
      "  * Error for ('7a5j', 'h', 'Q8N5N7')\n",
      "  * Error for ('7a5j', 'i', 'Q4U2R6')\n",
      "  * Error for ('7a5j', 'k', 'Q96EL3')\n",
      "  * Error for ('7a5j', 'l', 'Q6P161')\n",
      "  * Error for ('7a5j', 'o', 'Q9BQC6')\n",
      "  * Error for ('7a5j', 'q', 'Q8TAE8')\n",
      "  * Error for ('7a5j', 'r', 'Q9NVS2')\n",
      "  * Error for ('7a5j', 's', 'Q9NP92')\n",
      "  * Error for ('7a5j', 'u', 'Q96EH3')\n",
      "  * Error for ('7a5j', 'w', 'O14561')\n",
      "  * Error for ('7a5k', '03', 'Q9BYC8')\n",
      "  * Error for ('7a5k', '13', 'O75394')\n",
      "  * Error for ('7a5k', '23', 'Q9BQ48')\n",
      "  * Error for ('7a5k', '53', 'Q9BZE1')\n",
      "  * Error for ('7a5k', '63', 'Q96DV4')\n",
      "  * Error for ('7a5k', '73', 'Q9NYK5')\n",
      "  * Error for ('7a5k', '93', 'Q8IXM3')\n",
      "  * Error for ('7a5k', 'A', 'Q9NQ50')\n",
      "  * Error for ('7a5k', 'B6', 'Q9Y399')\n",
      "  * Error for ('7a5k', 'C6', 'Q96EL2')\n",
      "  * Error for ('7a5k', 'D', 'Q9BYD2')\n",
      "  * Error for ('7a5k', 'D3', 'Q5T653')\n",
      "  * Error for ('7a5k', 'D6', 'P82675')\n",
      "  * Error for ('7a5k', 'E3', 'P09001')\n",
      "  * Error for ('7a5k', 'E6', 'P82932')\n",
      "  * Error for ('7a5k', 'F3', 'Q9BYD3')\n",
      "  * Error for ('7a5k', 'F6', 'Q9Y2R9')\n",
      "  * Error for ('7a5k', 'G6', 'P82933')\n",
      "  * Error for ('7a5k', 'H6', 'P82664')\n",
      "  * Error for ('7a5k', 'I3', 'Q7Z7H8')\n",
      "  * Error for ('7a5k', 'I6', 'P82912')\n",
      "  * Error for ('7a5k', 'J3', 'Q9Y3B7')\n",
      "  * Error for ('7a5k', 'J6', 'O15235')\n",
      "  * Error for ('7a5k', 'K3', 'Q9BYD1')\n",
      "  * Error for ('7a5k', 'K6', 'O60783')\n",
      "  * Error for ('7a5k', 'L3', 'Q6P1L8')\n",
      "  * Error for ('7a5k', 'L6', 'P82914')\n",
      "  * Error for ('7a5k', 'N3', 'Q9NX20')\n",
      "  * Error for ('7a5k', 'N6', 'Q9Y2R5')\n",
      "  * Error for ('7a5k', 'O3', 'Q9NRX2')\n",
      "  * Error for ('7a5k', 'O6', 'Q9Y676')\n",
      "  * Error for ('7a5k', 'P6', 'Q9Y3D5')\n",
      "  * Error for ('7a5k', 'Q3', 'P49406')\n",
      "  * Error for ('7a5k', 'Q6', 'P82921')\n",
      "  * Error for ('7a5k', 'R3', 'Q9BYC9')\n",
      "  * Error for ('7a5k', 'R6', 'P82650')\n",
      "  * Error for ('7a5k', 'S3', 'Q7Z2W9')\n",
      "  * Error for ('7a5k', 'S6', 'Q9Y3D9')\n",
      "  * Error for ('7a5k', 'T6', 'P82663')\n",
      "  * Error for ('7a5k', 'U3', 'Q16540')\n",
      "  * Error for ('7a5k', 'V3', 'Q96A35')\n",
      "  * Error for ('7a5k', 'V6', 'Q92552')\n",
      "  * Error for ('7a5k', 'W3', 'Q9P0M9')\n",
      "  * Error for ('7a5k', 'W6', 'Q9Y2Q9')\n",
      "  * Error for ('7a5k', 'X3', 'Q13084')\n",
      "  * Error for ('7a5k', 'X6', 'P51398')\n",
      "  * Error for ('7a5k', 'Y3', 'Q9HD33')\n",
      "  * Error for ('7a5k', 'Y6', 'Q92665')\n",
      "  * Error for ('7a5k', 'Z3', 'Q8TCC3')\n",
      "  * Error for ('7a5k', 'Z6', 'Q9Y291')\n",
      "  * Error for ('7a5k', 'a6', 'P82930')\n",
      "  * Error for ('7a5k', 'b3', 'Q8N983')\n",
      "  * Error for ('7a5k', 'b6', 'P82673')\n",
      "  * Error for ('7a5k', 'c3', 'Q9H9J2')\n",
      "  * Error for ('7a5k', 'c6', 'Q96BP2')\n",
      "  * Error for ('7a5k', 'd3', 'Q9BRJ2')\n",
      "  * Error for ('7a5k', 'd6', 'Q9NWT8')\n",
      "  * Error for ('7a5k', 'e3', 'Q9H2W6')\n",
      "  * Error for ('7a5k', 'e6', 'Q96EY7')\n",
      "  * Error for ('7a5k', 'g3', 'Q13405')\n",
      "  * Error for ('7a5k', 'h3', 'Q8N5N7')\n",
      "  * Error for ('7a5k', 'k3', 'Q96EL3')\n",
      "  * Error for ('7a5k', 'n', 'Q9BYD6')\n",
      "  * Error for ('7a5k', 'o3', 'Q9BQC6')\n",
      "  * Error for ('7a5k', 'q3', 'Q8TAE8')\n",
      "  * Error for ('7a5k', 'r1', 'Q96RP9')\n",
      "  * Error for ('7a5k', 'r3', 'Q9NVS2')\n",
      "  * Error for ('7a5k', 's3', 'Q9NP92')\n"
     ]
    },
    {
     "name": "stderr",
     "output_type": "stream",
     "text": [
      " 85%|████████▍ | 71075/83655 [43:40<07:29, 27.97it/s] "
     ]
    },
    {
     "name": "stdout",
     "output_type": "stream",
     "text": [
      "  * Error for ('7a6w', 'AAA', 'Q13451')\n",
      "  * Error for ('7a6x', 'AAA', 'Q13451')\n",
      "  * Error for ('7a7d', 'A', 'Q14126')\n",
      "  * Error for ('7a7d', 'a', 'Q02487')\n"
     ]
    },
    {
     "name": "stderr",
     "output_type": "stream",
     "text": [
      " 85%|████████▍ | 71100/83655 [43:40<04:47, 43.62it/s]"
     ]
    },
    {
     "name": "stdout",
     "output_type": "stream",
     "text": [
      "  * Error for ('7a9c', 'AAA', 'P02768')\n",
      "  * Error for ('7a9u', 'AAA', 'O60885')\n",
      "  * Error for ('7a9y', 'AAA', 'P29762')\n",
      "  * Error for ('7a9z', 'AAA', 'P29762')\n",
      "  * Error for ('7aa0', 'AAA', 'P29373')\n",
      "  * Error for ('7aa1', 'AAA', 'P29373')\n",
      "  * Error for ('7aae', 'AAA', 'P02768')\n",
      "  * Error for ('7aai', 'AAA', 'P02768')\n"
     ]
    },
    {
     "name": "stderr",
     "output_type": "stream",
     "text": [
      " 85%|████████▌ | 71185/83655 [43:42<05:48, 35.77it/s]"
     ]
    },
    {
     "name": "stdout",
     "output_type": "stream",
     "text": [
      "  * Error for ('7abf', 'A', 'Q6P2Q9')\n",
      "  * Error for ('7abf', 'A4', 'O14776')\n",
      "  * Error for ('7abf', 'G', 'O43660')\n",
      "  * Error for ('7abf', 'I', 'Q8NAV1')\n",
      "  * Error for ('7abf', 'K', 'P55081')\n",
      "  * Error for ('7abf', 'N', 'Q96NC0')\n",
      "  * Error for ('7abf', 'Q', 'P41223')\n",
      "  * Error for ('7abf', 'R', 'Q9P013')\n",
      "  * Error for ('7abf', 'X', 'Q9Y2W2')\n",
      "  * Error for ('7abf', 'r', 'Q15029')\n",
      "  * Error for ('7abf', 'v', 'Q13573')\n",
      "  * Error for ('7abg', '0', 'Q8TAD8')\n",
      "  * Error for ('7abg', '4', 'Q12874')\n",
      "  * Error for ('7abg', '9', 'P62310')\n",
      "  * Error for ('7abg', 'A', 'Q6P2Q9')\n",
      "  * Error for ('7abg', 'A1', 'P52298')\n",
      "  * Error for ('7abg', 'A2', 'Q9UK45')\n",
      "  * Error for ('7abg', 'A3', 'O95777')\n",
      "  * Error for ('7abg', 'A4', 'O14776')\n",
      "  * Error for ('7abg', 'A5', 'Q09161')\n",
      "  * Error for ('7abg', 'B', 'P08579')\n",
      "  * Error for ('7abg', 'C', 'Q9Y4Z0')\n",
      "  * Error for ('7abg', 'D', 'Q96DI7')\n",
      "  * Error for ('7abg', 'E', 'Q15393')\n",
      "  * Error for ('7abg', 'F', 'Q15428')\n",
      "  * Error for ('7abg', 'G', 'O43660')\n",
      "  * Error for ('7abg', 'H', 'Q9Y4Y9')\n",
      "  * Error for ('7abg', 'I', 'Q8NAV1')\n",
      "  * Error for ('7abg', 'J', 'P62312')\n",
      "  * Error for ('7abg', 'K', 'P55081')\n",
      "  * Error for ('7abg', 'L', 'Q99459')\n",
      "  * Error for ('7abg', 'N', 'Q96NC0')\n",
      "  * Error for ('7abg', 'P', 'Q9NW64')\n",
      "  * Error for ('7abg', 'Q', 'P41223')\n",
      "  * Error for ('7abg', 'R', 'Q9P013')\n",
      "  * Error for ('7abg', 'T', 'Q13435')\n",
      "  * Error for ('7abg', 'V', 'Q9Y333')\n",
      "  * Error for ('7abg', 'W', 'P09661')\n",
      "  * Error for ('7abg', 'X', 'Q9Y2W2')\n",
      "  * Error for ('7abg', 'Y', 'Q8IYB3')\n",
      "  * Error for ('7abg', 'e', 'P62318')\n",
      "  * Error for ('7abg', 'f', 'P14678')\n",
      "  * Error for ('7abg', 'p', 'Q15459')\n",
      "  * Error for ('7abg', 'r', 'Q15029')\n",
      "  * Error for ('7abg', 's', 'O75643')\n",
      "  * Error for ('7abg', 'u', 'O75533')\n",
      "  * Error for ('7abg', 'v', 'Q13573')\n",
      "  * Error for ('7abg', 'w', 'Q15427')\n",
      "  * Error for ('7abg', 'x', 'Q9BWJ5')\n",
      "  * Error for ('7abg', 'y', 'Q7RTV0')\n",
      "  * Error for ('7abg', 'z', 'Q9Y3B4')\n"
     ]
    },
    {
     "name": "stderr",
     "output_type": "stream",
     "text": [
      " 85%|████████▌ | 71257/83655 [44:06<55:03,  3.75it/s]  "
     ]
    },
    {
     "name": "stdout",
     "output_type": "stream",
     "text": [
      "  * Error for ('7ac0', 'AAA', 'O52866')\n"
     ]
    },
    {
     "name": "stderr",
     "output_type": "stream",
     "text": [
      " 85%|████████▌ | 71354/83655 [44:09<08:48, 23.27it/s]"
     ]
    },
    {
     "name": "stdout",
     "output_type": "stream",
     "text": [
      "  * Error for ('7ael', 'AAA', 'P01009')\n",
      "  * Error for ('7aet', 'AAA', 'P69905')\n",
      "  * Error for ('7aet', 'BBB', 'P68871')\n",
      "  * Error for ('7aeu', 'AAA', 'P69905')\n",
      "  * Error for ('7aeu', 'BBB', 'P68871')\n",
      "  * Error for ('7aev', 'AAA', 'P69905')\n",
      "  * Error for ('7aev', 'BBB', 'P68871')\n",
      "  * Error for ('7aew', 'AAA', 'P31947')\n",
      "  * Error for ('7aew', 'BBB', 'P15144')\n"
     ]
    },
    {
     "name": "stderr",
     "output_type": "stream",
     "text": [
      " 85%|████████▌ | 71391/83655 [44:10<04:19, 47.24it/s]"
     ]
    },
    {
     "name": "stdout",
     "output_type": "stream",
     "text": [
      "  * Error for ('7ahz', 'CCC', 'P0CG47')\n",
      "  * Error for ('7ahz', 'CCC', 'P0CG47')\n",
      "  * Error for ('7ai0', 'AAA', 'Q00987')\n",
      "  * Error for ('7ai0', 'CCC', 'P0CG47')\n",
      "  * Error for ('7ai0', 'CCC', 'P0CG47')\n",
      "  * Error for ('7ai1', 'AAA', 'Q00987')\n",
      "  * Error for ('7ai1', 'CCC', 'P0CG47')\n",
      "  * Error for ('7ai1', 'CCC', 'P0CG47')\n",
      "  * Error for ('7aia', 'AAA', 'Q8TB36')\n"
     ]
    },
    {
     "name": "stderr",
     "output_type": "stream",
     "text": [
      " 86%|████████▌ | 71550/83655 [44:10<02:36, 77.18it/s]"
     ]
    },
    {
     "name": "stdout",
     "output_type": "stream",
     "text": [
      "  * Error for ('7ajb', '8', 'P03929')\n",
      "  * Error for ('7ajb', 'AD', 'P00829')\n",
      "  * Error for ('7ajb', 'AG', 'P05631')\n",
      "  * Error for ('7ajb', 'AH', 'P05630')\n",
      "  * Error for ('7ajb', 'AI', 'P05632')\n",
      "  * Error for ('7ajb', 'AK', 'P07926')\n",
      "  * Error for ('7ajb', 'Aa', 'P00847')\n",
      "  * Error for ('7ajb', 'Ab', 'P13619')\n",
      "  * Error for ('7ajb', 'Ad', 'P13620')\n",
      "  * Error for ('7ajb', 'Af', 'Q28851')\n",
      "  * Error for ('7ajb', 'Ag', 'Q28852')\n",
      "  * Error for ('7ajb', 'Ah', 'P02721')\n",
      "  * Error for ('7ajb', 'Aj', 'P14790')\n",
      "  * Error for ('7ajb', 'Ak', 'Q3ZBI7')\n",
      "  * Error for ('7ajc', '8', 'P03929')\n",
      "  * Error for ('7ajc', 'AD', 'P00829')\n",
      "  * Error for ('7ajc', 'AG', 'P05631')\n",
      "  * Error for ('7ajc', 'AH', 'P05630')\n",
      "  * Error for ('7ajc', 'AI', 'P05632')\n",
      "  * Error for ('7ajc', 'AK', 'P07926')\n",
      "  * Error for ('7ajc', 'Aa', 'P00847')\n",
      "  * Error for ('7ajc', 'Ab', 'P13619')\n",
      "  * Error for ('7ajc', 'Ad', 'P13620')\n",
      "  * Error for ('7ajc', 'Af', 'Q28851')\n",
      "  * Error for ('7ajc', 'Ag', 'Q28852')\n",
      "  * Error for ('7ajc', 'Ah', 'P02721')\n",
      "  * Error for ('7ajc', 'Aj', 'P14790')\n",
      "  * Error for ('7ajc', 'Ak', 'Q3ZBI7')\n",
      "  * Error for ('7ajd', '8', 'P03929')\n",
      "  * Error for ('7ajd', 'AD', 'P00829')\n",
      "  * Error for ('7ajd', 'AG', 'P05631')\n",
      "  * Error for ('7ajd', 'AH', 'P05630')\n",
      "  * Error for ('7ajd', 'AI', 'P05632')\n",
      "  * Error for ('7ajd', 'AK', 'P07926')\n",
      "  * Error for ('7ajd', 'Aa', 'P00847')\n",
      "  * Error for ('7ajd', 'Ab', 'P13619')\n",
      "  * Error for ('7ajd', 'Ad', 'P13620')\n",
      "  * Error for ('7ajd', 'Af', 'Q28851')\n",
      "  * Error for ('7ajd', 'Ag', 'Q28852')\n",
      "  * Error for ('7ajd', 'Ah', 'P02721')\n",
      "  * Error for ('7ajd', 'Aj', 'P14790')\n",
      "  * Error for ('7ajd', 'Ak', 'Q3ZBI7')\n",
      "  * Error for ('7aje', '8', 'P03929')\n",
      "  * Error for ('7aje', 'AD', 'P00829')\n",
      "  * Error for ('7aje', 'AG', 'P05631')\n",
      "  * Error for ('7aje', 'AH', 'P05630')\n",
      "  * Error for ('7aje', 'AI', 'P05632')\n",
      "  * Error for ('7aje', 'AK', 'P07926')\n",
      "  * Error for ('7aje', 'Aa', 'P00847')\n",
      "  * Error for ('7aje', 'Ab', 'P13619')\n",
      "  * Error for ('7aje', 'Ad', 'P13620')\n",
      "  * Error for ('7aje', 'Af', 'Q28851')\n",
      "  * Error for ('7aje', 'Ag', 'Q28852')\n",
      "  * Error for ('7aje', 'Ah', 'P02721')\n",
      "  * Error for ('7aje', 'Aj', 'P14790')\n",
      "  * Error for ('7aje', 'Ak', 'Q3ZBI7')\n",
      "  * Error for ('7ajf', '8', 'P03929')\n",
      "  * Error for ('7ajf', 'AD', 'P00829')\n",
      "  * Error for ('7ajf', 'AG', 'P05631')\n",
      "  * Error for ('7ajf', 'AH', 'P05630')\n",
      "  * Error for ('7ajf', 'AI', 'P05632')\n",
      "  * Error for ('7ajf', 'AK', 'P07926')\n",
      "  * Error for ('7ajf', 'Aa', 'P00847')\n",
      "  * Error for ('7ajf', 'Ab', 'P13619')\n",
      "  * Error for ('7ajf', 'Ad', 'P13620')\n",
      "  * Error for ('7ajf', 'Af', 'Q28851')\n",
      "  * Error for ('7ajf', 'Ag', 'Q28852')\n",
      "  * Error for ('7ajf', 'Ah', 'P02721')\n",
      "  * Error for ('7ajf', 'Aj', 'P14790')\n",
      "  * Error for ('7ajf', 'Ak', 'Q3ZBI7')\n",
      "  * Error for ('7ajg', '8', 'P03929')\n",
      "  * Error for ('7ajg', 'AD', 'P00829')\n",
      "  * Error for ('7ajg', 'AG', 'P05631')\n",
      "  * Error for ('7ajg', 'AH', 'P05630')\n",
      "  * Error for ('7ajg', 'AI', 'P05632')\n",
      "  * Error for ('7ajg', 'AK', 'P07926')\n",
      "  * Error for ('7ajg', 'Aa', 'P00847')\n",
      "  * Error for ('7ajg', 'Ab', 'P13619')\n",
      "  * Error for ('7ajg', 'Ad', 'P13620')\n",
      "  * Error for ('7ajg', 'Af', 'Q28851')\n",
      "  * Error for ('7ajg', 'Ag', 'Q28852')\n",
      "  * Error for ('7ajg', 'Ah', 'P02721')\n",
      "  * Error for ('7ajg', 'Aj', 'P14790')\n",
      "  * Error for ('7ajg', 'Ak', 'Q3ZBI7')\n",
      "  * Error for ('7ajh', '8', 'P03929')\n",
      "  * Error for ('7ajh', 'AD', 'P00829')\n",
      "  * Error for ('7ajh', 'AG', 'P05631')\n",
      "  * Error for ('7ajh', 'AH', 'P05630')\n",
      "  * Error for ('7ajh', 'AI', 'P05632')\n",
      "  * Error for ('7ajh', 'AK', 'P07926')\n",
      "  * Error for ('7ajh', 'Aa', 'P00847')\n",
      "  * Error for ('7ajh', 'Ab', 'P13619')\n",
      "  * Error for ('7ajh', 'Ad', 'P13620')\n",
      "  * Error for ('7ajh', 'Af', 'Q28851')\n",
      "  * Error for ('7ajh', 'Ag', 'Q28852')\n",
      "  * Error for ('7ajh', 'Ah', 'P02721')\n",
      "  * Error for ('7ajh', 'Aj', 'P14790')\n",
      "  * Error for ('7ajh', 'Ak', 'Q3ZBI7')\n",
      "  * Error for ('7aji', '8', 'P03929')\n",
      "  * Error for ('7aji', 'AD', 'P00829')\n",
      "  * Error for ('7aji', 'AG', 'P05631')\n",
      "  * Error for ('7aji', 'AH', 'P05630')\n",
      "  * Error for ('7aji', 'AI', 'P05632')\n",
      "  * Error for ('7aji', 'AK', 'P07926')\n",
      "  * Error for ('7aji', 'Aa', 'P00847')\n",
      "  * Error for ('7aji', 'Ab', 'P13619')\n",
      "  * Error for ('7aji', 'Ad', 'P13620')\n",
      "  * Error for ('7aji', 'Af', 'Q28851')\n",
      "  * Error for ('7aji', 'Ag', 'Q28852')\n",
      "  * Error for ('7aji', 'Ah', 'P02721')\n",
      "  * Error for ('7aji', 'Aj', 'P14790')\n",
      "  * Error for ('7aji', 'Ak', 'Q3ZBI7')\n",
      "  * Error for ('7ajj', '8', 'P03929')\n",
      "  * Error for ('7ajj', 'AD', 'P00829')\n",
      "  * Error for ('7ajj', 'AG', 'P05631')\n",
      "  * Error for ('7ajj', 'AH', 'P05630')\n",
      "  * Error for ('7ajj', 'AI', 'P05632')\n",
      "  * Error for ('7ajj', 'AK', 'P07926')\n",
      "  * Error for ('7ajj', 'Aa', 'P00847')\n",
      "  * Error for ('7ajj', 'Ab', 'P13619')\n",
      "  * Error for ('7ajj', 'Ad', 'P13620')\n",
      "  * Error for ('7ajj', 'Af', 'Q28851')\n",
      "  * Error for ('7ajj', 'Ag', 'Q28852')\n",
      "  * Error for ('7ajj', 'Ah', 'P02721')\n",
      "  * Error for ('7ajj', 'Aj', 'P14790')\n",
      "  * Error for ('7ajj', 'Ak', 'Q3ZBI7')\n",
      "  * Error for ('7ajk', 'BBB', 'P63000')\n",
      "  * Error for ('7ajk', 'CCC', 'Q9NUQ9')\n",
      "  * Error for ('7ajl', 'AAA', 'Q921M7')\n",
      "  * Error for ('7ajt', 'CA', 'P15646')\n",
      "  * Error for ('7ajt', 'EN', 'P47047')\n",
      "  * Error for ('7ajt', 'UB', 'Q99207')\n",
      "  * Error for ('7ajt', 'US', 'Q06512')\n",
      "  * Error for ('7ajt', 'UZ', 'P36144')\n",
      "  * Error for ('7aju', 'CA', 'P15646')\n",
      "  * Error for ('7aju', 'EN', 'P47047')\n",
      "  * Error for ('7aju', 'UB', 'Q99207')\n",
      "  * Error for ('7aju', 'US', 'Q06512')\n",
      "  * Error for ('7akr', 'AAA', 'Q9NX46')\n",
      "  * Error for ('7aks', 'AAA', 'Q9NX46')\n"
     ]
    },
    {
     "name": "stderr",
     "output_type": "stream",
     "text": [
      " 86%|████████▌ | 71638/83655 [44:13<05:41, 35.17it/s]"
     ]
    },
    {
     "name": "stdout",
     "output_type": "stream",
     "text": [
      "  * Error for ('7ar4', 'AAA', 'P35222')\n",
      "  * Error for ('7as4', '1', 'P23258')\n",
      "  * Error for ('7as4', '3', 'Q96CW5')\n",
      "  * Error for ('7as4', '4', 'Q96RT7')\n",
      "  * Error for ('7as4', '5', 'Q08AG7')\n",
      "  * Error for ('7as4', 'A', 'Q9BSJ2')\n",
      "  * Error for ('7as4', 'I', 'Q9UGJ1')\n",
      "  * Error for ('7as4', 'J', 'Q96RT8')\n"
     ]
    },
    {
     "name": "stderr",
     "output_type": "stream",
     "text": [
      " 86%|████████▌ | 71723/83655 [44:15<03:57, 50.24it/s]"
     ]
    },
    {
     "name": "stdout",
     "output_type": "stream",
     "text": [
      "  * Error for ('7av4', 'AAA', 'A0A248QE08')\n",
      "  * Error for ('7av8', 'AAA', 'Q8WWQ0')\n",
      "  * Error for ('7av9', 'AAA', 'Q8WWQ0')\n",
      "  * Error for ('7avc', 'AAA', 'Q9NWS0')\n"
     ]
    },
    {
     "name": "stderr",
     "output_type": "stream",
     "text": [
      " 86%|████████▌ | 71843/83655 [44:17<01:55, 102.21it/s]"
     ]
    },
    {
     "name": "stdout",
     "output_type": "stream",
     "text": [
      "  * Error for ('7ax3', 'A', 'Q05193')\n"
     ]
    },
    {
     "name": "stderr",
     "output_type": "stream",
     "text": [
      " 86%|████████▌ | 71884/83655 [44:18<02:11, 89.33it/s] "
     ]
    },
    {
     "name": "stdout",
     "output_type": "stream",
     "text": [
      "  * Error for ('7ayy', 'AAA', 'O15527')\n"
     ]
    },
    {
     "name": "stderr",
     "output_type": "stream",
     "text": [
      " 86%|████████▌ | 72052/83655 [44:21<02:47, 69.47it/s]"
     ]
    },
    {
     "name": "stdout",
     "output_type": "stream",
     "text": [
      "  * Error for ('7b7d', 'EF', 'P16521')\n"
     ]
    },
    {
     "name": "stderr",
     "output_type": "stream",
     "text": [
      " 86%|████████▋ | 72188/83655 [44:23<02:04, 91.90it/s] "
     ]
    },
    {
     "name": "stdout",
     "output_type": "stream",
     "text": [
      "  * Error for ('7bbo', 'AAA', 'Q8WWQ0')\n",
      "  * Error for ('7bbp', 'AAA', 'Q8WWQ0')\n"
     ]
    },
    {
     "name": "stderr",
     "output_type": "stream",
     "text": [
      " 86%|████████▋ | 72236/83655 [44:23<02:09, 88.24it/s]"
     ]
    },
    {
     "name": "stdout",
     "output_type": "stream",
     "text": [
      "  * Error for ('7bf1', 'CCC', 'P12277')\n",
      "  * Error for ('7bf2', 'CCC', 'P06732')\n",
      "  * Error for ('7bfa', 'AAA', 'P00918')\n",
      "  * Error for ('7bg5', 'AAA', 'P00918')\n"
     ]
    },
    {
     "name": "stderr",
     "output_type": "stream",
     "text": [
      " 86%|████████▋ | 72306/83655 [44:24<01:37, 115.81it/s]"
     ]
    },
    {
     "name": "stdout",
     "output_type": "stream",
     "text": [
      "  * Error for ('7bhp', 'A', 'Q9UQ80')\n",
      "  * Error for ('7bhp', 'LB', 'P39023')\n",
      "  * Error for ('7bhp', 'LC', 'P36578')\n",
      "  * Error for ('7bhp', 'LD', 'P46777')\n",
      "  * Error for ('7bhp', 'LE', 'Q02878')\n",
      "  * Error for ('7bhp', 'LF', 'P18124')\n",
      "  * Error for ('7bhp', 'LG', 'P62424')\n",
      "  * Error for ('7bhp', 'LH', 'P32969')\n",
      "  * Error for ('7bhp', 'LI', 'Q96L21')\n",
      "  * Error for ('7bhp', 'LL', 'P26373')\n",
      "  * Error for ('7bhp', 'LM', 'P50914')\n",
      "  * Error for ('7bhp', 'LO', 'P40429')\n",
      "  * Error for ('7bhp', 'LP', 'P18621')\n",
      "  * Error for ('7bhp', 'LQ', 'Q07020')\n",
      "  * Error for ('7bhp', 'LS', 'Q02543')\n",
      "  * Error for ('7bhp', 'LU', 'P35268')\n",
      "  * Error for ('7bhp', 'La', 'P46776')\n",
      "  * Error for ('7bhp', 'Lb', 'P47914')\n",
      "  * Error for ('7bhp', 'Lf', 'P18077')\n",
      "  * Error for ('7bhp', 'Lh', 'P42766')\n",
      "  * Error for ('7bhp', 'Li', 'Q9Y3U8')\n",
      "  * Error for ('7bhp', 'Lk', 'P63173')\n",
      "  * Error for ('7bhp', 'Lr', 'P46779')\n"
     ]
    },
    {
     "name": "stderr",
     "output_type": "stream",
     "text": [
      " 86%|████████▋ | 72359/83655 [44:24<01:20, 140.64it/s]"
     ]
    },
    {
     "name": "stdout",
     "output_type": "stream",
     "text": [
      "  * Error for ('7bl1', 'AAA', 'Q9P2Y5')\n",
      "  * Error for ('7bl1', 'BBB', 'Q8NEB9')\n",
      "  * Error for ('7bl1', 'CCC', 'Q99570')\n",
      "  * Error for ('7bl1', 'DDD', 'P20339')\n",
      "  * Error for ('7bl1', 'EEE', 'Q14457')\n"
     ]
    },
    {
     "name": "stderr",
     "output_type": "stream",
     "text": [
      " 87%|████████▋ | 72408/83655 [44:25<01:25, 132.14it/s]"
     ]
    },
    {
     "name": "stdout",
     "output_type": "stream",
     "text": [
      "  * Error for ('7bn2', 'AAA', 'Q00610')\n",
      "  * Error for ('7bns', 'B2', 'Q15788')\n",
      "  * Error for ('7bnu', 'B2', 'Q15788')\n",
      "  * Error for ('7bo7', 'AAA', 'O14744')\n",
      "  * Error for ('7bo7', 'BBB', 'Q9BQA1')\n"
     ]
    },
    {
     "name": "stderr",
     "output_type": "stream",
     "text": [
      " 87%|████████▋ | 72483/83655 [44:25<01:43, 108.43it/s]"
     ]
    },
    {
     "name": "stdout",
     "output_type": "stream",
     "text": [
      "  * Error for ('7bt6', 'r', 'P40078')\n",
      "  * Error for ('7bt6', 'v', 'P36160')\n",
      "  * Error for ('7bt6', 'w', 'Q08746')\n",
      "  * Error for ('7btb', 'q', 'Q12080')\n",
      "  * Error for ('7btb', 'r', 'P40078')\n",
      "  * Error for ('7btb', 'v', 'P36160')\n",
      "  * Error for ('7btb', 'w', 'Q08746')\n"
     ]
    },
    {
     "name": "stderr",
     "output_type": "stream",
     "text": [
      " 87%|████████▋ | 72707/83655 [44:29<03:19, 54.78it/s] "
     ]
    },
    {
     "name": "stdout",
     "output_type": "stream",
     "text": [
      "  * Error for ('7cf9', 'B', 'P68106')\n"
     ]
    },
    {
     "name": "stderr",
     "output_type": "stream",
     "text": [
      " 87%|████████▋ | 72887/83655 [44:31<02:32, 70.68it/s]"
     ]
    },
    {
     "name": "stdout",
     "output_type": "stream",
     "text": [
      "  * Error for ('7cpu', 'LA', 'P62918')\n",
      "  * Error for ('7cpu', 'LF', 'P14148')\n",
      "  * Error for ('7cpu', 'LJ', 'Q9CXW4')\n",
      "  * Error for ('7cpu', 'LN', 'Q9CZM2')\n",
      "  * Error for ('7cpu', 'LR', 'P84099')\n",
      "  * Error for ('7cpu', 'LW', 'Q8BP67')\n",
      "  * Error for ('7cpu', 'LX', 'P62751')\n",
      "  * Error for ('7cpu', 'LY', 'P61255')\n",
      "  * Error for ('7cpu', 'Lc', 'P62889')\n",
      "  * Error for ('7cpu', 'Lj', 'Q9D823')\n",
      "  * Error for ('7cpu', 'Ll', 'P62892')\n",
      "  * Error for ('7cpu', 'Lp', 'P61514')\n",
      "  * Error for ('7cpu', 'SE', 'P62702')\n",
      "  * Error for ('7cpu', 'SG', 'P62754')\n",
      "  * Error for ('7cpu', 'SH', 'P62082')\n",
      "  * Error for ('7cpu', 'SI', 'P62242')\n",
      "  * Error for ('7cpu', 'SL', 'P62281')\n",
      "  * Error for ('7cpu', 'SN', 'P62301')\n",
      "  * Error for ('7cpu', 'SU', 'P60867')\n",
      "  * Error for ('7cpu', 'SW', 'P62245')\n",
      "  * Error for ('7cpu', 'SX', 'P62267')\n",
      "  * Error for ('7cpu', 'SY', 'P62849')\n",
      "  * Error for ('7cpu', 'SZ', 'P62852')\n",
      "  * Error for ('7cpu', 'Sb', 'Q6ZWU9')\n",
      "  * Error for ('7cpu', 'Sd', 'P62274')\n",
      "  * Error for ('7cpv', 'LA', 'P62918')\n",
      "  * Error for ('7cpv', 'LF', 'P14148')\n",
      "  * Error for ('7cpv', 'LI', 'P86048')\n",
      "  * Error for ('7cpv', 'LJ', 'Q9CXW4')\n",
      "  * Error for ('7cpv', 'LN', 'Q9CZM2')\n",
      "  * Error for ('7cpv', 'LR', 'P84099')\n",
      "  * Error for ('7cpv', 'LW', 'Q8BP67')\n",
      "  * Error for ('7cpv', 'LX', 'P62751')\n",
      "  * Error for ('7cpv', 'LY', 'P61255')\n",
      "  * Error for ('7cpv', 'Lc', 'P62889')\n",
      "  * Error for ('7cpv', 'Lj', 'Q9D823')\n",
      "  * Error for ('7cpv', 'Lp', 'P61514')\n",
      "  * Error for ('7cpv', 'SE', 'P62702')\n",
      "  * Error for ('7cpv', 'SG', 'P62754')\n",
      "  * Error for ('7cpv', 'SH', 'P62082')\n",
      "  * Error for ('7cpv', 'SI', 'P62242')\n",
      "  * Error for ('7cpv', 'SL', 'P62281')\n",
      "  * Error for ('7cpv', 'SN', 'P62301')\n",
      "  * Error for ('7cpv', 'SU', 'P60867')\n",
      "  * Error for ('7cpv', 'SW', 'P62245')\n",
      "  * Error for ('7cpv', 'SX', 'P62267')\n",
      "  * Error for ('7cpv', 'SY', 'P62849')\n",
      "  * Error for ('7cpv', 'SZ', 'P62852')\n",
      "  * Error for ('7cpv', 'Sb', 'Q6ZWU9')\n",
      "  * Error for ('7cpv', 'Sd', 'P62274')\n"
     ]
    },
    {
     "name": "stderr",
     "output_type": "stream",
     "text": [
      " 87%|████████▋ | 73099/83655 [44:36<05:15, 33.44it/s]"
     ]
    },
    {
     "name": "stdout",
     "output_type": "stream",
     "text": [
      "  * Error for ('7d4i', '3B', 'P15646')\n",
      "  * Error for ('7d4i', 'M4', 'P47047')\n",
      "  * Error for ('7d4i', 'RN', 'Q99207')\n",
      "  * Error for ('7d4i', 'RO', 'Q06512')\n"
     ]
    },
    {
     "name": "stderr",
     "output_type": "stream",
     "text": [
      " 87%|████████▋ | 73146/83655 [44:38<06:14, 28.07it/s]"
     ]
    },
    {
     "name": "stdout",
     "output_type": "stream",
     "text": [
      "  * Error for ('7d5s', '3B', 'P15646')\n",
      "  * Error for ('7d5s', 'RI', 'P36144')\n",
      "  * Error for ('7d5s', 'RN', 'Q99207')\n",
      "  * Error for ('7d5s', 'RO', 'Q06512')\n",
      "  * Error for ('7d5t', '3B', 'P15646')\n",
      "  * Error for ('7d5t', 'RN', 'Q99207')\n"
     ]
    },
    {
     "name": "stderr",
     "output_type": "stream",
     "text": [
      " 87%|████████▋ | 73156/83655 [44:38<05:27, 32.03it/s]"
     ]
    },
    {
     "name": "stdout",
     "output_type": "stream",
     "text": [
      "  * Error for ('7d63', '3B', 'P15646')\n",
      "  * Error for ('7d63', 'RN', 'Q99207')\n",
      "  * Error for ('7d63', 'RO', 'Q06512')\n"
     ]
    },
    {
     "name": "stderr",
     "output_type": "stream",
     "text": [
      " 88%|████████▊ | 73308/83655 [44:41<01:53, 91.27it/s]"
     ]
    },
    {
     "name": "stdout",
     "output_type": "stream",
     "text": [
      "  * Error for ('7dgq', 'B2', 'P07470')\n",
      "  * Error for ('7dgr', 'C3', 'P07470')\n",
      "  * Error for ('7dgs', 'B8', 'P07470')\n"
     ]
    },
    {
     "name": "stderr",
     "output_type": "stream",
     "text": [
      "\r",
      " 88%|████████▊ | 73318/83655 [44:41<01:58, 87.41it/s]"
     ]
    },
    {
     "name": "stdout",
     "output_type": "stream",
     "text": [
      "  * Error for ('7dkf', 'J3', 'P07470')\n"
     ]
    },
    {
     "name": "stderr",
     "output_type": "stream",
     "text": [
      " 88%|████████▊ | 73508/83655 [45:02<41:18,  4.09it/s]  "
     ]
    },
    {
     "name": "stdout",
     "output_type": "stream",
     "text": [
      "  * Error for ('7dwx', 'A', 'Q695T7')\n",
      "  * Error for ('7dwx', 'B', 'Q9BYF1')\n",
      "  * Error for ('7dwx', 'B', 'Q9BYF1')\n"
     ]
    },
    {
     "name": "stderr",
     "output_type": "stream",
     "text": [
      " 88%|████████▊ | 73933/83655 [45:36<32:54,  4.92it/s]"
     ]
    },
    {
     "name": "stdout",
     "output_type": "stream",
     "text": [
      "  * Error for ('7egb', '0', 'P51948')\n",
      "  * Error for ('7egb', '1', 'P32780')\n",
      "  * Error for ('7egb', '2', 'Q13888')\n",
      "  * Error for ('7egb', '3', 'Q13889')\n",
      "  * Error for ('7egb', '4', 'Q92759')\n",
      "  * Error for ('7egb', '5', 'Q6ZYL4')\n",
      "  * Error for ('7egb', '6', 'P19447')\n",
      "  * Error for ('7egb', '7', 'P18074')\n",
      "  * Error for ('7egb', '8', 'P50613')\n",
      "  * Error for ('7egb', '9', 'P51946')\n",
      "  * Error for ('7egb', 'A', 'P21675')\n",
      "  * Error for ('7egb', 'B', 'Q6P1X5')\n",
      "  * Error for ('7egb', 'D', 'O00268')\n",
      "  * Error for ('7egb', 'E', 'Q15542')\n",
      "  * Error for ('7egb', 'F', 'P49848')\n",
      "  * Error for ('7egb', 'G', 'Q15545')\n",
      "  * Error for ('7egb', 'H', 'Q7Z7C8')\n",
      "  * Error for ('7egb', 'I', 'Q16594')\n",
      "  * Error for ('7egb', 'J', 'Q12962')\n",
      "  * Error for ('7egb', 'L', 'Q16514')\n",
      "  * Error for ('7egb', 'O', 'P52657')\n",
      "  * Error for ('7egb', 'P', 'P20226')\n",
      "  * Error for ('7egb', 'Q', 'P52655')\n",
      "  * Error for ('7egb', 'R', 'Q00403')\n",
      "  * Error for ('7egb', 'S', 'P35269')\n",
      "  * Error for ('7egb', 'T', 'P13984')\n",
      "  * Error for ('7egb', 'U', 'P29083')\n",
      "  * Error for ('7egb', 'V', 'P29084')\n",
      "  * Error for ('7egb', 'c', 'Q5VWG9')\n",
      "  * Error for ('7egb', 'k', 'Q15544')\n",
      "  * Error for ('7egb', 'm', 'Q15543')\n",
      "  * Error for ('7egb', 'o', 'P24928')\n",
      "  * Error for ('7egb', 'w', 'P60899')\n",
      "  * Error for ('7egc', '0', 'P51948')\n",
      "  * Error for ('7egc', '1', 'P32780')\n",
      "  * Error for ('7egc', '2', 'Q13888')\n",
      "  * Error for ('7egc', '3', 'Q13889')\n",
      "  * Error for ('7egc', '4', 'Q92759')\n",
      "  * Error for ('7egc', '5', 'Q6ZYL4')\n",
      "  * Error for ('7egc', '6', 'P19447')\n",
      "  * Error for ('7egc', '7', 'P18074')\n",
      "  * Error for ('7egc', '8', 'P50613')\n",
      "  * Error for ('7egc', '9', 'P51946')\n",
      "  * Error for ('7egc', 'A', 'P21675')\n",
      "  * Error for ('7egc', 'B', 'Q6P1X5')\n",
      "  * Error for ('7egc', 'D', 'O00268')\n",
      "  * Error for ('7egc', 'E', 'Q15542')\n",
      "  * Error for ('7egc', 'F', 'P49848')\n",
      "  * Error for ('7egc', 'G', 'Q15545')\n",
      "  * Error for ('7egc', 'H', 'Q7Z7C8')\n",
      "  * Error for ('7egc', 'I', 'Q16594')\n",
      "  * Error for ('7egc', 'J', 'Q12962')\n",
      "  * Error for ('7egc', 'L', 'Q16514')\n",
      "  * Error for ('7egc', 'O', 'P52657')\n",
      "  * Error for ('7egc', 'P', 'P20226')\n",
      "  * Error for ('7egc', 'Q', 'P52655')\n",
      "  * Error for ('7egc', 'R', 'Q00403')\n",
      "  * Error for ('7egc', 'S', 'P35269')\n",
      "  * Error for ('7egc', 'T', 'P13984')\n",
      "  * Error for ('7egc', 'U', 'P29083')\n",
      "  * Error for ('7egc', 'V', 'P29084')\n",
      "  * Error for ('7egc', 'c', 'Q5VWG9')\n",
      "  * Error for ('7egc', 'k', 'Q15544')\n",
      "  * Error for ('7egc', 'm', 'Q15543')\n",
      "  * Error for ('7egc', 'o', 'P24928')\n",
      "  * Error for ('7egc', 'w', 'P60899')\n"
     ]
    },
    {
     "name": "stderr",
     "output_type": "stream",
     "text": [
      " 89%|████████▊ | 74224/83655 [45:49<08:57, 17.56it/s]"
     ]
    },
    {
     "name": "stdout",
     "output_type": "stream",
     "text": [
      "  * Error for ('7ena', '0', 'P51948')\n",
      "  * Error for ('7ena', '1', 'P32780')\n",
      "  * Error for ('7ena', '2', 'Q13888')\n",
      "  * Error for ('7ena', '3', 'Q13889')\n",
      "  * Error for ('7ena', '4', 'Q92759')\n",
      "  * Error for ('7ena', '5', 'Q6ZYL4')\n",
      "  * Error for ('7ena', '6', 'P19447')\n",
      "  * Error for ('7ena', '7', 'P18074')\n",
      "  * Error for ('7ena', '8', 'P50613')\n",
      "  * Error for ('7ena', '9', 'P51946')\n",
      "  * Error for ('7ena', 'BA', 'Q00403')\n",
      "  * Error for ('7ena', 'DA', 'P21675')\n",
      "  * Error for ('7ena', 'DB', 'Q6P1X5')\n",
      "  * Error for ('7ena', 'DD', 'O00268')\n",
      "  * Error for ('7ena', 'DE', 'Q15542')\n",
      "  * Error for ('7ena', 'DF', 'P49848')\n",
      "  * Error for ('7ena', 'DG', 'Q15545')\n",
      "  * Error for ('7ena', 'DH', 'Q7Z7C8')\n",
      "  * Error for ('7ena', 'DI', 'Q16594')\n",
      "  * Error for ('7ena', 'DJ', 'Q12962')\n",
      "  * Error for ('7ena', 'DL', 'Q16514')\n",
      "  * Error for ('7ena', 'DO', 'P52657')\n",
      "  * Error for ('7ena', 'DP', 'P20226')\n",
      "  * Error for ('7ena', 'Dc', 'Q5VWG9')\n",
      "  * Error for ('7ena', 'Dk', 'Q15544')\n",
      "  * Error for ('7ena', 'Dm', 'Q15543')\n",
      "  * Error for ('7ena', 'EA', 'P29083')\n",
      "  * Error for ('7ena', 'EB', 'P29084')\n",
      "  * Error for ('7ena', 'FA', 'P35269')\n",
      "  * Error for ('7ena', 'FB', 'P13984')\n",
      "  * Error for ('7ena', 'PI', 'P60899')\n",
      "  * Error for ('7ena', 'a', 'Q15648')\n",
      "  * Error for ('7ena', 'b', 'Q9NX70')\n",
      "  * Error for ('7ena', 'c', 'Q6P2C8')\n",
      "  * Error for ('7ena', 'd', 'Q9NPJ6')\n",
      "  * Error for ('7ena', 'e', 'Q9H204')\n",
      "  * Error for ('7ena', 'f', 'O75586')\n",
      "  * Error for ('7ena', 'g', 'O43513')\n",
      "  * Error for ('7ena', 'h', 'Q96G25')\n",
      "  * Error for ('7ena', 'i', 'Q9NWA0')\n",
      "  * Error for ('7ena', 'j', 'Q9BTT4')\n",
      "  * Error for ('7ena', 'k', 'Q9P086')\n",
      "  * Error for ('7ena', 'm', 'Q9Y3C7')\n",
      "  * Error for ('7ena', 'n', 'O60244')\n",
      "  * Error for ('7ena', 'o', 'Q96RN5')\n",
      "  * Error for ('7ena', 'p', 'Q9Y2X0')\n",
      "  * Error for ('7ena', 'q', 'Q9NVC6')\n",
      "  * Error for ('7ena', 'r', 'Q9BUE0')\n",
      "  * Error for ('7ena', 's', 'A0JLT2')\n",
      "  * Error for ('7ena', 't', 'Q9H944')\n",
      "  * Error for ('7ena', 'u', 'Q13503')\n",
      "  * Error for ('7ena', 'w', 'Q9ULK4')\n",
      "  * Error for ('7ena', 'x', 'O75448')\n",
      "  * Error for ('7ena', 'z', 'O95402')\n",
      "  * Error for ('7enc', '0', 'P51948')\n",
      "  * Error for ('7enc', '1', 'P32780')\n",
      "  * Error for ('7enc', '2', 'Q13888')\n",
      "  * Error for ('7enc', '3', 'Q13889')\n",
      "  * Error for ('7enc', '4', 'Q92759')\n",
      "  * Error for ('7enc', '5', 'Q6ZYL4')\n",
      "  * Error for ('7enc', '6', 'P19447')\n",
      "  * Error for ('7enc', '7', 'P18074')\n",
      "  * Error for ('7enc', '8', 'P50613')\n",
      "  * Error for ('7enc', '9', 'P51946')\n",
      "  * Error for ('7enc', 'BA', 'Q00403')\n",
      "  * Error for ('7enc', 'DA', 'P21675')\n",
      "  * Error for ('7enc', 'DB', 'Q6P1X5')\n",
      "  * Error for ('7enc', 'DD', 'O00268')\n",
      "  * Error for ('7enc', 'DE', 'Q15542')\n",
      "  * Error for ('7enc', 'DF', 'P49848')\n",
      "  * Error for ('7enc', 'DG', 'Q15545')\n",
      "  * Error for ('7enc', 'DH', 'Q7Z7C8')\n",
      "  * Error for ('7enc', 'DI', 'Q16594')\n",
      "  * Error for ('7enc', 'DJ', 'Q12962')\n",
      "  * Error for ('7enc', 'DL', 'Q16514')\n",
      "  * Error for ('7enc', 'DO', 'P52657')\n",
      "  * Error for ('7enc', 'DP', 'P20226')\n",
      "  * Error for ('7enc', 'Dc', 'Q5VWG9')\n",
      "  * Error for ('7enc', 'Dk', 'Q15544')\n",
      "  * Error for ('7enc', 'Dm', 'Q15543')\n",
      "  * Error for ('7enc', 'EA', 'P29083')\n",
      "  * Error for ('7enc', 'EB', 'P29084')\n",
      "  * Error for ('7enc', 'FA', 'P35269')\n",
      "  * Error for ('7enc', 'FB', 'P13984')\n",
      "  * Error for ('7enc', 'PI', 'P60899')\n",
      "  * Error for ('7enc', 'a', 'Q15648')\n",
      "  * Error for ('7enc', 'b', 'Q9NX70')\n",
      "  * Error for ('7enc', 'c', 'Q6P2C8')\n",
      "  * Error for ('7enc', 'd', 'Q9NPJ6')\n",
      "  * Error for ('7enc', 'e', 'Q9H204')\n",
      "  * Error for ('7enc', 'f', 'O75586')\n",
      "  * Error for ('7enc', 'g', 'O43513')\n",
      "  * Error for ('7enc', 'h', 'Q96G25')\n",
      "  * Error for ('7enc', 'i', 'Q9NWA0')\n",
      "  * Error for ('7enc', 'j', 'Q9BTT4')\n",
      "  * Error for ('7enc', 'k', 'Q9P086')\n",
      "  * Error for ('7enc', 'm', 'Q9Y3C7')\n",
      "  * Error for ('7enc', 'n', 'O60244')\n",
      "  * Error for ('7enc', 'o', 'Q96RN5')\n",
      "  * Error for ('7enc', 'p', 'Q9Y2X0')\n",
      "  * Error for ('7enc', 'q', 'Q9NVC6')\n",
      "  * Error for ('7enc', 'r', 'Q9BUE0')\n",
      "  * Error for ('7enc', 's', 'A0JLT2')\n",
      "  * Error for ('7enc', 't', 'Q9H944')\n",
      "  * Error for ('7enc', 'u', 'Q13503')\n",
      "  * Error for ('7enc', 'w', 'Q9ULK4')\n",
      "  * Error for ('7enc', 'x', 'O75448')\n",
      "  * Error for ('7enc', 'z', 'O95402')\n"
     ]
    },
    {
     "name": "stderr",
     "output_type": "stream",
     "text": [
      " 89%|████████▉ | 74491/83655 [45:55<02:09, 70.89it/s]"
     ]
    },
    {
     "name": "stdout",
     "output_type": "stream",
     "text": [
      "  * Error for ('7f5s', 'LB', 'P39023')\n",
      "  * Error for ('7f5s', 'LC', 'P36578')\n",
      "  * Error for ('7f5s', 'LD', 'P46777')\n",
      "  * Error for ('7f5s', 'LE', 'Q02878')\n",
      "  * Error for ('7f5s', 'LF', 'P18124')\n",
      "  * Error for ('7f5s', 'LG', 'P62424')\n",
      "  * Error for ('7f5s', 'LH', 'P32969')\n",
      "  * Error for ('7f5s', 'LI', 'P27635')\n",
      "  * Error for ('7f5s', 'LL', 'P26373')\n",
      "  * Error for ('7f5s', 'LM', 'P50914')\n",
      "  * Error for ('7f5s', 'LO', 'P40429')\n",
      "  * Error for ('7f5s', 'LP', 'P18621')\n",
      "  * Error for ('7f5s', 'LQ', 'Q07020')\n",
      "  * Error for ('7f5s', 'LS', 'Q02543')\n",
      "  * Error for ('7f5s', 'LU', 'P35268')\n",
      "  * Error for ('7f5s', 'La', 'P46776')\n",
      "  * Error for ('7f5s', 'Lb', 'P47914')\n",
      "  * Error for ('7f5s', 'Lf', 'P18077')\n",
      "  * Error for ('7f5s', 'Lh', 'P42766')\n",
      "  * Error for ('7f5s', 'Li', 'Q9Y3U8')\n",
      "  * Error for ('7f5s', 'Lk', 'P63173')\n",
      "  * Error for ('7f5s', 'Lr', 'P46779')\n"
     ]
    },
    {
     "name": "stderr",
     "output_type": "stream",
     "text": [
      " 89%|████████▉ | 74606/83655 [45:57<02:24, 62.54it/s]"
     ]
    },
    {
     "name": "stdout",
     "output_type": "stream",
     "text": [
      "  * Error for ('7fff', 'D', 'Q86YD5')\n",
      "  * Error for ('7ffl', 'D', 'Q86YD5')\n"
     ]
    },
    {
     "name": "stderr",
     "output_type": "stream",
     "text": [
      " 89%|████████▉ | 74695/83655 [46:00<03:37, 41.12it/s]"
     ]
    },
    {
     "name": "stdout",
     "output_type": "stream",
     "text": [
      "  * Error for ('7jgl', 'A', 'P02794')\n",
      "  * Error for ('7jgm', 'A', 'P02794')\n",
      "  * Error for ('7jgn', 'A', 'P02794')\n"
     ]
    },
    {
     "name": "stderr",
     "output_type": "stream",
     "text": [
      " 89%|████████▉ | 74773/83655 [46:01<02:48, 52.80it/s]"
     ]
    },
    {
     "name": "stdout",
     "output_type": "stream",
     "text": [
      "  * Error for ('7jmf', 'A', 'P68106')\n",
      "  * Error for ('7jmg', 'A', 'P68106')\n",
      "  * Error for ('7jmh', 'A', 'P68106')\n",
      "  * Error for ('7jmi', 'A', 'P68106')\n",
      "  * Error for ('7jmj', 'A', 'P68106')\n"
     ]
    },
    {
     "name": "stderr",
     "output_type": "stream",
     "text": [
      " 90%|████████▉ | 74919/83655 [46:05<03:49, 38.10it/s]"
     ]
    },
    {
     "name": "stdout",
     "output_type": "stream",
     "text": [
      "  * Error for ('7ju4', '0', 'Q7XJ96')\n",
      "  * Error for ('7ju4', '1', 'P0DL09')\n",
      "  * Error for ('7ju4', '2', 'A8JB22')\n",
      "  * Error for ('7ju4', 'v', 'Q39604')\n"
     ]
    },
    {
     "name": "stderr",
     "output_type": "stream",
     "text": [
      " 90%|████████▉ | 75199/83655 [46:10<02:54, 48.59it/s]"
     ]
    },
    {
     "name": "stdout",
     "output_type": "stream",
     "text": [
      "  * Error for ('7k71', 'A', 'P42336')\n"
     ]
    },
    {
     "name": "stderr",
     "output_type": "stream",
     "text": [
      " 90%|█████████ | 75568/83655 [46:17<04:29, 29.99it/s]"
     ]
    },
    {
     "name": "stdout",
     "output_type": "stream",
     "text": [
      "  * Error for ('7kts', 'B', 'O75529')\n",
      "  * Error for ('7kts', 'C', 'Q8NEM7')\n",
      "  * Error for ('7kts', 'C', 'Q8NEM7')\n",
      "  * Error for ('7kts', 'D', 'O94864')\n",
      "  * Error for ('7kts', 'E', 'Q9HBM6')\n",
      "  * Error for ('7kts', 'F', 'Q9Y6J9')\n",
      "  * Error for ('7kts', 'G', 'Q16514')\n",
      "  * Error for ('7kts', 'H', 'Q12962')\n",
      "  * Error for ('7kts', 'I', 'O75486')\n",
      "  * Error for ('7kts', 'J', 'Q96BN2')\n",
      "  * Error for ('7kts', 'N', 'O15265')\n",
      "  * Error for ('7kts', 'S', 'Q15393')\n",
      "  * Error for ('7kts', 'T', 'Q9BWJ5')\n"
     ]
    },
    {
     "name": "stderr",
     "output_type": "stream",
     "text": [
      " 90%|█████████ | 75633/83655 [46:18<02:00, 66.38it/s]"
     ]
    },
    {
     "name": "stdout",
     "output_type": "stream",
     "text": [
      "  * Error for ('7kzm', 'C', 'Q39575')\n",
      "  * Error for ('7kzm', 'D', 'Q39578')\n",
      "  * Error for ('7kzm', 'E', 'P27766')\n"
     ]
    },
    {
     "name": "stderr",
     "output_type": "stream",
     "text": [
      " 90%|█████████ | 75688/83655 [46:19<02:38, 50.26it/s]"
     ]
    },
    {
     "name": "stdout",
     "output_type": "stream",
     "text": [
      "  * Error for ('7kzo', 'C', 'Q39575')\n",
      "  * Error for ('7kzp', 'A', 'O15360')\n",
      "  * Error for ('7kzp', 'B', 'Q8NB91')\n",
      "  * Error for ('7kzp', 'E', 'Q9HB96')\n",
      "  * Error for ('7kzp', 'G', 'O15287')\n",
      "  * Error for ('7kzp', 'L', 'Q9NW38')\n",
      "  * Error for ('7kzp', 'P', 'Q0VG06')\n",
      "  * Error for ('7kzq', 'A', 'O15360')\n",
      "  * Error for ('7kzq', 'B', 'Q8NB91')\n",
      "  * Error for ('7kzq', 'E', 'Q9HB96')\n",
      "  * Error for ('7kzq', 'G', 'O15287')\n",
      "  * Error for ('7kzq', 'L', 'Q9NW38')\n",
      "  * Error for ('7kzq', 'P', 'Q0VG06')\n",
      "  * Error for ('7kzq', 'V', 'Q9BXW9')\n",
      "  * Error for ('7kzr', 'A', 'O15360')\n",
      "  * Error for ('7kzr', 'B', 'Q8NB91')\n",
      "  * Error for ('7kzr', 'E', 'Q9HB96')\n",
      "  * Error for ('7kzr', 'G', 'O15287')\n",
      "  * Error for ('7kzr', 'L', 'Q9NW38')\n",
      "  * Error for ('7kzr', 'P', 'Q0VG06')\n",
      "  * Error for ('7kzr', 'V', 'Q9BXW9')\n",
      "  * Error for ('7kzr', 'X', 'Q9NPD8')\n",
      "  * Error for ('7kzs', 'A', 'O15360')\n",
      "  * Error for ('7kzs', 'B', 'Q8NB91')\n",
      "  * Error for ('7kzs', 'E', 'Q9HB96')\n",
      "  * Error for ('7kzs', 'G', 'O15287')\n",
      "  * Error for ('7kzs', 'L', 'Q9NW38')\n",
      "  * Error for ('7kzs', 'P', 'Q0VG06')\n",
      "  * Error for ('7kzs', 'V', 'Q9BXW9')\n",
      "  * Error for ('7kzs', 'X', 'Q9NPD8')\n",
      "  * Error for ('7kzt', 'A', 'O15360')\n",
      "  * Error for ('7kzt', 'B', 'Q8NB91')\n",
      "  * Error for ('7kzt', 'E', 'Q9HB96')\n",
      "  * Error for ('7kzt', 'G', 'O15287')\n",
      "  * Error for ('7kzt', 'L', 'Q9NW38')\n",
      "  * Error for ('7kzt', 'P', 'Q0VG06')\n",
      "  * Error for ('7kzt', 'V', 'Q9BXW9')\n",
      "  * Error for ('7kzt', 'X', 'Q9NPD8')\n",
      "  * Error for ('7kzv', 'A', 'O15360')\n",
      "  * Error for ('7kzv', 'B', 'Q8NB91')\n",
      "  * Error for ('7kzv', 'E', 'Q9HB96')\n",
      "  * Error for ('7kzv', 'G', 'O15287')\n",
      "  * Error for ('7kzv', 'L', 'Q9NW38')\n",
      "  * Error for ('7kzv', 'P', 'Q0VG06')\n",
      "  * Error for ('7kzv', 'V', 'Q9BXW9')\n",
      "  * Error for ('7kzv', 'X', 'Q9NPD8')\n",
      "  * Error for ('7l08', '0', 'Q9BYC8')\n",
      "  * Error for ('7l08', '1', 'O75394')\n",
      "  * Error for ('7l08', '2', 'Q9BQ48')\n",
      "  * Error for ('7l08', '5', 'Q9BZE1')\n",
      "  * Error for ('7l08', '6', 'Q96DV4')\n",
      "  * Error for ('7l08', '7', 'Q9NYK5')\n",
      "  * Error for ('7l08', '8', 'Q9NQ50')\n",
      "  * Error for ('7l08', '9', 'Q8IXM3')\n",
      "  * Error for ('7l08', 'A0', 'P82930')\n",
      "  * Error for ('7l08', 'A1', 'P82673')\n",
      "  * Error for ('7l08', 'A2', 'Q96BP2')\n",
      "  * Error for ('7l08', 'A3', 'Q9NWT8')\n",
      "  * Error for ('7l08', 'A4', 'Q96EY7')\n",
      "  * Error for ('7l08', 'AB', 'Q9Y399')\n",
      "  * Error for ('7l08', 'AC', 'Q96EL2')\n",
      "  * Error for ('7l08', 'AD', 'P82675')\n",
      "  * Error for ('7l08', 'AE', 'P82932')\n",
      "  * Error for ('7l08', 'AF', 'Q9Y2R9')\n",
      "  * Error for ('7l08', 'AG', 'P82933')\n",
      "  * Error for ('7l08', 'AH', 'P82664')\n",
      "  * Error for ('7l08', 'AI', 'P82912')\n",
      "  * Error for ('7l08', 'AJ', 'O15235')\n",
      "  * Error for ('7l08', 'AK', 'O60783')\n",
      "  * Error for ('7l08', 'AL', 'P82914')\n",
      "  * Error for ('7l08', 'AN', 'Q9Y2R5')\n",
      "  * Error for ('7l08', 'AO', 'Q9Y676')\n",
      "  * Error for ('7l08', 'AP', 'Q9Y3D5')\n",
      "  * Error for ('7l08', 'AQ', 'P82921')\n",
      "  * Error for ('7l08', 'AR', 'P82650')\n",
      "  * Error for ('7l08', 'AS', 'Q9Y3D9')\n",
      "  * Error for ('7l08', 'AT', 'P82663')\n",
      "  * Error for ('7l08', 'AU', 'Q9BYN8')\n",
      "  * Error for ('7l08', 'AV', 'Q92552')\n",
      "  * Error for ('7l08', 'AW', 'Q9Y2Q9')\n",
      "  * Error for ('7l08', 'AX', 'P51398')\n",
      "  * Error for ('7l08', 'AY', 'Q92665')\n",
      "  * Error for ('7l08', 'AZ', 'Q9Y291')\n",
      "  * Error for ('7l08', 'D', 'Q5T653')\n",
      "  * Error for ('7l08', 'E', 'P09001')\n",
      "  * Error for ('7l08', 'F', 'Q9BYD3')\n",
      "  * Error for ('7l08', 'H', 'Q9BYD2')\n",
      "  * Error for ('7l08', 'I', 'Q7Z7H8')\n",
      "  * Error for ('7l08', 'J', 'Q9Y3B7')\n",
      "  * Error for ('7l08', 'K', 'Q9BYD1')\n",
      "  * Error for ('7l08', 'L', 'Q6P1L8')\n",
      "  * Error for ('7l08', 'N', 'Q9NX20')\n",
      "  * Error for ('7l08', 'O', 'Q9NRX2')\n",
      "  * Error for ('7l08', 'Q', 'P49406')\n",
      "  * Error for ('7l08', 'R', 'Q9BYC9')\n",
      "  * Error for ('7l08', 'TA', 'P52815')\n",
      "  * Error for ('7l08', 'U', 'Q16540')\n",
      "  * Error for ('7l08', 'V', 'Q96A35')\n",
      "  * Error for ('7l08', 'W', 'Q9P0M9')\n",
      "  * Error for ('7l08', 'X', 'Q13084')\n",
      "  * Error for ('7l08', 'Y', 'Q9HD33')\n",
      "  * Error for ('7l08', 'Z', 'Q8TCC3')\n",
      "  * Error for ('7l08', 'b', 'Q8N983')\n",
      "  * Error for ('7l08', 'c', 'Q9H9J2')\n",
      "  * Error for ('7l08', 'd', 'Q9BRJ2')\n",
      "  * Error for ('7l08', 'e', 'Q9H2W6')\n",
      "  * Error for ('7l08', 'g', 'Q13405')\n",
      "  * Error for ('7l08', 'h', 'Q8N5N7')\n",
      "  * Error for ('7l08', 'k', 'Q96EL3')\n",
      "  * Error for ('7l08', 'o', 'Q9BQC6')\n",
      "  * Error for ('7l08', 'q', 'Q8TAE8')\n",
      "  * Error for ('7l08', 'r', 'Q9NVS2')\n",
      "  * Error for ('7l08', 's', 'Q9NP92')\n",
      "  * Error for ('7l08', 'z', 'Q96E11')\n"
     ]
    },
    {
     "name": "stderr",
     "output_type": "stream",
     "text": [
      " 91%|█████████ | 75835/83655 [46:19<01:12, 108.14it/s]"
     ]
    },
    {
     "name": "stdout",
     "output_type": "stream",
     "text": [
      "  * Error for ('7l20', '0', 'Q9BYC8')\n",
      "  * Error for ('7l20', '1', 'O75394')\n",
      "  * Error for ('7l20', '2', 'Q9BQ48')\n",
      "  * Error for ('7l20', '5', 'Q9BZE1')\n",
      "  * Error for ('7l20', '6', 'Q96DV4')\n",
      "  * Error for ('7l20', '7', 'Q9NYK5')\n",
      "  * Error for ('7l20', '8', 'Q9NQ50')\n",
      "  * Error for ('7l20', '9', 'Q8IXM3')\n",
      "  * Error for ('7l20', 'D', 'Q5T653')\n",
      "  * Error for ('7l20', 'E', 'P09001')\n",
      "  * Error for ('7l20', 'F', 'Q9BYD3')\n",
      "  * Error for ('7l20', 'H', 'Q9BYD2')\n",
      "  * Error for ('7l20', 'I', 'Q7Z7H8')\n",
      "  * Error for ('7l20', 'J', 'Q9Y3B7')\n",
      "  * Error for ('7l20', 'K', 'Q9BYD1')\n",
      "  * Error for ('7l20', 'L', 'Q6P1L8')\n",
      "  * Error for ('7l20', 'M', 'Q9P015')\n",
      "  * Error for ('7l20', 'N', 'Q9NX20')\n",
      "  * Error for ('7l20', 'O', 'Q9NRX2')\n",
      "  * Error for ('7l20', 'Q', 'P49406')\n",
      "  * Error for ('7l20', 'R', 'Q9BYC9')\n",
      "  * Error for ('7l20', 'S', 'Q7Z2W9')\n",
      "  * Error for ('7l20', 'TA', 'P52815')\n",
      "  * Error for ('7l20', 'U', 'Q16540')\n",
      "  * Error for ('7l20', 'V', 'Q96A35')\n",
      "  * Error for ('7l20', 'W', 'Q9P0M9')\n",
      "  * Error for ('7l20', 'X', 'Q13084')\n",
      "  * Error for ('7l20', 'Y', 'Q9HD33')\n",
      "  * Error for ('7l20', 'Z', 'Q8TCC3')\n",
      "  * Error for ('7l20', 'a', 'Q9Y6G3')\n",
      "  * Error for ('7l20', 'b', 'Q8N983')\n",
      "  * Error for ('7l20', 'c', 'Q9H9J2')\n",
      "  * Error for ('7l20', 'd', 'Q9BRJ2')\n",
      "  * Error for ('7l20', 'e', 'Q9H2W6')\n",
      "  * Error for ('7l20', 'f', 'Q96GC5')\n",
      "  * Error for ('7l20', 'g', 'Q13405')\n",
      "  * Error for ('7l20', 'h', 'Q8N5N7')\n",
      "  * Error for ('7l20', 'i', 'Q4U2R6')\n",
      "  * Error for ('7l20', 'k', 'Q96EL3')\n",
      "  * Error for ('7l20', 'l', 'Q6P161')\n",
      "  * Error for ('7l20', 'o', 'Q9BQC6')\n",
      "  * Error for ('7l20', 'q', 'Q8TAE8')\n",
      "  * Error for ('7l20', 'r', 'Q9NVS2')\n",
      "  * Error for ('7l20', 's', 'Q9NP92')\n",
      "  * Error for ('7l20', 'w', 'Q969S9')\n",
      "  * Error for ('7l20', 'z', 'Q96E11')\n"
     ]
    },
    {
     "name": "stderr",
     "output_type": "stream",
     "text": [
      " 91%|█████████ | 76019/83655 [46:22<01:26, 88.61it/s] "
     ]
    },
    {
     "name": "stdout",
     "output_type": "stream",
     "text": [
      "  * Error for ('7lbm', '0', 'Q9Y2X0')\n",
      "  * Error for ('7lbm', '1', 'Q9ULK4')\n",
      "  * Error for ('7lbm', '2', 'O75448')\n",
      "  * Error for ('7lbm', '3', 'Q71SY5')\n",
      "  * Error for ('7lbm', 'A', 'P24928')\n",
      "  * Error for ('7lbm', 'B', 'P30876')\n",
      "  * Error for ('7lbm', 'C', 'P19387')\n",
      "  * Error for ('7lbm', 'D', 'O15514')\n",
      "  * Error for ('7lbm', 'E', 'P19388')\n",
      "  * Error for ('7lbm', 'F', 'P61218')\n",
      "  * Error for ('7lbm', 'G', 'P62487')\n",
      "  * Error for ('7lbm', 'H', 'P52434')\n",
      "  * Error for ('7lbm', 'J', 'P62875')\n",
      "  * Error for ('7lbm', 'K', 'P52435')\n",
      "  * Error for ('7lbm', 'L', 'P53803')\n",
      "  * Error for ('7lbm', 'M', 'P52655')\n",
      "  * Error for ('7lbm', 'N', 'P52657')\n",
      "  * Error for ('7lbm', 'O', 'Q00403')\n",
      "  * Error for ('7lbm', 'P', 'P20226')\n",
      "  * Error for ('7lbm', 'Q', 'P29083')\n",
      "  * Error for ('7lbm', 'R', 'P29084')\n",
      "  * Error for ('7lbm', 'S', 'P35269')\n",
      "  * Error for ('7lbm', 'T', 'P13984')\n",
      "  * Error for ('7lbm', 'W', 'P19447')\n",
      "  * Error for ('7lbm', 'X', 'P18074')\n",
      "  * Error for ('7lbm', 'Y', 'P32780')\n",
      "  * Error for ('7lbm', 'Z', 'Q92759')\n",
      "  * Error for ('7lbm', 'a', 'Q13888')\n",
      "  * Error for ('7lbm', 'b', 'Q13889')\n",
      "  * Error for ('7lbm', 'c', 'Q6ZYL4')\n",
      "  * Error for ('7lbm', 'd', 'P51948')\n",
      "  * Error for ('7lbm', 'e', 'P50613')\n",
      "  * Error for ('7lbm', 'f', 'P51946')\n",
      "  * Error for ('7lbm', 'g', 'O75586')\n",
      "  * Error for ('7lbm', 'h', 'Q96G25')\n",
      "  * Error for ('7lbm', 'j', 'Q9NVC6')\n",
      "  * Error for ('7lbm', 'k', 'Q9BUE0')\n",
      "  * Error for ('7lbm', 'l', 'Q9H944')\n",
      "  * Error for ('7lbm', 'm', 'Q15528')\n",
      "  * Error for ('7lbm', 'n', 'Q6P2C8')\n",
      "  * Error for ('7lbm', 'o', 'Q9H204')\n",
      "  * Error for ('7lbm', 'r', 'O60244')\n",
      "  * Error for ('7lbm', 's', 'Q9NPJ6')\n",
      "  * Error for ('7lbm', 't', 'O43513')\n",
      "  * Error for ('7lbm', 'u', 'Q9NWA0')\n",
      "  * Error for ('7lbm', 'v', 'Q9BTT4')\n",
      "  * Error for ('7lbm', 'w', 'A0JLT2')\n",
      "  * Error for ('7lbm', 'x', 'Q13503')\n",
      "  * Error for ('7lbm', 'y', 'Q9Y3C7')\n",
      "  * Error for ('7lbm', 'z', 'Q96RN5')\n"
     ]
    },
    {
     "name": "stderr",
     "output_type": "stream",
     "text": [
      " 91%|█████████ | 76262/83655 [46:25<02:01, 61.01it/s]"
     ]
    },
    {
     "name": "stdout",
     "output_type": "stream",
     "text": [
      "  * Error for ('7ls1', 'A', 'Q9CY58')\n",
      "  * Error for ('7ls1', 'A1', 'P14148')\n",
      "  * Error for ('7ls1', 'C3', 'P60867')\n",
      "  * Error for ('7ls1', 'D1', 'P86048')\n",
      "  * Error for ('7ls1', 'D2', 'P62918')\n",
      "  * Error for ('7ls1', 'E1', 'Q9CXW4')\n",
      "  * Error for ('7ls1', 'E3', 'P62267')\n",
      "  * Error for ('7ls1', 'H1', 'Q9CZM2')\n",
      "  * Error for ('7ls1', 'H3', 'P62274')\n",
      "  * Error for ('7ls1', 'K3', 'P62754')\n",
      "  * Error for ('7ls1', 'L2', 'P84099')\n",
      "  * Error for ('7ls1', 'L3', 'Q6ZWN5')\n",
      "  * Error for ('7ls1', 'N3', 'P62301')\n",
      "  * Error for ('7ls1', 'P3', 'P62245')\n",
      "  * Error for ('7ls1', 'Q2', 'Q8BP67')\n",
      "  * Error for ('7ls1', 'Q3', 'P62849')\n",
      "  * Error for ('7ls1', 'R2', 'P62751')\n",
      "  * Error for ('7ls1', 'R3', 'P62852')\n",
      "  * Error for ('7ls1', 'S2', 'P61255')\n",
      "  * Error for ('7ls1', 'S3', 'Q6ZWY3')\n",
      "  * Error for ('7ls1', 'W2', 'P62889')\n",
      "  * Error for ('7ls1', 'd2', 'Q9D823')\n",
      "  * Error for ('7ls1', 'f2', 'P62892')\n",
      "  * Error for ('7ls1', 'j2', 'P61514')\n",
      "  * Error for ('7ls1', 'r2', 'P62702')\n",
      "  * Error for ('7ls1', 'u', 'P62242')\n",
      "  * Error for ('7ls1', 'w2', 'P62281')\n",
      "  * Error for ('7ls2', 'A', 'Q9CY58')\n",
      "  * Error for ('7ls2', 'A1', 'P14148')\n",
      "  * Error for ('7ls2', 'C3', 'P60867')\n",
      "  * Error for ('7ls2', 'D1', 'P86048')\n",
      "  * Error for ('7ls2', 'D2', 'P62918')\n",
      "  * Error for ('7ls2', 'E1', 'Q9CXW4')\n",
      "  * Error for ('7ls2', 'E3', 'P62267')\n",
      "  * Error for ('7ls2', 'H1', 'Q9CZM2')\n",
      "  * Error for ('7ls2', 'H3', 'P62274')\n",
      "  * Error for ('7ls2', 'K3', 'P62754')\n",
      "  * Error for ('7ls2', 'L2', 'P84099')\n",
      "  * Error for ('7ls2', 'L3', 'Q6ZWN5')\n",
      "  * Error for ('7ls2', 'N3', 'P62301')\n",
      "  * Error for ('7ls2', 'P3', 'P62245')\n",
      "  * Error for ('7ls2', 'Q2', 'Q8BP67')\n",
      "  * Error for ('7ls2', 'Q3', 'P62849')\n",
      "  * Error for ('7ls2', 'R2', 'P62751')\n",
      "  * Error for ('7ls2', 'R3', 'P62852')\n",
      "  * Error for ('7ls2', 'S2', 'P61255')\n",
      "  * Error for ('7ls2', 'S3', 'Q6ZWY3')\n",
      "  * Error for ('7ls2', 'W2', 'P62889')\n",
      "  * Error for ('7ls2', 'd2', 'Q9D823')\n",
      "  * Error for ('7ls2', 'f2', 'P62892')\n",
      "  * Error for ('7ls2', 'j2', 'P61514')\n",
      "  * Error for ('7ls2', 'r2', 'P62702')\n",
      "  * Error for ('7ls2', 'u', 'P62242')\n",
      "  * Error for ('7ls2', 'w2', 'P62281')\n"
     ]
    },
    {
     "name": "stderr",
     "output_type": "stream",
     "text": [
      " 91%|█████████▏| 76506/83655 [46:32<01:23, 85.53it/s]"
     ]
    },
    {
     "name": "stdout",
     "output_type": "stream",
     "text": [
      "  * Error for ('7m6a', 'F', 'P68106')\n",
      "  * Error for ('7m6l', 'F', 'P68106')\n"
     ]
    },
    {
     "name": "stderr",
     "output_type": "stream",
     "text": [
      " 92%|█████████▏| 76586/83655 [46:33<02:21, 50.10it/s]"
     ]
    },
    {
     "name": "stdout",
     "output_type": "stream",
     "text": [
      "  * Error for ('7mf0', 'AAA', 'Q9NZJ5')\n"
     ]
    },
    {
     "name": "stderr",
     "output_type": "stream",
     "text": [
      " 92%|█████████▏| 76619/83655 [46:33<02:16, 51.54it/s]"
     ]
    },
    {
     "name": "stdout",
     "output_type": "stream",
     "text": [
      "  * Error for ('7mhe', 'AAA', 'P49327')\n"
     ]
    },
    {
     "name": "stderr",
     "output_type": "stream",
     "text": [
      " 92%|█████████▏| 76879/83655 [46:36<01:42, 66.31it/s]"
     ]
    },
    {
     "name": "stdout",
     "output_type": "stream",
     "text": [
      "  * Error for ('7mq8', 'L5', 'P46782')\n",
      "  * Error for ('7mq8', 'LH', 'Q8IWA0')\n",
      "  * Error for ('7mq8', 'LJ', 'Q8TED0')\n",
      "  * Error for ('7mq8', 'LK', 'Q15061')\n",
      "  * Error for ('7mq8', 'LM', 'Q9H583')\n",
      "  * Error for ('7mq8', 'LN', 'Q969X6')\n",
      "  * Error for ('7mq8', 'LO', 'Q15269')\n",
      "  * Error for ('7mq8', 'LP', 'Q9NYH9')\n",
      "  * Error for ('7mq8', 'LQ', 'Q9UNX4')\n",
      "  * Error for ('7mq8', 'LR', 'Q12788')\n",
      "  * Error for ('7mq8', 'LS', 'Q9Y5J1')\n",
      "  * Error for ('7mq8', 'LT', 'Q8NI36')\n",
      "  * Error for ('7mq8', 'LU', 'Q9NV06')\n",
      "  * Error for ('7mq8', 'LW', 'O15213')\n",
      "  * Error for ('7mq8', 'LZ', 'Q9NV31')\n",
      "  * Error for ('7mq8', nan, 'O00566')\n",
      "  * Error for ('7mq8', 'NB', 'Q9NQZ2')\n",
      "  * Error for ('7mq8', 'NC', 'Q8NEJ9')\n",
      "  * Error for ('7mq8', 'ND', 'Q9UMY1')\n",
      "  * Error for ('7mq8', 'NE', 'Q8NDD1')\n",
      "  * Error for ('7mq8', 'NH', 'Q9H6R4')\n",
      "  * Error for ('7mq8', 'NI', 'Q9Y3A4')\n",
      "  * Error for ('7mq8', 'NJ', 'Q9H0A0')\n",
      "  * Error for ('7mq8', 'NM', 'P61247')\n",
      "  * Error for ('7mq8', 'NN', 'Q9NY61')\n",
      "  * Error for ('7mq8', 'NU', 'P08708')\n",
      "  * Error for ('7mq8', 'NW', 'Q9BSC4')\n",
      "  * Error for ('7mq8', 'NY', 'Q13601')\n",
      "  * Error for ('7mq8', 'SA', 'O00567')\n",
      "  * Error for ('7mq8', 'SB', 'Q9Y2X3')\n",
      "  * Error for ('7mq8', 'SC', 'P22087')\n",
      "  * Error for ('7mq8', 'SE', 'P55769')\n",
      "  * Error for ('7mq8', 'SG', 'O43818')\n",
      "  * Error for ('7mq8', 'SH', 'Q9Y2P8')\n",
      "  * Error for ('7mq8', 'SJ', 'Q92979')\n",
      "  * Error for ('7mq8', 'SL', 'Q9Y324')\n",
      "  * Error for ('7mq8', 'SM', 'Q96G21')\n",
      "  * Error for ('7mq8', 'SP', 'O75691')\n",
      "  * Error for ('7mq8', 'SQ', 'Q5QJE6')\n",
      "  * Error for ('7mq8', 'SS', 'Q9BVJ6')\n",
      "  * Error for ('7mq8', 'SW', 'Q9NRX1')\n",
      "  * Error for ('7mq8', 'SY', 'Q9Y3A2')\n",
      "  * Error for ('7mq9', 'L5', 'P46782')\n",
      "  * Error for ('7mq9', 'LH', 'Q8IWA0')\n",
      "  * Error for ('7mq9', 'LJ', 'Q8TED0')\n",
      "  * Error for ('7mq9', 'LK', 'Q15061')\n",
      "  * Error for ('7mq9', 'LM', 'Q9H583')\n",
      "  * Error for ('7mq9', 'LN', 'Q969X6')\n",
      "  * Error for ('7mq9', 'LO', 'Q15269')\n",
      "  * Error for ('7mq9', 'LP', 'Q9NYH9')\n",
      "  * Error for ('7mq9', 'LQ', 'Q9UNX4')\n",
      "  * Error for ('7mq9', 'LR', 'Q12788')\n",
      "  * Error for ('7mq9', 'LS', 'Q9Y5J1')\n",
      "  * Error for ('7mq9', 'LT', 'Q8NI36')\n",
      "  * Error for ('7mq9', 'LU', 'Q9NV06')\n",
      "  * Error for ('7mq9', 'LW', 'O15213')\n",
      "  * Error for ('7mq9', 'LZ', 'Q9NV31')\n",
      "  * Error for ('7mq9', nan, 'O00566')\n",
      "  * Error for ('7mq9', 'NB', 'Q9NQZ2')\n",
      "  * Error for ('7mq9', 'ND', 'Q9UMY1')\n",
      "  * Error for ('7mq9', 'NE', 'Q8NDD1')\n",
      "  * Error for ('7mq9', 'NH', 'Q9H6R4')\n",
      "  * Error for ('7mq9', 'NI', 'Q9Y3A4')\n",
      "  * Error for ('7mq9', 'NJ', 'Q9H0A0')\n",
      "  * Error for ('7mq9', 'NM', 'P61247')\n",
      "  * Error for ('7mq9', 'NN', 'Q9NY61')\n",
      "  * Error for ('7mq9', 'NT', 'P62979')\n",
      "  * Error for ('7mq9', 'NU', 'P08708')\n",
      "  * Error for ('7mq9', 'NW', 'Q9BSC4')\n",
      "  * Error for ('7mq9', 'NY', 'Q13601')\n",
      "  * Error for ('7mq9', 'SA', 'O00567')\n",
      "  * Error for ('7mq9', 'SB', 'Q9Y2X3')\n",
      "  * Error for ('7mq9', 'SC', 'P22087')\n",
      "  * Error for ('7mq9', 'SE', 'P55769')\n",
      "  * Error for ('7mq9', 'SG', 'O43818')\n",
      "  * Error for ('7mq9', 'SH', 'Q9Y2P8')\n",
      "  * Error for ('7mq9', 'SI', 'Q14692')\n",
      "  * Error for ('7mq9', 'SJ', 'Q92979')\n",
      "  * Error for ('7mq9', 'SL', 'Q9Y324')\n",
      "  * Error for ('7mq9', 'SM', 'Q96G21')\n",
      "  * Error for ('7mq9', 'SP', 'O75691')\n",
      "  * Error for ('7mq9', 'SQ', 'Q5QJE6')\n",
      "  * Error for ('7mq9', 'SS', 'Q9BVJ6')\n",
      "  * Error for ('7mq9', 'SW', 'Q9NRX1')\n",
      "  * Error for ('7mq9', 'SY', 'Q9Y3A2')\n",
      "  * Error for ('7mqa', 'L5', 'P46782')\n",
      "  * Error for ('7mqa', 'LH', 'Q8IWA0')\n",
      "  * Error for ('7mqa', 'LJ', 'Q8TED0')\n",
      "  * Error for ('7mqa', 'LK', 'Q15061')\n",
      "  * Error for ('7mqa', 'LM', 'Q9H583')\n",
      "  * Error for ('7mqa', 'LN', 'Q969X6')\n",
      "  * Error for ('7mqa', 'LO', 'Q15269')\n",
      "  * Error for ('7mqa', 'LP', 'Q9NYH9')\n",
      "  * Error for ('7mqa', 'LQ', 'Q9UNX4')\n",
      "  * Error for ('7mqa', 'LR', 'Q12788')\n",
      "  * Error for ('7mqa', 'LS', 'Q9Y5J1')\n",
      "  * Error for ('7mqa', 'LT', 'Q8NI36')\n",
      "  * Error for ('7mqa', 'LU', 'Q9NV06')\n",
      "  * Error for ('7mqa', 'LW', 'O15213')\n",
      "  * Error for ('7mqa', 'LY', 'Q86WX3')\n",
      "  * Error for ('7mqa', 'LZ', 'Q9NV31')\n",
      "  * Error for ('7mqa', nan, 'O00566')\n",
      "  * Error for ('7mqa', 'NB', 'Q9NQZ2')\n",
      "  * Error for ('7mqa', 'ND', 'Q9UMY1')\n",
      "  * Error for ('7mqa', 'NH', 'Q9H6R4')\n",
      "  * Error for ('7mqa', 'NI', 'Q9Y3A4')\n",
      "  * Error for ('7mqa', 'NL', 'Q9UNQ2')\n",
      "  * Error for ('7mqa', 'NM', 'P61247')\n",
      "  * Error for ('7mqa', 'NP', 'P39019')\n",
      "  * Error for ('7mqa', 'NS', 'Q8IY37')\n",
      "  * Error for ('7mqa', 'NT', 'P62979')\n",
      "  * Error for ('7mqa', 'NU', 'P08708')\n",
      "  * Error for ('7mqa', 'NV', 'Q01780')\n",
      "  * Error for ('7mqa', 'SA', 'O00567')\n",
      "  * Error for ('7mqa', 'SB', 'Q9Y2X3')\n",
      "  * Error for ('7mqa', 'SC', 'P22087')\n",
      "  * Error for ('7mqa', 'SE', 'P55769')\n",
      "  * Error for ('7mqa', 'SG', 'O43818')\n",
      "  * Error for ('7mqa', 'SH', 'Q9Y2P8')\n",
      "  * Error for ('7mqa', 'SI', 'Q14692')\n",
      "  * Error for ('7mqa', 'SJ', 'Q92979')\n",
      "  * Error for ('7mqa', 'SL', 'Q9Y324')\n",
      "  * Error for ('7mqa', 'SM', 'Q96G21')\n",
      "  * Error for ('7mqa', 'SP', 'O75691')\n",
      "  * Error for ('7mqa', 'SQ', 'Q5QJE6')\n",
      "  * Error for ('7mqa', 'SS', 'Q9BVJ6')\n",
      "  * Error for ('7mqa', 'SW', 'Q9NRX1')\n",
      "  * Error for ('7mqa', 'SY', 'Q9Y3A2')\n"
     ]
    },
    {
     "name": "stderr",
     "output_type": "stream",
     "text": [
      " 92%|█████████▏| 77016/83655 [46:38<01:17, 85.96it/s]"
     ]
    },
    {
     "name": "stdout",
     "output_type": "stream",
     "text": [
      "  * Error for ('7n3m', 'AAA', 'Q9Y6A2')\n"
     ]
    },
    {
     "name": "stderr",
     "output_type": "stream",
     "text": [
      " 92%|█████████▏| 77059/83655 [46:38<01:03, 104.05it/s]"
     ]
    },
    {
     "name": "stdout",
     "output_type": "stream",
     "text": [
      "  * Error for ('7n61', '0A', 'P93107')\n",
      "  * Error for ('7n6g', '1N', 'A8ICS9')\n",
      "  * Error for ('7n6g', '1O', 'A8J666')\n",
      "  * Error for ('7n6g', '1O', 'A8J666')\n",
      "  * Error for ('7n6g', '3F', 'A8IUG5')\n",
      "  * Error for ('7n6g', '3H', 'D4P3R7')\n",
      "  * Error for ('7n7x', 'AAA', 'P03952')\n"
     ]
    },
    {
     "name": "stderr",
     "output_type": "stream",
     "text": [
      " 92%|█████████▏| 77124/83655 [46:39<01:07, 97.18it/s] "
     ]
    },
    {
     "name": "stdout",
     "output_type": "stream",
     "text": [
      "  * Error for ('7nb1', 'AAA', 'P35790')\n",
      "  * Error for ('7nb2', 'AAA', 'P35790')\n",
      "  * Error for ('7nb3', 'AAA', 'P35790')\n",
      "  * Error for ('7nbc', 'AAA', 'Q9GZT4')\n",
      "  * Error for ('7nbd', 'AAA', 'Q9GZT4')\n",
      "  * Error for ('7nbf', 'AAA', 'Q9GZT4')\n",
      "  * Error for ('7nbg', 'AAA', 'Q9GZT4')\n",
      "  * Error for ('7nbh', 'AAA', 'Q9GZT4')\n"
     ]
    },
    {
     "name": "stderr",
     "output_type": "stream",
     "text": [
      " 92%|█████████▏| 77157/83655 [46:40<01:23, 78.21it/s]"
     ]
    },
    {
     "name": "stdout",
     "output_type": "stream",
     "text": [
      "  * Error for ('7ndq', 'AAA', 'P13747')\n",
      "  * Error for ('7ndq', 'BBB', 'P61769')\n",
      "  * Error for ('7ndt', 'AAA', 'P13747')\n",
      "  * Error for ('7ndt', 'BBB', 'P61769')\n",
      "  * Error for ('7ndu', 'AAA', 'P13747')\n",
      "  * Error for ('7ndu', 'BBB', 'P61769')\n"
     ]
    },
    {
     "name": "stderr",
     "output_type": "stream",
     "text": [
      " 92%|█████████▏| 77192/83655 [46:42<04:49, 22.33it/s]"
     ]
    },
    {
     "name": "stdout",
     "output_type": "stream",
     "text": [
      "  * Error for ('7nfx', 't', 'P37108')\n",
      "  * Error for ('7nfx', 'u', 'Q9UHB9')\n",
      "  * Error for ('7nfx', 'v', 'Q9Y5M8')\n",
      "  * Error for ('7nfx', 'w', 'P49458')\n",
      "  * Error for ('7nfx', 'x', 'P61011')\n",
      "  * Error for ('7nfx', 'y', 'P08240')\n",
      "  * Error for ('7nfx', 'z', 'O76094')\n"
     ]
    },
    {
     "name": "stderr",
     "output_type": "stream",
     "text": [
      " 92%|█████████▏| 77219/83655 [46:42<03:17, 32.61it/s]"
     ]
    },
    {
     "name": "stdout",
     "output_type": "stream",
     "text": [
      "  * Error for ('7nh6', 'AAA', 'P00918')\n",
      "  * Error for ('7nh8', 'AAA', 'P00918')\n"
     ]
    },
    {
     "name": "stderr",
     "output_type": "stream",
     "text": [
      " 92%|█████████▏| 77345/83655 [46:44<01:20, 78.32it/s]"
     ]
    },
    {
     "name": "stdout",
     "output_type": "stream",
     "text": [
      "  * Error for ('7nmu', 'AAA', 'Q9HCN6')\n",
      "  * Error for ('7nmz', 'AA', 'Q04917')\n",
      "  * Error for ('7nmz', 'C', 'Q96PU5')\n"
     ]
    },
    {
     "name": "stderr",
     "output_type": "stream",
     "text": [
      " 92%|█████████▏| 77372/83655 [46:45<01:16, 81.93it/s]"
     ]
    },
    {
     "name": "stdout",
     "output_type": "stream",
     "text": [
      "  * Error for ('7npm', 'AAA', 'P03950')\n",
      "  * Error for ('7npy', 'AAA', 'P25440')\n",
      "  * Error for ('7npz', 'AAA', 'P25440')\n",
      "  * Error for ('7nq0', 'AAA', 'P25440')\n",
      "  * Error for ('7nq1', 'AAA', 'P25440')\n",
      "  * Error for ('7nq2', 'AAA', 'P25440')\n",
      "  * Error for ('7nq3', 'AAA', 'P25440')\n",
      "  * Error for ('7nq5', 'AAA', 'P25440')\n",
      "  * Error for ('7nq7', 'AAA', 'P25440')\n",
      "  * Error for ('7nq9', 'AAA', 'P25440')\n",
      "  * Error for ('7nqh', 'BL', 'Q9UGC7')\n",
      "  * Error for ('7nql', 'BL', 'Q14197')\n"
     ]
    },
    {
     "name": "stderr",
     "output_type": "stream",
     "text": [
      " 93%|█████████▎| 77401/83655 [46:45<01:09, 90.06it/s]"
     ]
    },
    {
     "name": "stdout",
     "output_type": "stream",
     "text": [
      "  * Error for ('7nrc', 'So', 'P53295')\n"
     ]
    },
    {
     "name": "stderr",
     "output_type": "stream",
     "text": [
      " 93%|█████████▎| 77423/83655 [46:45<01:09, 89.97it/s]"
     ]
    },
    {
     "name": "stdout",
     "output_type": "stream",
     "text": [
      "  * Error for ('7nsh', 'BC', 'Q969S9')\n",
      "  * Error for ('7nsh', 'BG', 'Q96E11')\n",
      "  * Error for ('7nsi', 'BG', 'Q96E11')\n"
     ]
    },
    {
     "name": "stderr",
     "output_type": "stream",
     "text": [
      " 93%|█████████▎| 77444/83655 [46:45<01:13, 83.95it/s]"
     ]
    },
    {
     "name": "stdout",
     "output_type": "stream",
     "text": [
      "  * Error for ('7nvj', 'AAA', 'Q9Y3C8')\n",
      "  * Error for ('7nvk', 'AAA', 'Q9GZZ9')\n",
      "  * Error for ('7nvk', 'AAA', 'Q9Y3C8')\n"
     ]
    },
    {
     "name": "stderr",
     "output_type": "stream",
     "text": [
      " 93%|█████████▎| 77631/83655 [47:07<09:33, 10.51it/s]"
     ]
    },
    {
     "name": "stdout",
     "output_type": "stream",
     "text": [
      "  * Error for ('7nw1', 'AAA', 'Q9Y3C8')\n",
      "  * Error for ('7nw1', 'CCC', 'Q9GZZ9')\n",
      "  * Error for ('7nwh', 'ii', 'P62497')\n",
      "  * Error for ('7nwv', 'AAA', 'P04062')\n"
     ]
    },
    {
     "name": "stderr",
     "output_type": "stream",
     "text": [
      " 93%|█████████▎| 77668/83655 [47:07<03:17, 30.36it/s]"
     ]
    },
    {
     "name": "stdout",
     "output_type": "stream",
     "text": [
      "  * Error for ('7nxl', 'AAA', 'P43235')\n",
      "  * Error for ('7nxz', 'AAA', 'P05231')\n"
     ]
    },
    {
     "name": "stderr",
     "output_type": "stream",
     "text": [
      " 93%|█████████▎| 77721/83655 [47:08<02:25, 40.82it/s]"
     ]
    },
    {
     "name": "stdout",
     "output_type": "stream",
     "text": [
      "  * Error for ('7nyk', 'AAA', 'Q9UQF2')\n",
      "  * Error for ('7nyl', 'AAA', 'Q9UQF2')\n",
      "  * Error for ('7nym', 'AAA', 'Q9UQF2')\n",
      "  * Error for ('7nyn', 'AAA', 'Q9UQF2')\n",
      "  * Error for ('7nyo', 'AAA', 'Q9UQF2')\n",
      "  * Error for ('7nzb', 'AAA', 'Q9UQF2')\n",
      "  * Error for ('7nzc', 'AAA', 'Q7Z6J0')\n",
      "  * Error for ('7nzd', 'AAA', 'Q7Z6J0')\n",
      "  * Error for ('7nze', 'AAA', 'P01903')\n",
      "  * Error for ('7nze', 'EEE', 'P02458')\n",
      "  * Error for ('7o00', 'AAA', 'P01903')\n"
     ]
    },
    {
     "name": "stderr",
     "output_type": "stream",
     "text": [
      " 93%|█████████▎| 77749/83655 [47:09<01:38, 60.25it/s]"
     ]
    },
    {
     "name": "stdout",
     "output_type": "stream",
     "text": [
      "  * Error for ('7o18', 'AAA', 'O60885')\n"
     ]
    },
    {
     "name": "stderr",
     "output_type": "stream",
     "text": [
      " 93%|█████████▎| 77852/83655 [47:10<01:09, 84.01it/s]"
     ]
    },
    {
     "name": "stdout",
     "output_type": "stream",
     "text": [
      "  * Error for ('7o6x', 'A', 'Q9H2K2')\n",
      "  * Error for ('7o6x', 'AAA', 'Q9H2K2')\n"
     ]
    },
    {
     "name": "stderr",
     "output_type": "stream",
     "text": [
      " 93%|█████████▎| 77971/83655 [47:10<01:07, 84.11it/s]"
     ]
    },
    {
     "name": "stdout",
     "output_type": "stream",
     "text": [
      "  * Error for ('7o80', 'By', 'P62497')\n",
      "  * Error for ('7o9k', '0', 'Q9BYC8')\n",
      "  * Error for ('7o9k', '1', 'O75394')\n",
      "  * Error for ('7o9k', '2', 'Q9BQ48')\n",
      "  * Error for ('7o9k', '5', 'Q9BZE1')\n",
      "  * Error for ('7o9k', '6', 'Q96DV4')\n",
      "  * Error for ('7o9k', '7', 'Q9NYK5')\n",
      "  * Error for ('7o9k', '8', 'Q9NQ50')\n",
      "  * Error for ('7o9k', '9', 'Q8IXM3')\n",
      "  * Error for ('7o9k', 'A1', 'Q96CB9')\n",
      "  * Error for ('7o9k', 'A2', 'Q7Z6M4')\n",
      "  * Error for ('7o9k', 'C', 'Q9BT17')\n",
      "  * Error for ('7o9k', 'D', 'Q5T653')\n",
      "  * Error for ('7o9k', 'E', 'P09001')\n",
      "  * Error for ('7o9k', 'F', 'Q9BYD3')\n",
      "  * Error for ('7o9k', 'FF', 'P52815')\n",
      "  * Error for ('7o9k', 'G', 'Q9H4K7')\n",
      "  * Error for ('7o9k', 'H', 'Q9BYD2')\n",
      "  * Error for ('7o9k', 'I', 'Q7Z7H8')\n",
      "  * Error for ('7o9k', 'J', 'Q9Y3B7')\n",
      "  * Error for ('7o9k', 'K', 'Q9BYD1')\n",
      "  * Error for ('7o9k', 'L', 'Q6P1L8')\n",
      "  * Error for ('7o9k', 'M', 'Q9P015')\n",
      "  * Error for ('7o9k', 'N', 'Q9NX20')\n",
      "  * Error for ('7o9k', 'O', 'Q9NRX2')\n",
      "  * Error for ('7o9k', 'Q', 'P49406')\n",
      "  * Error for ('7o9k', 'R', 'Q9BYC9')\n",
      "  * Error for ('7o9k', 'S', 'Q7Z2W9')\n",
      "  * Error for ('7o9k', 'U', 'Q16540')\n",
      "  * Error for ('7o9k', 'V', 'Q96A35')\n",
      "  * Error for ('7o9k', 'W', 'Q9P0M9')\n",
      "  * Error for ('7o9k', 'X', 'Q13084')\n",
      "  * Error for ('7o9k', 'Y', 'Q9HD33')\n",
      "  * Error for ('7o9k', 'Z', 'Q8TCC3')\n",
      "  * Error for ('7o9k', 'a', 'Q9Y6G3')\n",
      "  * Error for ('7o9k', 'b', 'Q8N983')\n",
      "  * Error for ('7o9k', 'c', 'Q9H9J2')\n",
      "  * Error for ('7o9k', 'd', 'Q9BRJ2')\n",
      "  * Error for ('7o9k', 'e', 'Q9H2W6')\n",
      "  * Error for ('7o9k', 'f', 'Q96GC5')\n",
      "  * Error for ('7o9k', 'g', 'Q13405')\n",
      "  * Error for ('7o9k', 'h', 'Q8N5N7')\n",
      "  * Error for ('7o9k', 'i', 'Q4U2R6')\n",
      "  * Error for ('7o9k', 'j', 'Q86TS9')\n",
      "  * Error for ('7o9k', 'k', 'Q96EL3')\n",
      "  * Error for ('7o9k', 'l', 'Q6P161')\n",
      "  * Error for ('7o9k', 'n', 'Q9UI43')\n",
      "  * Error for ('7o9k', 'o', 'Q9BQC6')\n",
      "  * Error for ('7o9k', 'q', 'Q8TAE8')\n",
      "  * Error for ('7o9k', 'r', 'Q9NVS2')\n",
      "  * Error for ('7o9k', 's', 'Q9NP92')\n",
      "  * Error for ('7o9k', 't', 'P49411')\n",
      "  * Error for ('7o9k', 'u', 'Q96EH3')\n",
      "  * Error for ('7o9k', 'w', 'O14561')\n",
      "  * Error for ('7o9m', '0', 'Q9BYC8')\n",
      "  * Error for ('7o9m', '1', 'O75394')\n",
      "  * Error for ('7o9m', '2', 'Q9BQ48')\n",
      "  * Error for ('7o9m', '5', 'Q9BZE1')\n",
      "  * Error for ('7o9m', '6', 'Q96DV4')\n",
      "  * Error for ('7o9m', '7', 'Q9NYK5')\n",
      "  * Error for ('7o9m', '8', 'Q9NQ50')\n",
      "  * Error for ('7o9m', '9', 'Q8IXM3')\n",
      "  * Error for ('7o9m', 'A1', 'Q96CB9')\n",
      "  * Error for ('7o9m', 'A2', 'Q7Z6M4')\n",
      "  * Error for ('7o9m', 'C', 'Q9BT17')\n",
      "  * Error for ('7o9m', 'D', 'Q5T653')\n",
      "  * Error for ('7o9m', 'E', 'P09001')\n",
      "  * Error for ('7o9m', 'F', 'Q9BYD3')\n",
      "  * Error for ('7o9m', 'H', 'Q9BYD2')\n",
      "  * Error for ('7o9m', 'I', 'Q7Z7H8')\n",
      "  * Error for ('7o9m', 'J', 'Q9Y3B7')\n",
      "  * Error for ('7o9m', 'K', 'Q9BYD1')\n",
      "  * Error for ('7o9m', 'L', 'Q6P1L8')\n",
      "  * Error for ('7o9m', 'M', 'Q9P015')\n",
      "  * Error for ('7o9m', 'N', 'Q9NX20')\n",
      "  * Error for ('7o9m', 'O', 'Q9NRX2')\n",
      "  * Error for ('7o9m', 'Q', 'P49406')\n",
      "  * Error for ('7o9m', 'R', 'Q9BYC9')\n",
      "  * Error for ('7o9m', 'S', 'Q7Z2W9')\n",
      "  * Error for ('7o9m', 'U', 'Q16540')\n",
      "  * Error for ('7o9m', 'V', 'Q96A35')\n",
      "  * Error for ('7o9m', 'W', 'Q9P0M9')\n",
      "  * Error for ('7o9m', 'X', 'Q13084')\n",
      "  * Error for ('7o9m', 'Y', 'Q9HD33')\n",
      "  * Error for ('7o9m', 'Z', 'Q8TCC3')\n",
      "  * Error for ('7o9m', 'a', 'Q9Y6G3')\n",
      "  * Error for ('7o9m', 'b', 'Q8N983')\n",
      "  * Error for ('7o9m', 'c', 'Q9H9J2')\n",
      "  * Error for ('7o9m', 'd', 'Q9BRJ2')\n",
      "  * Error for ('7o9m', 'e', 'Q9H2W6')\n",
      "  * Error for ('7o9m', 'f', 'Q96GC5')\n",
      "  * Error for ('7o9m', 'g', 'Q13405')\n",
      "  * Error for ('7o9m', 'h', 'Q8N5N7')\n",
      "  * Error for ('7o9m', 'i', 'Q4U2R6')\n",
      "  * Error for ('7o9m', 'j', 'Q86TS9')\n",
      "  * Error for ('7o9m', 'k', 'Q96EL3')\n",
      "  * Error for ('7o9m', 'l', 'Q6P161')\n",
      "  * Error for ('7o9m', 'n', 'Q9UI43')\n",
      "  * Error for ('7o9m', 'o', 'Q9BQC6')\n",
      "  * Error for ('7o9m', 'q', 'Q8TAE8')\n",
      "  * Error for ('7o9m', 'r', 'Q9NVS2')\n",
      "  * Error for ('7o9m', 's', 'Q9NP92')\n",
      "  * Error for ('7o9m', 't1', 'P52815')\n",
      "  * Error for ('7o9m', 'u', 'Q96EH3')\n",
      "  * Error for ('7o9m', 'w', 'O14561')\n",
      "  * Error for ('7oa0', 'AAA', 'P49759')\n"
     ]
    },
    {
     "name": "stderr",
     "output_type": "stream",
     "text": [
      " 94%|█████████▎| 78220/83655 [47:13<01:20, 67.91it/s]"
     ]
    },
    {
     "name": "stdout",
     "output_type": "stream",
     "text": [
      "  * Error for ('7odr', '0', 'Q9BYC8')\n",
      "  * Error for ('7odr', '1', 'O75394')\n",
      "  * Error for ('7odr', '2', 'Q9BQ48')\n",
      "  * Error for ('7odr', '5', 'Q9BZE1')\n",
      "  * Error for ('7odr', '6', 'Q96DV4')\n",
      "  * Error for ('7odr', '7', 'Q9NYK5')\n",
      "  * Error for ('7odr', '8', 'Q9NQ50')\n",
      "  * Error for ('7odr', '9', 'Q8IXM3')\n",
      "  * Error for ('7odr', 'D', 'Q5T653')\n",
      "  * Error for ('7odr', 'E', 'P09001')\n",
      "  * Error for ('7odr', 'F', 'Q9BYD3')\n",
      "  * Error for ('7odr', 'H', 'Q9BYD2')\n",
      "  * Error for ('7odr', 'I', 'Q7Z7H8')\n",
      "  * Error for ('7odr', 'J', 'Q9Y3B7')\n",
      "  * Error for ('7odr', 'K', 'Q9BYD1')\n",
      "  * Error for ('7odr', 'L', 'Q6P1L8')\n",
      "  * Error for ('7odr', 'M', 'Q9P015')\n",
      "  * Error for ('7odr', 'N', 'Q9NX20')\n",
      "  * Error for ('7odr', 'O', 'Q9NRX2')\n",
      "  * Error for ('7odr', 'P', 'Q9H0U6')\n",
      "  * Error for ('7odr', 'Q', 'P49406')\n",
      "  * Error for ('7odr', 'R', 'Q9BYC9')\n",
      "  * Error for ('7odr', 'S', 'Q7Z2W9')\n",
      "  * Error for ('7odr', 'U', 'Q16540')\n",
      "  * Error for ('7odr', 'V', 'Q96A35')\n",
      "  * Error for ('7odr', 'W', 'Q9P0M9')\n",
      "  * Error for ('7odr', 'X', 'Q13084')\n",
      "  * Error for ('7odr', 'Y', 'Q9HD33')\n",
      "  * Error for ('7odr', 'Z', 'Q8TCC3')\n",
      "  * Error for ('7odr', 'a', 'Q9Y6G3')\n",
      "  * Error for ('7odr', 'b', 'Q8N983')\n",
      "  * Error for ('7odr', 'c', 'Q9H9J2')\n",
      "  * Error for ('7odr', 'd', 'Q9BRJ2')\n",
      "  * Error for ('7odr', 'e', 'Q9H2W6')\n",
      "  * Error for ('7odr', 'f', 'Q96GC5')\n",
      "  * Error for ('7odr', 'g', 'Q13405')\n",
      "  * Error for ('7odr', 'h', 'Q8N5N7')\n",
      "  * Error for ('7odr', 'i', 'Q4U2R6')\n",
      "  * Error for ('7odr', 'j', 'Q86TS9')\n",
      "  * Error for ('7odr', 'k', 'Q96EL3')\n",
      "  * Error for ('7odr', 'l', 'Q6P161')\n",
      "  * Error for ('7odr', 'o', 'Q9BQC6')\n",
      "  * Error for ('7odr', 'q', 'Q8TAE8')\n",
      "  * Error for ('7odr', 'r', 'Q9NVS2')\n",
      "  * Error for ('7odr', 's', 'Q9NP92')\n",
      "  * Error for ('7odr', 'u', 'Q96EH3')\n",
      "  * Error for ('7odr', 'w', 'O14561')\n",
      "  * Error for ('7odr', 'x', 'Q96CB9')\n",
      "  * Error for ('7odr', 'y', 'Q7Z6M4')\n",
      "  * Error for ('7ods', '0', 'Q9BYC8')\n",
      "  * Error for ('7ods', '1', 'O75394')\n",
      "  * Error for ('7ods', '2', 'Q9BQ48')\n",
      "  * Error for ('7ods', '5', 'Q9BZE1')\n",
      "  * Error for ('7ods', '6', 'Q96DV4')\n",
      "  * Error for ('7ods', '7', 'Q9NYK5')\n",
      "  * Error for ('7ods', '8', 'Q9NQ50')\n",
      "  * Error for ('7ods', '9', 'Q8IXM3')\n",
      "  * Error for ('7ods', 'D', 'Q5T653')\n",
      "  * Error for ('7ods', 'E', 'P09001')\n",
      "  * Error for ('7ods', 'F', 'Q9BYD3')\n",
      "  * Error for ('7ods', 'H', 'Q9BYD2')\n",
      "  * Error for ('7ods', 'I', 'Q7Z7H8')\n",
      "  * Error for ('7ods', 'J', 'Q9Y3B7')\n",
      "  * Error for ('7ods', 'K', 'Q9BYD1')\n",
      "  * Error for ('7ods', 'L', 'Q6P1L8')\n",
      "  * Error for ('7ods', 'M', 'Q9P015')\n",
      "  * Error for ('7ods', 'N', 'Q9NX20')\n",
      "  * Error for ('7ods', 'O', 'Q9NRX2')\n",
      "  * Error for ('7ods', 'P', 'Q9H0U6')\n",
      "  * Error for ('7ods', 'Q', 'P49406')\n",
      "  * Error for ('7ods', 'R', 'Q9BYC9')\n",
      "  * Error for ('7ods', 'S', 'Q7Z2W9')\n",
      "  * Error for ('7ods', 'U', 'Q16540')\n",
      "  * Error for ('7ods', 'V', 'Q96A35')\n",
      "  * Error for ('7ods', 'W', 'Q9P0M9')\n",
      "  * Error for ('7ods', 'X', 'Q13084')\n",
      "  * Error for ('7ods', 'Y', 'Q9HD33')\n",
      "  * Error for ('7ods', 'Z', 'Q8TCC3')\n",
      "  * Error for ('7ods', 'a', 'Q9Y6G3')\n",
      "  * Error for ('7ods', 'b', 'Q8N983')\n",
      "  * Error for ('7ods', 'c', 'Q9H9J2')\n",
      "  * Error for ('7ods', 'd', 'Q9BRJ2')\n",
      "  * Error for ('7ods', 'e', 'Q9H2W6')\n",
      "  * Error for ('7ods', 'f', 'Q96GC5')\n",
      "  * Error for ('7ods', 'g', 'Q13405')\n",
      "  * Error for ('7ods', 'h', 'Q8N5N7')\n",
      "  * Error for ('7ods', 'i', 'Q4U2R6')\n",
      "  * Error for ('7ods', 'j', 'Q86TS9')\n",
      "  * Error for ('7ods', 'k', 'Q96EL3')\n",
      "  * Error for ('7ods', 'l', 'Q6P161')\n",
      "  * Error for ('7ods', 'o', 'Q9BQC6')\n",
      "  * Error for ('7ods', 'q', 'Q8TAE8')\n",
      "  * Error for ('7ods', 'r', 'Q9NVS2')\n",
      "  * Error for ('7ods', 's', 'Q9NP92')\n",
      "  * Error for ('7ods', 'u', 'Q96EH3')\n",
      "  * Error for ('7ods', 'w', 'O14561')\n",
      "  * Error for ('7ods', 'x', 'Q96CB9')\n",
      "  * Error for ('7ods', 'y', 'Q7Z6M4')\n",
      "  * Error for ('7ods', 'z', 'Q9UI43')\n",
      "  * Error for ('7odt', '0', 'Q9BYC8')\n",
      "  * Error for ('7odt', '1', 'O75394')\n",
      "  * Error for ('7odt', '2', 'Q9BQ48')\n",
      "  * Error for ('7odt', '5', 'Q9BZE1')\n",
      "  * Error for ('7odt', '6', 'Q96DV4')\n",
      "  * Error for ('7odt', '7', 'Q9NYK5')\n",
      "  * Error for ('7odt', '8', 'Q9NQ50')\n",
      "  * Error for ('7odt', '9', 'Q8IXM3')\n",
      "  * Error for ('7odt', 'D', 'Q5T653')\n",
      "  * Error for ('7odt', 'E', 'P09001')\n",
      "  * Error for ('7odt', 'F', 'Q9BYD3')\n",
      "  * Error for ('7odt', 'H', 'Q9BYD2')\n",
      "  * Error for ('7odt', 'I', 'Q7Z7H8')\n",
      "  * Error for ('7odt', 'J', 'Q9Y3B7')\n",
      "  * Error for ('7odt', 'K', 'Q9BYD1')\n",
      "  * Error for ('7odt', 'L', 'Q6P1L8')\n",
      "  * Error for ('7odt', 'M', 'Q9P015')\n",
      "  * Error for ('7odt', 'N', 'Q9NX20')\n",
      "  * Error for ('7odt', 'O', 'Q9NRX2')\n",
      "  * Error for ('7odt', 'P', 'Q9H0U6')\n",
      "  * Error for ('7odt', 'Q', 'P49406')\n",
      "  * Error for ('7odt', 'R', 'Q9BYC9')\n",
      "  * Error for ('7odt', 'S', 'Q7Z2W9')\n",
      "  * Error for ('7odt', 'U', 'Q16540')\n",
      "  * Error for ('7odt', 'V', 'Q96A35')\n",
      "  * Error for ('7odt', 'W', 'Q9P0M9')\n",
      "  * Error for ('7odt', 'X', 'Q13084')\n",
      "  * Error for ('7odt', 'Y', 'Q9HD33')\n",
      "  * Error for ('7odt', 'Z', 'Q8TCC3')\n",
      "  * Error for ('7odt', 'a', 'Q9Y6G3')\n",
      "  * Error for ('7odt', 'b', 'Q8N983')\n",
      "  * Error for ('7odt', 'c', 'Q9H9J2')\n",
      "  * Error for ('7odt', 'd', 'Q9BRJ2')\n",
      "  * Error for ('7odt', 'e', 'Q9H2W6')\n",
      "  * Error for ('7odt', 'f', 'Q96GC5')\n",
      "  * Error for ('7odt', 'g', 'Q13405')\n",
      "  * Error for ('7odt', 'h', 'Q8N5N7')\n",
      "  * Error for ('7odt', 'i', 'Q4U2R6')\n",
      "  * Error for ('7odt', 'j', 'Q86TS9')\n",
      "  * Error for ('7odt', 'k', 'Q96EL3')\n",
      "  * Error for ('7odt', 'l', 'Q6P161')\n",
      "  * Error for ('7odt', 'o', 'Q9BQC6')\n",
      "  * Error for ('7odt', 'q', 'Q8TAE8')\n",
      "  * Error for ('7odt', 'r', 'Q9NVS2')\n",
      "  * Error for ('7odt', 's', 'Q9NP92')\n",
      "  * Error for ('7odt', 't', 'Q9H4K7')\n",
      "  * Error for ('7odt', 'u', 'Q96EH3')\n",
      "  * Error for ('7odt', 'w', 'O14561')\n",
      "  * Error for ('7odt', 'x', 'Q96CB9')\n",
      "  * Error for ('7odt', 'y', 'Q7Z6M4')\n",
      "  * Error for ('7oe4', 'AAA', 'P25440')\n",
      "  * Error for ('7oe5', 'AAA', 'P25440')\n",
      "  * Error for ('7oe6', 'AAA', 'P25440')\n",
      "  * Error for ('7oeo', 'AAA', 'O60885')\n",
      "  * Error for ('7oep', 'AAA', 'P25440')\n",
      "  * Error for ('7oer', 'AAA', 'P25440')\n",
      "  * Error for ('7oes', 'AAA', 'P25440')\n",
      "  * Error for ('7oet', 'AAA', 'P25440')\n"
     ]
    },
    {
     "name": "stderr",
     "output_type": "stream",
     "text": [
      " 94%|█████████▍| 78653/83655 [47:24<10:04,  8.27it/s]"
     ]
    },
    {
     "name": "stdout",
     "output_type": "stream",
     "text": [
      "  * Error for ('7of1', 'r', 'P40078')\n",
      "  * Error for ('7of2', '0', 'Q9BYC8')\n",
      "  * Error for ('7of2', '1', 'O75394')\n",
      "  * Error for ('7of2', '2', 'Q9BQ48')\n",
      "  * Error for ('7of2', '5', 'Q9BZE1')\n",
      "  * Error for ('7of2', '6', 'Q96DV4')\n",
      "  * Error for ('7of2', '7', 'Q9NYK5')\n",
      "  * Error for ('7of2', '8', 'Q9NQ50')\n",
      "  * Error for ('7of2', '9', 'Q8IXM3')\n",
      "  * Error for ('7of2', 'C', 'O43824')\n",
      "  * Error for ('7of2', 'D', 'Q5T653')\n",
      "  * Error for ('7of2', 'E', 'P09001')\n",
      "  * Error for ('7of2', 'F', 'Q9BYD3')\n",
      "  * Error for ('7of2', 'H', 'Q9BYD2')\n",
      "  * Error for ('7of2', 'I', 'Q7Z7H8')\n",
      "  * Error for ('7of2', 'J', 'Q9Y3B7')\n",
      "  * Error for ('7of2', 'K', 'Q9BYD1')\n",
      "  * Error for ('7of2', 'L', 'Q6P1L8')\n",
      "  * Error for ('7of2', 'M', 'Q9P015')\n",
      "  * Error for ('7of2', 'N', 'Q9NX20')\n",
      "  * Error for ('7of2', 'O', 'Q9NRX2')\n",
      "  * Error for ('7of2', 'P', 'Q9H0U6')\n",
      "  * Error for ('7of2', 'Q', 'P49406')\n",
      "  * Error for ('7of2', 'R', 'Q9BYC9')\n",
      "  * Error for ('7of2', 'S', 'Q7Z2W9')\n",
      "  * Error for ('7of2', 'U', 'Q16540')\n",
      "  * Error for ('7of2', 'V', 'Q96A35')\n",
      "  * Error for ('7of2', 'W', 'Q9P0M9')\n",
      "  * Error for ('7of2', 'X', 'Q13084')\n",
      "  * Error for ('7of2', 'Y', 'Q9HD33')\n",
      "  * Error for ('7of2', 'Z', 'Q8TCC3')\n",
      "  * Error for ('7of2', 'a', 'Q9Y6G3')\n",
      "  * Error for ('7of2', 'b', 'Q8N983')\n",
      "  * Error for ('7of2', 'c', 'Q9H9J2')\n",
      "  * Error for ('7of2', 'd', 'Q9BRJ2')\n",
      "  * Error for ('7of2', 'e', 'Q9H2W6')\n",
      "  * Error for ('7of2', 'f', 'Q96GC5')\n",
      "  * Error for ('7of2', 'g', 'Q13405')\n",
      "  * Error for ('7of2', 'h', 'Q8N5N7')\n",
      "  * Error for ('7of2', 'i', 'Q4U2R6')\n",
      "  * Error for ('7of2', 'j', 'Q86TS9')\n",
      "  * Error for ('7of2', 'k', 'Q96EL3')\n",
      "  * Error for ('7of2', 'l', 'Q6P161')\n",
      "  * Error for ('7of2', 'o', 'Q9BQC6')\n",
      "  * Error for ('7of2', 'q', 'Q8TAE8')\n",
      "  * Error for ('7of2', 'r', 'Q9NVS2')\n",
      "  * Error for ('7of2', 's', 'Q9NP92')\n",
      "  * Error for ('7of2', 'u', 'Q96EH3')\n",
      "  * Error for ('7of2', 'w', 'O14561')\n",
      "  * Error for ('7of3', '0', 'Q9BYC8')\n",
      "  * Error for ('7of3', '1', 'O75394')\n",
      "  * Error for ('7of3', '2', 'Q9BQ48')\n",
      "  * Error for ('7of3', '5', 'Q9BZE1')\n",
      "  * Error for ('7of3', '6', 'Q96DV4')\n",
      "  * Error for ('7of3', '7', 'Q9NYK5')\n",
      "  * Error for ('7of3', '8', 'Q9NQ50')\n",
      "  * Error for ('7of3', '9', 'Q8IXM3')\n",
      "  * Error for ('7of3', 'C', 'Q96CB9')\n",
      "  * Error for ('7of3', 'D', 'Q5T653')\n",
      "  * Error for ('7of3', 'E', 'P09001')\n",
      "  * Error for ('7of3', 'F', 'Q9BYD3')\n",
      "  * Error for ('7of3', 'G', 'Q7Z6M4')\n",
      "  * Error for ('7of3', 'H', 'Q9BYD2')\n",
      "  * Error for ('7of3', 'I', 'Q7Z7H8')\n",
      "  * Error for ('7of3', 'J', 'Q9Y3B7')\n",
      "  * Error for ('7of3', 'K', 'Q9BYD1')\n",
      "  * Error for ('7of3', 'L', 'Q6P1L8')\n",
      "  * Error for ('7of3', 'M', 'Q9P015')\n",
      "  * Error for ('7of3', 'N', 'Q9NX20')\n",
      "  * Error for ('7of3', 'O', 'Q9NRX2')\n",
      "  * Error for ('7of3', 'P', 'Q9H0U6')\n",
      "  * Error for ('7of3', 'Q', 'P49406')\n",
      "  * Error for ('7of3', 'R', 'Q9BYC9')\n",
      "  * Error for ('7of3', 'S', 'Q7Z2W9')\n",
      "  * Error for ('7of3', 'U', 'Q16540')\n",
      "  * Error for ('7of3', 'V', 'Q96A35')\n",
      "  * Error for ('7of3', 'W', 'Q9P0M9')\n",
      "  * Error for ('7of3', 'X', 'Q13084')\n",
      "  * Error for ('7of3', 'Y', 'Q9HD33')\n",
      "  * Error for ('7of3', 'Z', 'Q8TCC3')\n",
      "  * Error for ('7of3', 'a', 'Q9Y6G3')\n",
      "  * Error for ('7of3', 'b', 'Q8N983')\n",
      "  * Error for ('7of3', 'c', 'Q9H9J2')\n",
      "  * Error for ('7of3', 'd', 'Q9BRJ2')\n",
      "  * Error for ('7of3', 'e', 'Q9H2W6')\n",
      "  * Error for ('7of3', 'f', 'Q96GC5')\n",
      "  * Error for ('7of3', 'g', 'Q13405')\n",
      "  * Error for ('7of3', 'h', 'Q8N5N7')\n",
      "  * Error for ('7of3', 'i', 'Q4U2R6')\n",
      "  * Error for ('7of3', 'j', 'Q86TS9')\n",
      "  * Error for ('7of3', 'k', 'Q96EL3')\n",
      "  * Error for ('7of3', 'o', 'Q9BQC6')\n",
      "  * Error for ('7of3', 'q', 'Q8TAE8')\n",
      "  * Error for ('7of3', 'r', 'Q9NVS2')\n",
      "  * Error for ('7of3', 's', 'Q9NP92')\n",
      "  * Error for ('7of3', 'u', 'Q96EH3')\n",
      "  * Error for ('7of3', 'w', 'O14561')\n",
      "  * Error for ('7of4', '0', 'Q9BYC8')\n",
      "  * Error for ('7of4', '1', 'O75394')\n",
      "  * Error for ('7of4', '2', 'Q9BQ48')\n",
      "  * Error for ('7of4', '5', 'Q9BZE1')\n",
      "  * Error for ('7of4', '6', 'Q96DV4')\n",
      "  * Error for ('7of4', '7', 'Q9NYK5')\n",
      "  * Error for ('7of4', '8', 'Q9NQ50')\n",
      "  * Error for ('7of4', '9', 'Q8IXM3')\n",
      "  * Error for ('7of4', 'C', 'O43824')\n",
      "  * Error for ('7of4', 'D', 'Q5T653')\n",
      "  * Error for ('7of4', 'E', 'P09001')\n",
      "  * Error for ('7of4', 'F', 'Q9BYD3')\n",
      "  * Error for ('7of4', 'H', 'Q9BYD2')\n",
      "  * Error for ('7of4', 'I', 'Q7Z7H8')\n",
      "  * Error for ('7of4', 'J', 'Q9Y3B7')\n",
      "  * Error for ('7of4', 'K', 'Q9BYD1')\n",
      "  * Error for ('7of4', 'L', 'Q6P1L8')\n",
      "  * Error for ('7of4', 'M', 'Q9P015')\n",
      "  * Error for ('7of4', 'N', 'Q9NX20')\n",
      "  * Error for ('7of4', 'O', 'Q9NRX2')\n",
      "  * Error for ('7of4', 'P', 'Q9H0U6')\n",
      "  * Error for ('7of4', 'Q', 'P49406')\n",
      "  * Error for ('7of4', 'R', 'Q9BYC9')\n",
      "  * Error for ('7of4', 'S', 'Q7Z2W9')\n",
      "  * Error for ('7of4', 'U', 'Q16540')\n",
      "  * Error for ('7of4', 'V', 'Q96A35')\n",
      "  * Error for ('7of4', 'W', 'Q9P0M9')\n",
      "  * Error for ('7of4', 'X', 'Q13084')\n",
      "  * Error for ('7of4', 'Y', 'Q9HD33')\n",
      "  * Error for ('7of4', 'Z', 'Q8TCC3')\n",
      "  * Error for ('7of4', 'a', 'Q9Y6G3')\n",
      "  * Error for ('7of4', 'b', 'Q8N983')\n",
      "  * Error for ('7of4', 'c', 'Q9H9J2')\n",
      "  * Error for ('7of4', 'd', 'Q9BRJ2')\n",
      "  * Error for ('7of4', 'e', 'Q9H2W6')\n",
      "  * Error for ('7of4', 'f', 'Q96GC5')\n",
      "  * Error for ('7of4', 'g', 'Q13405')\n",
      "  * Error for ('7of4', 'h', 'Q8N5N7')\n",
      "  * Error for ('7of4', 'i', 'Q4U2R6')\n",
      "  * Error for ('7of4', 'j', 'Q86TS9')\n",
      "  * Error for ('7of4', 'k', 'Q96EL3')\n",
      "  * Error for ('7of4', 'l', 'Q6P161')\n",
      "  * Error for ('7of4', 'o', 'Q9BQC6')\n",
      "  * Error for ('7of4', 'q', 'Q8TAE8')\n",
      "  * Error for ('7of4', 'r', 'Q9NVS2')\n",
      "  * Error for ('7of4', 's', 'Q9NP92')\n",
      "  * Error for ('7of5', '0', 'Q9BYC8')\n",
      "  * Error for ('7of5', '1', 'O75394')\n",
      "  * Error for ('7of5', '2', 'Q9BQ48')\n",
      "  * Error for ('7of5', '5', 'Q9BZE1')\n",
      "  * Error for ('7of5', '6', 'Q96DV4')\n",
      "  * Error for ('7of5', '7', 'Q9NYK5')\n",
      "  * Error for ('7of5', '8', 'Q9NQ50')\n",
      "  * Error for ('7of5', '9', 'Q8IXM3')\n",
      "  * Error for ('7of5', 'C', 'Q96CB9')\n",
      "  * Error for ('7of5', 'D', 'Q5T653')\n",
      "  * Error for ('7of5', 'E', 'P09001')\n",
      "  * Error for ('7of5', 'F', 'Q9BYD3')\n",
      "  * Error for ('7of5', 'G', 'Q7Z6M4')\n",
      "  * Error for ('7of5', 'H', 'Q9BYD2')\n",
      "  * Error for ('7of5', 'I', 'Q7Z7H8')\n",
      "  * Error for ('7of5', 'J', 'Q9Y3B7')\n",
      "  * Error for ('7of5', 'K', 'Q9BYD1')\n",
      "  * Error for ('7of5', 'L', 'Q6P1L8')\n",
      "  * Error for ('7of5', 'M', 'Q9P015')\n",
      "  * Error for ('7of5', 'N', 'Q9NX20')\n",
      "  * Error for ('7of5', 'O', 'Q9NRX2')\n",
      "  * Error for ('7of5', 'P', 'Q9H0U6')\n",
      "  * Error for ('7of5', 'Q', 'P49406')\n",
      "  * Error for ('7of5', 'R', 'Q9BYC9')\n",
      "  * Error for ('7of5', 'S', 'Q7Z2W9')\n",
      "  * Error for ('7of5', 'U', 'Q16540')\n",
      "  * Error for ('7of5', 'V', 'Q96A35')\n",
      "  * Error for ('7of5', 'W', 'Q9P0M9')\n",
      "  * Error for ('7of5', 'X', 'Q13084')\n",
      "  * Error for ('7of5', 'Y', 'Q9HD33')\n",
      "  * Error for ('7of5', 'Z', 'Q8TCC3')\n",
      "  * Error for ('7of5', 'a', 'Q9Y6G3')\n",
      "  * Error for ('7of5', 'b', 'Q8N983')\n",
      "  * Error for ('7of5', 'c', 'Q9H9J2')\n",
      "  * Error for ('7of5', 'd', 'Q9BRJ2')\n",
      "  * Error for ('7of5', 'e', 'Q9H2W6')\n",
      "  * Error for ('7of5', 'f', 'Q96GC5')\n",
      "  * Error for ('7of5', 'g', 'Q13405')\n",
      "  * Error for ('7of5', 'h', 'Q8N5N7')\n",
      "  * Error for ('7of5', 'i', 'Q4U2R6')\n",
      "  * Error for ('7of5', 'j', 'Q86TS9')\n",
      "  * Error for ('7of5', 'k', 'Q96EL3')\n",
      "  * Error for ('7of5', 'o', 'Q9BQC6')\n",
      "  * Error for ('7of5', 'q', 'Q8TAE8')\n",
      "  * Error for ('7of5', 'r', 'Q9NVS2')\n",
      "  * Error for ('7of5', 's', 'Q9NP92')\n",
      "  * Error for ('7of5', 'u', 'Q96EH3')\n",
      "  * Error for ('7of5', 'w', 'O14561')\n",
      "  * Error for ('7of5', 'x', 'Q9H4K7')\n",
      "  * Error for ('7of6', '0', 'Q9BYC8')\n",
      "  * Error for ('7of6', '1', 'O75394')\n",
      "  * Error for ('7of6', '2', 'Q9BQ48')\n",
      "  * Error for ('7of6', '5', 'Q9BZE1')\n",
      "  * Error for ('7of6', '6', 'Q96DV4')\n",
      "  * Error for ('7of6', '7', 'Q9NYK5')\n",
      "  * Error for ('7of6', '8', 'Q9NQ50')\n",
      "  * Error for ('7of6', '9', 'Q8IXM3')\n",
      "  * Error for ('7of6', 'C', 'O43824')\n",
      "  * Error for ('7of6', 'D', 'Q5T653')\n",
      "  * Error for ('7of6', 'E', 'P09001')\n",
      "  * Error for ('7of6', 'F', 'Q9BYD3')\n",
      "  * Error for ('7of6', 'H', 'Q9BYD2')\n",
      "  * Error for ('7of6', 'I', 'Q7Z7H8')\n",
      "  * Error for ('7of6', 'J', 'Q9Y3B7')\n",
      "  * Error for ('7of6', 'K', 'Q9BYD1')\n",
      "  * Error for ('7of6', 'L', 'Q6P1L8')\n",
      "  * Error for ('7of6', 'M', 'Q9P015')\n",
      "  * Error for ('7of6', 'N', 'Q9NX20')\n",
      "  * Error for ('7of6', 'O', 'Q9NRX2')\n",
      "  * Error for ('7of6', 'P', 'Q9H0U6')\n",
      "  * Error for ('7of6', 'Q', 'P49406')\n",
      "  * Error for ('7of6', 'R', 'Q9BYC9')\n",
      "  * Error for ('7of6', 'S', 'Q7Z2W9')\n",
      "  * Error for ('7of6', 'U', 'Q16540')\n",
      "  * Error for ('7of6', 'V', 'Q96A35')\n",
      "  * Error for ('7of6', 'W', 'Q9P0M9')\n",
      "  * Error for ('7of6', 'X', 'Q13084')\n",
      "  * Error for ('7of6', 'Y', 'Q9HD33')\n",
      "  * Error for ('7of6', 'Z', 'Q8TCC3')\n",
      "  * Error for ('7of6', 'a', 'Q9Y6G3')\n",
      "  * Error for ('7of6', 'b', 'Q8N983')\n",
      "  * Error for ('7of6', 'c', 'Q9H9J2')\n",
      "  * Error for ('7of6', 'd', 'Q9BRJ2')\n",
      "  * Error for ('7of6', 'e', 'Q9H2W6')\n",
      "  * Error for ('7of6', 'f', 'Q96GC5')\n",
      "  * Error for ('7of6', 'g', 'Q13405')\n",
      "  * Error for ('7of6', 'h', 'Q8N5N7')\n",
      "  * Error for ('7of6', 'i', 'Q4U2R6')\n",
      "  * Error for ('7of6', 'j', 'Q86TS9')\n",
      "  * Error for ('7of6', 'k', 'Q96EL3')\n",
      "  * Error for ('7of6', 'l', 'Q6P161')\n",
      "  * Error for ('7of6', 'o', 'Q9BQC6')\n",
      "  * Error for ('7of6', 'q', 'Q8TAE8')\n",
      "  * Error for ('7of6', 'r', 'Q9NVS2')\n",
      "  * Error for ('7of6', 's', 'Q9NP92')\n",
      "  * Error for ('7of7', '0', 'Q9BYC8')\n",
      "  * Error for ('7of7', '1', 'O75394')\n",
      "  * Error for ('7of7', '2', 'Q9BQ48')\n",
      "  * Error for ('7of7', '3', 'Q9NZE8')\n",
      "  * Error for ('7of7', '5', 'Q9BZE1')\n",
      "  * Error for ('7of7', '6', 'Q96DV4')\n",
      "  * Error for ('7of7', '7', 'Q9NYK5')\n",
      "  * Error for ('7of7', '8', 'Q9NQ50')\n",
      "  * Error for ('7of7', '9', 'Q8IXM3')\n",
      "  * Error for ('7of7', 'C', 'Q96CB9')\n",
      "  * Error for ('7of7', 'D', 'Q5T653')\n",
      "  * Error for ('7of7', 'E', 'P09001')\n",
      "  * Error for ('7of7', 'F', 'Q9BYD3')\n",
      "  * Error for ('7of7', 'G', 'Q7Z6M4')\n",
      "  * Error for ('7of7', 'H', 'Q9BYD2')\n",
      "  * Error for ('7of7', 'I', 'Q7Z7H8')\n",
      "  * Error for ('7of7', 'J', 'Q9Y3B7')\n",
      "  * Error for ('7of7', 'K', 'Q9BYD1')\n",
      "  * Error for ('7of7', 'L', 'Q6P1L8')\n",
      "  * Error for ('7of7', 'M', 'Q9P015')\n",
      "  * Error for ('7of7', 'N', 'Q9NX20')\n",
      "  * Error for ('7of7', 'O', 'Q9NRX2')\n",
      "  * Error for ('7of7', 'P', 'Q9H0U6')\n",
      "  * Error for ('7of7', 'Q', 'P49406')\n",
      "  * Error for ('7of7', 'R', 'Q9BYC9')\n",
      "  * Error for ('7of7', 'S', 'Q7Z2W9')\n",
      "  * Error for ('7of7', 'U', 'Q16540')\n",
      "  * Error for ('7of7', 'V', 'Q96A35')\n",
      "  * Error for ('7of7', 'W', 'Q9P0M9')\n",
      "  * Error for ('7of7', 'X', 'Q13084')\n",
      "  * Error for ('7of7', 'Y', 'Q9HD33')\n",
      "  * Error for ('7of7', 'Z', 'Q8TCC3')\n",
      "  * Error for ('7of7', 'a', 'Q9Y6G3')\n",
      "  * Error for ('7of7', 'b', 'Q8N983')\n",
      "  * Error for ('7of7', 'c', 'Q9H9J2')\n",
      "  * Error for ('7of7', 'd', 'Q9BRJ2')\n",
      "  * Error for ('7of7', 'e', 'Q9H2W6')\n",
      "  * Error for ('7of7', 'f', 'Q96GC5')\n",
      "  * Error for ('7of7', 'g', 'Q13405')\n",
      "  * Error for ('7of7', 'h', 'Q8N5N7')\n",
      "  * Error for ('7of7', 'i', 'Q4U2R6')\n",
      "  * Error for ('7of7', 'j', 'Q86TS9')\n",
      "  * Error for ('7of7', 'k', 'Q96EL3')\n",
      "  * Error for ('7of7', 'o', 'Q9BQC6')\n",
      "  * Error for ('7of7', 'q', 'Q8TAE8')\n",
      "  * Error for ('7of7', 'r', 'Q9NVS2')\n",
      "  * Error for ('7of7', 's', 'Q9NP92')\n",
      "  * Error for ('7of7', 'u', 'Q96EH3')\n",
      "  * Error for ('7of7', 'w', 'O14561')\n",
      "  * Error for ('7of7', 'x', 'Q9H4K7')\n",
      "  * Error for ('7og1', 'CCC', 'P84092')\n",
      "  * Error for ('7og1', 'CCC', 'P84092')\n",
      "  * Error for ('7og1', 'DDD', 'Q0JRZ9')\n",
      "  * Error for ('7og4', '0', 'Q9BYC8')\n",
      "  * Error for ('7og4', '1', 'O75394')\n",
      "  * Error for ('7og4', '2', 'Q9BQ48')\n",
      "  * Error for ('7og4', '5', 'Q9BZE1')\n",
      "  * Error for ('7og4', '6', 'Q96DV4')\n",
      "  * Error for ('7og4', '7', 'Q9NYK5')\n",
      "  * Error for ('7og4', '8', 'Q9NQ50')\n",
      "  * Error for ('7og4', '9', 'Q8IXM3')\n",
      "  * Error for ('7og4', 'A0', 'P82930')\n",
      "  * Error for ('7og4', 'A1', 'P82673')\n",
      "  * Error for ('7og4', 'A2', 'Q96BP2')\n",
      "  * Error for ('7og4', 'A3', 'Q9NWT8')\n",
      "  * Error for ('7og4', 'A4', 'Q96EY7')\n",
      "  * Error for ('7og4', 'AB', 'Q9Y399')\n",
      "  * Error for ('7og4', 'AC', 'Q96EL2')\n",
      "  * Error for ('7og4', 'AD', 'P82675')\n",
      "  * Error for ('7og4', 'AE', 'P82932')\n",
      "  * Error for ('7og4', 'AF', 'Q9Y2R9')\n",
      "  * Error for ('7og4', 'AG', 'P82933')\n",
      "  * Error for ('7og4', 'AH', 'P82664')\n",
      "  * Error for ('7og4', 'AI', 'P82912')\n",
      "  * Error for ('7og4', 'AJ', 'O15235')\n",
      "  * Error for ('7og4', 'AK', 'O60783')\n",
      "  * Error for ('7og4', 'AL', 'P82914')\n",
      "  * Error for ('7og4', 'AN', 'Q9Y2R5')\n",
      "  * Error for ('7og4', 'AO', 'Q9Y676')\n",
      "  * Error for ('7og4', 'AP', 'Q9Y3D5')\n",
      "  * Error for ('7og4', 'AQ', 'P82921')\n",
      "  * Error for ('7og4', 'AR', 'P82650')\n",
      "  * Error for ('7og4', 'AS', 'Q9Y3D9')\n",
      "  * Error for ('7og4', 'AT', 'P82663')\n",
      "  * Error for ('7og4', 'AU', 'Q9BYN8')\n",
      "  * Error for ('7og4', 'AV', 'Q92552')\n",
      "  * Error for ('7og4', 'AW', 'Q9Y2Q9')\n",
      "  * Error for ('7og4', 'AX', 'P51398')\n",
      "  * Error for ('7og4', 'AY', 'Q92665')\n",
      "  * Error for ('7og4', 'AZ', 'Q9Y291')\n",
      "  * Error for ('7og4', 'XD', 'Q5T653')\n",
      "  * Error for ('7og4', 'XE', 'P09001')\n",
      "  * Error for ('7og4', 'XF', 'Q9BYD3')\n",
      "  * Error for ('7og4', 'XH', 'Q9BYD2')\n",
      "  * Error for ('7og4', 'XI', 'Q7Z7H8')\n",
      "  * Error for ('7og4', 'XJ', 'Q9Y3B7')\n",
      "  * Error for ('7og4', 'XK', 'Q9BYD1')\n",
      "  * Error for ('7og4', 'XL', 'Q6P1L8')\n",
      "  * Error for ('7og4', 'XN', 'Q9NX20')\n",
      "  * Error for ('7og4', 'XO', 'Q9NRX2')\n",
      "  * Error for ('7og4', 'XP', 'Q9H0U6')\n",
      "  * Error for ('7og4', 'XQ', 'P49406')\n",
      "  * Error for ('7og4', 'XR', 'Q9BYC9')\n",
      "  * Error for ('7og4', 'XU', 'Q16540')\n",
      "  * Error for ('7og4', 'XV', 'Q96A35')\n",
      "  * Error for ('7og4', 'XW', 'Q9P0M9')\n",
      "  * Error for ('7og4', 'XX', 'Q13084')\n",
      "  * Error for ('7og4', 'XY', 'Q9HD33')\n",
      "  * Error for ('7og4', 'XZ', 'Q8TCC3')\n",
      "  * Error for ('7og4', 'b', 'Q8N983')\n",
      "  * Error for ('7og4', 'c', 'Q9H9J2')\n",
      "  * Error for ('7og4', 'd', 'Q9BRJ2')\n",
      "  * Error for ('7og4', 'e', 'Q9H2W6')\n",
      "  * Error for ('7og4', 'f', 'Q96GC5')\n",
      "  * Error for ('7og4', 'g', 'Q13405')\n",
      "  * Error for ('7og4', 'h', 'Q8N5N7')\n",
      "  * Error for ('7og4', 'j', 'Q86TS9')\n",
      "  * Error for ('7og4', 'k', 'Q96EL3')\n",
      "  * Error for ('7og4', 'o', 'Q9BQC6')\n",
      "  * Error for ('7og4', 'q', 'Q8TAE8')\n",
      "  * Error for ('7og4', 'r', 'Q9NVS2')\n",
      "  * Error for ('7og4', 's', 'Q9NP92')\n",
      "  * Error for ('7og4', 't1', 'P52815')\n",
      "  * Error for ('7ogy', 'AAA', 'P25440')\n",
      "  * Error for ('7oh3', 'r', 'P40078')\n",
      "  * Error for ('7oh3', 's', 'P40010')\n",
      "  * Error for ('7oh3', 'v', 'P36160')\n",
      "  * Error for ('7oh3', 'w', 'Q08746')\n"
     ]
    },
    {
     "name": "stdout",
     "output_type": "stream",
     "text": [
      "  * Error for ('7oho', 'BBB', 'Q0JRZ9')\n",
      "  * Error for ('7oho', 'MMM', 'P84092')\n",
      "  * Error for ('7oho', 'MMM', 'P84092')\n",
      "  * Error for ('7ohp', 'D', 'Q03532')\n",
      "  * Error for ('7ohp', 'r', 'P40078')\n",
      "  * Error for ('7ohq', 'q', 'Q12080')\n",
      "  * Error for ('7ohq', 'r', 'P40078')\n",
      "  * Error for ('7ohq', 's', 'P40010')\n",
      "  * Error for ('7ohq', 'v', 'P36160')\n",
      "  * Error for ('7ohq', 'w', 'Q08746')\n",
      "  * Error for ('7ohr', 'A', 'Q08235')\n",
      "  * Error for ('7ohr', 'D', 'Q03532')\n",
      "  * Error for ('7ohr', 'I', 'Q07896')\n",
      "  * Error for ('7ohr', 'J', 'P36049')\n",
      "  * Error for ('7ohr', 'q', 'P40991')\n",
      "  * Error for ('7ohr', 'r', 'P40078')\n",
      "  * Error for ('7ohr', 's', 'P40010')\n",
      "  * Error for ('7ohr', 'w', 'P25582')\n",
      "  * Error for ('7ohs', '3', 'P10962')\n",
      "  * Error for ('7ohs', '4', 'P35178')\n",
      "  * Error for ('7ohs', '5', 'P53136')\n",
      "  * Error for ('7ohs', 'A', 'Q08235')\n",
      "  * Error for ('7ohs', 'D', 'Q03532')\n",
      "  * Error for ('7ohs', 'r', 'P40078')\n",
      "  * Error for ('7ohs', 'x', 'P38805')\n",
      "  * Error for ('7oht', 'r', 'P40078')\n",
      "  * Error for ('7oht', 'v', 'P36160')\n",
      "  * Error for ('7oht', 'w', 'Q08746')\n",
      "  * Error for ('7ohu', 'r', 'P40078')\n",
      "  * Error for ('7ohv', 'A', 'Q08235')\n",
      "  * Error for ('7ohv', 'D', 'Q03532')\n",
      "  * Error for ('7ohv', 'J', 'P36049')\n",
      "  * Error for ('7ohv', 'r', 'P40078')\n",
      "  * Error for ('7ohv', 'w', 'P25582')\n",
      "  * Error for ('7ohw', '3', 'P10962')\n",
      "  * Error for ('7ohw', '4', 'P35178')\n",
      "  * Error for ('7ohw', '5', 'P53136')\n",
      "  * Error for ('7ohw', 'A', 'Q08235')\n",
      "  * Error for ('7ohw', 'D', 'Q03532')\n",
      "  * Error for ('7ohw', 'J', 'P36049')\n",
      "  * Error for ('7ohw', 'r', 'P40078')\n",
      "  * Error for ('7ohw', 'x', 'P38805')\n",
      "  * Error for ('7ohx', '3', 'P10962')\n",
      "  * Error for ('7ohx', '4', 'P35178')\n",
      "  * Error for ('7ohx', '5', 'P53136')\n",
      "  * Error for ('7ohx', 'D', 'Q03532')\n",
      "  * Error for ('7ohx', 'x', 'P38805')\n",
      "  * Error for ('7ohy', 'r', 'P40078')\n"
     ]
    },
    {
     "name": "stderr",
     "output_type": "stream",
     "text": [
      " 94%|█████████▍| 79005/83655 [48:19<13:21,  5.81it/s]"
     ]
    },
    {
     "name": "stdout",
     "output_type": "stream",
     "text": [
      "  * Error for ('7oic', '0', 'Q9BYC8')\n",
      "  * Error for ('7oic', '1', 'O75394')\n",
      "  * Error for ('7oic', '2', 'Q9BQ48')\n",
      "  * Error for ('7oic', '5', 'Q9BZE1')\n",
      "  * Error for ('7oic', '6', 'Q96DV4')\n",
      "  * Error for ('7oic', '7', 'Q9NYK5')\n",
      "  * Error for ('7oic', '8', 'Q9NQ50')\n",
      "  * Error for ('7oic', '9', 'Q8IXM3')\n",
      "  * Error for ('7oic', 'D', 'Q5T653')\n",
      "  * Error for ('7oic', 'E', 'P09001')\n",
      "  * Error for ('7oic', 'F', 'Q9BYD3')\n",
      "  * Error for ('7oic', 'H', 'Q9BYD2')\n",
      "  * Error for ('7oic', 'I', 'Q7Z7H8')\n",
      "  * Error for ('7oic', 'J', 'Q9Y3B7')\n",
      "  * Error for ('7oic', 'K', 'Q9BYD1')\n",
      "  * Error for ('7oic', 'L', 'Q6P1L8')\n",
      "  * Error for ('7oic', 'M', 'Q9P015')\n",
      "  * Error for ('7oic', 'N', 'Q9NX20')\n",
      "  * Error for ('7oic', 'O', 'Q9NRX2')\n",
      "  * Error for ('7oic', 'P', 'Q9H0U6')\n",
      "  * Error for ('7oic', 'Q', 'P49406')\n",
      "  * Error for ('7oic', 'R', 'Q9BYC9')\n",
      "  * Error for ('7oic', 'S', 'Q7Z2W9')\n",
      "  * Error for ('7oic', 'U', 'Q16540')\n",
      "  * Error for ('7oic', 'V', 'Q96A35')\n",
      "  * Error for ('7oic', 'W', 'Q9P0M9')\n",
      "  * Error for ('7oic', 'X', 'Q13084')\n",
      "  * Error for ('7oic', 'Y', 'Q9HD33')\n",
      "  * Error for ('7oic', 'Z', 'Q8TCC3')\n",
      "  * Error for ('7oic', 'a', 'Q9Y6G3')\n",
      "  * Error for ('7oic', 'b', 'Q8N983')\n",
      "  * Error for ('7oic', 'c', 'Q9H9J2')\n",
      "  * Error for ('7oic', 'd', 'Q9BRJ2')\n",
      "  * Error for ('7oic', 'e', 'Q9H2W6')\n",
      "  * Error for ('7oic', 'f', 'Q96GC5')\n",
      "  * Error for ('7oic', 'g', 'Q13405')\n",
      "  * Error for ('7oic', 'h', 'Q8N5N7')\n",
      "  * Error for ('7oic', 'i', 'Q4U2R6')\n",
      "  * Error for ('7oic', 'j', 'Q86TS9')\n",
      "  * Error for ('7oic', 'k', 'Q96EL3')\n",
      "  * Error for ('7oic', 'l', 'Q6P161')\n",
      "  * Error for ('7oic', 'o', 'Q9BQC6')\n",
      "  * Error for ('7oic', 'q', 'Q8TAE8')\n",
      "  * Error for ('7oic', 'r', 'Q9NVS2')\n",
      "  * Error for ('7oic', 's', 'Q9NP92')\n",
      "  * Error for ('7oic', 'u', 'Q96EH3')\n",
      "  * Error for ('7oic', 'w', 'O14561')\n",
      "  * Error for ('7oic', 'x', 'Q96CB9')\n",
      "  * Error for ('7oic', 'y', 'Q7Z6M4')\n",
      "  * Error for ('7oid', '0', 'Q9BYC8')\n",
      "  * Error for ('7oid', '1', 'O75394')\n",
      "  * Error for ('7oid', '2', 'Q9BQ48')\n",
      "  * Error for ('7oid', '5', 'Q9BZE1')\n",
      "  * Error for ('7oid', '6', 'Q96DV4')\n",
      "  * Error for ('7oid', '7', 'Q9NYK5')\n",
      "  * Error for ('7oid', '8', 'Q9NQ50')\n",
      "  * Error for ('7oid', '9', 'Q8IXM3')\n",
      "  * Error for ('7oid', 'D', 'Q5T653')\n",
      "  * Error for ('7oid', 'E', 'P09001')\n",
      "  * Error for ('7oid', 'F', 'Q9BYD3')\n",
      "  * Error for ('7oid', 'H', 'Q9BYD2')\n",
      "  * Error for ('7oid', 'I', 'Q7Z7H8')\n",
      "  * Error for ('7oid', 'J', 'Q9Y3B7')\n",
      "  * Error for ('7oid', 'K', 'Q9BYD1')\n",
      "  * Error for ('7oid', 'L', 'Q6P1L8')\n",
      "  * Error for ('7oid', 'M', 'Q9P015')\n",
      "  * Error for ('7oid', 'N', 'Q9NX20')\n",
      "  * Error for ('7oid', 'O', 'Q9NRX2')\n",
      "  * Error for ('7oid', 'P', 'Q9H0U6')\n",
      "  * Error for ('7oid', 'Q', 'P49406')\n",
      "  * Error for ('7oid', 'R', 'Q9BYC9')\n",
      "  * Error for ('7oid', 'S', 'Q7Z2W9')\n",
      "  * Error for ('7oid', 'U', 'Q16540')\n",
      "  * Error for ('7oid', 'V', 'Q96A35')\n",
      "  * Error for ('7oid', 'W', 'Q9P0M9')\n",
      "  * Error for ('7oid', 'X', 'Q13084')\n",
      "  * Error for ('7oid', 'Y', 'Q9HD33')\n",
      "  * Error for ('7oid', 'Z', 'Q8TCC3')\n",
      "  * Error for ('7oid', 'a', 'Q9Y6G3')\n",
      "  * Error for ('7oid', 'b', 'Q8N983')\n",
      "  * Error for ('7oid', 'c', 'Q9H9J2')\n",
      "  * Error for ('7oid', 'd', 'Q9BRJ2')\n",
      "  * Error for ('7oid', 'e', 'Q9H2W6')\n",
      "  * Error for ('7oid', 'f', 'Q96GC5')\n",
      "  * Error for ('7oid', 'g', 'Q13405')\n",
      "  * Error for ('7oid', 'h', 'Q8N5N7')\n",
      "  * Error for ('7oid', 'i', 'Q4U2R6')\n",
      "  * Error for ('7oid', 'j', 'Q86TS9')\n",
      "  * Error for ('7oid', 'k', 'Q96EL3')\n",
      "  * Error for ('7oid', 'l', 'Q6P161')\n",
      "  * Error for ('7oid', 'o', 'Q9BQC6')\n",
      "  * Error for ('7oid', 'q', 'Q8TAE8')\n",
      "  * Error for ('7oid', 'r', 'Q9NVS2')\n",
      "  * Error for ('7oid', 's', 'Q9NP92')\n",
      "  * Error for ('7oid', 'u', 'Q96EH3')\n",
      "  * Error for ('7oid', 'w', 'O14561')\n"
     ]
    },
    {
     "name": "stderr",
     "output_type": "stream",
     "text": [
      " 95%|█████████▍| 79165/83655 [48:28<06:33, 11.41it/s]"
     ]
    },
    {
     "name": "stdout",
     "output_type": "stream",
     "text": [
      "  * Error for ('7oiq', 'AAA', 'P84092')\n",
      "  * Error for ('7oiq', 'CCC', 'Q0JRZ9')\n",
      "  * Error for ('7oit', 'BBB', 'Q0JRZ9')\n",
      "  * Error for ('7ojo', 'A', 'Q9H2K2')\n",
      "  * Error for ('7ojo', 'AAA', 'Q9H2K2')\n",
      "  * Error for ('7ok6', 'AAA', 'A6NIH7')\n"
     ]
    },
    {
     "name": "stderr",
     "output_type": "stream",
     "text": [
      "\r",
      " 95%|█████████▍| 79171/83655 [48:28<05:04, 14.73it/s]"
     ]
    },
    {
     "name": "stdout",
     "output_type": "stream",
     "text": [
      "  * Error for ('7ok8', 'AAA', 'P00918')\n"
     ]
    },
    {
     "name": "stderr",
     "output_type": "stream",
     "text": [
      " 95%|█████████▍| 79223/83655 [48:30<02:47, 26.48it/s]"
     ]
    },
    {
     "name": "stdout",
     "output_type": "stream",
     "text": [
      "  * Error for ('7olj', 'A', 'Q9H2K2')\n",
      "  * Error for ('7olj', 'AAA', 'Q9H2K2')\n",
      "  * Error for ('7om1', 'A', 'Q9H2K2')\n",
      "  * Error for ('7om1', 'AAA', 'Q9H2K2')\n",
      "  * Error for ('7omc', 'A', 'Q9H2K2')\n",
      "  * Error for ('7omc', 'AAA', 'Q9H2K2')\n"
     ]
    },
    {
     "name": "stderr",
     "output_type": "stream",
     "text": [
      " 95%|█████████▍| 79255/83655 [48:30<01:49, 40.36it/s]"
     ]
    },
    {
     "name": "stdout",
     "output_type": "stream",
     "text": [
      "  * Error for ('7onm', 'AAA', 'P00918')\n",
      "  * Error for ('7onm', 'AAA', 'P00918')\n",
      "  * Error for ('7onp', 'AAA', 'P00918')\n",
      "  * Error for ('7onp', 'AAA', 'P00918')\n",
      "  * Error for ('7onq', 'AAA', 'P00918')\n",
      "  * Error for ('7onq', 'AAA', 'P00918')\n",
      "  * Error for ('7onv', 'AAA', 'P00918')\n"
     ]
    },
    {
     "name": "stderr",
     "output_type": "stream",
     "text": [
      " 95%|█████████▍| 79390/83655 [48:41<01:34, 45.24it/s]"
     ]
    },
    {
     "name": "stdout",
     "output_type": "stream",
     "text": [
      "  * Error for ('7orp', 'AAA', 'P00918')\n",
      "  * Error for ('7orq', 'AAA', 'P00918')\n"
     ]
    },
    {
     "name": "stderr",
     "output_type": "stream",
     "text": [
      " 95%|█████████▍| 79422/83655 [48:41<01:20, 52.35it/s]"
     ]
    },
    {
     "name": "stdout",
     "output_type": "stream",
     "text": [
      "  * Error for ('7ou6', 'AAA', 'O60502')\n"
     ]
    },
    {
     "name": "stderr",
     "output_type": "stream",
     "text": [
      " 95%|█████████▌| 79475/83655 [48:42<01:21, 51.60it/s]"
     ]
    },
    {
     "name": "stdout",
     "output_type": "stream",
     "text": [
      "  * Error for ('7oyc', 's1', 'A3KMU5')\n",
      "  * Error for ('7oyd', 't', 'P10160')\n",
      "  * Error for ('7ozb', 'AAA', 'P11362')\n",
      "  * Error for ('7ozd', 'AAA', 'P11362')\n",
      "  * Error for ('7ozf', 'AAA', 'P11362')\n"
     ]
    },
    {
     "name": "stderr",
     "output_type": "stream",
     "text": [
      " 95%|█████████▌| 79496/83655 [48:43<01:32, 44.85it/s]"
     ]
    },
    {
     "name": "stdout",
     "output_type": "stream",
     "text": [
      "  * Error for ('7ozt', 'BBB', 'P42771')\n",
      "  * Error for ('7ozy', 'AAA', 'P21802')\n"
     ]
    },
    {
     "name": "stderr",
     "output_type": "stream",
     "text": [
      " 95%|█████████▌| 79535/83655 [48:43<00:55, 74.72it/s]"
     ]
    },
    {
     "name": "stdout",
     "output_type": "stream",
     "text": [
      "  * Error for ('7p1n', 'A', 'P22303')\n",
      "  * Error for ('7p1n', 'aa', 'P22303')\n",
      "  * Error for ('7p1p', 'A', 'P22303')\n",
      "  * Error for ('7p1p', 'aa', 'P22303')\n",
      "  * Error for ('7p2z', 'AAA', 'P10253')\n",
      "  * Error for ('7p32', 'AAA', 'P10253')\n"
     ]
    },
    {
     "name": "stderr",
     "output_type": "stream",
     "text": [
      " 95%|█████████▌| 79593/83655 [48:44<01:07, 59.82it/s]"
     ]
    },
    {
     "name": "stdout",
     "output_type": "stream",
     "text": [
      "  * Error for ('7p6v', 'AAA', 'O60885')\n",
      "  * Error for ('7p6w', 'AAA', 'O60885')\n",
      "  * Error for ('7p6y', 'AAA', 'O60885')\n"
     ]
    },
    {
     "name": "stderr",
     "output_type": "stream",
     "text": [
      " 95%|█████████▌| 79653/83655 [48:45<00:43, 91.24it/s]"
     ]
    },
    {
     "name": "stdout",
     "output_type": "stream",
     "text": [
      "  * Error for ('7pbd', 'A', 'P14867')\n",
      "  * Error for ('7pbd', 'A', 'P14867')\n",
      "  * Error for ('7pbd', 'B', 'P28472')\n",
      "  * Error for ('7pbd', 'B', 'P28472')\n",
      "  * Error for ('7pbz', 'A', 'P14867')\n",
      "  * Error for ('7pbz', 'A', 'P14867')\n",
      "  * Error for ('7pbz', 'B', 'P28472')\n",
      "  * Error for ('7pbz', 'B', 'P28472')\n",
      "  * Error for ('7pc0', 'A', 'P14867')\n",
      "  * Error for ('7pc0', 'A', 'P14867')\n",
      "  * Error for ('7pc0', 'B', 'P28472')\n",
      "  * Error for ('7pc0', 'B', 'P28472')\n"
     ]
    },
    {
     "name": "stderr",
     "output_type": "stream",
     "text": [
      " 95%|█████████▌| 79723/83655 [48:45<00:33, 115.94it/s]"
     ]
    },
    {
     "name": "stdout",
     "output_type": "stream",
     "text": [
      "  * Error for ('7pd3', '0', 'Q9BYC8')\n",
      "  * Error for ('7pd3', '1', 'O75394')\n",
      "  * Error for ('7pd3', '2', 'Q9BQ48')\n",
      "  * Error for ('7pd3', '5', 'Q9BZE1')\n",
      "  * Error for ('7pd3', '6', 'Q96DV4')\n",
      "  * Error for ('7pd3', '7', 'Q9NYK5')\n",
      "  * Error for ('7pd3', '8', 'Q9NQ50')\n",
      "  * Error for ('7pd3', '9', 'Q8IXM3')\n",
      "  * Error for ('7pd3', 'C', 'Q9BYD2')\n",
      "  * Error for ('7pd3', 'D', 'Q5T653')\n",
      "  * Error for ('7pd3', 'E', 'P09001')\n",
      "  * Error for ('7pd3', 'F', 'Q9BYD3')\n",
      "  * Error for ('7pd3', 'G', 'Q7Z7H8')\n",
      "  * Error for ('7pd3', 'J', 'Q9Y3B7')\n",
      "  * Error for ('7pd3', 'K', 'Q9BYD1')\n",
      "  * Error for ('7pd3', 'L', 'Q6P1L8')\n",
      "  * Error for ('7pd3', 'M', 'Q9P015')\n",
      "  * Error for ('7pd3', 'N', 'Q9NX20')\n",
      "  * Error for ('7pd3', 'O', 'Q9NRX2')\n",
      "  * Error for ('7pd3', 'P', 'Q9H0U6')\n",
      "  * Error for ('7pd3', 'Q', 'P49406')\n",
      "  * Error for ('7pd3', 'R', 'Q9BYC9')\n",
      "  * Error for ('7pd3', 'S', 'Q7Z2W9')\n",
      "  * Error for ('7pd3', 'U', 'Q16540')\n",
      "  * Error for ('7pd3', 'V', 'Q96A35')\n",
      "  * Error for ('7pd3', 'W', 'Q9P0M9')\n",
      "  * Error for ('7pd3', 'X', 'Q13084')\n",
      "  * Error for ('7pd3', 'Y', 'Q9HD33')\n",
      "  * Error for ('7pd3', 'Z', 'Q8TCC3')\n",
      "  * Error for ('7pd3', 'a', 'Q9Y6G3')\n",
      "  * Error for ('7pd3', 'b', 'Q8N983')\n",
      "  * Error for ('7pd3', 'c', 'Q9H9J2')\n",
      "  * Error for ('7pd3', 'd', 'Q9BRJ2')\n",
      "  * Error for ('7pd3', 'e', 'Q9H2W6')\n",
      "  * Error for ('7pd3', 'f', 'Q96GC5')\n",
      "  * Error for ('7pd3', 'g', 'Q13405')\n",
      "  * Error for ('7pd3', 'h', 'Q8N5N7')\n",
      "  * Error for ('7pd3', 'i', 'Q4U2R6')\n",
      "  * Error for ('7pd3', 'j', 'Q86TS9')\n",
      "  * Error for ('7pd3', 'k', 'Q96EL3')\n",
      "  * Error for ('7pd3', 'l', 'Q6P161')\n",
      "  * Error for ('7pd3', 'o', 'Q9BQC6')\n",
      "  * Error for ('7pd3', 'q', 'Q8TAE8')\n",
      "  * Error for ('7pd3', 'r', 'Q9NVS2')\n",
      "  * Error for ('7pd3', 's', 'Q9NP92')\n",
      "  * Error for ('7pd3', 'u', 'Q96EH3')\n",
      "  * Error for ('7pd3', 'w', 'O14561')\n",
      "  * Error for ('7pd3', 'x', 'Q96CB9')\n",
      "  * Error for ('7pd3', 'y', 'Q7Z6M4')\n",
      "  * Error for ('7pd3', 'z', 'Q9BT17')\n"
     ]
    },
    {
     "name": "stderr",
     "output_type": "stream",
     "text": [
      " 95%|█████████▌| 79765/83655 [48:47<01:37, 40.02it/s] "
     ]
    },
    {
     "name": "stdout",
     "output_type": "stream",
     "text": [
      "  * Error for ('7peq', 'AC', 'Q8WUM0')\n",
      "  * Error for ('7peq', 'AD', 'P57740')\n",
      "  * Error for ('7peq', 'AE', 'P52948')\n",
      "  * Error for ('7peq', 'AF', 'P55735')\n",
      "  * Error for ('7peq', 'AG', 'Q96EE3')\n",
      "  * Error for ('7peq', 'AH', 'Q9BW27')\n",
      "  * Error for ('7peq', 'AI', 'Q8NFH3')\n",
      "  * Error for ('7peq', 'AJ', 'Q12769')\n",
      "  * Error for ('7peq', 'AK', 'Q8NFH4')\n"
     ]
    },
    {
     "name": "stderr",
     "output_type": "stream",
     "text": [
      " 95%|█████████▌| 79796/83655 [48:50<03:32, 18.20it/s]"
     ]
    },
    {
     "name": "stdout",
     "output_type": "stream",
     "text": [
      "  * Error for ('7pfo', '2', 'P49736')\n",
      "  * Error for ('7pfo', '3', 'P25205')\n",
      "  * Error for ('7pfo', '4', 'P33991')\n",
      "  * Error for ('7pfo', '5', 'P33992')\n",
      "  * Error for ('7pfo', '6', 'Q14566')\n",
      "  * Error for ('7pfo', '7', 'P33993')\n",
      "  * Error for ('7pfo', 'A', 'P56282')\n",
      "  * Error for ('7pfo', 'B', 'Q07864')\n",
      "  * Error for ('7pfo', 'C', 'O75419')\n",
      "  * Error for ('7pfo', 'C', 'O75419')\n",
      "  * Error for ('7pfo', 'D', 'Q14691')\n",
      "  * Error for ('7pfo', 'E', 'Q9Y248')\n",
      "  * Error for ('7pfo', 'F', 'Q9BRX5')\n",
      "  * Error for ('7pfo', 'G', 'Q9BRT9')\n",
      "  * Error for ('7pfo', 'H', 'O75717')\n",
      "  * Error for ('7pfo', 'K', 'Q9UNS1')\n",
      "  * Error for ('7pfo', 'L', 'Q9BVW5')\n",
      "  * Error for ('7pfo', 'Q', 'Q9HAW4')\n"
     ]
    },
    {
     "name": "stderr",
     "output_type": "stream",
     "text": [
      " 95%|█████████▌| 79834/83655 [48:51<02:28, 25.76it/s]"
     ]
    },
    {
     "name": "stdout",
     "output_type": "stream",
     "text": [
      "  * Error for ('7pi4', 'AAA', 'P40337')\n",
      "  * Error for ('7pi4', 'BBB', 'Q15370')\n",
      "  * Error for ('7pi4', 'DDD', 'Q05397')\n"
     ]
    },
    {
     "name": "stderr",
     "output_type": "stream",
     "text": [
      " 96%|█████████▌| 79910/83655 [48:52<01:14, 50.09it/s]"
     ]
    },
    {
     "name": "stdout",
     "output_type": "stream",
     "text": [
      "  * Error for ('7pks', 'I', 'P60899')\n",
      "  * Error for ('7pks', 'U', 'Q9H3P2')\n",
      "  * Error for ('7pks', 'V', 'Q8WX92')\n",
      "  * Error for ('7pks', 'W', 'Q8IXH7')\n",
      "  * Error for ('7pks', 'Z', 'O00267')\n",
      "  * Error for ('7pks', 'a', 'Q8N201')\n",
      "  * Error for ('7pks', 'b', 'Q9H0H0')\n",
      "  * Error for ('7pks', 'd', 'Q96HW7')\n",
      "  * Error for ('7pks', 'e', 'Q6P9B9')\n",
      "  * Error for ('7pks', 'f', 'Q9UL03')\n",
      "  * Error for ('7pks', 'g', 'Q9NVH2')\n",
      "  * Error for ('7pks', 'h', 'Q75QN2')\n",
      "  * Error for ('7pks', 'i', 'Q9NV88')\n",
      "  * Error for ('7pks', 'k', 'Q5TA45')\n",
      "  * Error for ('7pks', 'p', 'P30153')\n",
      "  * Error for ('7pks', 'q', 'P67775')\n",
      "  * Error for ('7plo', '2', 'P49736')\n",
      "  * Error for ('7plo', '3', 'P25205')\n",
      "  * Error for ('7plo', '4', 'P33991')\n",
      "  * Error for ('7plo', '5', 'P33992')\n",
      "  * Error for ('7plo', '6', 'Q14566')\n",
      "  * Error for ('7plo', '7', 'P33993')\n",
      "  * Error for ('7plo', 'A', 'P56282')\n",
      "  * Error for ('7plo', 'B', 'Q07864')\n",
      "  * Error for ('7plo', 'C', 'O75419')\n",
      "  * Error for ('7plo', 'C', 'O75419')\n",
      "  * Error for ('7plo', 'D', 'Q14691')\n",
      "  * Error for ('7plo', 'E', 'Q9Y248')\n",
      "  * Error for ('7plo', 'F', 'Q9BRX5')\n",
      "  * Error for ('7plo', 'G', 'Q9BRT9')\n",
      "  * Error for ('7plo', 'H', 'O75717')\n",
      "  * Error for ('7plo', 'K', 'Q9UNS1')\n",
      "  * Error for ('7plo', 'L', 'Q9BVW5')\n",
      "  * Error for ('7plo', 'O', 'Q96L50')\n",
      "  * Error for ('7plo', 'P', 'Q15370')\n",
      "  * Error for ('7plo', 'Q', 'Q9HAW4')\n",
      "  * Error for ('7plo', 'S', 'Q13617')\n"
     ]
    },
    {
     "name": "stderr",
     "output_type": "stream",
     "text": [
      " 96%|█████████▌| 80212/83655 [48:53<00:45, 75.62it/s]"
     ]
    },
    {
     "name": "stdout",
     "output_type": "stream",
     "text": [
      "  * Error for ('7pnx', '0', 'P82930')\n",
      "  * Error for ('7pnx', '1', 'P82673')\n",
      "  * Error for ('7pnx', '3', 'Q9NWT8')\n",
      "  * Error for ('7pnx', '4', 'Q96EY7')\n",
      "  * Error for ('7pnx', 'B', 'Q9Y399')\n",
      "  * Error for ('7pnx', 'C', 'Q96EL2')\n",
      "  * Error for ('7pnx', 'D', 'P82675')\n",
      "  * Error for ('7pnx', 'E', 'P82932')\n",
      "  * Error for ('7pnx', 'F', 'Q9Y2R9')\n",
      "  * Error for ('7pnx', 'G', 'P82933')\n",
      "  * Error for ('7pnx', 'H', 'P82664')\n",
      "  * Error for ('7pnx', 'I', 'P82912')\n",
      "  * Error for ('7pnx', 'J', 'O15235')\n",
      "  * Error for ('7pnx', 'K', 'O60783')\n",
      "  * Error for ('7pnx', 'L', 'P82914')\n",
      "  * Error for ('7pnx', 'M', 'Q9Y3D3')\n",
      "  * Error for ('7pnx', 'N', 'Q9Y2R5')\n",
      "  * Error for ('7pnx', 'O', 'Q9Y676')\n",
      "  * Error for ('7pnx', 'P', 'Q9Y3D5')\n",
      "  * Error for ('7pnx', 'Q', 'P82921')\n",
      "  * Error for ('7pnx', 'R', 'P82650')\n",
      "  * Error for ('7pnx', 'S', 'Q9Y3D9')\n",
      "  * Error for ('7pnx', 'T', 'P82663')\n",
      "  * Error for ('7pnx', 'U', 'Q9BYN8')\n",
      "  * Error for ('7pnx', 'V', 'Q92552')\n",
      "  * Error for ('7pnx', 'W', 'Q9Y2Q9')\n",
      "  * Error for ('7pnx', 'X', 'P51398')\n",
      "  * Error for ('7pnx', 'Y', 'Q92665')\n",
      "  * Error for ('7pnx', 'Z', 'Q9Y291')\n",
      "  * Error for ('7pnx', 'a', 'Q8N0V3')\n",
      "  * Error for ('7pnx', 'b', 'A6NJ78')\n",
      "  * Error for ('7pny', '0', 'P82930')\n",
      "  * Error for ('7pny', '1', 'P82673')\n",
      "  * Error for ('7pny', '3', 'Q9NWT8')\n",
      "  * Error for ('7pny', '4', 'Q96EY7')\n",
      "  * Error for ('7pny', 'B', 'Q9Y399')\n",
      "  * Error for ('7pny', 'C', 'Q96EL2')\n",
      "  * Error for ('7pny', 'D', 'P82675')\n",
      "  * Error for ('7pny', 'E', 'P82932')\n",
      "  * Error for ('7pny', 'F', 'Q9Y2R9')\n",
      "  * Error for ('7pny', 'G', 'P82933')\n",
      "  * Error for ('7pny', 'H', 'P82664')\n",
      "  * Error for ('7pny', 'I', 'P82912')\n",
      "  * Error for ('7pny', 'J', 'O15235')\n",
      "  * Error for ('7pny', 'K', 'O60783')\n",
      "  * Error for ('7pny', 'L', 'P82914')\n",
      "  * Error for ('7pny', 'M', 'Q9Y3D3')\n",
      "  * Error for ('7pny', 'N', 'Q9Y2R5')\n",
      "  * Error for ('7pny', 'O', 'Q9Y676')\n",
      "  * Error for ('7pny', 'P', 'Q9Y3D5')\n",
      "  * Error for ('7pny', 'Q', 'P82921')\n",
      "  * Error for ('7pny', 'R', 'P82650')\n",
      "  * Error for ('7pny', 'S', 'Q9Y3D9')\n",
      "  * Error for ('7pny', 'T', 'P82663')\n",
      "  * Error for ('7pny', 'U', 'Q9BYN8')\n",
      "  * Error for ('7pny', 'V', 'Q92552')\n",
      "  * Error for ('7pny', 'W', 'Q9Y2Q9')\n",
      "  * Error for ('7pny', 'X', 'P51398')\n",
      "  * Error for ('7pny', 'Y', 'Q92665')\n",
      "  * Error for ('7pny', 'Z', 'Q9Y291')\n",
      "  * Error for ('7pny', 'a', 'Q8N0V3')\n",
      "  * Error for ('7pny', 'b', 'A6NJ78')\n",
      "  * Error for ('7pnz', '0', 'P82930')\n",
      "  * Error for ('7pnz', '1', 'P82673')\n",
      "  * Error for ('7pnz', '3', 'Q9NWT8')\n",
      "  * Error for ('7pnz', '4', 'Q96EY7')\n",
      "  * Error for ('7pnz', 'B', 'Q9Y399')\n",
      "  * Error for ('7pnz', 'C', 'Q96EL2')\n",
      "  * Error for ('7pnz', 'D', 'P82675')\n",
      "  * Error for ('7pnz', 'E', 'P82932')\n",
      "  * Error for ('7pnz', 'F', 'Q9Y2R9')\n",
      "  * Error for ('7pnz', 'G', 'P82933')\n",
      "  * Error for ('7pnz', 'H', 'P82664')\n",
      "  * Error for ('7pnz', 'I', 'P82912')\n",
      "  * Error for ('7pnz', 'J', 'O15235')\n",
      "  * Error for ('7pnz', 'K', 'O60783')\n",
      "  * Error for ('7pnz', 'L', 'P82914')\n",
      "  * Error for ('7pnz', 'M', 'Q9Y3D3')\n",
      "  * Error for ('7pnz', 'N', 'Q9Y2R5')\n",
      "  * Error for ('7pnz', 'O', 'Q9Y676')\n",
      "  * Error for ('7pnz', 'P', 'Q9Y3D5')\n",
      "  * Error for ('7pnz', 'Q', 'P82921')\n",
      "  * Error for ('7pnz', 'R', 'P82650')\n",
      "  * Error for ('7pnz', 'S', 'Q9Y3D9')\n",
      "  * Error for ('7pnz', 'T', 'P82663')\n",
      "  * Error for ('7pnz', 'U', 'Q9BYN8')\n",
      "  * Error for ('7pnz', 'V', 'Q92552')\n",
      "  * Error for ('7pnz', 'W', 'Q9Y2Q9')\n",
      "  * Error for ('7pnz', 'X', 'P51398')\n",
      "  * Error for ('7pnz', 'Y', 'Q92665')\n",
      "  * Error for ('7pnz', 'Z', 'Q9Y291')\n",
      "  * Error for ('7pnz', 'a', 'Q8N0V3')\n",
      "  * Error for ('7pnz', 'b', 'A6NJ78')\n",
      "  * Error for ('7po0', '0', 'P82930')\n",
      "  * Error for ('7po0', '1', 'P82673')\n",
      "  * Error for ('7po0', '3', 'Q9NWT8')\n",
      "  * Error for ('7po0', '4', 'Q96EY7')\n",
      "  * Error for ('7po0', 'B', 'Q9Y399')\n",
      "  * Error for ('7po0', 'C', 'Q96EL2')\n",
      "  * Error for ('7po0', 'D', 'P82675')\n",
      "  * Error for ('7po0', 'E', 'P82932')\n",
      "  * Error for ('7po0', 'F', 'Q9Y2R9')\n",
      "  * Error for ('7po0', 'G', 'P82933')\n",
      "  * Error for ('7po0', 'H', 'P82664')\n",
      "  * Error for ('7po0', 'I', 'P82912')\n",
      "  * Error for ('7po0', 'J', 'O15235')\n",
      "  * Error for ('7po0', 'K', 'O60783')\n",
      "  * Error for ('7po0', 'L', 'P82914')\n",
      "  * Error for ('7po0', 'M', 'Q9Y3D3')\n",
      "  * Error for ('7po0', 'N', 'Q9Y2R5')\n",
      "  * Error for ('7po0', 'O', 'Q9Y676')\n",
      "  * Error for ('7po0', 'P', 'Q9Y3D5')\n",
      "  * Error for ('7po0', 'Q', 'P82921')\n",
      "  * Error for ('7po0', 'R', 'P82650')\n",
      "  * Error for ('7po0', 'S', 'Q9Y3D9')\n",
      "  * Error for ('7po0', 'T', 'P82663')\n",
      "  * Error for ('7po0', 'U', 'Q9BYN8')\n",
      "  * Error for ('7po0', 'V', 'Q92552')\n",
      "  * Error for ('7po0', 'W', 'Q9Y2Q9')\n",
      "  * Error for ('7po0', 'X', 'P51398')\n",
      "  * Error for ('7po0', 'Y', 'Q92665')\n",
      "  * Error for ('7po0', 'Z', 'Q9Y291')\n",
      "  * Error for ('7po0', 'a', 'Q8N0V3')\n",
      "  * Error for ('7po1', '0', 'P82930')\n",
      "  * Error for ('7po1', '1', 'P82673')\n",
      "  * Error for ('7po1', '2', 'Q96BP2')\n",
      "  * Error for ('7po1', '3', 'Q9NWT8')\n",
      "  * Error for ('7po1', '4', 'Q96EY7')\n",
      "  * Error for ('7po1', 'B', 'Q9Y399')\n",
      "  * Error for ('7po1', 'C', 'Q96EL2')\n",
      "  * Error for ('7po1', 'D', 'P82675')\n",
      "  * Error for ('7po1', 'E', 'P82932')\n",
      "  * Error for ('7po1', 'F', 'Q9Y2R9')\n",
      "  * Error for ('7po1', 'G', 'P82933')\n",
      "  * Error for ('7po1', 'H', 'P82664')\n",
      "  * Error for ('7po1', 'I', 'P82912')\n",
      "  * Error for ('7po1', 'J', 'O15235')\n",
      "  * Error for ('7po1', 'K', 'O60783')\n",
      "  * Error for ('7po1', 'L', 'P82914')\n",
      "  * Error for ('7po1', 'M', 'Q9Y3D3')\n",
      "  * Error for ('7po1', 'N', 'Q9Y2R5')\n",
      "  * Error for ('7po1', 'O', 'Q9Y676')\n",
      "  * Error for ('7po1', 'P', 'Q9Y3D5')\n",
      "  * Error for ('7po1', 'Q', 'P82921')\n",
      "  * Error for ('7po1', 'R', 'P82650')\n",
      "  * Error for ('7po1', 'S', 'Q9Y3D9')\n",
      "  * Error for ('7po1', 'T', 'P82663')\n",
      "  * Error for ('7po1', 'U', 'Q9BYN8')\n",
      "  * Error for ('7po1', 'V', 'Q92552')\n",
      "  * Error for ('7po1', 'W', 'Q9Y2Q9')\n",
      "  * Error for ('7po1', 'X', 'P51398')\n",
      "  * Error for ('7po1', 'Y', 'Q92665')\n",
      "  * Error for ('7po1', 'Z', 'Q9Y291')\n",
      "  * Error for ('7po2', '0', 'P82930')\n",
      "  * Error for ('7po2', '1', 'P82673')\n",
      "  * Error for ('7po2', '2', 'Q96BP2')\n",
      "  * Error for ('7po2', '3', 'Q9NWT8')\n",
      "  * Error for ('7po2', '4', 'Q96EY7')\n",
      "  * Error for ('7po2', '7', 'P46199')\n",
      "  * Error for ('7po2', 'B', 'Q9Y399')\n",
      "  * Error for ('7po2', 'C', 'Q96EL2')\n",
      "  * Error for ('7po2', 'D', 'P82675')\n",
      "  * Error for ('7po2', 'E', 'P82932')\n",
      "  * Error for ('7po2', 'F', 'Q9Y2R9')\n",
      "  * Error for ('7po2', 'G', 'P82933')\n",
      "  * Error for ('7po2', 'H', 'P82664')\n",
      "  * Error for ('7po2', 'I', 'P82912')\n",
      "  * Error for ('7po2', 'J', 'O15235')\n",
      "  * Error for ('7po2', 'K', 'O60783')\n",
      "  * Error for ('7po2', 'L', 'P82914')\n",
      "  * Error for ('7po2', 'M', 'Q9Y3D3')\n",
      "  * Error for ('7po2', 'N', 'Q9Y2R5')\n",
      "  * Error for ('7po2', 'O', 'Q9Y676')\n",
      "  * Error for ('7po2', 'P', 'Q9Y3D5')\n",
      "  * Error for ('7po2', 'Q', 'P82921')\n",
      "  * Error for ('7po2', 'R', 'P82650')\n",
      "  * Error for ('7po2', 'S', 'Q9Y3D9')\n",
      "  * Error for ('7po2', 'T', 'P82663')\n",
      "  * Error for ('7po2', 'U', 'Q9BYN8')\n",
      "  * Error for ('7po2', 'V', 'Q92552')\n",
      "  * Error for ('7po2', 'W', 'Q9Y2Q9')\n",
      "  * Error for ('7po2', 'X', 'P51398')\n",
      "  * Error for ('7po2', 'Y', 'Q92665')\n",
      "  * Error for ('7po2', 'Z', 'Q9Y291')\n",
      "  * Error for ('7po2', 't', 'P52815')\n",
      "  * Error for ('7po3', '0', 'P82930')\n",
      "  * Error for ('7po3', '1', 'P82673')\n",
      "  * Error for ('7po3', '2', 'Q96BP2')\n",
      "  * Error for ('7po3', '3', 'Q9NWT8')\n",
      "  * Error for ('7po3', '4', 'Q96EY7')\n",
      "  * Error for ('7po3', 'B', 'Q9Y399')\n",
      "  * Error for ('7po3', 'C', 'Q96EL2')\n",
      "  * Error for ('7po3', 'D', 'P82675')\n",
      "  * Error for ('7po3', 'E', 'P82932')\n",
      "  * Error for ('7po3', 'F', 'Q9Y2R9')\n",
      "  * Error for ('7po3', 'G', 'P82933')\n",
      "  * Error for ('7po3', 'H', 'P82664')\n",
      "  * Error for ('7po3', 'I', 'P82912')\n",
      "  * Error for ('7po3', 'J', 'O15235')\n",
      "  * Error for ('7po3', 'K', 'O60783')\n",
      "  * Error for ('7po3', 'L', 'P82914')\n",
      "  * Error for ('7po3', 'M', 'Q9Y3D3')\n",
      "  * Error for ('7po3', 'N', 'Q9Y2R5')\n",
      "  * Error for ('7po3', 'O', 'Q9Y676')\n",
      "  * Error for ('7po3', 'P', 'Q9Y3D5')\n",
      "  * Error for ('7po3', 'Q', 'P82921')\n",
      "  * Error for ('7po3', 'R', 'P82650')\n",
      "  * Error for ('7po3', 'S', 'Q9Y3D9')\n",
      "  * Error for ('7po3', 'T', 'P82663')\n",
      "  * Error for ('7po3', 'U', 'Q9BYN8')\n",
      "  * Error for ('7po3', 'V', 'Q92552')\n",
      "  * Error for ('7po3', 'W', 'Q9Y2Q9')\n",
      "  * Error for ('7po3', 'X', 'P51398')\n",
      "  * Error for ('7po3', 'Y', 'Q92665')\n",
      "  * Error for ('7po3', 'Z', 'Q9Y291')\n",
      "  * Error for ('7po4', '0', 'Q9BYC8')\n",
      "  * Error for ('7po4', '1', 'O75394')\n",
      "  * Error for ('7po4', '2', 'Q9BQ48')\n",
      "  * Error for ('7po4', '5', 'Q9BZE1')\n",
      "  * Error for ('7po4', '6', 'Q96DV4')\n",
      "  * Error for ('7po4', '7', 'Q9NYK5')\n",
      "  * Error for ('7po4', '8', 'Q9NQ50')\n",
      "  * Error for ('7po4', '9', 'Q8IXM3')\n",
      "  * Error for ('7po4', 'D', 'Q5T653')\n",
      "  * Error for ('7po4', 'E', 'P09001')\n",
      "  * Error for ('7po4', 'F', 'Q9BYD3')\n",
      "  * Error for ('7po4', 'H', 'Q9BYD2')\n",
      "  * Error for ('7po4', 'I', 'Q7Z7H8')\n",
      "  * Error for ('7po4', 'J', 'Q9Y3B7')\n",
      "  * Error for ('7po4', 'K', 'Q9BYD1')\n",
      "  * Error for ('7po4', 'L', 'Q6P1L8')\n",
      "  * Error for ('7po4', 'M', 'Q9P015')\n",
      "  * Error for ('7po4', 'N', 'Q9NX20')\n",
      "  * Error for ('7po4', 'O', 'Q9NRX2')\n",
      "  * Error for ('7po4', 'P', 'Q9H0U6')\n",
      "  * Error for ('7po4', 'Q', 'P49406')\n",
      "  * Error for ('7po4', 'R', 'Q9BYC9')\n",
      "  * Error for ('7po4', 'S', 'Q7Z2W9')\n",
      "  * Error for ('7po4', 'U', 'Q16540')\n",
      "  * Error for ('7po4', 'V', 'Q96A35')\n",
      "  * Error for ('7po4', 'W', 'Q9P0M9')\n",
      "  * Error for ('7po4', 'X', 'Q13084')\n",
      "  * Error for ('7po4', 'Y', 'Q9HD33')\n",
      "  * Error for ('7po4', 'Z', 'Q8TCC3')\n",
      "  * Error for ('7po4', 'a', 'Q9Y6G3')\n",
      "  * Error for ('7po4', 'b', 'Q8N983')\n",
      "  * Error for ('7po4', 'c', 'Q9H9J2')\n",
      "  * Error for ('7po4', 'd', 'Q9BRJ2')\n",
      "  * Error for ('7po4', 'e', 'Q9H2W6')\n",
      "  * Error for ('7po4', 'f', 'Q96GC5')\n",
      "  * Error for ('7po4', 'g', 'Q13405')\n",
      "  * Error for ('7po4', 'h', 'Q8N5N7')\n",
      "  * Error for ('7po4', 'i', 'Q4U2R6')\n",
      "  * Error for ('7po4', 'j', 'Q86TS9')\n",
      "  * Error for ('7po4', 'k', 'Q96EL3')\n",
      "  * Error for ('7po4', 'l', 'Q6P161')\n",
      "  * Error for ('7po4', 'o', 'Q9BQC6')\n",
      "  * Error for ('7po4', 'q', 'Q8TAE8')\n",
      "  * Error for ('7po4', 'r', 'Q9NVS2')\n",
      "  * Error for ('7po4', 's', 'Q9NP92')\n",
      "  * Error for ('7po4', 't', 'P52815')\n",
      "  * Error for ('7po4', 'za', 'Q96EH3')\n",
      "  * Error for ('7po4', 'zc', 'O14561')\n",
      "  * Error for ('7pox', 'AAA', 'Q9H2K2')\n"
     ]
    },
    {
     "name": "stdout",
     "output_type": "stream",
     "text": [
      "  * Error for ('7pqn', 'A', 'O00187')\n",
      "  * Error for ('7pqn', 'B', 'O00187')\n",
      "  * Error for ('7pqo', 'A', 'P48740')\n",
      "  * Error for ('7pus', 'AAA', 'Q13164')\n",
      "  * Error for ('7q2u', 'AAA', 'P49773')\n"
     ]
    },
    {
     "name": "stderr",
     "output_type": "stream",
     "text": [
      " 96%|█████████▌| 80365/83655 [48:56<00:57, 56.95it/s]"
     ]
    },
    {
     "name": "stdout",
     "output_type": "stream",
     "text": [
      "  * Error for ('7q5t', 'AAA', 'P43405')\n",
      "  * Error for ('7q5t', 'GGG', 'P30273')\n",
      "  * Error for ('7q5u', 'AAA', 'P43405')\n",
      "  * Error for ('7q5u', 'GGG', 'P09693')\n",
      "  * Error for ('7q5w', 'AAA', 'P43405')\n",
      "  * Error for ('7q5w', 'GGG', 'O43914')\n",
      "  * Error for ('7q63', 'AAA', 'P43405')\n",
      "  * Error for ('7q6h', 'AAA', 'P52333')\n",
      "  * Error for ('7q9q', 'BBB', 'O43924')\n",
      "  * Error for ('7q9r', 'BBB', 'O43924')\n",
      "  * Error for ('7q9s', 'AAA', 'O43924')\n",
      "  * Error for ('7q9u', 'CCC', 'O43924')\n",
      "  * Error for ('7qb1', 'AAA', 'P37231')\n",
      "  * Error for ('7qbh', 'AAA', 'P00918')\n"
     ]
    },
    {
     "name": "stderr",
     "output_type": "stream",
     "text": [
      " 96%|█████████▌| 80471/83655 [48:59<01:17, 41.14it/s]"
     ]
    },
    {
     "name": "stdout",
     "output_type": "stream",
     "text": [
      "  * Error for ('7qf9', 'AAA', 'O43924')\n",
      "  * Error for ('7qgf', 'AAA', 'P01308')\n",
      "  * Error for ('7qgf', 'BBB', 'P01308')\n"
     ]
    },
    {
     "name": "stderr",
     "output_type": "stream",
     "text": [
      " 96%|█████████▋| 80628/83655 [49:09<02:53, 17.49it/s]"
     ]
    },
    {
     "name": "stdout",
     "output_type": "stream",
     "text": [
      "  * Error for ('7qi4', '0', 'Q9BYC8')\n",
      "  * Error for ('7qi4', '1', 'O75394')\n",
      "  * Error for ('7qi4', '2', 'Q9BQ48')\n",
      "  * Error for ('7qi4', '5', 'Q9BZE1')\n",
      "  * Error for ('7qi4', '6', 'Q96DV4')\n",
      "  * Error for ('7qi4', '7', 'Q9NYK5')\n",
      "  * Error for ('7qi4', '8', 'Q9NQ50')\n",
      "  * Error for ('7qi4', '9', 'Q8IXM3')\n",
      "  * Error for ('7qi4', 'A0', 'P82930')\n",
      "  * Error for ('7qi4', 'A1', 'P82673')\n",
      "  * Error for ('7qi4', 'A2', 'Q96BP2')\n",
      "  * Error for ('7qi4', 'A3', 'Q9NWT8')\n",
      "  * Error for ('7qi4', 'A4', 'Q96EY7')\n",
      "  * Error for ('7qi4', 'AB', 'Q9Y399')\n",
      "  * Error for ('7qi4', 'AC', 'Q96EL2')\n",
      "  * Error for ('7qi4', 'AD', 'P82675')\n",
      "  * Error for ('7qi4', 'AE', 'P82932')\n",
      "  * Error for ('7qi4', 'AF', 'Q9Y2R9')\n",
      "  * Error for ('7qi4', 'AG', 'P82933')\n",
      "  * Error for ('7qi4', 'AH', 'P82664')\n",
      "  * Error for ('7qi4', 'AI', 'P82912')\n",
      "  * Error for ('7qi4', 'AJ', 'O15235')\n",
      "  * Error for ('7qi4', 'AK', 'O60783')\n",
      "  * Error for ('7qi4', 'AL', 'P82914')\n",
      "  * Error for ('7qi4', 'AN', 'Q9Y2R5')\n",
      "  * Error for ('7qi4', 'AO', 'Q9Y676')\n",
      "  * Error for ('7qi4', 'AP', 'Q9Y3D5')\n",
      "  * Error for ('7qi4', 'AR', 'P82650')\n",
      "  * Error for ('7qi4', 'AS', 'Q9Y3D9')\n",
      "  * Error for ('7qi4', 'AT', 'P82663')\n",
      "  * Error for ('7qi4', 'AU', 'Q9BYN8')\n",
      "  * Error for ('7qi4', 'AV', 'Q92552')\n",
      "  * Error for ('7qi4', 'AW', 'Q9Y2Q9')\n",
      "  * Error for ('7qi4', 'AX', 'P51398')\n",
      "  * Error for ('7qi4', 'AY', 'Q92665')\n",
      "  * Error for ('7qi4', 'AZ', 'Q9Y291')\n",
      "  * Error for ('7qi4', 'D', 'Q5T653')\n",
      "  * Error for ('7qi4', 'E', 'P09001')\n",
      "  * Error for ('7qi4', 'F', 'Q9BYD3')\n",
      "  * Error for ('7qi4', 'H', 'Q9BYD2')\n",
      "  * Error for ('7qi4', 'I', 'Q7Z7H8')\n",
      "  * Error for ('7qi4', 'J', 'Q9Y3B7')\n",
      "  * Error for ('7qi4', 'K', 'Q9BYD1')\n",
      "  * Error for ('7qi4', 'L', 'Q6P1L8')\n",
      "  * Error for ('7qi4', 'N', 'Q9NX20')\n",
      "  * Error for ('7qi4', 'O', 'Q9NRX2')\n",
      "  * Error for ('7qi4', 'P', 'Q9H0U6')\n",
      "  * Error for ('7qi4', 'Q', 'P49406')\n",
      "  * Error for ('7qi4', 'R', 'Q9BYC9')\n",
      "  * Error for ('7qi4', 'U', 'Q16540')\n",
      "  * Error for ('7qi4', 'V', 'Q96A35')\n",
      "  * Error for ('7qi4', 'W', 'Q9P0M9')\n",
      "  * Error for ('7qi4', 'X', 'Q13084')\n",
      "  * Error for ('7qi4', 'Y', 'Q9HD33')\n",
      "  * Error for ('7qi4', 'Z', 'Q8TCC3')\n",
      "  * Error for ('7qi4', 'b', 'Q8N983')\n",
      "  * Error for ('7qi4', 'c', 'Q9H9J2')\n",
      "  * Error for ('7qi4', 'd', 'Q9BRJ2')\n",
      "  * Error for ('7qi4', 'e', 'Q9H2W6')\n",
      "  * Error for ('7qi4', 'f', 'Q96GC5')\n",
      "  * Error for ('7qi4', 'g', 'Q13405')\n",
      "  * Error for ('7qi4', 'h', 'Q8N5N7')\n",
      "  * Error for ('7qi4', 'j', 'Q86TS9')\n",
      "  * Error for ('7qi4', 'k', 'Q96EL3')\n",
      "  * Error for ('7qi4', 'o', 'Q9BQC6')\n",
      "  * Error for ('7qi4', 'q', 'Q8TAE8')\n",
      "  * Error for ('7qi4', 'r', 'Q9NVS2')\n",
      "  * Error for ('7qi4', 's', 'Q9NP92')\n",
      "  * Error for ('7qi4', 't', 'P52815')\n",
      "  * Error for ('7qi4', 'z', 'Q9BYD6')\n"
     ]
    },
    {
     "name": "stderr",
     "output_type": "stream",
     "text": [
      " 96%|█████████▋| 80680/83655 [49:15<04:54, 10.11it/s]"
     ]
    },
    {
     "name": "stdout",
     "output_type": "stream",
     "text": [
      "  * Error for ('7qj5', '1', 'P23258')\n",
      "  * Error for ('7qj5', 'A', 'Q9BSJ2')\n",
      "  * Error for ('7qj5', 'B', 'Q96CW5')\n",
      "  * Error for ('7qj5', 'I', 'Q9UGJ1')\n",
      "  * Error for ('7qj5', 'J', 'Q96RT8')\n",
      "  * Error for ('7qj5', 'L', 'Q96RT7')\n",
      "  * Error for ('7qj5', 'b', 'Q08AG7')\n"
     ]
    },
    {
     "name": "stderr",
     "output_type": "stream",
     "text": [
      "\r",
      " 96%|█████████▋| 80689/83655 [49:17<06:46,  7.29it/s]"
     ]
    },
    {
     "name": "stdout",
     "output_type": "stream",
     "text": [
      "  * Error for ('7qj7', 'A', 'Q9BSJ2')\n",
      "  * Error for ('7qj7', 'B', 'Q96CW5')\n",
      "  * Error for ('7qj7', 'I', 'Q9UGJ1')\n",
      "  * Error for ('7qj7', 'J', 'Q96RT8')\n",
      "  * Error for ('7qj7', 'L', 'Q96RT7')\n",
      "  * Error for ('7qj7', 'O', 'P23258')\n",
      "  * Error for ('7qj7', 'b', 'Q08AG7')\n",
      "  * Error for ('7qj8', '1', 'P23258')\n",
      "  * Error for ('7qj8', 'C', 'Q9BSJ2')\n",
      "  * Error for ('7qj8', 'D', 'Q96CW5')\n",
      "  * Error for ('7qj8', 'I', 'Q9UGJ1')\n",
      "  * Error for ('7qj8', 'J', 'Q96RT8')\n",
      "  * Error for ('7qj8', 'L', 'Q96RT7')\n",
      "  * Error for ('7qj8', 'b', 'Q08AG7')\n"
     ]
    },
    {
     "name": "stderr",
     "output_type": "stream",
     "text": [
      " 97%|█████████▋| 80738/83655 [49:19<05:28,  8.89it/s]"
     ]
    },
    {
     "name": "stdout",
     "output_type": "stream",
     "text": [
      "  * Error for ('7qja', 'A', 'Q9BSJ2')\n",
      "  * Error for ('7qja', 'B', 'Q96CW5')\n",
      "  * Error for ('7qja', 'I', 'Q9UGJ1')\n",
      "  * Error for ('7qja', 'J', 'Q96RT8')\n",
      "  * Error for ('7qja', 'L', 'Q96RT7')\n",
      "  * Error for ('7qja', 'O', 'P23258')\n",
      "  * Error for ('7qja', 'b', 'Q08AG7')\n",
      "  * Error for ('7qjb', '1', 'P23258')\n",
      "  * Error for ('7qjb', 'C', 'Q9BSJ2')\n",
      "  * Error for ('7qjb', 'D', 'Q96CW5')\n",
      "  * Error for ('7qjb', 'I', 'Q9UGJ1')\n",
      "  * Error for ('7qjb', 'J', 'Q96RT8')\n",
      "  * Error for ('7qjb', 'L', 'Q96RT7')\n",
      "  * Error for ('7qjb', 'b', 'Q08AG7')\n",
      "  * Error for ('7qjc', '1', 'P23258')\n",
      "  * Error for ('7qjc', 'A', 'Q9BSJ2')\n",
      "  * Error for ('7qjc', 'B', 'Q96CW5')\n",
      "  * Error for ('7qjc', 'I', 'Q9UGJ1')\n",
      "  * Error for ('7qjc', 'J', 'Q96RT8')\n",
      "  * Error for ('7qjc', 'L', 'Q96RT7')\n",
      "  * Error for ('7qjc', 'b', 'Q08AG7')\n",
      "  * Error for ('7qjd', '1', 'P23258')\n",
      "  * Error for ('7qjd', 'A', 'Q9BSJ2')\n",
      "  * Error for ('7qjd', 'B', 'Q96CW5')\n",
      "  * Error for ('7qjd', 'I', 'Q9UGJ1')\n",
      "  * Error for ('7qjd', 'J', 'Q96RT8')\n",
      "  * Error for ('7qjd', 'L', 'Q96RT7')\n",
      "  * Error for ('7qjd', 'b', 'Q08AG7')\n"
     ]
    },
    {
     "name": "stderr",
     "output_type": "stream",
     "text": [
      "\r",
      " 97%|█████████▋| 80750/83655 [49:20<04:08, 11.71it/s]"
     ]
    },
    {
     "name": "stdout",
     "output_type": "stream",
     "text": [
      "  * Error for ('7qjk', 'AAA', 'O43924')\n"
     ]
    },
    {
     "name": "stderr",
     "output_type": "stream",
     "text": [
      " 97%|█████████▋| 80869/83655 [49:21<01:03, 43.76it/s]"
     ]
    },
    {
     "name": "stdout",
     "output_type": "stream",
     "text": [
      "  * Error for ('7qp6', '1', 'P55884')\n",
      "  * Error for ('7qp6', '3', 'Q9UBQ5')\n",
      "  * Error for ('7qp6', '4', 'O00303')\n",
      "  * Error for ('7qp6', '5', 'Q9Y262')\n",
      "  * Error for ('7qp6', '6', 'Q7L2H7')\n",
      "  * Error for ('7qp6', '8', 'O15372')\n",
      "  * Error for ('7qp6', 'F', 'P62861')\n",
      "  * Error for ('7qp6', 'L', 'P15880')\n",
      "  * Error for ('7qp6', 'M', 'P08708')\n",
      "  * Error for ('7qp6', 'N', 'P08865')\n",
      "  * Error for ('7qp6', 'O', 'P61247')\n",
      "  * Error for ('7qp6', 'V', 'P46782')\n",
      "  * Error for ('7qp6', 'a', 'P46783')\n",
      "  * Error for ('7qp6', 'd', 'P39019')\n",
      "  * Error for ('7qp6', 'k', 'P62979')\n",
      "  * Error for ('7qp6', 'o', 'O75821')\n",
      "  * Error for ('7qp6', 'p', 'P41567')\n",
      "  * Error for ('7qp6', 'q', 'P47813')\n",
      "  * Error for ('7qp6', 'r', 'P05198')\n",
      "  * Error for ('7qp6', 's', 'P20042')\n",
      "  * Error for ('7qp6', 't', 'P41091')\n",
      "  * Error for ('7qp6', 'u', 'Q14152')\n",
      "  * Error for ('7qp6', 'v', 'P60228')\n",
      "  * Error for ('7qp6', 'x', 'O15371')\n",
      "  * Error for ('7qp6', 'y', 'Q99613')\n",
      "  * Error for ('7qp7', '1', 'P55884')\n",
      "  * Error for ('7qp7', '3', 'Q9UBQ5')\n",
      "  * Error for ('7qp7', '4', 'O00303')\n",
      "  * Error for ('7qp7', '5', 'Q9Y262')\n",
      "  * Error for ('7qp7', '6', 'Q7L2H7')\n",
      "  * Error for ('7qp7', '8', 'O15372')\n",
      "  * Error for ('7qp7', 'F', 'P62861')\n",
      "  * Error for ('7qp7', 'L', 'P15880')\n",
      "  * Error for ('7qp7', 'M', 'P08708')\n",
      "  * Error for ('7qp7', 'N', 'P08865')\n",
      "  * Error for ('7qp7', 'O', 'P61247')\n",
      "  * Error for ('7qp7', 'V', 'P46782')\n",
      "  * Error for ('7qp7', 'a', 'P46783')\n",
      "  * Error for ('7qp7', 'd', 'P39019')\n",
      "  * Error for ('7qp7', 'k', 'P62979')\n",
      "  * Error for ('7qp7', 'o', 'O75821')\n",
      "  * Error for ('7qp7', 'q', 'P47813')\n",
      "  * Error for ('7qp7', 'r', 'P05198')\n",
      "  * Error for ('7qp7', 't', 'P41091')\n",
      "  * Error for ('7qp7', 'u', 'Q14152')\n",
      "  * Error for ('7qp7', 'v', 'P60228')\n",
      "  * Error for ('7qp7', 'x', 'O15371')\n",
      "  * Error for ('7qp7', 'y', 'Q99613')\n"
     ]
    },
    {
     "name": "stderr",
     "output_type": "stream",
     "text": [
      " 97%|█████████▋| 80894/83655 [49:22<00:55, 49.86it/s]"
     ]
    },
    {
     "name": "stdout",
     "output_type": "stream",
     "text": [
      "  * Error for ('7qsr', 'A', 'Q13018')\n"
     ]
    },
    {
     "name": "stderr",
     "output_type": "stream",
     "text": [
      " 97%|█████████▋| 80916/83655 [49:22<00:43, 62.42it/s]"
     ]
    },
    {
     "name": "stdout",
     "output_type": "stream",
     "text": [
      "  * Error for ('7qwq', 't', 'Q13765')\n",
      "  * Error for ('7qwq', 'u', 'P20290')\n",
      "  * Error for ('7qwq', 'v', 'Q9UHB9')\n",
      "  * Error for ('7qwq', 'x', 'P61011')\n",
      "  * Error for ('7qwr', 't', 'Q13765')\n",
      "  * Error for ('7qwr', 'u', 'P20290')\n",
      "  * Error for ('7qws', 'K', 'Q8N0Z6')\n",
      "  * Error for ('7qws', 't', 'Q13765')\n"
     ]
    },
    {
     "name": "stderr",
     "output_type": "stream",
     "text": [
      " 97%|█████████▋| 80945/83655 [49:22<00:40, 67.23it/s]"
     ]
    },
    {
     "name": "stdout",
     "output_type": "stream",
     "text": [
      "  * Error for ('7r1o', 'AAA', 'Q13501')\n",
      "  * Error for ('7r5k', '00', 'P49792')\n",
      "  * Error for ('7r5k', '10', 'Q8TEM1')\n",
      "  * Error for ('7r5k', '40', 'Q9NRG9')\n",
      "  * Error for ('7r5k', 'A0', 'Q8N1F7')\n",
      "  * Error for ('7r5k', 'B0', 'Q5SRE5')\n",
      "  * Error for ('7r5k', 'C0', 'Q92621')\n",
      "  * Error for ('7r5k', 'D0', 'O75694')\n",
      "  * Error for ('7r5k', 'E0', 'Q9BTX1')\n",
      "  * Error for ('7r5k', 'F0', 'Q8NFH5')\n",
      "  * Error for ('7r5k', 'H0', 'Q7Z3B4')\n",
      "  * Error for ('7r5k', 'I0', 'Q9BVL2')\n",
      "  * Error for ('7r5k', 'J0', 'P37198')\n",
      "  * Error for ('7r5k', 'K0', 'Q8WUM0')\n",
      "  * Error for ('7r5k', 'L0', 'P57740')\n",
      "  * Error for ('7r5k', 'M0', 'P52948')\n",
      "  * Error for ('7r5k', 'N0', 'P55735')\n",
      "  * Error for ('7r5k', 'O0', 'Q96EE3')\n",
      "  * Error for ('7r5k', 'P0', 'Q9BW27')\n",
      "  * Error for ('7r5k', 'Q0', 'Q8NFH3')\n",
      "  * Error for ('7r5k', 'R0', 'Q12769')\n",
      "  * Error for ('7r5k', 'T0', 'Q8WYP5')\n",
      "  * Error for ('7r5k', 'U0', 'P52948')\n",
      "  * Error for ('7r5k', 'V0', 'P35658')\n",
      "  * Error for ('7r5k', 'W0', 'Q99567')\n"
     ]
    },
    {
     "name": "stderr",
     "output_type": "stream",
     "text": [
      " 97%|█████████▋| 81045/83655 [49:24<00:39, 66.21it/s]"
     ]
    },
    {
     "name": "stdout",
     "output_type": "stream",
     "text": [
      "  * Error for ('7r8u', 'AAA', 'P78380')\n"
     ]
    },
    {
     "name": "stderr",
     "output_type": "stream",
     "text": [
      " 97%|█████████▋| 81262/83655 [49:27<00:41, 57.70it/s]"
     ]
    },
    {
     "name": "stdout",
     "output_type": "stream",
     "text": [
      "  * Error for ('7rro', '0', 'Q32L77')\n",
      "  * Error for ('7rro', '3', 'F1N7G5')\n",
      "  * Error for ('7rro', '5', 'Q5E9Y9')\n",
      "  * Error for ('7rro', '8', 'Q2TA11')\n",
      "  * Error for ('7rro', 'A0', 'Q32KZ9')\n",
      "  * Error for ('7rro', 'AB', 'Q3MHM5')\n",
      "  * Error for ('7rro', 'B0', 'Q2T9Q6')\n",
      "  * Error for ('7rro', 'C', 'Q32L75')\n",
      "  * Error for ('7rro', 'C0', 'A6H782')\n",
      "  * Error for ('7rro', 'D0', 'Q2TA38')\n",
      "  * Error for ('7rro', 'G', 'A0A3Q1LFK7')\n",
      "  * Error for ('7rro', 'H', 'Q2TBR5')\n",
      "  * Error for ('7rro', 'H1', 'F1N2N9')\n",
      "  * Error for ('7rro', 'H4', 'A7MBH5')\n",
      "  * Error for ('7rro', 'I3', 'Q32L26')\n",
      "  * Error for ('7rro', 'XA', 'Q6B857')\n",
      "  * Error for ('7rro', 'y', 'Q32P67')\n"
     ]
    },
    {
     "name": "stderr",
     "output_type": "stream",
     "text": [
      " 97%|█████████▋| 81346/83655 [49:30<00:38, 59.53it/s]"
     ]
    },
    {
     "name": "stdout",
     "output_type": "stream",
     "text": [
      "  * Error for ('7ry5', 'AAA', 'P29373')\n"
     ]
    },
    {
     "name": "stderr",
     "output_type": "stream",
     "text": [
      " 97%|█████████▋| 81495/83655 [49:32<00:34, 62.29it/s]"
     ]
    },
    {
     "name": "stdout",
     "output_type": "stream",
     "text": [
      "  * Error for ('7sfd', 'A', 'P26358')\n"
     ]
    },
    {
     "name": "stderr",
     "output_type": "stream",
     "text": [
      " 98%|█████████▊| 81589/83655 [49:34<00:29, 70.67it/s]"
     ]
    },
    {
     "name": "stdout",
     "output_type": "stream",
     "text": [
      "  * Error for ('7som', 'T', 'P93107')\n",
      "  * Error for ('7sqc', 'B0', 'A8IUG5')\n",
      "  * Error for ('7sqc', 'O0', 'D4P3R7')\n",
      "  * Error for ('7sqc', 'Q0', 'A8J666')\n",
      "  * Error for ('7sqc', 'Q0', 'A8J666')\n",
      "  * Error for ('7sqc', 'R0', 'A8ICS9')\n",
      "  * Error for ('7sqf', 'A', 'Q9H813')\n",
      "  * Error for ('7sqh', 'A', 'Q9H813')\n"
     ]
    },
    {
     "name": "stderr",
     "output_type": "stream",
     "text": [
      " 98%|█████████▊| 81624/83655 [49:35<00:32, 62.16it/s]"
     ]
    },
    {
     "name": "stdout",
     "output_type": "stream",
     "text": [
      "  * Error for ('7suk', 'SC', 'P15646')\n",
      "  * Error for ('7suk', 'SU', 'Q06512')\n"
     ]
    },
    {
     "name": "stderr",
     "output_type": "stream",
     "text": [
      " 98%|█████████▊| 81655/83655 [49:35<00:47, 41.98it/s]"
     ]
    },
    {
     "name": "stdout",
     "output_type": "stream",
     "text": [
      "  * Error for ('7sxx', 'E', 'Q9BYF1')\n",
      "  * Error for ('7sxz', 'E', 'Q9BYF1')\n",
      "  * Error for ('7sy1', 'E', 'Q9BYF1')\n",
      "  * Error for ('7sy7', 'E', 'Q9BYF1')\n"
     ]
    },
    {
     "name": "stderr",
     "output_type": "stream",
     "text": [
      " 98%|█████████▊| 81698/83655 [49:36<00:40, 48.52it/s]"
     ]
    },
    {
     "name": "stdout",
     "output_type": "stream",
     "text": [
      "  * Error for ('7t0w', 'A', 'P47870')\n",
      "  * Error for ('7t0w', 'B', 'P14867')\n",
      "  * Error for ('7t0w', 'B', 'P14867')\n",
      "  * Error for ('7t0w', 'E', 'P18507')\n",
      "  * Error for ('7t0z', 'A', 'P47870')\n",
      "  * Error for ('7t0z', 'B', 'P14867')\n",
      "  * Error for ('7t0z', 'B', 'P14867')\n",
      "  * Error for ('7t0z', 'E', 'P18507')\n"
     ]
    },
    {
     "name": "stderr",
     "output_type": "stream",
     "text": [
      " 98%|█████████▊| 81738/83655 [49:38<01:02, 30.62it/s]"
     ]
    },
    {
     "name": "stdout",
     "output_type": "stream",
     "text": [
      "  * Error for ('7t3p', 'A', 'Q14573')\n",
      "  * Error for ('7t3q', 'A', 'Q14573')\n",
      "  * Error for ('7t3r', 'A', 'Q14573')\n",
      "  * Error for ('7t3t', 'A', 'Q14573')\n"
     ]
    },
    {
     "name": "stderr",
     "output_type": "stream",
     "text": [
      " 98%|█████████▊| 81763/83655 [49:38<00:37, 50.38it/s]"
     ]
    },
    {
     "name": "stdout",
     "output_type": "stream",
     "text": [
      "  * Error for ('7t64', 'E', 'P68106')\n",
      "  * Error for ('7t65', 'E', 'P68106')\n"
     ]
    },
    {
     "name": "stderr",
     "output_type": "stream",
     "text": [
      " 98%|█████████▊| 81786/83655 [49:38<00:34, 53.41it/s]"
     ]
    },
    {
     "name": "stdout",
     "output_type": "stream",
     "text": [
      "  * Error for ('7t81', 'A', 'Q4KUS2')\n",
      "  * Error for ('7t81', 'A', 'Q62768')\n",
      "  * Error for ('7t81', 'A', 'Q4KUS2')\n",
      "  * Error for ('7t81', 'A', 'Q62768')\n",
      "  * Error for ('7t81', 'A', 'Q4KUS2')\n"
     ]
    },
    {
     "name": "stderr",
     "output_type": "stream",
     "text": [
      " 98%|█████████▊| 81928/83655 [49:42<00:40, 42.54it/s]"
     ]
    },
    {
     "name": "stdout",
     "output_type": "stream",
     "text": [
      "  * Error for ('7tw2', 'A', 'P02730')\n"
     ]
    },
    {
     "name": "stderr",
     "output_type": "stream",
     "text": [
      " 98%|█████████▊| 81974/83655 [49:43<00:29, 57.65it/s]"
     ]
    },
    {
     "name": "stdout",
     "output_type": "stream",
     "text": [
      "  * Error for ('7tzc', 'F', 'P62943')\n",
      "  * Error for ('7u05', 'B', 'Q03660')\n",
      "  * Error for ('7u05', 'J', 'Q03337')\n",
      "  * Error for ('7u05', 'K', 'P38334')\n",
      "  * Error for ('7u06', 'B', 'Q03660')\n",
      "  * Error for ('7u06', 'J', 'Q03337')\n",
      "  * Error for ('7u06', 'K', 'P38334')\n"
     ]
    },
    {
     "name": "stderr",
     "output_type": "stream",
     "text": [
      " 98%|█████████▊| 82068/83655 [49:44<00:22, 70.03it/s]"
     ]
    },
    {
     "name": "stdout",
     "output_type": "stream",
     "text": [
      "  * Error for ('7u8c', 'BA2', 'Q13421')\n"
     ]
    },
    {
     "name": "stderr",
     "output_type": "stream",
     "text": [
      " 98%|█████████▊| 82162/83655 [49:46<00:18, 81.99it/s]"
     ]
    },
    {
     "name": "stdout",
     "output_type": "stream",
     "text": [
      "  * Error for ('7une', 'e', 'Q0VCV6')\n",
      "  * Error for ('7unf', '0', 'P27449')\n",
      "  * Error for ('7unf', 'C', 'P21283')\n",
      "  * Error for ('7unf', 'D', 'Q9Y5K8')\n",
      "  * Error for ('7unf', 'F', 'Q16864')\n",
      "  * Error for ('7unf', 'H', 'Q9UI12')\n",
      "  * Error for ('7unf', 'L', 'P38606')\n",
      "  * Error for ('7unf', 'O', 'P21281')\n",
      "  * Error for ('7unf', 'a', 'Q9HBG4')\n",
      "  * Error for ('7unf', 'b', 'P36543')\n",
      "  * Error for ('7unf', 'e', 'O75348')\n",
      "  * Error for ('7unf', 'k', 'P61421')\n",
      "  * Error for ('7unf', 's', 'Q15904')\n"
     ]
    },
    {
     "name": "stderr",
     "output_type": "stream",
     "text": [
      " 98%|█████████▊| 82205/83655 [49:46<00:17, 83.87it/s]"
     ]
    },
    {
     "name": "stdout",
     "output_type": "stream",
     "text": [
      "  * Error for ('7v0k', 'D', 'P02724')\n",
      "  * Error for ('7v0k', 'H', 'P16157')\n",
      "  * Error for ('7v0k', 'K', 'P18577')\n",
      "  * Error for ('7v0k', 'L', 'Q02094')\n",
      "  * Error for ('7v0k', 'O', 'P02730')\n",
      "  * Error for ('7v0k', 'X', 'P16452')\n",
      "  * Error for ('7v0t', 'C', 'P02730')\n"
     ]
    },
    {
     "name": "stderr",
     "output_type": "stream",
     "text": [
      " 98%|█████████▊| 82332/83655 [49:49<00:25, 51.51it/s]"
     ]
    },
    {
     "name": "stdout",
     "output_type": "stream",
     "text": [
      "  * Error for ('7vba', 'A', 'O95602')\n",
      "  * Error for ('7vba', 'B', 'Q9H9Y6')\n",
      "  * Error for ('7vba', 'C', 'O15160')\n",
      "  * Error for ('7vba', 'E', 'P19388')\n",
      "  * Error for ('7vba', 'F', 'P61218')\n",
      "  * Error for ('7vba', 'G', 'Q3B726')\n",
      "  * Error for ('7vba', 'H', 'P52434')\n",
      "  * Error for ('7vba', 'I', 'Q9P1U0')\n",
      "  * Error for ('7vba', 'J', 'P62875')\n",
      "  * Error for ('7vba', 'K', 'P0DPB6')\n",
      "  * Error for ('7vba', 'L', 'P53803')\n",
      "  * Error for ('7vba', 'M', 'Q9GZS1')\n",
      "  * Error for ('7vba', 'N', 'O15446')\n",
      "  * Error for ('7vbb', 'A', 'O95602')\n",
      "  * Error for ('7vbb', 'B', 'Q9H9Y6')\n",
      "  * Error for ('7vbb', 'C', 'O15160')\n",
      "  * Error for ('7vbb', 'E', 'P19388')\n",
      "  * Error for ('7vbb', 'F', 'P61218')\n",
      "  * Error for ('7vbb', 'G', 'Q3B726')\n",
      "  * Error for ('7vbb', 'H', 'P52434')\n",
      "  * Error for ('7vbb', 'I', 'Q9P1U0')\n",
      "  * Error for ('7vbb', 'J', 'P62875')\n",
      "  * Error for ('7vbb', 'K', 'P0DPB6')\n",
      "  * Error for ('7vbb', 'L', 'P53803')\n",
      "  * Error for ('7vbb', 'M', 'Q9GZS1')\n",
      "  * Error for ('7vbb', 'N', 'O15446')\n",
      "  * Error for ('7vbc', 'A', 'O95602')\n",
      "  * Error for ('7vbc', 'B', 'Q9H9Y6')\n",
      "  * Error for ('7vbc', 'C', 'O15160')\n",
      "  * Error for ('7vbc', 'E', 'P19388')\n",
      "  * Error for ('7vbc', 'F', 'P61218')\n",
      "  * Error for ('7vbc', 'G', 'Q3B726')\n",
      "  * Error for ('7vbc', 'H', 'P52434')\n",
      "  * Error for ('7vbc', 'I', 'Q9P1U0')\n",
      "  * Error for ('7vbc', 'J', 'P62875')\n",
      "  * Error for ('7vbc', 'K', 'P0DPB6')\n",
      "  * Error for ('7vbc', 'L', 'P53803')\n",
      "  * Error for ('7vbc', 'M', 'Q9GZS1')\n",
      "  * Error for ('7vbc', 'N', 'O15446')\n"
     ]
    },
    {
     "name": "stderr",
     "output_type": "stream",
     "text": [
      " 99%|█████████▉| 82901/83655 [49:54<00:07, 106.04it/s]"
     ]
    },
    {
     "name": "stdout",
     "output_type": "stream",
     "text": [
      "  * Error for ('7w37', 'A', 'P35998')\n",
      "  * Error for ('7w37', 'D', 'P43686')\n",
      "  * Error for ('7w37', 'F', 'P17980')\n",
      "  * Error for ('7w37', 'H', 'P25787')\n",
      "  * Error for ('7w37', 'I', 'P25789')\n",
      "  * Error for ('7w37', 'J', 'O14818')\n",
      "  * Error for ('7w37', 'L', 'P25786')\n",
      "  * Error for ('7w37', 'M', 'P25788')\n",
      "  * Error for ('7w37', 'N', 'P28072')\n",
      "  * Error for ('7w37', 'O', 'Q99436')\n",
      "  * Error for ('7w37', 'P', 'P49720')\n",
      "  * Error for ('7w37', 'Q', 'P49721')\n",
      "  * Error for ('7w37', 'R', 'P28074')\n",
      "  * Error for ('7w37', 'S', 'P20618')\n",
      "  * Error for ('7w37', 'T', 'P28070')\n",
      "  * Error for ('7w37', 'U', 'Q99460')\n",
      "  * Error for ('7w37', 'V', 'O43242')\n",
      "  * Error for ('7w37', 'W', 'O00232')\n",
      "  * Error for ('7w37', 'Y', 'Q15008')\n",
      "  * Error for ('7w37', 'Z', 'P51665')\n",
      "  * Error for ('7w37', 'a', 'Q9UNM6')\n",
      "  * Error for ('7w37', 'b', 'P55036')\n",
      "  * Error for ('7w37', 'c', 'O00487')\n",
      "  * Error for ('7w37', 'd', 'P48556')\n",
      "  * Error for ('7w37', 'e', 'P60896')\n",
      "  * Error for ('7w37', 'f', 'Q13200')\n",
      "  * Error for ('7w37', 'x', 'P54578')\n",
      "  * Error for ('7w38', 'A', 'P35998')\n",
      "  * Error for ('7w38', 'D', 'P43686')\n",
      "  * Error for ('7w38', 'F', 'P17980')\n",
      "  * Error for ('7w38', 'H', 'P25787')\n",
      "  * Error for ('7w38', 'I', 'P25789')\n",
      "  * Error for ('7w38', 'J', 'O14818')\n",
      "  * Error for ('7w38', 'L', 'P25786')\n",
      "  * Error for ('7w38', 'M', 'P25788')\n",
      "  * Error for ('7w38', 'N', 'P28072')\n",
      "  * Error for ('7w38', 'O', 'Q99436')\n",
      "  * Error for ('7w38', 'P', 'P49720')\n",
      "  * Error for ('7w38', 'Q', 'P49721')\n",
      "  * Error for ('7w38', 'R', 'P28074')\n",
      "  * Error for ('7w38', 'S', 'P20618')\n",
      "  * Error for ('7w38', 'T', 'P28070')\n",
      "  * Error for ('7w38', 'U', 'Q99460')\n",
      "  * Error for ('7w38', 'V', 'O43242')\n",
      "  * Error for ('7w38', 'W', 'O00232')\n",
      "  * Error for ('7w38', 'Y', 'Q15008')\n",
      "  * Error for ('7w38', 'Z', 'P51665')\n",
      "  * Error for ('7w38', 'a', 'Q9UNM6')\n",
      "  * Error for ('7w38', 'b', 'P55036')\n",
      "  * Error for ('7w38', 'c', 'O00487')\n",
      "  * Error for ('7w38', 'd', 'P48556')\n",
      "  * Error for ('7w38', 'e', 'P60896')\n",
      "  * Error for ('7w38', 'f', 'Q13200')\n",
      "  * Error for ('7w38', 'u', 'P0CG47')\n",
      "  * Error for ('7w38', 'x', 'P54578')\n",
      "  * Error for ('7w39', 'A', 'P35998')\n",
      "  * Error for ('7w39', 'D', 'P43686')\n",
      "  * Error for ('7w39', 'F', 'P17980')\n",
      "  * Error for ('7w39', 'H', 'P25787')\n",
      "  * Error for ('7w39', 'I', 'P25789')\n",
      "  * Error for ('7w39', 'J', 'O14818')\n",
      "  * Error for ('7w39', 'L', 'P25786')\n",
      "  * Error for ('7w39', 'M', 'P25788')\n",
      "  * Error for ('7w39', 'N', 'P28072')\n",
      "  * Error for ('7w39', 'O', 'Q99436')\n",
      "  * Error for ('7w39', 'P', 'P49720')\n",
      "  * Error for ('7w39', 'Q', 'P49721')\n",
      "  * Error for ('7w39', 'R', 'P28074')\n",
      "  * Error for ('7w39', 'S', 'P20618')\n",
      "  * Error for ('7w39', 'T', 'P28070')\n",
      "  * Error for ('7w39', 'U', 'Q99460')\n",
      "  * Error for ('7w39', 'V', 'O43242')\n",
      "  * Error for ('7w39', 'W', 'O00232')\n",
      "  * Error for ('7w39', 'Y', 'Q15008')\n",
      "  * Error for ('7w39', 'Z', 'P51665')\n",
      "  * Error for ('7w39', 'a', 'Q9UNM6')\n",
      "  * Error for ('7w39', 'b', 'P55036')\n",
      "  * Error for ('7w39', 'c', 'O00487')\n",
      "  * Error for ('7w39', 'd', 'P48556')\n",
      "  * Error for ('7w39', 'e', 'P60896')\n",
      "  * Error for ('7w39', 'f', 'Q13200')\n",
      "  * Error for ('7w39', 'u', 'P0CG47')\n",
      "  * Error for ('7w39', 'x', 'P54578')\n",
      "  * Error for ('7w3a', 'A', 'P35998')\n",
      "  * Error for ('7w3a', 'D', 'P43686')\n",
      "  * Error for ('7w3a', 'F', 'P17980')\n",
      "  * Error for ('7w3a', 'H', 'P25787')\n",
      "  * Error for ('7w3a', 'I', 'P25789')\n",
      "  * Error for ('7w3a', 'J', 'O14818')\n",
      "  * Error for ('7w3a', 'L', 'P25786')\n",
      "  * Error for ('7w3a', 'M', 'P25788')\n",
      "  * Error for ('7w3a', 'N', 'P28072')\n",
      "  * Error for ('7w3a', 'O', 'Q99436')\n",
      "  * Error for ('7w3a', 'P', 'P49720')\n",
      "  * Error for ('7w3a', 'Q', 'P49721')\n",
      "  * Error for ('7w3a', 'R', 'P28074')\n",
      "  * Error for ('7w3a', 'S', 'P20618')\n",
      "  * Error for ('7w3a', 'T', 'P28070')\n",
      "  * Error for ('7w3a', 'U', 'Q99460')\n",
      "  * Error for ('7w3a', 'V', 'O43242')\n",
      "  * Error for ('7w3a', 'W', 'O00232')\n",
      "  * Error for ('7w3a', 'Y', 'Q15008')\n",
      "  * Error for ('7w3a', 'Z', 'P51665')\n",
      "  * Error for ('7w3a', 'a', 'Q9UNM6')\n",
      "  * Error for ('7w3a', 'b', 'P55036')\n",
      "  * Error for ('7w3a', 'c', 'O00487')\n",
      "  * Error for ('7w3a', 'd', 'P48556')\n",
      "  * Error for ('7w3a', 'e', 'P60896')\n",
      "  * Error for ('7w3a', 'f', 'Q13200')\n",
      "  * Error for ('7w3a', 'x', 'P54578')\n",
      "  * Error for ('7w3a', 'y', 'P0CG47')\n",
      "  * Error for ('7w3b', 'A', 'P35998')\n",
      "  * Error for ('7w3b', 'D', 'P43686')\n",
      "  * Error for ('7w3b', 'F', 'P17980')\n",
      "  * Error for ('7w3b', 'H', 'P25787')\n",
      "  * Error for ('7w3b', 'I', 'P25789')\n",
      "  * Error for ('7w3b', 'J', 'O14818')\n",
      "  * Error for ('7w3b', 'L', 'P25786')\n",
      "  * Error for ('7w3b', 'M', 'P25788')\n",
      "  * Error for ('7w3b', 'N', 'P28072')\n",
      "  * Error for ('7w3b', 'O', 'Q99436')\n",
      "  * Error for ('7w3b', 'P', 'P49720')\n",
      "  * Error for ('7w3b', 'Q', 'P49721')\n",
      "  * Error for ('7w3b', 'R', 'P28074')\n",
      "  * Error for ('7w3b', 'S', 'P20618')\n",
      "  * Error for ('7w3b', 'T', 'P28070')\n",
      "  * Error for ('7w3b', 'U', 'Q99460')\n",
      "  * Error for ('7w3b', 'V', 'O43242')\n",
      "  * Error for ('7w3b', 'W', 'O00232')\n",
      "  * Error for ('7w3b', 'Y', 'Q15008')\n",
      "  * Error for ('7w3b', 'Z', 'P51665')\n",
      "  * Error for ('7w3b', 'a', 'Q9UNM6')\n",
      "  * Error for ('7w3b', 'b', 'P55036')\n",
      "  * Error for ('7w3b', 'c', 'O00487')\n",
      "  * Error for ('7w3b', 'd', 'P48556')\n",
      "  * Error for ('7w3b', 'e', 'P60896')\n",
      "  * Error for ('7w3b', 'f', 'Q13200')\n",
      "  * Error for ('7w3b', 'x', 'P54578')\n",
      "  * Error for ('7w3b', 'y', 'P0CG47')\n",
      "  * Error for ('7w3c', 'A', 'P35998')\n",
      "  * Error for ('7w3c', 'D', 'P43686')\n",
      "  * Error for ('7w3c', 'F', 'P17980')\n",
      "  * Error for ('7w3c', 'H', 'P25787')\n",
      "  * Error for ('7w3c', 'I', 'P25789')\n",
      "  * Error for ('7w3c', 'J', 'O14818')\n",
      "  * Error for ('7w3c', 'L', 'P25786')\n",
      "  * Error for ('7w3c', 'M', 'P25788')\n",
      "  * Error for ('7w3c', 'N', 'P28072')\n",
      "  * Error for ('7w3c', 'O', 'Q99436')\n",
      "  * Error for ('7w3c', 'P', 'P49720')\n",
      "  * Error for ('7w3c', 'Q', 'P49721')\n",
      "  * Error for ('7w3c', 'R', 'P28074')\n",
      "  * Error for ('7w3c', 'S', 'P20618')\n",
      "  * Error for ('7w3c', 'T', 'P28070')\n",
      "  * Error for ('7w3c', 'U', 'Q99460')\n",
      "  * Error for ('7w3c', 'V', 'O43242')\n",
      "  * Error for ('7w3c', 'W', 'O00232')\n",
      "  * Error for ('7w3c', 'Y', 'Q15008')\n",
      "  * Error for ('7w3c', 'Z', 'P51665')\n",
      "  * Error for ('7w3c', 'a', 'Q9UNM6')\n",
      "  * Error for ('7w3c', 'b', 'P55036')\n",
      "  * Error for ('7w3c', 'c', 'O00487')\n",
      "  * Error for ('7w3c', 'd', 'P48556')\n",
      "  * Error for ('7w3c', 'e', 'P60896')\n",
      "  * Error for ('7w3c', 'f', 'Q13200')\n",
      "  * Error for ('7w3c', 'x', 'P54578')\n",
      "  * Error for ('7w3c', 'y', 'P0CG47')\n",
      "  * Error for ('7w3f', 'A', 'P35998')\n",
      "  * Error for ('7w3f', 'D', 'P43686')\n",
      "  * Error for ('7w3f', 'F', 'P17980')\n",
      "  * Error for ('7w3f', 'H', 'P25787')\n",
      "  * Error for ('7w3f', 'I', 'P25789')\n",
      "  * Error for ('7w3f', 'J', 'O14818')\n",
      "  * Error for ('7w3f', 'L', 'P25786')\n",
      "  * Error for ('7w3f', 'M', 'P25788')\n",
      "  * Error for ('7w3f', 'N', 'P28072')\n",
      "  * Error for ('7w3f', 'O', 'Q99436')\n",
      "  * Error for ('7w3f', 'P', 'P49720')\n",
      "  * Error for ('7w3f', 'Q', 'P49721')\n",
      "  * Error for ('7w3f', 'R', 'P28074')\n",
      "  * Error for ('7w3f', 'S', 'P20618')\n",
      "  * Error for ('7w3f', 'T', 'P28070')\n",
      "  * Error for ('7w3f', 'U', 'Q99460')\n",
      "  * Error for ('7w3f', 'V', 'O43242')\n",
      "  * Error for ('7w3f', 'W', 'O00232')\n",
      "  * Error for ('7w3f', 'Y', 'Q15008')\n",
      "  * Error for ('7w3f', 'Z', 'P51665')\n",
      "  * Error for ('7w3f', 'a', 'Q9UNM6')\n",
      "  * Error for ('7w3f', 'b', 'P55036')\n",
      "  * Error for ('7w3f', 'c', 'O00487')\n",
      "  * Error for ('7w3f', 'd', 'P48556')\n",
      "  * Error for ('7w3f', 'e', 'P60896')\n",
      "  * Error for ('7w3f', 'f', 'Q13200')\n",
      "  * Error for ('7w3f', 'x', 'P54578')\n",
      "  * Error for ('7w3f', 'y', 'P0CG47')\n",
      "  * Error for ('7w3g', 'A', 'P35998')\n",
      "  * Error for ('7w3g', 'D', 'P43686')\n",
      "  * Error for ('7w3g', 'F', 'P17980')\n",
      "  * Error for ('7w3g', 'H', 'P25787')\n",
      "  * Error for ('7w3g', 'I', 'P25789')\n",
      "  * Error for ('7w3g', 'J', 'O14818')\n",
      "  * Error for ('7w3g', 'L', 'P25786')\n",
      "  * Error for ('7w3g', 'M', 'P25788')\n",
      "  * Error for ('7w3g', 'N', 'P28072')\n",
      "  * Error for ('7w3g', 'O', 'Q99436')\n",
      "  * Error for ('7w3g', 'P', 'P49720')\n",
      "  * Error for ('7w3g', 'Q', 'P49721')\n",
      "  * Error for ('7w3g', 'R', 'P28074')\n",
      "  * Error for ('7w3g', 'S', 'P20618')\n",
      "  * Error for ('7w3g', 'T', 'P28070')\n",
      "  * Error for ('7w3g', 'U', 'Q99460')\n",
      "  * Error for ('7w3g', 'V', 'O43242')\n",
      "  * Error for ('7w3g', 'W', 'O00232')\n",
      "  * Error for ('7w3g', 'Y', 'Q15008')\n",
      "  * Error for ('7w3g', 'Z', 'P51665')\n",
      "  * Error for ('7w3g', 'a', 'Q9UNM6')\n",
      "  * Error for ('7w3g', 'b', 'P55036')\n",
      "  * Error for ('7w3g', 'c', 'O00487')\n",
      "  * Error for ('7w3g', 'd', 'P48556')\n",
      "  * Error for ('7w3g', 'e', 'P60896')\n",
      "  * Error for ('7w3g', 'f', 'Q13200')\n",
      "  * Error for ('7w3g', 'x', 'P54578')\n",
      "  * Error for ('7w3g', 'y', 'P0CG47')\n",
      "  * Error for ('7w3h', 'A', 'P35998')\n",
      "  * Error for ('7w3h', 'D', 'P43686')\n",
      "  * Error for ('7w3h', 'F', 'P17980')\n",
      "  * Error for ('7w3h', 'H', 'P25787')\n",
      "  * Error for ('7w3h', 'I', 'P25789')\n",
      "  * Error for ('7w3h', 'J', 'O14818')\n",
      "  * Error for ('7w3h', 'L', 'P25786')\n",
      "  * Error for ('7w3h', 'M', 'P25788')\n",
      "  * Error for ('7w3h', 'N', 'P28072')\n",
      "  * Error for ('7w3h', 'O', 'Q99436')\n",
      "  * Error for ('7w3h', 'P', 'P49720')\n",
      "  * Error for ('7w3h', 'Q', 'P49721')\n",
      "  * Error for ('7w3h', 'R', 'P28074')\n",
      "  * Error for ('7w3h', 'S', 'P20618')\n",
      "  * Error for ('7w3h', 'T', 'P28070')\n",
      "  * Error for ('7w3h', 'U', 'Q99460')\n",
      "  * Error for ('7w3h', 'V', 'O43242')\n",
      "  * Error for ('7w3h', 'W', 'O00232')\n",
      "  * Error for ('7w3h', 'Y', 'Q15008')\n",
      "  * Error for ('7w3h', 'Z', 'P51665')\n",
      "  * Error for ('7w3h', 'a', 'Q9UNM6')\n",
      "  * Error for ('7w3h', 'b', 'P55036')\n",
      "  * Error for ('7w3h', 'c', 'O00487')\n",
      "  * Error for ('7w3h', 'd', 'P48556')\n",
      "  * Error for ('7w3h', 'e', 'P60896')\n",
      "  * Error for ('7w3h', 'f', 'Q13200')\n",
      "  * Error for ('7w3h', 'x', 'P54578')\n",
      "  * Error for ('7w3h', 'y', 'P0CG47')\n",
      "  * Error for ('7w3i', 'A', 'P35998')\n",
      "  * Error for ('7w3i', 'D', 'P43686')\n",
      "  * Error for ('7w3i', 'F', 'P17980')\n",
      "  * Error for ('7w3i', 'H', 'P25787')\n",
      "  * Error for ('7w3i', 'I', 'P25789')\n",
      "  * Error for ('7w3i', 'J', 'O14818')\n",
      "  * Error for ('7w3i', 'L', 'P25786')\n",
      "  * Error for ('7w3i', 'M', 'P25788')\n",
      "  * Error for ('7w3i', 'N', 'P28072')\n",
      "  * Error for ('7w3i', 'O', 'Q99436')\n",
      "  * Error for ('7w3i', 'P', 'P49720')\n",
      "  * Error for ('7w3i', 'Q', 'P49721')\n",
      "  * Error for ('7w3i', 'R', 'P28074')\n",
      "  * Error for ('7w3i', 'S', 'P20618')\n",
      "  * Error for ('7w3i', 'T', 'P28070')\n",
      "  * Error for ('7w3i', 'U', 'Q99460')\n",
      "  * Error for ('7w3i', 'V', 'O43242')\n",
      "  * Error for ('7w3i', 'W', 'O00232')\n",
      "  * Error for ('7w3i', 'Y', 'Q15008')\n",
      "  * Error for ('7w3i', 'Z', 'P51665')\n",
      "  * Error for ('7w3i', 'a', 'Q9UNM6')\n",
      "  * Error for ('7w3i', 'b', 'P55036')\n",
      "  * Error for ('7w3i', 'c', 'O00487')\n",
      "  * Error for ('7w3i', 'd', 'P48556')\n",
      "  * Error for ('7w3i', 'e', 'P60896')\n",
      "  * Error for ('7w3i', 'f', 'Q13200')\n",
      "  * Error for ('7w3i', 'x', 'P54578')\n",
      "  * Error for ('7w3i', 'y', 'P0CG47')\n",
      "  * Error for ('7w3j', 'A', 'P35998')\n",
      "  * Error for ('7w3j', 'D', 'P43686')\n",
      "  * Error for ('7w3j', 'F', 'P17980')\n",
      "  * Error for ('7w3j', 'H', 'P25787')\n",
      "  * Error for ('7w3j', 'I', 'P25789')\n",
      "  * Error for ('7w3j', 'J', 'O14818')\n",
      "  * Error for ('7w3j', 'L', 'P25786')\n",
      "  * Error for ('7w3j', 'M', 'P25788')\n",
      "  * Error for ('7w3j', 'N', 'P28072')\n",
      "  * Error for ('7w3j', 'O', 'Q99436')\n",
      "  * Error for ('7w3j', 'P', 'P49720')\n",
      "  * Error for ('7w3j', 'Q', 'P49721')\n",
      "  * Error for ('7w3j', 'R', 'P28074')\n",
      "  * Error for ('7w3j', 'S', 'P20618')\n",
      "  * Error for ('7w3j', 'T', 'P28070')\n",
      "  * Error for ('7w3j', 'U', 'Q99460')\n",
      "  * Error for ('7w3j', 'V', 'O43242')\n",
      "  * Error for ('7w3j', 'W', 'O00232')\n",
      "  * Error for ('7w3j', 'Y', 'Q15008')\n",
      "  * Error for ('7w3j', 'Z', 'P51665')\n",
      "  * Error for ('7w3j', 'a', 'Q9UNM6')\n",
      "  * Error for ('7w3j', 'b', 'P55036')\n",
      "  * Error for ('7w3j', 'c', 'O00487')\n",
      "  * Error for ('7w3j', 'd', 'P48556')\n",
      "  * Error for ('7w3j', 'e', 'P60896')\n",
      "  * Error for ('7w3j', 'f', 'Q13200')\n",
      "  * Error for ('7w3j', 'x', 'P54578')\n",
      "  * Error for ('7w3j', 'y', 'P0CG47')\n",
      "  * Error for ('7w3k', 'A', 'P35998')\n",
      "  * Error for ('7w3k', 'D', 'P43686')\n",
      "  * Error for ('7w3k', 'F', 'P17980')\n",
      "  * Error for ('7w3k', 'H', 'P25787')\n",
      "  * Error for ('7w3k', 'I', 'P25789')\n",
      "  * Error for ('7w3k', 'J', 'O14818')\n",
      "  * Error for ('7w3k', 'L', 'P25786')\n",
      "  * Error for ('7w3k', 'M', 'P25788')\n",
      "  * Error for ('7w3k', 'N', 'P28072')\n",
      "  * Error for ('7w3k', 'O', 'Q99436')\n",
      "  * Error for ('7w3k', 'P', 'P49720')\n",
      "  * Error for ('7w3k', 'Q', 'P49721')\n",
      "  * Error for ('7w3k', 'R', 'P28074')\n",
      "  * Error for ('7w3k', 'S', 'P20618')\n",
      "  * Error for ('7w3k', 'T', 'P28070')\n",
      "  * Error for ('7w3k', 'U', 'Q99460')\n",
      "  * Error for ('7w3k', 'V', 'O43242')\n",
      "  * Error for ('7w3k', 'W', 'O00232')\n",
      "  * Error for ('7w3k', 'Y', 'Q15008')\n",
      "  * Error for ('7w3k', 'Z', 'P51665')\n",
      "  * Error for ('7w3k', 'a', 'Q9UNM6')\n",
      "  * Error for ('7w3k', 'b', 'P55036')\n",
      "  * Error for ('7w3k', 'c', 'O00487')\n",
      "  * Error for ('7w3k', 'd', 'P48556')\n",
      "  * Error for ('7w3k', 'e', 'P60896')\n",
      "  * Error for ('7w3k', 'f', 'Q13200')\n",
      "  * Error for ('7w3k', 'x', 'P54578')\n",
      "  * Error for ('7w3k', 'y', 'P0CG47')\n",
      "  * Error for ('7w3m', 'A', 'P35998')\n",
      "  * Error for ('7w3m', 'D', 'P43686')\n",
      "  * Error for ('7w3m', 'F', 'P17980')\n",
      "  * Error for ('7w3m', 'H', 'P25787')\n",
      "  * Error for ('7w3m', 'I', 'P25789')\n",
      "  * Error for ('7w3m', 'J', 'O14818')\n",
      "  * Error for ('7w3m', 'L', 'P25786')\n",
      "  * Error for ('7w3m', 'M', 'P25788')\n",
      "  * Error for ('7w3m', 'N', 'P28072')\n",
      "  * Error for ('7w3m', 'O', 'Q99436')\n",
      "  * Error for ('7w3m', 'P', 'P49720')\n",
      "  * Error for ('7w3m', 'Q', 'P49721')\n",
      "  * Error for ('7w3m', 'R', 'P28074')\n",
      "  * Error for ('7w3m', 'S', 'P20618')\n",
      "  * Error for ('7w3m', 'T', 'P28070')\n",
      "  * Error for ('7w3m', 'U', 'Q99460')\n",
      "  * Error for ('7w3m', 'V', 'O43242')\n",
      "  * Error for ('7w3m', 'W', 'O00232')\n",
      "  * Error for ('7w3m', 'Y', 'Q15008')\n",
      "  * Error for ('7w3m', 'Z', 'P51665')\n",
      "  * Error for ('7w3m', 'a', 'Q9UNM6')\n",
      "  * Error for ('7w3m', 'b', 'P55036')\n",
      "  * Error for ('7w3m', 'c', 'O00487')\n",
      "  * Error for ('7w3m', 'd', 'P48556')\n",
      "  * Error for ('7w3m', 'e', 'P60896')\n",
      "  * Error for ('7w3m', 'f', 'Q13200')\n",
      "  * Error for ('7w3m', 'x', 'P54578')\n",
      "  * Error for ('7w3m', 'y', 'P0CG47')\n"
     ]
    },
    {
     "name": "stderr",
     "output_type": "stream",
     "text": [
      " 99%|█████████▉| 83010/83655 [50:23<03:40,  2.93it/s] "
     ]
    },
    {
     "name": "stdout",
     "output_type": "stream",
     "text": [
      "  * Error for ('7w5b', '1', 'O95391')\n",
      "  * Error for ('7w5b', '2', 'Q9H875')\n",
      "  * Error for ('7w5b', '3', 'Q8N5F7')\n",
      "  * Error for ('7w5b', 'A', 'Q6P2Q9')\n",
      "  * Error for ('7w5b', 'C', 'Q15029')\n",
      "  * Error for ('7w5b', 'D', 'O75643')\n",
      "  * Error for ('7w5b', 'E', 'Q96DI7')\n",
      "  * Error for ('7w5b', 'I', 'Q9HCS7')\n",
      "  * Error for ('7w5b', 'J', 'Q9BZJ0')\n",
      "  * Error for ('7w5b', 'K', 'O75934')\n",
      "  * Error for ('7w5b', 'L', 'Q99459')\n",
      "  * Error for ('7w5b', 'M', 'O95926')\n",
      "  * Error for ('7w5b', 'N', 'P41223')\n",
      "  * Error for ('7w5b', 'O', 'Q9NW64')\n",
      "  * Error for ('7w5b', 'P', 'Q9P013')\n",
      "  * Error for ('7w5b', 'Q', 'O60306')\n",
      "  * Error for ('7w5b', 'R', 'Q13573')\n",
      "  * Error for ('7w5b', 'S', 'Q9Y3C6')\n",
      "  * Error for ('7w5b', 'T', 'O43660')\n",
      "  * Error for ('7w5b', 'U', 'Q9UQ35')\n",
      "  * Error for ('7w5b', 'V', 'Q9HCG8')\n",
      "  * Error for ('7w5b', 'W', 'O60508')\n",
      "  * Error for ('7w5b', 'Y', 'Q14562')\n",
      "  * Error for ('7w5b', 'Z', 'Q8WUQ7')\n",
      "  * Error for ('7w5b', 'a', 'P62318')\n",
      "  * Error for ('7w5b', 'b', 'P14678')\n",
      "  * Error for ('7w5b', 'o', 'P09661')\n",
      "  * Error for ('7w5b', 'q', 'Q9UMS4')\n",
      "  * Error for ('7w5b', 'u', 'P38919')\n",
      "  * Error for ('7w5b', 'v', 'P61326')\n",
      "  * Error for ('7w5b', 'w', 'Q9Y5S9')\n",
      "  * Error for ('7w5b', 'x', 'O15234')\n",
      "  * Error for ('7w5b', 'y', 'Q9UNP9')\n",
      "  * Error for ('7w5b', 'z', 'Q9Y421')\n"
     ]
    },
    {
     "name": "stderr",
     "output_type": "stream",
     "text": [
      " 99%|█████████▉| 83192/83655 [50:26<00:09, 50.14it/s]"
     ]
    },
    {
     "name": "stdout",
     "output_type": "stream",
     "text": [
      "  * Error for ('7wpr', 'A', 'P04275')\n",
      "  * Error for ('7wpr', 'C', 'P04275')\n",
      "  * Error for ('7wps', 'A', 'P04275')\n",
      "  * Error for ('7wps', 'C', 'P04275')\n",
      "  * Error for ('7wqt', 'A', 'P04275')\n",
      "  * Error for ('7wqt', 'C', 'P04275')\n"
     ]
    },
    {
     "name": "stderr",
     "output_type": "stream",
     "text": [
      "100%|█████████▉| 83251/83655 [50:27<00:05, 69.16it/s]"
     ]
    },
    {
     "name": "stdout",
     "output_type": "stream",
     "text": [
      "  * Error for ('7wz8', 'A', 'Q9UJ71')\n"
     ]
    },
    {
     "name": "stderr",
     "output_type": "stream",
     "text": [
      "100%|█████████▉| 83522/83655 [50:33<00:01, 71.23it/s]"
     ]
    },
    {
     "name": "stdout",
     "output_type": "stream",
     "text": [
      "  * Error for ('8cs9', 'A', 'P16157')\n",
      "  * Error for ('8cs9', 'K', 'P18577')\n",
      "  * Error for ('8cs9', 'L', 'Q02094')\n",
      "  * Error for ('8cs9', 'R', 'P02724')\n",
      "  * Error for ('8cs9', 'V', 'P02730')\n",
      "  * Error for ('8cs9', 'X', 'P16452')\n",
      "  * Error for ('8csl', 'A', 'P16157')\n",
      "  * Error for ('8csl', 'K', 'P18577')\n",
      "  * Error for ('8csl', 'L', 'Q02094')\n",
      "  * Error for ('8csl', 'R', 'P02724')\n",
      "  * Error for ('8csl', 'V', 'P02730')\n",
      "  * Error for ('8csl', 'X', 'P16452')\n",
      "  * Error for ('8csy', 'C', 'P02730')\n"
     ]
    },
    {
     "name": "stderr",
     "output_type": "stream",
     "text": [
      "100%|█████████▉| 83580/83655 [50:35<00:01, 47.01it/s]"
     ]
    },
    {
     "name": "stdout",
     "output_type": "stream",
     "text": [
      "  * Error for ('8d3c', 'A', 'P04275')\n",
      "  * Error for ('8d3d', 'A', 'P04275')\n"
     ]
    },
    {
     "name": "stderr",
     "output_type": "stream",
     "text": [
      "100%|██████████| 83655/83655 [50:36<00:00, 27.55it/s] \n"
     ]
    }
   ],
   "source": [
    "def get_pdb_headers(sifts_df, pdbstore):\n",
    "    \"\"\"Get PDB headers.\"\"\" \n",
    "    \n",
    "    pdb_chain_unis = [x for x in zip(sifts_df['PDB'], sifts_df['CHAIN'], sifts_df['SP_PRIMARY'])]\n",
    "    print(\"   * Grabbing header info for {} pdb-chains\".format(len(pdb_chain_unis)))\n",
    "    headers = list()\n",
    "    \n",
    "    def get_header_info(pdb_ch_uni):\n",
    "        \"\"\"Download pdb.\"\"\"\n",
    "        pdb_headers = dict()\n",
    "        \n",
    "        try:\n",
    "            pdb, chain, uniprot = pdb_ch_uni\n",
    "            hd = pdbstore.load_header(pdb)\n",
    "\n",
    "            for polymer in hd['polymers']:\n",
    "                pdb_headers[polymer] = dict()\n",
    "                if polymer.chid == chain:\n",
    "                    for dbref in polymer.dbrefs:\n",
    "                        pdb_headers[polymer][\"PDB\"] = pdb\n",
    "                        pdb_headers[polymer][\"CHAIN\"] = chain\n",
    "                        pdb_headers[polymer][\"db_ref\"] = dbref.database\n",
    "                        pdb_headers[polymer][\"db_accession\"] = dbref.accession\n",
    "                        pdb_headers[polymer][\"db_first_from\"] = dbref.first[0]\n",
    "                        pdb_headers[polymer][\"db_first_to\"] = dbref.first[2]\n",
    "\n",
    "                        if dbref.accession == uniprot:\n",
    "                            continue\n",
    "\n",
    "            headers.append(pd.DataFrame.from_dict(pdb_headers).dropna(1))\n",
    "        except:\n",
    "            print(\"  * Error for {}\".format(pdb_ch_uni))\n",
    "    \n",
    "    for pdb_chain_uni in tqdm(pdb_chain_unis):\n",
    "        get_header_info(pdb_chain_uni)\n",
    "        \n",
    "    return headers\n",
    "\n",
    "pdb_headers = pd.concat(get_pdb_headers(sifts_drop_dup, pdbstore),1).T\n",
    "pdb_headers.to_csv(os.path.join(REF_DIR, \"pdb_headers.txt\"), sep='\\t')"
   ]
  },
  {
   "cell_type": "code",
   "execution_count": 19,
   "metadata": {},
   "outputs": [
    {
     "data": {
      "text/plain": [
       "db_match\n",
       "False     8307\n",
       "True     77568\n",
       "dtype: int64"
      ]
     },
     "execution_count": 19,
     "metadata": {},
     "output_type": "execute_result"
    }
   ],
   "source": [
    "pdb_headers = pd.read_csv(os.path.join(REF_DIR, \"pdb_headers.txt\"), sep='\\t', index_col=0)\n",
    "\n",
    "sifts_drop_dup = pd.merge(sifts_drop_dup.reset_index(), pdb_headers.reset_index().rename(columns={'index':'pdb_desc'}))\n",
    "sifts_drop_dup['db_match'] = sifts_drop_dup['SP_PRIMARY']==sifts_drop_dup['db_accession']\n",
    "sifts_drop_dup.groupby('db_match').size()"
   ]
  },
  {
   "cell_type": "code",
   "execution_count": 20,
   "metadata": {},
   "outputs": [
    {
     "name": "stdout",
     "output_type": "stream",
     "text": [
      "(10661,)\n"
     ]
    }
   ],
   "source": [
    "accession_numbers_to_use = np.intersect1d(\n",
    "    mapped_acc_df[\n",
    "        (mapped_acc_df['blast']) & (mapped_acc_df['sifts'])\n",
    "    ].index,\n",
    "    ptm_comb_filt2_df['accession_number']\n",
    ")\n",
    "\n",
    "print(accession_numbers_to_use.shape)"
   ]
  },
  {
   "cell_type": "markdown",
   "metadata": {},
   "source": [
    "## 7.1 PDB Matches\n",
    "---"
   ]
  },
  {
   "cell_type": "code",
   "execution_count": null,
   "metadata": {},
   "outputs": [],
   "source": [
    "%%time\n",
    "\n",
    "err = clumpsptm.mp.get_pdb_matches(\n",
    "    accession_numbers_to_use,\n",
    "    ptm_comb_filt2_df,\n",
    "    sifts_drop_dup,\n",
    "    pdbstore,\n",
    "    os.path.join(REF_DIR, \"pdb_matches\"),\n",
    "    384,\n",
    ")"
   ]
  },
  {
   "cell_type": "code",
   "execution_count": 20,
   "metadata": {},
   "outputs": [
    {
     "name": "stdout",
     "output_type": "stream",
     "text": [
      "   * Errors in mapping 233 proteins.\n"
     ]
    }
   ],
   "source": [
    "print(\"   * Errors in mapping {} proteins.\".format(len(err)))"
   ]
  },
  {
   "cell_type": "markdown",
   "metadata": {},
   "source": [
    "## 8. Select Best PDB Structure\n",
    "---"
   ]
  },
  {
   "cell_type": "code",
   "execution_count": 22,
   "metadata": {},
   "outputs": [
    {
     "name": "stdout",
     "output_type": "stream",
     "text": [
      " 6424 / 10272 (62.54 %) structures with matching sites\n"
     ]
    }
   ],
   "source": [
    "pdb_mapped_df = pd.concat([\n",
    "    pd.read_parquet(x) for x in \n",
    "    glob.glob(os.path.join(REF_DIR, \"pdb_matches/acc_mapped_sifts/*\"))\n",
    "])\n",
    "\n",
    "pdb_mapped_df['db_match'] = pdb_mapped_df['db_match'].astype(bool)\n",
    "pdb_mapped_df = pdb_mapped_df[pdb_mapped_df['db_match']]\n",
    "pdb_mapped_df = pdb_mapped_df[pdb_mapped_df['db_ref']=='UniProt']\n",
    "pdb_mapped_df['percent_match'] = pdb_mapped_df['percent_match'].astype(float)\n",
    "pdb_mapped_df = pdb_mapped_df.sort_values(['percent_match','len','proteins'], ascending=False)\n",
    "\n",
    "# Select Top Structure by overlapping matched sites\n",
    "pdb_mapped_filt_df = pdb_mapped_df.drop_duplicates(subset=['proteins'])\n",
    "\n",
    "_prev = pdb_mapped_filt_df.shape[0]\n",
    "pdb_mapped_filt_df = pdb_mapped_filt_df[pdb_mapped_filt_df['percent_match']>0]\n",
    "pdb_mapped_filt_df['len'] = pdb_mapped_filt_df['len'].astype(int)\n",
    "print(\" {} / {} ({:.2f} %) structures with matching sites\".format(\n",
    "    pdb_mapped_filt_df.shape[0], _prev, 100*pdb_mapped_filt_df.shape[0]/_prev))"
   ]
  },
  {
   "cell_type": "code",
   "execution_count": 23,
   "metadata": {},
   "outputs": [
    {
     "data": {
      "text/plain": [
       "Text(0, 0.5, 'PDB Length')"
      ]
     },
     "execution_count": 23,
     "metadata": {},
     "output_type": "execute_result"
    },
    {
     "data": {
      "image/png": "[encoded data removed]",
      "text/plain": [
       "<Figure size 360x216 with 1 Axes>"
      ]
     },
     "metadata": {
      "needs_background": "light"
     },
     "output_type": "display_data"
    }
   ],
   "source": [
    "fig, ax = plt.subplots(figsize=(5,3))\n",
    "\n",
    "ax.scatter(pdb_mapped_filt_df['percent_match'], pdb_mapped_filt_df['len'], alpha=0.1)\n",
    "ax.set_xlabel(\"Percent Overlapping PDB Residues\", fontsize=14)\n",
    "ax.set_ylabel(\"PDB Length\", fontsize=14)"
   ]
  },
  {
   "cell_type": "markdown",
   "metadata": {},
   "source": [
    "## 9. Finalize Sites\n",
    "---\n",
    "* Filter duplicates, etc."
   ]
  },
  {
   "cell_type": "code",
   "execution_count": 24,
   "metadata": {},
   "outputs": [
    {
     "name": "stderr",
     "output_type": "stream",
     "text": [
      "100%|██████████| 6424/6424 [00:51<00:00, 125.35it/s]\n"
     ]
    }
   ],
   "source": [
    "sites_mapped_df = list()\n",
    "\n",
    "for idx,row in tqdm(pdb_mapped_filt_df.iterrows(), total=pdb_mapped_filt_df.shape[0]):\n",
    "    try:\n",
    "        _df = pd.read_parquet(\n",
    "            os.path.join(REF_DIR, \"pdb_matches/acc_mapped_sites\", \"{}.parquet\".format(row[\"proteins\"]))).loc[:,[\n",
    "            \"{}_{}_res_i\".format(row[\"PDB\"],row[\"CHAIN\"]),\n",
    "            \"{}_{}_res\".format(row[\"PDB\"],row[\"CHAIN\"]),\n",
    "            \"{}_{}_res_match\".format(row[\"PDB\"],row[\"CHAIN\"])\n",
    "        ]]\n",
    "\n",
    "        _df.columns = ['pdb_res_i', 'pdb_res', 'pdb_res_match']\n",
    "        _df['pdb'] = row[\"PDB\"]\n",
    "        _df['chain'] = row[\"CHAIN\"]\n",
    "        sites_mapped_df.append(_df)\n",
    "    except:\n",
    "        print(\"   * Error with {}\".format(row['proteins']))\n",
    "    \n",
    "sites_mapped_df = pd.concat(sites_mapped_df)"
   ]
  },
  {
   "cell_type": "code",
   "execution_count": 30,
   "metadata": {},
   "outputs": [],
   "source": [
    "# Drop duplicates\n",
    "sites_mapped_df = sites_mapped_df.reset_index().drop_duplicates().set_index(\"id\")\n",
    "\n",
    "# Select for matched sites / rank multi sites by position\n",
    "sites_mapped_df = sites_mapped_df[sites_mapped_df['pdb_res_match']]\n",
    "sites_mapped_df['pdb_res_i_rank'] = sites_mapped_df.reset_index().groupby(\"id\")['pdb_res_i'].rank(\"dense\").astype(int).values"
   ]
  },
  {
   "cell_type": "code",
   "execution_count": 33,
   "metadata": {},
   "outputs": [],
   "source": [
    "# Drop duplicate ptmSites (i.e. NP_000005.2_K608k_1_1_608_608 - has two sites mapped from different cohorts)\n",
    "ptm_comb_filt_pdb_df = ptm_comb_filt_df.reset_index().drop_duplicates(['id','ptmSite']).set_index('id')\n",
    "\n",
    "# Rank multi-sites by position\n",
    "ptm_comb_filt_pdb_df['pdb_res_i_rank'] = ptm_comb_filt_pdb_df.reset_index().groupby(\"id\")['acc_res_i'].rank(\"dense\").astype(int).values\n",
    "\n",
    "# Combine pdb level annotations\n",
    "ptm_comb_filt_pdb_df = pd.merge(ptm_comb_filt_pdb_df.reset_index(), sites_mapped_df.reset_index(), how='left').set_index('id')\n",
    "ptm_comb_filt_pdb_df['pdb_res_match'] = ptm_comb_filt_pdb_df['pdb_res_match'].fillna(False)\n",
    "ptm_comb_filt_pdb_df['pdb_res_match'] = (ptm_comb_filt_pdb_df['pdb_res_match']) & (ptm_comb_filt_pdb_df['pdb_res'] == ptm_comb_filt_pdb_df['acc_res'])\n",
    "\n",
    "# Only matched sites\n",
    "ptm_comb_filt_match_pdb_df = ptm_comb_filt_pdb_df[ptm_comb_filt_pdb_df['pdb_res_match']==True].copy()\n",
    "ptm_comb_filt_match_pdb_df['pdb_res_i'] = ptm_comb_filt_match_pdb_df['pdb_res_i'].astype(int)\n",
    "ptm_comb_filt_match_pdb_df = ptm_comb_filt_match_pdb_df[ptm_comb_filt_match_pdb_df['uniprot_res_i']!='X']"
   ]
  },
  {
   "cell_type": "code",
   "execution_count": 12,
   "metadata": {},
   "outputs": [
    {
     "data": {
      "text/plain": [
       "(174831, 38)"
      ]
     },
     "execution_count": 12,
     "metadata": {},
     "output_type": "execute_result"
    }
   ],
   "source": [
    "ptm_comb_filt_df.shape"
   ]
  },
  {
   "cell_type": "code",
   "execution_count": 11,
   "metadata": {},
   "outputs": [
    {
     "data": {
      "text/html": [
       "<div>\n",
       "<style scoped>\n",
       "    .dataframe tbody tr th:only-of-type {\n",
       "        vertical-align: middle;\n",
       "    }\n",
       "\n",
       "    .dataframe tbody tr th {\n",
       "        vertical-align: top;\n",
       "    }\n",
       "\n",
       "    .dataframe thead th {\n",
       "        text-align: right;\n",
       "    }\n",
       "</style>\n",
       "<table border=\"1\" class=\"dataframe\">\n",
       "  <thead>\n",
       "    <tr style=\"text-align: right;\">\n",
       "      <th></th>\n",
       "      <th>id.description</th>\n",
       "      <th>geneSymbol</th>\n",
       "      <th>protein_mw</th>\n",
       "      <th>accession_number</th>\n",
       "      <th>feature</th>\n",
       "      <th>variableSites</th>\n",
       "      <th>sequence</th>\n",
       "      <th>sequenceVML</th>\n",
       "      <th>ptmSite</th>\n",
       "      <th>Hit_def</th>\n",
       "      <th>...</th>\n",
       "      <th>acc_res_idx</th>\n",
       "      <th>uniprot_res</th>\n",
       "      <th>uniprot_res_i</th>\n",
       "      <th>uniprot_match</th>\n",
       "      <th>pdb_res_i_rank</th>\n",
       "      <th>pdb_res_i</th>\n",
       "      <th>pdb_res</th>\n",
       "      <th>pdb_res_match</th>\n",
       "      <th>pdb</th>\n",
       "      <th>chain</th>\n",
       "    </tr>\n",
       "    <tr>\n",
       "      <th>id</th>\n",
       "      <th></th>\n",
       "      <th></th>\n",
       "      <th></th>\n",
       "      <th></th>\n",
       "      <th></th>\n",
       "      <th></th>\n",
       "      <th></th>\n",
       "      <th></th>\n",
       "      <th></th>\n",
       "      <th></th>\n",
       "      <th></th>\n",
       "      <th></th>\n",
       "      <th></th>\n",
       "      <th></th>\n",
       "      <th></th>\n",
       "      <th></th>\n",
       "      <th></th>\n",
       "      <th></th>\n",
       "      <th></th>\n",
       "      <th></th>\n",
       "      <th></th>\n",
       "    </tr>\n",
       "  </thead>\n",
       "  <tbody>\n",
       "    <tr>\n",
       "      <th>NP_001333374.1_S18s_1_1_18_18</th>\n",
       "      <td>neuroblast differentiation-associated protein...</td>\n",
       "      <td>AHNAK</td>\n",
       "      <td>629603.7</td>\n",
       "      <td>NP_001333374.1</td>\n",
       "      <td>phosphoproteome</td>\n",
       "      <td>S18s</td>\n",
       "      <td>['ELLLPNWQGsGSHGLTIAQR', 'ELLLPNWQGsGSHGLTIAQR']</td>\n",
       "      <td>['ELLLPNWQGS(0.99)GS(0.0)HGLT(0.0)IAQR', 'ELLL...</td>\n",
       "      <td>S18s</td>\n",
       "      <td>sp|Q09666|AHNK_HUMAN Neuroblast differentiatio...</td>\n",
       "      <td>...</td>\n",
       "      <td>17</td>\n",
       "      <td>S</td>\n",
       "      <td>18</td>\n",
       "      <td>True</td>\n",
       "      <td>1</td>\n",
       "      <td>NaN</td>\n",
       "      <td>NaN</td>\n",
       "      <td>False</td>\n",
       "      <td>NaN</td>\n",
       "      <td>NaN</td>\n",
       "    </tr>\n",
       "    <tr>\n",
       "      <th>NP_001333374.1_S41s_1_1_41_41</th>\n",
       "      <td>neuroblast differentiation-associated protein...</td>\n",
       "      <td>AHNAK</td>\n",
       "      <td>629603.7</td>\n",
       "      <td>NP_001333374.1</td>\n",
       "      <td>phosphoproteome</td>\n",
       "      <td>S41s</td>\n",
       "      <td>['DDGVFVQEVTQNsPAAR', 'DDGVFVQEVTQNsPAAR']</td>\n",
       "      <td>['DDGVFVQEVT(0.0)QNS(0.99)PAAR', 'DDGVFVQEVT(0...</td>\n",
       "      <td>S41s</td>\n",
       "      <td>sp|Q09666|AHNK_HUMAN Neuroblast differentiatio...</td>\n",
       "      <td>...</td>\n",
       "      <td>40</td>\n",
       "      <td>S</td>\n",
       "      <td>41</td>\n",
       "      <td>True</td>\n",
       "      <td>1</td>\n",
       "      <td>NaN</td>\n",
       "      <td>NaN</td>\n",
       "      <td>False</td>\n",
       "      <td>NaN</td>\n",
       "      <td>NaN</td>\n",
       "    </tr>\n",
       "    <tr>\n",
       "      <th>NP_001333374.1_S93s_1_1_93_93</th>\n",
       "      <td>neuroblast differentiation-associated protein...</td>\n",
       "      <td>AHNAK</td>\n",
       "      <td>629603.7</td>\n",
       "      <td>NP_001333374.1</td>\n",
       "      <td>phosphoproteome</td>\n",
       "      <td>S93s</td>\n",
       "      <td>['GDRsPEPGQTWTR', 'KGDRsPEPGQTWTR', 'KGDRsPEPG...</td>\n",
       "      <td>['GDRS(0.99)PEPGQT(0.0)WT(0.0)R', 'KGDRS(0.99)...</td>\n",
       "      <td>S93s</td>\n",
       "      <td>sp|Q09666|AHNK_HUMAN Neuroblast differentiatio...</td>\n",
       "      <td>...</td>\n",
       "      <td>92</td>\n",
       "      <td>S</td>\n",
       "      <td>93</td>\n",
       "      <td>True</td>\n",
       "      <td>1</td>\n",
       "      <td>NaN</td>\n",
       "      <td>NaN</td>\n",
       "      <td>False</td>\n",
       "      <td>NaN</td>\n",
       "      <td>NaN</td>\n",
       "    </tr>\n",
       "    <tr>\n",
       "      <th>NP_001333374.1_T99t_1_1_99_99</th>\n",
       "      <td>neuroblast differentiation-associated protein...</td>\n",
       "      <td>AHNAK</td>\n",
       "      <td>629603.7</td>\n",
       "      <td>NP_001333374.1</td>\n",
       "      <td>phosphoproteome</td>\n",
       "      <td>T99t</td>\n",
       "      <td>['SPEPGQtWTR', 'GDRSPEPGQtWTR']</td>\n",
       "      <td>['S(0.0)PEPGQT(0.99)WT(0.0)R', 'GDRS(0.0)PEPGQ...</td>\n",
       "      <td>T99t</td>\n",
       "      <td>sp|Q09666|AHNK_HUMAN Neuroblast differentiatio...</td>\n",
       "      <td>...</td>\n",
       "      <td>98</td>\n",
       "      <td>T</td>\n",
       "      <td>99</td>\n",
       "      <td>True</td>\n",
       "      <td>1</td>\n",
       "      <td>NaN</td>\n",
       "      <td>NaN</td>\n",
       "      <td>False</td>\n",
       "      <td>NaN</td>\n",
       "      <td>NaN</td>\n",
       "    </tr>\n",
       "    <tr>\n",
       "      <th>NP_001333374.1_S110s_1_1_110_110</th>\n",
       "      <td>neuroblast differentiation-associated protein...</td>\n",
       "      <td>AHNAK</td>\n",
       "      <td>629603.7</td>\n",
       "      <td>NP_001333374.1</td>\n",
       "      <td>phosphoproteome</td>\n",
       "      <td>S110s</td>\n",
       "      <td>['EVFSSCSsEVVLSGDDEEYQR', 'EVFSSCSsEVVLSGDDEEY...</td>\n",
       "      <td>['EVFS(0.0)S(0.0)CS(0.0)S(0.99)EVVLS(0.0)GDDEE...</td>\n",
       "      <td>S110s</td>\n",
       "      <td>sp|Q09666|AHNK_HUMAN Neuroblast differentiatio...</td>\n",
       "      <td>...</td>\n",
       "      <td>109</td>\n",
       "      <td>S</td>\n",
       "      <td>110</td>\n",
       "      <td>True</td>\n",
       "      <td>1</td>\n",
       "      <td>NaN</td>\n",
       "      <td>NaN</td>\n",
       "      <td>False</td>\n",
       "      <td>NaN</td>\n",
       "      <td>NaN</td>\n",
       "    </tr>\n",
       "    <tr>\n",
       "      <th>...</th>\n",
       "      <td>...</td>\n",
       "      <td>...</td>\n",
       "      <td>...</td>\n",
       "      <td>...</td>\n",
       "      <td>...</td>\n",
       "      <td>...</td>\n",
       "      <td>...</td>\n",
       "      <td>...</td>\n",
       "      <td>...</td>\n",
       "      <td>...</td>\n",
       "      <td>...</td>\n",
       "      <td>...</td>\n",
       "      <td>...</td>\n",
       "      <td>...</td>\n",
       "      <td>...</td>\n",
       "      <td>...</td>\n",
       "      <td>...</td>\n",
       "      <td>...</td>\n",
       "      <td>...</td>\n",
       "      <td>...</td>\n",
       "      <td>...</td>\n",
       "    </tr>\n",
       "    <tr>\n",
       "      <th>NP_003585.3_K82kK86k_2_2_82_86</th>\n",
       "      <td>transcription termination factor 2 GN=TTF2</td>\n",
       "      <td>TTF2</td>\n",
       "      <td>130841.0</td>\n",
       "      <td>NP_003585.3</td>\n",
       "      <td>acetylome</td>\n",
       "      <td>K82k K86k</td>\n",
       "      <td>['SkAEGkRWCGSIPWQDPDSK']</td>\n",
       "      <td>['SK(0.99)AEGK(0.99)RWCGSIPWQDPDSK(0.0)']</td>\n",
       "      <td>K86k</td>\n",
       "      <td>sp|Q6CJM4|RAD5_KLULA DNA repair protein RAD5 O...</td>\n",
       "      <td>...</td>\n",
       "      <td>X</td>\n",
       "      <td>NaN</td>\n",
       "      <td>X</td>\n",
       "      <td>False</td>\n",
       "      <td>2</td>\n",
       "      <td>NaN</td>\n",
       "      <td>NaN</td>\n",
       "      <td>False</td>\n",
       "      <td>NaN</td>\n",
       "      <td>NaN</td>\n",
       "    </tr>\n",
       "    <tr>\n",
       "      <th>NP_443155.1_K257kK260k_2_2_257_260</th>\n",
       "      <td>SCAN domain-containing protein 3 isoform 1 GN...</td>\n",
       "      <td>ZBED9</td>\n",
       "      <td>153546.1</td>\n",
       "      <td>NP_443155.1</td>\n",
       "      <td>acetylome</td>\n",
       "      <td>K257k K260k</td>\n",
       "      <td>['EVkEAkAKAK']</td>\n",
       "      <td>['EVK(0.99)EAK(0.99)AK(0.0)AK(0.0)']</td>\n",
       "      <td>K257k</td>\n",
       "      <td>sp|Q9H4T2|ZSC16_HUMAN Zinc finger and SCAN dom...</td>\n",
       "      <td>...</td>\n",
       "      <td>X</td>\n",
       "      <td>NaN</td>\n",
       "      <td>X</td>\n",
       "      <td>False</td>\n",
       "      <td>1</td>\n",
       "      <td>NaN</td>\n",
       "      <td>NaN</td>\n",
       "      <td>False</td>\n",
       "      <td>NaN</td>\n",
       "      <td>NaN</td>\n",
       "    </tr>\n",
       "    <tr>\n",
       "      <th>NP_443155.1_K257kK260k_2_2_257_260</th>\n",
       "      <td>SCAN domain-containing protein 3 isoform 1 GN...</td>\n",
       "      <td>ZBED9</td>\n",
       "      <td>153546.1</td>\n",
       "      <td>NP_443155.1</td>\n",
       "      <td>acetylome</td>\n",
       "      <td>K257k K260k</td>\n",
       "      <td>['EVkEAkAKAK']</td>\n",
       "      <td>['EVK(0.99)EAK(0.99)AK(0.0)AK(0.0)']</td>\n",
       "      <td>K260k</td>\n",
       "      <td>sp|Q9H4T2|ZSC16_HUMAN Zinc finger and SCAN dom...</td>\n",
       "      <td>...</td>\n",
       "      <td>X</td>\n",
       "      <td>NaN</td>\n",
       "      <td>X</td>\n",
       "      <td>False</td>\n",
       "      <td>2</td>\n",
       "      <td>NaN</td>\n",
       "      <td>NaN</td>\n",
       "      <td>False</td>\n",
       "      <td>NaN</td>\n",
       "      <td>NaN</td>\n",
       "    </tr>\n",
       "    <tr>\n",
       "      <th>NP_001305894.1_K128kK136k_2_2_128_136</th>\n",
       "      <td>translation initiation factor eIF-2B subunit ...</td>\n",
       "      <td>EIF2B4</td>\n",
       "      <td>60284.1</td>\n",
       "      <td>NP_001305894.1</td>\n",
       "      <td>acetylome</td>\n",
       "      <td>K128k K136k</td>\n",
       "      <td>['AkQEAERALkQARK']</td>\n",
       "      <td>['AK(0.99)QEAERALK(0.99)QARK(0.0)']</td>\n",
       "      <td>K128k</td>\n",
       "      <td>sp|Q9UI10|EI2BD_HUMAN Translation initiation f...</td>\n",
       "      <td>...</td>\n",
       "      <td>96</td>\n",
       "      <td>K</td>\n",
       "      <td>107</td>\n",
       "      <td>True</td>\n",
       "      <td>1</td>\n",
       "      <td>NaN</td>\n",
       "      <td>NaN</td>\n",
       "      <td>False</td>\n",
       "      <td>NaN</td>\n",
       "      <td>NaN</td>\n",
       "    </tr>\n",
       "    <tr>\n",
       "      <th>NP_001305894.1_K128kK136k_2_2_128_136</th>\n",
       "      <td>translation initiation factor eIF-2B subunit ...</td>\n",
       "      <td>EIF2B4</td>\n",
       "      <td>60284.1</td>\n",
       "      <td>NP_001305894.1</td>\n",
       "      <td>acetylome</td>\n",
       "      <td>K128k K136k</td>\n",
       "      <td>['AkQEAERALkQARK']</td>\n",
       "      <td>['AK(0.99)QEAERALK(0.99)QARK(0.0)']</td>\n",
       "      <td>K136k</td>\n",
       "      <td>sp|Q9UI10|EI2BD_HUMAN Translation initiation f...</td>\n",
       "      <td>...</td>\n",
       "      <td>104</td>\n",
       "      <td>K</td>\n",
       "      <td>115</td>\n",
       "      <td>True</td>\n",
       "      <td>2</td>\n",
       "      <td>NaN</td>\n",
       "      <td>NaN</td>\n",
       "      <td>False</td>\n",
       "      <td>NaN</td>\n",
       "      <td>NaN</td>\n",
       "    </tr>\n",
       "  </tbody>\n",
       "</table>\n",
       "<p>166595 rows × 44 columns</p>\n",
       "</div>"
      ],
      "text/plain": [
       "                                                                          id.description  \\\n",
       "id                                                                                         \n",
       "NP_001333374.1_S18s_1_1_18_18           neuroblast differentiation-associated protein...   \n",
       "NP_001333374.1_S41s_1_1_41_41           neuroblast differentiation-associated protein...   \n",
       "NP_001333374.1_S93s_1_1_93_93           neuroblast differentiation-associated protein...   \n",
       "NP_001333374.1_T99t_1_1_99_99           neuroblast differentiation-associated protein...   \n",
       "NP_001333374.1_S110s_1_1_110_110        neuroblast differentiation-associated protein...   \n",
       "...                                                                                  ...   \n",
       "NP_003585.3_K82kK86k_2_2_82_86                transcription termination factor 2 GN=TTF2   \n",
       "NP_443155.1_K257kK260k_2_2_257_260      SCAN domain-containing protein 3 isoform 1 GN...   \n",
       "NP_443155.1_K257kK260k_2_2_257_260      SCAN domain-containing protein 3 isoform 1 GN...   \n",
       "NP_001305894.1_K128kK136k_2_2_128_136   translation initiation factor eIF-2B subunit ...   \n",
       "NP_001305894.1_K128kK136k_2_2_128_136   translation initiation factor eIF-2B subunit ...   \n",
       "\n",
       "                                      geneSymbol  protein_mw accession_number  \\\n",
       "id                                                                              \n",
       "NP_001333374.1_S18s_1_1_18_18              AHNAK    629603.7   NP_001333374.1   \n",
       "NP_001333374.1_S41s_1_1_41_41              AHNAK    629603.7   NP_001333374.1   \n",
       "NP_001333374.1_S93s_1_1_93_93              AHNAK    629603.7   NP_001333374.1   \n",
       "NP_001333374.1_T99t_1_1_99_99              AHNAK    629603.7   NP_001333374.1   \n",
       "NP_001333374.1_S110s_1_1_110_110           AHNAK    629603.7   NP_001333374.1   \n",
       "...                                          ...         ...              ...   \n",
       "NP_003585.3_K82kK86k_2_2_82_86              TTF2    130841.0      NP_003585.3   \n",
       "NP_443155.1_K257kK260k_2_2_257_260         ZBED9    153546.1      NP_443155.1   \n",
       "NP_443155.1_K257kK260k_2_2_257_260         ZBED9    153546.1      NP_443155.1   \n",
       "NP_001305894.1_K128kK136k_2_2_128_136     EIF2B4     60284.1   NP_001305894.1   \n",
       "NP_001305894.1_K128kK136k_2_2_128_136     EIF2B4     60284.1   NP_001305894.1   \n",
       "\n",
       "                                               feature variableSites  \\\n",
       "id                                                                     \n",
       "NP_001333374.1_S18s_1_1_18_18          phosphoproteome          S18s   \n",
       "NP_001333374.1_S41s_1_1_41_41          phosphoproteome          S41s   \n",
       "NP_001333374.1_S93s_1_1_93_93          phosphoproteome          S93s   \n",
       "NP_001333374.1_T99t_1_1_99_99          phosphoproteome          T99t   \n",
       "NP_001333374.1_S110s_1_1_110_110       phosphoproteome         S110s   \n",
       "...                                                ...           ...   \n",
       "NP_003585.3_K82kK86k_2_2_82_86               acetylome     K82k K86k   \n",
       "NP_443155.1_K257kK260k_2_2_257_260           acetylome   K257k K260k   \n",
       "NP_443155.1_K257kK260k_2_2_257_260           acetylome   K257k K260k   \n",
       "NP_001305894.1_K128kK136k_2_2_128_136        acetylome   K128k K136k   \n",
       "NP_001305894.1_K128kK136k_2_2_128_136        acetylome   K128k K136k   \n",
       "\n",
       "                                                                                sequence  \\\n",
       "id                                                                                         \n",
       "NP_001333374.1_S18s_1_1_18_18           ['ELLLPNWQGsGSHGLTIAQR', 'ELLLPNWQGsGSHGLTIAQR']   \n",
       "NP_001333374.1_S41s_1_1_41_41                 ['DDGVFVQEVTQNsPAAR', 'DDGVFVQEVTQNsPAAR']   \n",
       "NP_001333374.1_S93s_1_1_93_93          ['GDRsPEPGQTWTR', 'KGDRsPEPGQTWTR', 'KGDRsPEPG...   \n",
       "NP_001333374.1_T99t_1_1_99_99                            ['SPEPGQtWTR', 'GDRSPEPGQtWTR']   \n",
       "NP_001333374.1_S110s_1_1_110_110       ['EVFSSCSsEVVLSGDDEEYQR', 'EVFSSCSsEVVLSGDDEEY...   \n",
       "...                                                                                  ...   \n",
       "NP_003585.3_K82kK86k_2_2_82_86                                  ['SkAEGkRWCGSIPWQDPDSK']   \n",
       "NP_443155.1_K257kK260k_2_2_257_260                                        ['EVkEAkAKAK']   \n",
       "NP_443155.1_K257kK260k_2_2_257_260                                        ['EVkEAkAKAK']   \n",
       "NP_001305894.1_K128kK136k_2_2_128_136                                 ['AkQEAERALkQARK']   \n",
       "NP_001305894.1_K128kK136k_2_2_128_136                                 ['AkQEAERALkQARK']   \n",
       "\n",
       "                                                                             sequenceVML  \\\n",
       "id                                                                                         \n",
       "NP_001333374.1_S18s_1_1_18_18          ['ELLLPNWQGS(0.99)GS(0.0)HGLT(0.0)IAQR', 'ELLL...   \n",
       "NP_001333374.1_S41s_1_1_41_41          ['DDGVFVQEVT(0.0)QNS(0.99)PAAR', 'DDGVFVQEVT(0...   \n",
       "NP_001333374.1_S93s_1_1_93_93          ['GDRS(0.99)PEPGQT(0.0)WT(0.0)R', 'KGDRS(0.99)...   \n",
       "NP_001333374.1_T99t_1_1_99_99          ['S(0.0)PEPGQT(0.99)WT(0.0)R', 'GDRS(0.0)PEPGQ...   \n",
       "NP_001333374.1_S110s_1_1_110_110       ['EVFS(0.0)S(0.0)CS(0.0)S(0.99)EVVLS(0.0)GDDEE...   \n",
       "...                                                                                  ...   \n",
       "NP_003585.3_K82kK86k_2_2_82_86                 ['SK(0.99)AEGK(0.99)RWCGSIPWQDPDSK(0.0)']   \n",
       "NP_443155.1_K257kK260k_2_2_257_260                  ['EVK(0.99)EAK(0.99)AK(0.0)AK(0.0)']   \n",
       "NP_443155.1_K257kK260k_2_2_257_260                  ['EVK(0.99)EAK(0.99)AK(0.0)AK(0.0)']   \n",
       "NP_001305894.1_K128kK136k_2_2_128_136                ['AK(0.99)QEAERALK(0.99)QARK(0.0)']   \n",
       "NP_001305894.1_K128kK136k_2_2_128_136                ['AK(0.99)QEAERALK(0.99)QARK(0.0)']   \n",
       "\n",
       "                                      ptmSite  \\\n",
       "id                                              \n",
       "NP_001333374.1_S18s_1_1_18_18            S18s   \n",
       "NP_001333374.1_S41s_1_1_41_41            S41s   \n",
       "NP_001333374.1_S93s_1_1_93_93            S93s   \n",
       "NP_001333374.1_T99t_1_1_99_99            T99t   \n",
       "NP_001333374.1_S110s_1_1_110_110        S110s   \n",
       "...                                       ...   \n",
       "NP_003585.3_K82kK86k_2_2_82_86           K86k   \n",
       "NP_443155.1_K257kK260k_2_2_257_260      K257k   \n",
       "NP_443155.1_K257kK260k_2_2_257_260      K260k   \n",
       "NP_001305894.1_K128kK136k_2_2_128_136   K128k   \n",
       "NP_001305894.1_K128kK136k_2_2_128_136   K136k   \n",
       "\n",
       "                                                                                 Hit_def  \\\n",
       "id                                                                                         \n",
       "NP_001333374.1_S18s_1_1_18_18          sp|Q09666|AHNK_HUMAN Neuroblast differentiatio...   \n",
       "NP_001333374.1_S41s_1_1_41_41          sp|Q09666|AHNK_HUMAN Neuroblast differentiatio...   \n",
       "NP_001333374.1_S93s_1_1_93_93          sp|Q09666|AHNK_HUMAN Neuroblast differentiatio...   \n",
       "NP_001333374.1_T99t_1_1_99_99          sp|Q09666|AHNK_HUMAN Neuroblast differentiatio...   \n",
       "NP_001333374.1_S110s_1_1_110_110       sp|Q09666|AHNK_HUMAN Neuroblast differentiatio...   \n",
       "...                                                                                  ...   \n",
       "NP_003585.3_K82kK86k_2_2_82_86         sp|Q6CJM4|RAD5_KLULA DNA repair protein RAD5 O...   \n",
       "NP_443155.1_K257kK260k_2_2_257_260     sp|Q9H4T2|ZSC16_HUMAN Zinc finger and SCAN dom...   \n",
       "NP_443155.1_K257kK260k_2_2_257_260     sp|Q9H4T2|ZSC16_HUMAN Zinc finger and SCAN dom...   \n",
       "NP_001305894.1_K128kK136k_2_2_128_136  sp|Q9UI10|EI2BD_HUMAN Translation initiation f...   \n",
       "NP_001305894.1_K128kK136k_2_2_128_136  sp|Q9UI10|EI2BD_HUMAN Translation initiation f...   \n",
       "\n",
       "                                       ...  acc_res_idx  uniprot_res  \\\n",
       "id                                     ...                             \n",
       "NP_001333374.1_S18s_1_1_18_18          ...           17            S   \n",
       "NP_001333374.1_S41s_1_1_41_41          ...           40            S   \n",
       "NP_001333374.1_S93s_1_1_93_93          ...           92            S   \n",
       "NP_001333374.1_T99t_1_1_99_99          ...           98            T   \n",
       "NP_001333374.1_S110s_1_1_110_110       ...          109            S   \n",
       "...                                    ...          ...          ...   \n",
       "NP_003585.3_K82kK86k_2_2_82_86         ...            X          NaN   \n",
       "NP_443155.1_K257kK260k_2_2_257_260     ...            X          NaN   \n",
       "NP_443155.1_K257kK260k_2_2_257_260     ...            X          NaN   \n",
       "NP_001305894.1_K128kK136k_2_2_128_136  ...           96            K   \n",
       "NP_001305894.1_K128kK136k_2_2_128_136  ...          104            K   \n",
       "\n",
       "                                       uniprot_res_i  uniprot_match  \\\n",
       "id                                                                    \n",
       "NP_001333374.1_S18s_1_1_18_18                     18           True   \n",
       "NP_001333374.1_S41s_1_1_41_41                     41           True   \n",
       "NP_001333374.1_S93s_1_1_93_93                     93           True   \n",
       "NP_001333374.1_T99t_1_1_99_99                     99           True   \n",
       "NP_001333374.1_S110s_1_1_110_110                 110           True   \n",
       "...                                              ...            ...   \n",
       "NP_003585.3_K82kK86k_2_2_82_86                     X          False   \n",
       "NP_443155.1_K257kK260k_2_2_257_260                 X          False   \n",
       "NP_443155.1_K257kK260k_2_2_257_260                 X          False   \n",
       "NP_001305894.1_K128kK136k_2_2_128_136            107           True   \n",
       "NP_001305894.1_K128kK136k_2_2_128_136            115           True   \n",
       "\n",
       "                                       pdb_res_i_rank  pdb_res_i  pdb_res  \\\n",
       "id                                                                          \n",
       "NP_001333374.1_S18s_1_1_18_18                       1        NaN      NaN   \n",
       "NP_001333374.1_S41s_1_1_41_41                       1        NaN      NaN   \n",
       "NP_001333374.1_S93s_1_1_93_93                       1        NaN      NaN   \n",
       "NP_001333374.1_T99t_1_1_99_99                       1        NaN      NaN   \n",
       "NP_001333374.1_S110s_1_1_110_110                    1        NaN      NaN   \n",
       "...                                               ...        ...      ...   \n",
       "NP_003585.3_K82kK86k_2_2_82_86                      2        NaN      NaN   \n",
       "NP_443155.1_K257kK260k_2_2_257_260                  1        NaN      NaN   \n",
       "NP_443155.1_K257kK260k_2_2_257_260                  2        NaN      NaN   \n",
       "NP_001305894.1_K128kK136k_2_2_128_136               1        NaN      NaN   \n",
       "NP_001305894.1_K128kK136k_2_2_128_136               2        NaN      NaN   \n",
       "\n",
       "                                       pdb_res_match  pdb  chain  \n",
       "id                                                                \n",
       "NP_001333374.1_S18s_1_1_18_18                  False  NaN    NaN  \n",
       "NP_001333374.1_S41s_1_1_41_41                  False  NaN    NaN  \n",
       "NP_001333374.1_S93s_1_1_93_93                  False  NaN    NaN  \n",
       "NP_001333374.1_T99t_1_1_99_99                  False  NaN    NaN  \n",
       "NP_001333374.1_S110s_1_1_110_110               False  NaN    NaN  \n",
       "...                                              ...  ...    ...  \n",
       "NP_003585.3_K82kK86k_2_2_82_86                 False  NaN    NaN  \n",
       "NP_443155.1_K257kK260k_2_2_257_260             False  NaN    NaN  \n",
       "NP_443155.1_K257kK260k_2_2_257_260             False  NaN    NaN  \n",
       "NP_001305894.1_K128kK136k_2_2_128_136          False  NaN    NaN  \n",
       "NP_001305894.1_K128kK136k_2_2_128_136          False  NaN    NaN  \n",
       "\n",
       "[166595 rows x 44 columns]"
      ]
     },
     "execution_count": 11,
     "metadata": {},
     "output_type": "execute_result"
    }
   ],
   "source": [
    "pd.read_csv(os.path.join(REF_DIR, \"full_mapped_sites_to_pdbs.tsv\"), sep='\\t', index_col=0)"
   ]
  },
  {
   "cell_type": "markdown",
   "metadata": {},
   "source": [
    "## 10. Save Files + Summary\n",
    "---"
   ]
  },
  {
   "cell_type": "code",
   "execution_count": 36,
   "metadata": {},
   "outputs": [],
   "source": [
    "ptm_comb_filt_pdb_df.to_csv(os.path.join(REF_DIR, \"full_mapped_sites_to_pdbs.tsv\"), sep='\\t')\n",
    "ptm_comb_filt_match_pdb_df.to_csv(os.path.join(REF_DIR, \"mapped_sites_to_pdbs.tsv\"), sep='\\t')"
   ]
  },
  {
   "cell_type": "code",
   "execution_count": 37,
   "metadata": {},
   "outputs": [
    {
     "name": "stdout",
     "output_type": "stream",
     "text": [
      " 13934 acetylsites mapped.\n",
      " 14367 phosphosites mapped.\n",
      " 6381 unique accession numbers.\n",
      " 5077 unique uniprots.\n"
     ]
    }
   ],
   "source": [
    "print(\" {} acetylsites mapped.\".format(ptm_comb_filt_match_pdb_df.groupby('feature').size()['acetylome']))\n",
    "print(\" {} phosphosites mapped.\".format(ptm_comb_filt_match_pdb_df.groupby('feature').size()['phosphoproteome']))\n",
    "print(\" {} unique accession numbers.\".format(np.unique(ptm_comb_filt_match_pdb_df['accession_number']).shape[0]))\n",
    "print(\" {} unique uniprots.\".format(np.unique(ptm_comb_filt_match_pdb_df['uniprot']).shape[0]))"
   ]
  },
  {
   "cell_type": "code",
   "execution_count": 38,
   "metadata": {},
   "outputs": [
    {
     "data": {
      "text/plain": [
       "uniprot_match\n",
       "False     39036\n",
       "True     127559\n",
       "dtype: int64"
      ]
     },
     "execution_count": 38,
     "metadata": {},
     "output_type": "execute_result"
    }
   ],
   "source": [
    "ptm_comb_filt_pdb_df.groupby('uniprot_match').size()"
   ]
  },
  {
   "cell_type": "code",
   "execution_count": 39,
   "metadata": {},
   "outputs": [
    {
     "data": {
      "text/plain": [
       "pdb_res_match\n",
       "False    138292\n",
       "True      28303\n",
       "dtype: int64"
      ]
     },
     "execution_count": 39,
     "metadata": {},
     "output_type": "execute_result"
    }
   ],
   "source": [
    "ptm_comb_filt_pdb_df.groupby('pdb_res_match').size()"
   ]
  }
 ],
 "metadata": {
  "kernelspec": {
   "display_name": "Python 3",
   "language": "python",
   "name": "python3"
  },
  "language_info": {
   "codemirror_mode": {
    "name": "ipython",
    "version": 3
   },
   "file_extension": ".py",
   "mimetype": "text/x-python",
   "name": "python",
   "nbconvert_exporter": "python",
   "pygments_lexer": "ipython3",
   "version": "3.7.6"
  }
 },
 "nbformat": 4,
 "nbformat_minor": 4
}
