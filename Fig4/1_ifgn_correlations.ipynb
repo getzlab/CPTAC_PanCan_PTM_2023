{
 "cells": [
  {
   "cell_type": "code",
   "execution_count": 1,
   "metadata": {},
   "outputs": [],
   "source": [
    "import subprocess\n",
    "from subprocess import PIPE\n",
    "import os\n",
    "import pandas as pd\n",
    "import sys\n",
    "import matplotlib.pyplot as plt\n",
    "from tqdm import tqdm\n",
    "import numpy as np\n",
    "import glob\n",
    "from scipy.stats import spearmanr\n",
    "\n",
    "sys.path.append(\"../../funcs/\")\n",
    "\n",
    "import seaborn as sns\n",
    "import proteomics as prot\n",
    "import plotting as pl\n",
    "import statsmodels.api as sm\n",
    "import statsmodels.formula.api as smf"
   ]
  },
  {
   "cell_type": "code",
   "execution_count": 2,
   "metadata": {},
   "outputs": [],
   "source": [
    "PLOTS_DIR = \"figures\"\n",
    "DATA_DIR = \"../../data/processed/061721\"\n",
    "DATA_DIR_GC = \"../../data/processed/061721_genecentric\"\n",
    "NMF_FILE = \"../signatures/061721_imputed_res_reg/nmf_output.h5\"\n",
    "MAPPING_FILE = os.path.join(DATA_DIR, \"PanCan_Participant_freeze_mapping.tsv\")\n",
    "LABELS = \"../diffexp/061721_imputed_res_reg_dendro/full_dendro_sig_mappings.tsv\"\n",
    "OUT_DIR = \"output\"\n",
    "GMT_DIR = \"../../data/ref/gmts/\"\n",
    "\n",
    "os.makedirs(PLOTS_DIR, exist_ok=True)\n",
    "os.makedirs(OUT_DIR, exist_ok=True)"
   ]
  },
  {
   "cell_type": "markdown",
   "metadata": {},
   "source": [
    "## 1. Load Matrices\n",
    "---"
   ]
  },
  {
   "cell_type": "code",
   "execution_count": 3,
   "metadata": {},
   "outputs": [
    {
     "name": "stderr",
     "output_type": "stream",
     "text": [
      "/home/sanand/anaconda3/envs/py37/lib/python3.7/site-packages/IPython/core/interactiveshell.py:3063: DtypeWarning: Columns (1,4,6,7,8,9,10) have mixed types.Specify dtype option on import or set low_memory=False.\n",
      "  interactivity=interactivity, compiler=compiler, result=result)\n"
     ]
    }
   ],
   "source": [
    "samples_df = pd.read_csv(MAPPING_FILE, sep='\\t')\n",
    "labs_df = pd.read_csv(LABELS, sep='\\t', index_col=0)\n",
    "H_df = pd.read_hdf(NMF_FILE, \"H\")\n",
    "meta_s = H_df.join(labs_df['cohort'])['cohort']\n",
    "pmap_df = pd.read_csv(os.path.join(DATA_DIR, \"var_map_full.tsv\"), sep='\\t', index_col=0)"
   ]
  },
  {
   "cell_type": "code",
   "execution_count": 4,
   "metadata": {},
   "outputs": [],
   "source": [
    "# Load data matrices\n",
    "rna_df = pd.read_parquet(os.path.join(DATA_DIR, \"rna\", \"tumor_rna_tpm_norm_combat_X.parquet\"))\n",
    "prot_df = pd.read_csv(os.path.join(DATA_DIR_GC, \"raw\", \"proteome_X.tsv.gz\"), sep='\\t', index_col=0)\n",
    "phosph_df = pd.read_csv(os.path.join(DATA_DIR, \"raw\", \"phosphoproteome_X.tsv.gz\"), sep='\\t', index_col=0)\n",
    "acetyl_df = pd.read_csv(os.path.join(DATA_DIR, \"raw\", \"acetylome_X.tsv.gz\"), sep='\\t', index_col=0)\n",
    "\n",
    "# Subset appropriate samples\n",
    "rna_df = rna_df[H_df.index]\n",
    "prot_df = prot_df[H_df.index]\n",
    "phosph_df = phosph_df[H_df.index]\n",
    "acetyl_df = acetyl_df[np.intersect1d(H_df.index, acetyl_df.columns)]"
   ]
  },
  {
   "cell_type": "code",
   "execution_count": 5,
   "metadata": {
    "scrolled": true
   },
   "outputs": [
    {
     "data": {
      "text/plain": [
       "((29145, 1110), (30234, 572), (15699, 1110), (110274, 1110))"
      ]
     },
     "execution_count": 5,
     "metadata": {},
     "output_type": "execute_result"
    }
   ],
   "source": [
    "rna_df.shape, acetyl_df.shape, prot_df.shape, phosph_df.shape"
   ]
  },
  {
   "cell_type": "code",
   "execution_count": 36,
   "metadata": {},
   "outputs": [],
   "source": [
    "_prot_id = pd.DataFrame(prot_df.index, columns=['geneSymbol'])\n",
    "_prot_id.index = _prot_id['geneSymbol']\n",
    "_prot_id['feature'] = 'proteome'\n",
    "_prot_id.index.name = 'id'\n",
    "\n",
    "pmap_full_df = pd.concat([\n",
    "    pmap_df,\n",
    "    _prot_id\n",
    "])"
   ]
  },
  {
   "cell_type": "markdown",
   "metadata": {},
   "source": [
    "## 2. Correlations\n",
    "---"
   ]
  },
  {
   "cell_type": "markdown",
   "metadata": {},
   "source": [
    "#### Load gene sets"
   ]
  },
  {
   "cell_type": "code",
   "execution_count": 188,
   "metadata": {},
   "outputs": [],
   "source": [
    "hmk_gmt = prot.pull_geneset_from_gmt(os.path.join(GMT_DIR, \"h.all.v7.0.symbols.gmt.txt\"))\n",
    "staudt_gmt = prot.pull_geneset_from_gmt(os.path.join(GMT_DIR, \"staudt_2020_filt.txt\"))\n",
    "\n",
    "fa_dict = {}\n",
    "fa_dict[\"HALLMARK_FATTY_ACID_METABOLISM\"] = prot.pull_geneset_from_gmt(\n",
    "    os.path.join(GMT_DIR, \"h.all.v7.0.symbols.gmt.txt\"))[\"HALLMARK_FATTY_ACID_METABOLISM\"]\n",
    "fa_dict[\"HALLMARK_INTERFERON_GAMMA_RESPONSE\"] = prot.pull_geneset_from_gmt(\n",
    "    os.path.join(GMT_DIR, \"h.all.v7.0.symbols.gmt.txt\"))[\"HALLMARK_INTERFERON_GAMMA_RESPONSE\"]\n",
    "fa_dict[\"HALLMARK_INTERFERON_ALPHA_RESPONSE\"] = prot.pull_geneset_from_gmt(\n",
    "    os.path.join(GMT_DIR, \"h.all.v7.0.symbols.gmt.txt\"))[\"HALLMARK_INTERFERON_ALPHA_RESPONSE\"]\n",
    "fa_dict[\"KEGG_FATTY_ACID_METABOLISM\"] = prot.pull_geneset_from_gmt(\n",
    "    os.path.join(GMT_DIR, \"c2.cp.kegg.v7.0.symbols.gmt.txt\"))[\"KEGG_FATTY_ACID_METABOLISM\"] \n",
    "fa_dict[\"KEGG_BIOSYNTHESIS_OF_UNSATURATED_FATTY_ACIDS\"] = prot.pull_geneset_from_gmt(\n",
    "    os.path.join(GMT_DIR, \"c2.cp.kegg.v7.0.symbols.gmt.txt\"))[\"KEGG_BIOSYNTHESIS_OF_UNSATURATED_FATTY_ACIDS\"]\n",
    "fa_dict[\"Regulatory_T cell_Newman\"] = prot.pull_geneset_from_gmt(\n",
    "    os.path.join(GMT_DIR, \"staudt_2020_filt.txt\"))[\"Regulatory_T cell_Newman\"]\n",
    "\n",
    "# All genes in the above gene-sets\n",
    "gs = list()\n",
    "\n",
    "for geneset in fa_dict.keys():\n",
    "    gs += list(fa_dict[geneset])\n",
    "    \n",
    "gs = set(gs)"
   ]
  },
  {
   "cell_type": "code",
   "execution_count": 192,
   "metadata": {},
   "outputs": [
    {
     "name": "stderr",
     "output_type": "stream",
     "text": [
      "Running correlations: 100%|██████████| 3/3 [00:00<00:00, 62.58it/s]"
     ]
    },
    {
     "name": "stdout",
     "output_type": "stream",
     "text": [
      " * 3 feats in A\n",
      " * 3 feats in B\n"
     ]
    },
    {
     "name": "stderr",
     "output_type": "stream",
     "text": [
      "\n"
     ]
    },
    {
     "data": {
      "text/html": [
       "<div>\n",
       "<style scoped>\n",
       "    .dataframe tbody tr th:only-of-type {\n",
       "        vertical-align: middle;\n",
       "    }\n",
       "\n",
       "    .dataframe tbody tr th {\n",
       "        vertical-align: top;\n",
       "    }\n",
       "\n",
       "    .dataframe thead th {\n",
       "        text-align: right;\n",
       "    }\n",
       "</style>\n",
       "<table border=\"1\" class=\"dataframe\">\n",
       "  <thead>\n",
       "    <tr style=\"text-align: right;\">\n",
       "      <th></th>\n",
       "      <th>a</th>\n",
       "      <th>a_gene</th>\n",
       "      <th>a_feature</th>\n",
       "      <th>b</th>\n",
       "      <th>b_gene</th>\n",
       "      <th>b_feature</th>\n",
       "      <th>rho</th>\n",
       "      <th>pval</th>\n",
       "      <th>a_frac</th>\n",
       "      <th>b_frac</th>\n",
       "    </tr>\n",
       "  </thead>\n",
       "  <tbody>\n",
       "    <tr>\n",
       "      <th>0</th>\n",
       "      <td>ENSG00000100453.13</td>\n",
       "      <td>GZMB</td>\n",
       "      <td>transcriptome</td>\n",
       "      <td>GZMA</td>\n",
       "      <td>GZMA</td>\n",
       "      <td>proteome</td>\n",
       "      <td>0.356705</td>\n",
       "      <td>0.0</td>\n",
       "      <td>1.0</td>\n",
       "      <td>0.999099</td>\n",
       "    </tr>\n",
       "    <tr>\n",
       "      <th>1</th>\n",
       "      <td>ENSG00000145649.8</td>\n",
       "      <td>GZMA</td>\n",
       "      <td>transcriptome</td>\n",
       "      <td>GZMA</td>\n",
       "      <td>GZMA</td>\n",
       "      <td>proteome</td>\n",
       "      <td>0.543255</td>\n",
       "      <td>0.0</td>\n",
       "      <td>1.0</td>\n",
       "      <td>0.999099</td>\n",
       "    </tr>\n",
       "    <tr>\n",
       "      <th>2</th>\n",
       "      <td>ENSG00000168685.15</td>\n",
       "      <td>IL7R</td>\n",
       "      <td>transcriptome</td>\n",
       "      <td>GZMA</td>\n",
       "      <td>GZMA</td>\n",
       "      <td>proteome</td>\n",
       "      <td>0.188626</td>\n",
       "      <td>0.0</td>\n",
       "      <td>1.0</td>\n",
       "      <td>0.999099</td>\n",
       "    </tr>\n",
       "    <tr>\n",
       "      <th>3</th>\n",
       "      <td>ENSG00000100453.13</td>\n",
       "      <td>GZMB</td>\n",
       "      <td>transcriptome</td>\n",
       "      <td>GZMB</td>\n",
       "      <td>GZMB</td>\n",
       "      <td>proteome</td>\n",
       "      <td>0.663886</td>\n",
       "      <td>0.0</td>\n",
       "      <td>1.0</td>\n",
       "      <td>0.282883</td>\n",
       "    </tr>\n",
       "    <tr>\n",
       "      <th>4</th>\n",
       "      <td>ENSG00000145649.8</td>\n",
       "      <td>GZMA</td>\n",
       "      <td>transcriptome</td>\n",
       "      <td>GZMB</td>\n",
       "      <td>GZMB</td>\n",
       "      <td>proteome</td>\n",
       "      <td>0.551628</td>\n",
       "      <td>0.0</td>\n",
       "      <td>1.0</td>\n",
       "      <td>0.282883</td>\n",
       "    </tr>\n",
       "    <tr>\n",
       "      <th>5</th>\n",
       "      <td>ENSG00000168685.15</td>\n",
       "      <td>IL7R</td>\n",
       "      <td>transcriptome</td>\n",
       "      <td>GZMB</td>\n",
       "      <td>GZMB</td>\n",
       "      <td>proteome</td>\n",
       "      <td>0.214412</td>\n",
       "      <td>0.000129</td>\n",
       "      <td>1.0</td>\n",
       "      <td>0.282883</td>\n",
       "    </tr>\n",
       "    <tr>\n",
       "      <th>6</th>\n",
       "      <td>ENSG00000100453.13</td>\n",
       "      <td>GZMB</td>\n",
       "      <td>transcriptome</td>\n",
       "      <td>IL7R</td>\n",
       "      <td>IL7R</td>\n",
       "      <td>proteome</td>\n",
       "      <td>0.092889</td>\n",
       "      <td>0.298944</td>\n",
       "      <td>1.0</td>\n",
       "      <td>0.114414</td>\n",
       "    </tr>\n",
       "    <tr>\n",
       "      <th>7</th>\n",
       "      <td>ENSG00000145649.8</td>\n",
       "      <td>GZMA</td>\n",
       "      <td>transcriptome</td>\n",
       "      <td>IL7R</td>\n",
       "      <td>IL7R</td>\n",
       "      <td>proteome</td>\n",
       "      <td>0.039423</td>\n",
       "      <td>0.6599</td>\n",
       "      <td>1.0</td>\n",
       "      <td>0.114414</td>\n",
       "    </tr>\n",
       "    <tr>\n",
       "      <th>8</th>\n",
       "      <td>ENSG00000168685.15</td>\n",
       "      <td>IL7R</td>\n",
       "      <td>transcriptome</td>\n",
       "      <td>IL7R</td>\n",
       "      <td>IL7R</td>\n",
       "      <td>proteome</td>\n",
       "      <td>0.368749</td>\n",
       "      <td>0.00002</td>\n",
       "      <td>1.0</td>\n",
       "      <td>0.114414</td>\n",
       "    </tr>\n",
       "  </tbody>\n",
       "</table>\n",
       "</div>"
      ],
      "text/plain": [
       "                    a a_gene      a_feature     b b_gene b_feature       rho  \\\n",
       "0  ENSG00000100453.13   GZMB  transcriptome  GZMA   GZMA  proteome  0.356705   \n",
       "1   ENSG00000145649.8   GZMA  transcriptome  GZMA   GZMA  proteome  0.543255   \n",
       "2  ENSG00000168685.15   IL7R  transcriptome  GZMA   GZMA  proteome  0.188626   \n",
       "3  ENSG00000100453.13   GZMB  transcriptome  GZMB   GZMB  proteome  0.663886   \n",
       "4   ENSG00000145649.8   GZMA  transcriptome  GZMB   GZMB  proteome  0.551628   \n",
       "5  ENSG00000168685.15   IL7R  transcriptome  GZMB   GZMB  proteome  0.214412   \n",
       "6  ENSG00000100453.13   GZMB  transcriptome  IL7R   IL7R  proteome  0.092889   \n",
       "7   ENSG00000145649.8   GZMA  transcriptome  IL7R   IL7R  proteome  0.039423   \n",
       "8  ENSG00000168685.15   IL7R  transcriptome  IL7R   IL7R  proteome  0.368749   \n",
       "\n",
       "       pval a_frac    b_frac  \n",
       "0       0.0    1.0  0.999099  \n",
       "1       0.0    1.0  0.999099  \n",
       "2       0.0    1.0  0.999099  \n",
       "3       0.0    1.0  0.282883  \n",
       "4       0.0    1.0  0.282883  \n",
       "5  0.000129    1.0  0.282883  \n",
       "6  0.298944    1.0  0.114414  \n",
       "7    0.6599    1.0  0.114414  \n",
       "8   0.00002    1.0  0.114414  "
      ]
     },
     "execution_count": 192,
     "metadata": {},
     "output_type": "execute_result"
    }
   ],
   "source": [
    "# Example usage\n",
    "prot.m_corr_compute(\n",
    "    rna_df, prot_df, ['IL7R','GZMA', 'GZMB'], pmap_full_df, verbose=True\n",
    ")"
   ]
  },
  {
   "cell_type": "markdown",
   "metadata": {},
   "source": [
    "#### Run all correlations\n",
    "* Takes ~ 45 mins"
   ]
  },
  {
   "cell_type": "code",
   "execution_count": 92,
   "metadata": {},
   "outputs": [
    {
     "name": "stderr",
     "output_type": "stream",
     "text": [
      "100%|██████████| 457/457 [15:50<00:00,  2.08s/it]\n",
      "100%|██████████| 326/326 [07:20<00:00,  1.35s/it]\n",
      "100%|██████████| 326/326 [10:17<00:00,  1.89s/it]\n",
      "100%|██████████| 457/457 [10:30<00:00,  1.38s/it]\n",
      "100%|██████████| 457/457 [14:53<00:00,  1.95s/it]\n"
     ]
    }
   ],
   "source": [
    "fa_corr = dict()\n",
    "\n",
    "fa_corr['rna_prot'] = prot.m_corr_compute(rna_df, prot_df, gs, pmap_full_df, a_filt=0.5, b_filt=0.5)\n",
    "fa_corr['prot_phosph'] = prot.m_corr_compute(prot_df, phosph_df, gs, pmap_full_df, a_filt=0.5, b_filt=0.5)\n",
    "fa_corr['prot_acetyl'] = prot.m_corr_compute(prot_df, acetyl_df, gs, pmap_full_df, a_filt=0.5, b_filt=0.5)\n",
    "fa_corr['rna_phosph'] = prot.m_corr_compute(rna_df, phosph_df, gs, pmap_full_df, a_filt=0.5, b_filt=0.5)\n",
    "fa_corr['rna_acetyl'] = prot.m_corr_compute(rna_df, acetyl_df, gs, pmap_full_df, a_filt=0.5, b_filt=0.5)\n",
    "\n",
    "for key in fa_corr.keys():\n",
    "    fa_corr[key]['comp'] = key\n",
    "fa_corr_df = pd.concat(fa_corr.values())"
   ]
  },
  {
   "cell_type": "markdown",
   "metadata": {},
   "source": [
    "#### Add Gene-set Types"
   ]
  },
  {
   "cell_type": "code",
   "execution_count": 105,
   "metadata": {},
   "outputs": [],
   "source": [
    "fa_list = ['HALLMARK_FATTY_ACID_METABOLISM','KEGG_FATTY_ACID_METABOLISM','KEGG_BIOSYNTHESIS_OF_UNSATURATED_FATTY_ACIDS']\n",
    "fa_gs = list()\n",
    "\n",
    "for geneset in fa_list:\n",
    "    fa_gs += list(fa_dict[geneset])\n",
    "    \n",
    "fa_gs = set(fa_gs)\n",
    "treg_gs = set(fa_dict[\"Regulatory_T cell_Newman\"])\n",
    "ifg_gs = set(fa_dict[\"HALLMARK_INTERFERON_GAMMA_RESPONSE\"])\n",
    "ifa_gs = set(fa_dict[\"HALLMARK_INTERFERON_ALPHA_RESPONSE\"])\n",
    "\n",
    "def _get_gene_type(x):\n",
    "    res = list()\n",
    "    \n",
    "    if x in fa_gs:\n",
    "        res.append(\"FA_metabolism\")\n",
    "    elif x in treg_gs:\n",
    "        res.append(\"T_reg\")\n",
    "    elif x in ifg_gs:\n",
    "        res.append(\"IFN_gamma\")\n",
    "    elif x in ifa_gs:\n",
    "        res.append(\"IFN_alpha\")\n",
    "    return res[0]\n",
    "\n",
    "fa_corr_df['a_geneset'] = fa_corr_df['a_gene'].apply(lambda x: _get_gene_type(x))\n",
    "fa_corr_df['b_geneset'] = fa_corr_df['b_gene'].apply(lambda x: _get_gene_type(x))"
   ]
  },
  {
   "cell_type": "code",
   "execution_count": 127,
   "metadata": {},
   "outputs": [],
   "source": [
    "fa_corr_df.to_parquet(os.path.join(OUT_DIR, \"fa_corr.parquet\"))\n",
    "fa_corr_df.to_csv(os.path.join(OUT_DIR, \"fa_corr.tsv\"), sep=\"\\t\")"
   ]
  }
 ],
 "metadata": {
  "kernelspec": {
   "display_name": "Python 3",
   "language": "python",
   "name": "python3"
  },
  "language_info": {
   "codemirror_mode": {
    "name": "ipython",
    "version": 3
   },
   "file_extension": ".py",
   "mimetype": "text/x-python",
   "name": "python",
   "nbconvert_exporter": "python",
   "pygments_lexer": "ipython3",
   "version": "3.7.6"
  }
 },
 "nbformat": 4,
 "nbformat_minor": 4
}
